{
 "cells": [
  {
   "cell_type": "markdown",
   "metadata": {
    "id": "Z4Q1y1fVZBNJ"
   },
   "source": [
    "# Settings"
   ]
  },
  {
   "cell_type": "code",
   "execution_count": 18,
   "metadata": {
    "executionInfo": {
     "elapsed": 1058,
     "status": "ok",
     "timestamp": 1612114370931,
     "user": {
      "displayName": "Kyuwook Chai",
      "photoUrl": "https://lh3.googleusercontent.com/a-/AOh14GhabeIY0xp9P_Ac7iq3fvZfABsXRjK_t3iH11-z=s64",
      "userId": "03320902743106715829"
     },
     "user_tz": -540
    },
    "id": "BxJjrGbzZBNM"
   },
   "outputs": [],
   "source": [
    "import numpy as np\n",
    "import torch\n",
    "import os\n",
    "import itertools\n",
    "\n",
    "from tqdm import tqdm\n",
    "import abc\n",
    "\n",
    "import torch.nn as nn\n",
    "# import torch.nn.functional as F\n",
    "\n",
    "# from codes import *\n",
    "\n",
    "if not os.path.exists('regrets'):\n",
    "    os.mkdir('regrets')\n",
    "    \n",
    "\n",
    "## Hidden function\n",
    "SEED = 1234\n",
    "torch.manual_seed(SEED)\n",
    "np.random.seed(SEED)"
   ]
  },
  {
   "cell_type": "markdown",
   "metadata": {
    "id": "izb_VuXOZBNT"
   },
   "source": [
    "# Experiment descirption\n",
    "### Hidden functions\n",
    "- Linear: $h_{1}(\\mathbf{x}_{t,i}) = \\mathbf{x}_{t,i}^{\\top}\\mathbf{a}$\n",
    "- Quadratic: $h_{2}(\\mathbf{x}_{t,i}) = (\\mathbf{x}_{t,i}^{\\top}\\mathbf{a})^{2}$\n",
    "- Non-linear: $h_{3}(\\mathbf{x}_{t,i}) = \\cos(\\pi \\mathbf{x}_{t,i}^{\\top}\\mathbf{a})$\n",
    "- where $\\mathbf{a} \\sim U(-1,1)/\\|\\mathbf{a}\\|_{2}$\n",
    "\n",
    "### For each hidden function, compare the following algorithms\n",
    "- CombLinUCB\n",
    "- CombLinTS\n",
    "- CN-UCB\n",
    "- CN-TS(1): single reward sample\n",
    "- CN-TS(30): optimistic sampling, sample size = 30 (default sample size is 1)\n",
    "\n",
    "### Ablation study of feature dimension *d* and neural network width *m*\n",
    "- Default value: $d = 20, m = 20$\n",
    "- $d = \\{20, 40\\}$  for all algorithms"
   ]
  },
  {
   "cell_type": "markdown",
   "metadata": {
    "id": "giwELIVSZBNT"
   },
   "source": [
    "# Experiment settings"
   ]
  },
  {
   "cell_type": "markdown",
   "metadata": {},
   "source": [
    "### Classes and functions"
   ]
  },
  {
   "cell_type": "code",
   "execution_count": 19,
   "metadata": {
    "executionInfo": {
     "elapsed": 772,
     "status": "ok",
     "timestamp": 1612114697379,
     "user": {
      "displayName": "Kyuwook Chai",
      "photoUrl": "https://lh3.googleusercontent.com/a-/AOh14GhabeIY0xp9P_Ac7iq3fvZfABsXRjK_t3iH11-z=s64",
      "userId": "03320902743106715829"
     },
     "user_tz": -540
    },
    "id": "qBJKM4RXZBNa"
   },
   "outputs": [],
   "source": [
    "def inv_sherman_morrison_iter(a, A_inv):\n",
    "    \"\"\"Inverse of a matrix for combinatorial case.\n",
    "    \"\"\"\n",
    "    temp = A_inv    \n",
    "    for u in a:                     \n",
    "        Au = torch.matmul(temp, u)\n",
    "        temp = temp - torch.ger(Au, Au)/(1+torch.matmul(u.T, Au))    \n",
    "    return temp       \n",
    "\n",
    "class Model(nn.Module):\n",
    "    \"\"\"Template for fully connected neural network for scalar approximation.\n",
    "    \"\"\"\n",
    "    def __init__(self, \n",
    "                 input_size=1, \n",
    "                 hidden_size=2,\n",
    "                 n_layers=1,\n",
    "                 activation='ReLU',\n",
    "                 p=0.0,\n",
    "                ):\n",
    "        super(Model, self).__init__()\n",
    "        \n",
    "        self.n_layers = n_layers\n",
    "        \n",
    "        if self.n_layers == 1:\n",
    "            self.layers = [nn.Linear(input_size, 1)]                        \n",
    "        else:\n",
    "            size  = [input_size] + [hidden_size,] * (self.n_layers-1) + [1]\n",
    "            ##\n",
    "            self.layers = [nn.Linear(size[i], size[i+1], bias=False) \\\n",
    "                           for i in range(self.n_layers)]\n",
    "        self.layers = nn.ModuleList(self.layers)\n",
    "        \n",
    "        # dropout layer\n",
    "        self.dropout = nn.Dropout(p=p)\n",
    "        \n",
    "        # activation function\n",
    "        if activation == 'sigmoid':\n",
    "            self.activation = nn.Sigmoid()\n",
    "        elif activation == 'ReLU':\n",
    "            self.activation = nn.ReLU()\n",
    "        elif activation == 'LeakyReLU':\n",
    "            self.activation = nn.LeakyReLU(negative_slope=0.1)\n",
    "        else:\n",
    "            raise Exception('{} not an available activation'.format(activation))\n",
    "                    \n",
    "    def forward(self, x):\n",
    "        for i in range(self.n_layers-1):\n",
    "            x = self.dropout(self.activation(self.layers[i](x)))\n",
    "        x = self.layers[-1](x)\n",
    "        return x   "
   ]
  },
  {
   "cell_type": "code",
   "execution_count": 20,
   "metadata": {},
   "outputs": [],
   "source": [
    "class Bandit():\n",
    "    def __init__(self,\n",
    "                 T,\n",
    "                 n_arms,                 \n",
    "                 n_features,                                  \n",
    "                 h,                                                   \n",
    "                 noise_std=1.0,                 \n",
    "                 n_assortment=1,\n",
    "                 n_samples=1,\n",
    "                 round_reward_function=sum,\n",
    "                 device=torch.device('cpu')\n",
    "                ):\n",
    "        # number of rounds\n",
    "        self.T = T\n",
    "        # number of arms\n",
    "        self.n_arms = n_arms\n",
    "        # number of features for each arm\n",
    "        self.n_features = n_features        \n",
    "        \n",
    "        # average reward function\n",
    "        # h : R^d -> R\n",
    "        self.h = h\n",
    "\n",
    "        # standard deviation of Gaussian reward noise\n",
    "        self.noise_std = noise_std\n",
    "        \n",
    "        # number of assortment (top-K)\n",
    "        self.n_assortment = n_assortment                \n",
    "        \n",
    "        # (TS) number of samples for each round and arm\n",
    "        self.n_samples = n_samples\n",
    "        \n",
    "        # round reward function\n",
    "        self.round_reward_function = round_reward_function                \n",
    "        \n",
    "        # device\n",
    "        self.device = device\n",
    "        \n",
    "        # generate random features\n",
    "        self.reset()\n",
    "        \n",
    "\n",
    "    @property\n",
    "    def arms(self):\n",
    "        \"\"\"Return [0, ...,n_arms-1]\n",
    "        \"\"\"\n",
    "        return range(self.n_arms)\n",
    "        \n",
    "    def reset(self):\n",
    "        \"\"\"Generate new features and new rewards.\n",
    "        \"\"\"\n",
    "        self.reset_features()\n",
    "        self.reset_rewards()\n",
    "\n",
    "    def reset_features(self):\n",
    "        \"\"\"Generate normalized random N(0,1) features.\n",
    "        \"\"\"        \n",
    "        x = np.random.randn(self.T, self.n_arms, self.n_features)\n",
    "        x /= np.repeat(np.linalg.norm(x, axis=-1, ord=2), self.n_features).reshape(self.T, self.n_arms, self.n_features)\n",
    "        self.features = torch.from_numpy(x).to(self.device)\n",
    "\n",
    "    def reset_rewards(self):\n",
    "        \"\"\"Generate rewards for each arm and each round,\n",
    "        following the reward function h + Gaussian noise.\n",
    "        \"\"\"            \n",
    "        self.rewards = torch.Tensor(\n",
    "            [\n",
    "                self.h( self.features[t, k] ) + self.noise_std*torch.randn(1).to(self.device)\\\n",
    "                for t,k in itertools.product(range(self.T), range(self.n_arms))\n",
    "            ]\n",
    "        ).reshape(self.T, self.n_arms)\n",
    "\n",
    "        ## to be used only to compute regret, NOT by the algorithm itself        \n",
    "        a = self.rewards.to('cpu').numpy()\n",
    "        ind = np.argpartition(a, -1*self.n_assortment, axis=1)[:,-1*self.n_assortment:]        \n",
    "        s_ind = np.array([list(ind[i][np.argsort(a[i][ind[i]])][::-1]) for i in range(0, np.shape(a)[0])])\n",
    "        \n",
    "        self.best_super_arm = torch.from_numpy(s_ind).to(self.device)\n",
    "        self.best_rewards = torch.Tensor([a[i][s_ind[i]] for i in range(0,np.shape(a)[0])]).to(self.device)\n",
    "        self.best_round_reward = self.round_reward_function(self.best_rewards).to(self.device)"
   ]
  },
  {
   "cell_type": "code",
   "execution_count": 21,
   "metadata": {
    "executionInfo": {
     "elapsed": 1104,
     "status": "ok",
     "timestamp": 1612114698036,
     "user": {
      "displayName": "Kyuwook Chai",
      "photoUrl": "https://lh3.googleusercontent.com/a-/AOh14GhabeIY0xp9P_Ac7iq3fvZfABsXRjK_t3iH11-z=s64",
      "userId": "03320902743106715829"
     },
     "user_tz": -540
    },
    "id": "BDp-SK0YZBNb"
   },
   "outputs": [],
   "source": [
    "class UCB_TS(abc.ABC):\n",
    "    \"\"\"Base class for UCB and TS methods.\n",
    "    \"\"\"\n",
    "    def __init__(self,\n",
    "                 ucb_ts, ## A string. \"UCB\" for UCB, \"TS\" for TS\n",
    "                 bandit,\n",
    "                 reg_factor=1.0,\n",
    "                 confidence_scaling_factor=1, ## for UCB, gamma\n",
    "                 exploration_variance=1, ## for TS, nu\n",
    "                 delta=0.1,\n",
    "                 training_period=1,\n",
    "                 throttle=int(1e2),\n",
    "                 device=torch.device('cpu')\n",
    "                ):\n",
    "        ## select whether UCB or TS\n",
    "        self.ucb_ts = ucb_ts\n",
    "        # bandit object, contains features and generated rewards\n",
    "        self.bandit = bandit\n",
    "        # L2 regularization strength\n",
    "        self.reg_factor = reg_factor\n",
    "        # Confidence bound with probability 1-delta\n",
    "        self.delta = delta\n",
    "\n",
    "        # multiplier for the confidence bound            \n",
    "        self.confidence_scaling_factor = confidence_scaling_factor\n",
    "\n",
    "        # exploration variance for TS\n",
    "        self.exploration_variance = exploration_variance\n",
    "        \n",
    "        # train approximator only few rounds\n",
    "        self.training_period = training_period\n",
    "        \n",
    "        # throttle tqdm updates\n",
    "        self.throttle = throttle\n",
    "        \n",
    "        # device\n",
    "        self.device = device\n",
    "        \n",
    "        self.reset()\n",
    "    \n",
    "    ## for UCB\n",
    "    def reset_upper_confidence_bounds(self):\n",
    "        \"\"\"Initialize upper confidence bounds and related quantities.\n",
    "        \"\"\"\n",
    "        if self.ucb_ts == \"UCB\":\n",
    "            self.exploration_bonus = torch.zeros((self.bandit.T, self.bandit.n_arms)).to(self.device)\n",
    "            self.mu_hat = torch.zeros((self.bandit.T, self.bandit.n_arms)).to(self.device)\n",
    "            self.upper_confidence_bounds = torch.ones((self.bandit.T, self.bandit.n_arms)).to(self.device)\n",
    "        else:\n",
    "            pass\n",
    "\n",
    "    ## for TS\n",
    "    def reset_sample_rewards(self):\n",
    "        \"\"\"Initialize sample rewards and related quantities.\n",
    "        \"\"\"\n",
    "        if self.ucb_ts == \"TS\":\n",
    "            self.sigma_square = torch.ones((self.bandit.T, self.bandit.n_arms)).to(self.device)\n",
    "            self.mu_hat = torch.zeros((self.bandit.T, self.bandit.n_arms)).to(self.device)\n",
    "            self.sample_rewards = torch.zeros((self.bandit.T, self.bandit.n_arms, self.bandit.n_samples)).to(self.device)\n",
    "            self.optimistic_sample_rewards = torch.zeros((self.bandit.T, self.bandit.n_arms)).to(self.device)\n",
    "        else:\n",
    "            pass\n",
    "    \n",
    "    def reset_regrets(self):\n",
    "        \"\"\"Initialize regrets.\n",
    "        \"\"\"\n",
    "        self.regrets = torch.zeros(self.bandit.T).to(self.device)\n",
    "\n",
    "    def reset_actions(self):\n",
    "        \"\"\"Initialize cache of actions (actions: played set of arms of each round).\n",
    "        \"\"\"\n",
    "        self.actions = torch.zeros((self.bandit.T, self.bandit.n_assortment)).to(self.device)\n",
    "    \n",
    "    def reset_A_inv(self):\n",
    "        \"\"\"Initialize n_arms square matrices representing the inverses\n",
    "        of exploration bonus matrices.\n",
    "        \"\"\"\n",
    "        self.A_inv = torch.eye(self.approximator_dim).to(self.device)/self.reg_factor        \n",
    "    \n",
    "    def reset_grad_approx(self):\n",
    "        \"\"\"Initialize the gradient of the approximator w.r.t its parameters.\n",
    "        \"\"\"\n",
    "        self.grad_approx = torch.zeros((self.bandit.n_arms, self.approximator_dim)).to(self.device)\n",
    "        \n",
    "    def sample_action(self):        \n",
    "        \"\"\"Return the action (set of arms) to play based on current estimates\n",
    "        \"\"\"\n",
    "        ## for UCB\n",
    "        if self.ucb_ts == \"UCB\":\n",
    "            a = self.upper_confidence_bounds[self.iteration].to('cpu').numpy()\n",
    "        ## for TS\n",
    "        if self.ucb_ts == \"TS\":\n",
    "            a = self.optimistic_sample_rewards[self.iteration].to('cpu').numpy()\n",
    "\n",
    "        ind = np.argpartition(a, -1*self.bandit.n_assortment)[-1*self.bandit.n_assortment:]\n",
    "        s_ind = ind[np.argsort(a[ind])][::-1]\n",
    "        return torch.Tensor(s_ind.copy()).to(self.device)               \n",
    "\n",
    "    @abc.abstractmethod\n",
    "    def reset(self):\n",
    "        \"\"\"Initialize variables of interest.\n",
    "        To be defined in children classes.\n",
    "        \"\"\"\n",
    "        pass\n",
    "\n",
    "    @property\n",
    "    @abc.abstractmethod\n",
    "    def approximator_dim(self):\n",
    "        \"\"\"Number of parameters used in the approximator.\n",
    "        \"\"\"\n",
    "        pass\n",
    "    \n",
    "    @property\n",
    "    @abc.abstractmethod\n",
    "    def confidence_multiplier(self):\n",
    "        \"\"\"Multiplier for the confidence exploration bonus.\n",
    "        To be defined in children classes.\n",
    "        \"\"\"\n",
    "        pass\n",
    "    \n",
    "    @abc.abstractmethod\n",
    "    def update_confidence_bounds(self):\n",
    "        \"\"\"Update the confidence bounds for all arms at time t.\n",
    "        To be defined in children classes.\n",
    "        \"\"\"\n",
    "        pass\n",
    "\n",
    "    @abc.abstractmethod\n",
    "    def update_output_gradient(self):\n",
    "        \"\"\"Compute output gradient of the approximator w.r.t its parameters.\n",
    "        \"\"\"\n",
    "        pass\n",
    "    \n",
    "    @abc.abstractmethod\n",
    "    def train(self):\n",
    "        \"\"\"Update approximator.\n",
    "        To be defined in children classes.\n",
    "        \"\"\"\n",
    "        pass\n",
    "    \n",
    "    @abc.abstractmethod\n",
    "    def predict(self):\n",
    "        \"\"\"Predict rewards based on an approximator.\n",
    "        To be defined in children classes.\n",
    "        \"\"\"\n",
    "        pass\n",
    "    \n",
    "    ## for UCB\n",
    "    def update_confidence_bounds(self):\n",
    "        \"\"\"Update confidence bounds and related quantities for all set of arms.\n",
    "        \"\"\"\n",
    "        # update self.grad_approx\n",
    "        self.update_output_gradient()\n",
    "        \n",
    "        # UCB exploration bonus\n",
    "        self.exploration_bonus[self.iteration] = torch.Tensor(\n",
    "            [\n",
    "                self.confidence_multiplier * torch.sqrt(torch.dot(self.grad_approx[a], torch.matmul(self.A_inv, self.grad_approx[a].T))) for a in self.bandit.arms\n",
    "            ]\n",
    "        )        \n",
    "        \n",
    "        # update reward prediction mu_hat\n",
    "        self.predict()\n",
    "        \n",
    "        # estimated combined bound for reward\n",
    "        self.upper_confidence_bounds[self.iteration] = self.mu_hat[self.iteration] + self.exploration_bonus[self.iteration]\n",
    "\n",
    "    ## for TS\n",
    "    def update_sample_rewards(self):\n",
    "        \"\"\"Update sample rewards and related quantities for all set of arms.\n",
    "        \"\"\"        \n",
    "        # update self.grad_approx\n",
    "        self.update_output_gradient() \n",
    "        \n",
    "        # update sigma_square        \n",
    "        self.sigma_square[self.iteration] = torch.Tensor([self.reg_factor * \\\n",
    "                                             torch.dot(self.grad_approx[a], torch.matmul(self.A_inv, self.grad_approx[a].T)) \\\n",
    "                                             for a in self.bandit.arms]).to(self.device)\n",
    "                \n",
    "        # update reward prediction mu_hat\n",
    "        self.predict()\n",
    "        \n",
    "        # update sample reward\n",
    "        self.sample_rewards.to('cpu')\n",
    "        for a in self.bandit.arms:\n",
    "            for j in range(self.bandit.n_samples):\n",
    "                self.sample_rewards[self.iteration][a][j] = np.random.normal(loc = self.mu_hat[self.iteration, a].to('cpu'),\n",
    "                                                                             scale = (self.exploration_variance**2) * self.sigma_square[self.iteration, a].to('cpu')\n",
    "                                                                            )                                                                                                                                           \n",
    "        self.sample_rewards.to(self.device)\n",
    "        \n",
    "        # update optimistic sample reward for each arm\n",
    "        for a in self.bandit.arms:\n",
    "            self.optimistic_sample_rewards[self.iteration][a] = torch.max(self.sample_rewards[self.iteration][a])\n",
    "        \n",
    "    def update_A_inv(self):\n",
    "        \"\"\"Update A_inv by using an iteration of Sherman_Morrison formula\n",
    "        \"\"\"\n",
    "        self.A_inv = inv_sherman_morrison_iter(\n",
    "            self.grad_approx[self.action.to('cpu').numpy()],\n",
    "            self.A_inv\n",
    "        )               \n",
    "        \n",
    "    def run(self):\n",
    "        \"\"\"Run an episode of bandit.\n",
    "        \"\"\"\n",
    "        postfix = {\n",
    "            'total regret': 0.0,\n",
    "            '% optimal set of arms': 0.0,\n",
    "        }\n",
    "        with tqdm(total=self.bandit.T, postfix=postfix) as pbar:\n",
    "            for t in range(self.bandit.T):                \n",
    "                ## for UCB\n",
    "                if self.ucb_ts == \"UCB\":\n",
    "                    # update confidence of all set of arms based on observed features at time t\n",
    "                    self.update_confidence_bounds()\n",
    "                ## for TS\n",
    "                if self.ucb_ts == \"TS\":\n",
    "                    ## update sample rewards of all set of arms based on observed features at time t\n",
    "                    self.update_sample_rewards()                \n",
    "                \n",
    "                # pick action (set of arm) with the highest boosted estimated reward\n",
    "                self.action = self.sample_action()\n",
    "                self.actions[t] = self.action\n",
    "                # update approximator                          \n",
    "                self.train() ### lin and neural training are different\n",
    "                # update exploration indicator A_inv\n",
    "                self.update_A_inv()\n",
    "                \n",
    "                ## compute regret                \n",
    "                self.regrets[t] = self.bandit.best_round_reward[t] - self.bandit.round_reward_function(self.bandit.rewards[t, self.action.to('cpu').numpy()])                 \n",
    "                \n",
    "                # increment counter\n",
    "                self.iteration += 1\n",
    "                \n",
    "                # log\n",
    "                postfix['total regret'] += self.regrets[t].to('cpu').numpy()\n",
    "                n_optimal_arm = np.sum(\n",
    "                    np.prod(\n",
    "                        (self.actions[:self.iteration].to('cpu').numpy()==self.bandit.best_super_arm[:self.iteration].to('cpu').numpy())*1, \n",
    "                        axis=1)                                                          \n",
    "                )\n",
    "                postfix['% optimal set of arms'] = '{:.2%}'.format(n_optimal_arm / self.iteration)\n",
    "                \n",
    "                if t % self.throttle == 0:\n",
    "                    pbar.set_postfix(postfix)\n",
    "                    pbar.update(self.throttle)"
   ]
  },
  {
   "cell_type": "code",
   "execution_count": 22,
   "metadata": {
    "executionInfo": {
     "elapsed": 924,
     "status": "ok",
     "timestamp": 1612114698036,
     "user": {
      "displayName": "Kyuwook Chai",
      "photoUrl": "https://lh3.googleusercontent.com/a-/AOh14GhabeIY0xp9P_Ac7iq3fvZfABsXRjK_t3iH11-z=s64",
      "userId": "03320902743106715829"
     },
     "user_tz": -540
    },
    "id": "4tvBEQ33ZBNg"
   },
   "outputs": [],
   "source": [
    "class Neural(UCB_TS):\n",
    "    \"\"\"CN-UCB or CN-TS.\n",
    "    \"\"\"\n",
    "    def __init__(self,\n",
    "                 ucb_ts, ## A string. \"UCB\" for UCB, \"TS\" for TS\n",
    "                 bandit,\n",
    "                 hidden_size=20,\n",
    "                 n_layers=2,\n",
    "                 reg_factor=1.0,\n",
    "                 delta=0.01,\n",
    "                 confidence_scaling_factor=1, ## for UCB\n",
    "                 exploration_variance=1, ## for TS\n",
    "                 training_window=100,\n",
    "                 p=0.0,\n",
    "                 learning_rate=0.01,\n",
    "                 epochs=1,\n",
    "                 training_period=1,\n",
    "                 throttle=1,\n",
    "                 device=torch.device('cpu'),\n",
    "                ):\n",
    "\n",
    "        # hidden size of the NN layers\n",
    "        self.hidden_size = hidden_size\n",
    "        # number of layers\n",
    "        self.n_layers = n_layers\n",
    "        \n",
    "        # number of rewards in the training buffer\n",
    "        self.training_window = training_window\n",
    "        \n",
    "        # NN parameters\n",
    "        self.learning_rate = learning_rate\n",
    "        self.epochs = epochs\n",
    "        \n",
    "        self.device = device\n",
    "            \n",
    "        # dropout rate\n",
    "        self.p = p\n",
    "\n",
    "        # neural network\n",
    "        self.model = Model(input_size=bandit.n_features, \n",
    "                           hidden_size=self.hidden_size,\n",
    "                           n_layers=self.n_layers,\n",
    "                           p=self.p\n",
    "                          ).to(self.device)        \n",
    "        self.optimizer = torch.optim.SGD(self.model.parameters(), lr=self.learning_rate)\n",
    "        \n",
    "        super().__init__(ucb_ts,\n",
    "                         bandit, \n",
    "                         reg_factor=reg_factor,\n",
    "                         confidence_scaling_factor=confidence_scaling_factor, ## for UCB\n",
    "                         exploration_variance=exploration_variance, ## for TS\n",
    "                         delta=delta,\n",
    "                         throttle=throttle,\n",
    "                         training_period=training_period,\n",
    "                         device=self.device\n",
    "                        )\n",
    "\n",
    "    @property\n",
    "    def approximator_dim(self):\n",
    "        \"\"\"Sum of the dimensions of all trainable layers in the network.\n",
    "        \"\"\"\n",
    "        return sum(w.numel() for w in self.model.parameters() if w.requires_grad)\n",
    "    \n",
    "    @property\n",
    "    def confidence_multiplier(self):\n",
    "        \"\"\"Constant equal to confidence_scaling_factor\n",
    "        \"\"\"\n",
    "        return self.confidence_scaling_factor\n",
    "    \n",
    "    def update_output_gradient(self):\n",
    "        \"\"\"Get gradient of network prediction w.r.t network weights.\n",
    "        \"\"\"\n",
    "        for a in self.bandit.arms:\n",
    "            \n",
    "            x = self.bandit.features[self.iteration, a].reshape(1,-1).float()                \n",
    "            \n",
    "            self.model.zero_grad()\n",
    "            y = self.model(x)\n",
    "            y.backward()\n",
    "                        \n",
    "            self.grad_approx[a] = torch.cat([\n",
    "                w.grad.detach().flatten() / np.sqrt(self.hidden_size)\n",
    "                for w in self.model.parameters() if w.requires_grad]\n",
    "            ).to(self.device)\n",
    "            \n",
    "            \n",
    "    def reset(self):\n",
    "        \"\"\"Reset the internal estimates.\n",
    "        \"\"\"\n",
    "        self.reset_upper_confidence_bounds() ## for UCB\n",
    "        self.reset_sample_rewards() ## for TS\n",
    "        self.reset_regrets()\n",
    "        self.reset_actions()\n",
    "        self.reset_A_inv()\n",
    "        self.reset_grad_approx()\n",
    "        self.iteration = 0\n",
    "\n",
    "    ## inital parameters\n",
    "    def set_init_param(self, parameters):\n",
    "        self.init_param = self.param_to_tensor(parameters)\n",
    "\n",
    "    ## torch Parameter object to Tensor object\n",
    "    def param_to_tensor(self, parameters):\n",
    "        a = torch.empty(1).to(self.device)\n",
    "        for p in parameters:\n",
    "            a = torch.cat((a, p.data.flatten()))\n",
    "        return a[1:].to(self.device)    \n",
    "        \n",
    "    def train(self):\n",
    "        \"\"\"Train neural approximator.        \n",
    "        \"\"\"\n",
    "        ### train only when training_period occurs\n",
    "        if self.iteration % self.training_period == 0:                        \n",
    "            iterations_so_far = range(np.max([0, self.iteration-self.training_window]), self.iteration+1)\n",
    "            actions_so_far = self.actions[np.max([0, self.iteration-self.training_window]):self.iteration+1].to('cpu').numpy() # this is a matrix            \n",
    "\n",
    "            temp = torch.cat([self.bandit.features[t, actions_so_far[i]] for i, t in enumerate(iterations_so_far)])\n",
    "            x_train = torch.reshape(temp, (1,-1,self.bandit.n_features)).squeeze().float().to(self.device)\n",
    "\n",
    "            temp = torch.cat([self.bandit.rewards[t, actions_so_far[i]] for i, t in enumerate(iterations_so_far)])\n",
    "            y_train = torch.reshape(temp, (1,-1)).squeeze().float().to(self.device)\n",
    "\n",
    "            # train mode\n",
    "            self.model.train()\n",
    "            for _ in range(self.epochs):\n",
    "                ## computing the regularization parameter\n",
    "                tmp = (self.param_to_tensor(self.model.parameters()) - self.init_param).to(torch.device('cpu')).numpy()\n",
    "                param_diff = np.linalg.norm(tmp)\n",
    "                regularization = (self.reg_factor*self.hidden_size*param_diff**2)/2\n",
    "\n",
    "                ## update weight\n",
    "                y_pred = self.model.forward(x_train).squeeze()\n",
    "                ### loss = nn.MSELoss()(y_train, y_pred)\n",
    "                loss = nn.MSELoss(reduction='sum')(y_train, y_pred)/2 + regularization            \n",
    "                self.optimizer.zero_grad()\n",
    "                loss.backward()\n",
    "                self.optimizer.step()\n",
    "        else:\n",
    "            pass\n",
    "                                        \n",
    "    def predict(self):\n",
    "        \"\"\"Predict reward.\n",
    "        \"\"\"\n",
    "        # eval mode\n",
    "        self.model.eval()        \n",
    "        self.mu_hat[self.iteration] = self.model.forward(self.bandit.features[self.iteration].float()).detach().squeeze()"
   ]
  },
  {
   "cell_type": "markdown",
   "metadata": {
    "id": "vxAGtJeFZBNO"
   },
   "source": [
    "### Bandit settings"
   ]
  },
  {
   "cell_type": "code",
   "execution_count": 23,
   "metadata": {
    "executionInfo": {
     "elapsed": 731,
     "status": "ok",
     "timestamp": 1612114630240,
     "user": {
      "displayName": "Kyuwook Chai",
      "photoUrl": "https://lh3.googleusercontent.com/a-/AOh14GhabeIY0xp9P_Ac7iq3fvZfABsXRjK_t3iH11-z=s64",
      "userId": "03320902743106715829"
     },
     "user_tz": -540
    },
    "id": "x2DzcHGzZBNO"
   },
   "outputs": [],
   "source": [
    "T = 2000\n",
    "n_sim = 5 # number of simulations\n",
    "\n",
    "\n",
    "n_arms = 12 # N\n",
    "n_features_default = 20 # d\n",
    "n_assortment = 4 # K\n",
    "n_samples = 50 # M, number of samples per each round and arm, for TS\n",
    "\n",
    "noise_std = 0.01 # noise of reward: xi = noise_std*N(0,1)\n",
    "\n",
    "\n",
    "def F(x): # round_reward_function\n",
    "    if x.dim == 1: # if x is a vector\n",
    "        return torch.sum(x)\n",
    "    else: # if x is a matrix\n",
    "        return torch.sum(x, dim=-1)                "
   ]
  },
  {
   "cell_type": "markdown",
   "metadata": {
    "id": "sugHGUJWZBNP"
   },
   "source": [
    "### Parameter settings"
   ]
  },
  {
   "cell_type": "code",
   "execution_count": 24,
   "metadata": {
    "executionInfo": {
     "elapsed": 756,
     "status": "ok",
     "timestamp": 1612114633530,
     "user": {
      "displayName": "Kyuwook Chai",
      "photoUrl": "https://lh3.googleusercontent.com/a-/AOh14GhabeIY0xp9P_Ac7iq3fvZfABsXRjK_t3iH11-z=s64",
      "userId": "03320902743106715829"
     },
     "user_tz": -540
    },
    "id": "c9bthPvvZBNQ"
   },
   "outputs": [],
   "source": [
    "reg_factor = 1 # lambda\n",
    "delta = 0.1 # delta\n",
    "exploration_variance = 1 # nu, for TS and CombLinUCB\n",
    "confidence_scaling_factor = 1 # gamma, for CN-UCB, gamma is larger than nu"
   ]
  },
  {
   "cell_type": "markdown",
   "metadata": {
    "id": "o0-F-FUjZBNQ"
   },
   "source": [
    "### Neural network settings"
   ]
  },
  {
   "cell_type": "code",
   "execution_count": 25,
   "metadata": {
    "executionInfo": {
     "elapsed": 421,
     "status": "ok",
     "timestamp": 1612114633902,
     "user": {
      "displayName": "Kyuwook Chai",
      "photoUrl": "https://lh3.googleusercontent.com/a-/AOh14GhabeIY0xp9P_Ac7iq3fvZfABsXRjK_t3iH11-z=s64",
      "userId": "03320902743106715829"
     },
     "user_tz": -540
    },
    "id": "2v72Wp28ZBNR"
   },
   "outputs": [],
   "source": [
    "hidden_size_default = 20 # m\n",
    "epochs = 100 # repeat training for each period\n",
    "training_period = 5 ### training period\n",
    "training_window = 100\n",
    "learning_rate = 0.01\n",
    "\n",
    "p = 0.0 # no dropout\n",
    "\n",
    "if torch.cuda.is_available():\n",
    "    device = torch.device('cuda')\n",
    "else:\n",
    "    device = torch.device('cpu')"
   ]
  },
  {
   "cell_type": "code",
   "execution_count": 26,
   "metadata": {
    "executionInfo": {
     "elapsed": 617,
     "status": "ok",
     "timestamp": 1612114693709,
     "user": {
      "displayName": "Kyuwook Chai",
      "photoUrl": "https://lh3.googleusercontent.com/a-/AOh14GhabeIY0xp9P_Ac7iq3fvZfABsXRjK_t3iH11-z=s64",
      "userId": "03320902743106715829"
     },
     "user_tz": -540
    },
    "id": "9DEQ17WIZBNS"
   },
   "outputs": [
    {
     "data": {
      "text/plain": [
       "device(type='cuda')"
      ]
     },
     "execution_count": 26,
     "metadata": {},
     "output_type": "execute_result"
    }
   ],
   "source": [
    "device"
   ]
  },
  {
   "cell_type": "markdown",
   "metadata": {
    "id": "ajS2SB-QZBNU"
   },
   "source": [
    "### Hidden function, bandit, learning algorithm and regret settings"
   ]
  },
  {
   "cell_type": "code",
   "execution_count": 27,
   "metadata": {
    "executionInfo": {
     "elapsed": 730,
     "status": "ok",
     "timestamp": 1612114696060,
     "user": {
      "displayName": "Kyuwook Chai",
      "photoUrl": "https://lh3.googleusercontent.com/a-/AOh14GhabeIY0xp9P_Ac7iq3fvZfABsXRjK_t3iH11-z=s64",
      "userId": "03320902743106715829"
     },
     "user_tz": -540
    },
    "id": "q4upzAevZBNU"
   },
   "outputs": [],
   "source": [
    "h1 = \"h1\"\n",
    "h2 = \"h2\"\n",
    "h3 = \"h3\""
   ]
  },
  {
   "cell_type": "code",
   "execution_count": 33,
   "metadata": {},
   "outputs": [],
   "source": [
    "def experiment(lin_neural, ucb_ts, h_str, n_features=20, hidden_size=100, n_samples=1, save = ''):\n",
    "    \"\"\" kind explanation\n",
    "    \"\"\"\n",
    "    ## Hidden function\n",
    "    tmp = np.random.uniform(low=-1.0, high=1.0, size=n_features)\n",
    "    a = torch.from_numpy(tmp / np.linalg.norm(tmp, ord=2)).to(device)\n",
    "\n",
    "    if h_str == \"h1\":\n",
    "        def h(x):\n",
    "            return torch.dot(x, a).to(device)    \n",
    "    elif h_str == \"h2\":\n",
    "        def h(x):\n",
    "            return (torch.dot(x, a)**2).to(device)    \n",
    "    elif h_str == \"h3\":\n",
    "        def h(x):\n",
    "            PI = 3.14\n",
    "            return torch.cos(PI*torch.dot(x, a)).to(device)\n",
    "    \n",
    "    ## Bandit\n",
    "    bandit = Bandit(T,\n",
    "                  n_arms,\n",
    "                  n_features, \n",
    "                  h,\n",
    "                  noise_std=noise_std,\n",
    "                  n_assortment=n_assortment,\n",
    "                  n_samples=n_samples,\n",
    "                  round_reward_function=F,\n",
    "                  device=device\n",
    "                 )\n",
    "    \n",
    "    ## Learning algorithm and regret\n",
    "    regrets = np.empty((n_sim, T))\n",
    "    \n",
    "    for i in range(n_sim):\n",
    "        bandit.reset_rewards()\n",
    "        \n",
    "        if lin_neural == Neural:\n",
    "            model = Neural(ucb_ts,\n",
    "                           bandit,\n",
    "                           hidden_size,\n",
    "                           reg_factor=reg_factor,\n",
    "                           delta=delta,\n",
    "                           confidence_scaling_factor=confidence_scaling_factor,\n",
    "                           exploration_variance=exploration_variance,\n",
    "                           p=p,\n",
    "                           training_window=training_window,\n",
    "                           learning_rate=learning_rate,\n",
    "                           epochs=epochs,\n",
    "                           training_period=training_period,\n",
    "                           device=device\n",
    "                          )\n",
    "            \n",
    "            model.set_init_param(model.model.parameters()) # keep initial parameters for regularization\n",
    "        \n",
    "        ##TODO\n",
    "        \"\"\"\n",
    "        if lin_neural == Lin:\n",
    "            model = lin_neural(ucb_ts,\n",
    "                               bandit,\n",
    "                               reg_factor=reg_factor,\n",
    "                               delta=delta,\n",
    "                               confidence_scaling_factor=confidence_scaling_factor,\n",
    "                               exploration_variance=exploration_variance\n",
    "                              )\n",
    "        \"\"\"\n",
    "        \n",
    "        model.run()\n",
    "        regrets[i] = np.cumsum(model.regrets.to('cpu').numpy())\n",
    "        \n",
    "    if save: # save regrets\n",
    "        np.save('regrets/' + save, regrets)    "
   ]
  },
  {
   "cell_type": "markdown",
   "metadata": {
    "id": "oDeUY26iZBNk"
   },
   "source": [
    "# Experiment A: (h, d, m) - Algorithm - Regret"
   ]
  },
  {
   "cell_type": "markdown",
   "metadata": {
    "id": "4H9aXScLZBNk"
   },
   "source": [
    "### (h1, 40, 20)"
   ]
  },
  {
   "cell_type": "code",
   "execution_count": 36,
   "metadata": {
    "executionInfo": {
     "elapsed": 30260,
     "status": "aborted",
     "timestamp": 1612114729205,
     "user": {
      "displayName": "Kyuwook Chai",
      "photoUrl": "https://lh3.googleusercontent.com/a-/AOh14GhabeIY0xp9P_Ac7iq3fvZfABsXRjK_t3iH11-z=s64",
      "userId": "03320902743106715829"
     },
     "user_tz": -540
    },
    "id": "V7aoALp7ZBNk"
   },
   "outputs": [],
   "source": [
    "n_sim = 3\n",
    "T = 1000"
   ]
  },
  {
   "cell_type": "code",
   "execution_count": 30,
   "metadata": {
    "executionInfo": {
     "elapsed": 29806,
     "status": "aborted",
     "timestamp": 1612114729206,
     "user": {
      "displayName": "Kyuwook Chai",
      "photoUrl": "https://lh3.googleusercontent.com/a-/AOh14GhabeIY0xp9P_Ac7iq3fvZfABsXRjK_t3iH11-z=s64",
      "userId": "03320902743106715829"
     },
     "user_tz": -540
    },
    "id": "1Sb6I2agZBNl",
    "scrolled": false
   },
   "outputs": [
    {
     "ename": "KeyboardInterrupt",
     "evalue": "",
     "output_type": "error",
     "traceback": [
      "\u001b[0;31m---------------------------------------------------------------------------\u001b[0m",
      "\u001b[0;31mKeyboardInterrupt\u001b[0m                         Traceback (most recent call last)",
      "\u001b[0;32m<ipython-input-30-c80052ecdc32>\u001b[0m in \u001b[0;36m<module>\u001b[0;34m\u001b[0m\n\u001b[0;32m----> 1\u001b[0;31m \u001b[0mexperiment\u001b[0m\u001b[0;34m(\u001b[0m\u001b[0mNeural\u001b[0m\u001b[0;34m,\u001b[0m \u001b[0;34m\"UCB\"\u001b[0m\u001b[0;34m,\u001b[0m \u001b[0mh1\u001b[0m\u001b[0;34m,\u001b[0m \u001b[0mn_features\u001b[0m\u001b[0;34m=\u001b[0m\u001b[0;36m80\u001b[0m\u001b[0;34m,\u001b[0m \u001b[0mhidden_size\u001b[0m\u001b[0;34m=\u001b[0m\u001b[0;36m40\u001b[0m\u001b[0;34m,\u001b[0m \u001b[0msave\u001b[0m\u001b[0;34m=\u001b[0m\u001b[0;34m'reg_h1_CNUCB_80_40'\u001b[0m\u001b[0;34m)\u001b[0m\u001b[0;34m\u001b[0m\u001b[0;34m\u001b[0m\u001b[0m\n\u001b[0m",
      "\u001b[0;32m<ipython-input-28-454b9f8af3e8>\u001b[0m in \u001b[0;36mexperiment\u001b[0;34m(lin_neural, ucb_ts, h_str, n_features, hidden_size, n_samples, save)\u001b[0m\n\u001b[1;32m     32\u001b[0m \u001b[0;34m\u001b[0m\u001b[0m\n\u001b[1;32m     33\u001b[0m     \u001b[0;32mfor\u001b[0m \u001b[0mi\u001b[0m \u001b[0;32min\u001b[0m \u001b[0mrange\u001b[0m\u001b[0;34m(\u001b[0m\u001b[0mn_sim\u001b[0m\u001b[0;34m)\u001b[0m\u001b[0;34m:\u001b[0m\u001b[0;34m\u001b[0m\u001b[0;34m\u001b[0m\u001b[0m\n\u001b[0;32m---> 34\u001b[0;31m         \u001b[0mbandit\u001b[0m\u001b[0;34m.\u001b[0m\u001b[0mreset_rewards\u001b[0m\u001b[0;34m(\u001b[0m\u001b[0;34m)\u001b[0m\u001b[0;34m\u001b[0m\u001b[0;34m\u001b[0m\u001b[0m\n\u001b[0m\u001b[1;32m     35\u001b[0m \u001b[0;34m\u001b[0m\u001b[0m\n\u001b[1;32m     36\u001b[0m         \u001b[0;32mif\u001b[0m \u001b[0mlin_neural\u001b[0m \u001b[0;34m==\u001b[0m \u001b[0mNeural\u001b[0m\u001b[0;34m:\u001b[0m\u001b[0;34m\u001b[0m\u001b[0;34m\u001b[0m\u001b[0m\n",
      "\u001b[0;32m<ipython-input-20-b3f50b9ae7c1>\u001b[0m in \u001b[0;36mreset_rewards\u001b[0;34m(self)\u001b[0m\n\u001b[1;32m     67\u001b[0m             [\n\u001b[1;32m     68\u001b[0m                 \u001b[0mself\u001b[0m\u001b[0;34m.\u001b[0m\u001b[0mh\u001b[0m\u001b[0;34m(\u001b[0m \u001b[0mself\u001b[0m\u001b[0;34m.\u001b[0m\u001b[0mfeatures\u001b[0m\u001b[0;34m[\u001b[0m\u001b[0mt\u001b[0m\u001b[0;34m,\u001b[0m \u001b[0mk\u001b[0m\u001b[0;34m]\u001b[0m \u001b[0;34m)\u001b[0m \u001b[0;34m+\u001b[0m \u001b[0mself\u001b[0m\u001b[0;34m.\u001b[0m\u001b[0mnoise_std\u001b[0m\u001b[0;34m*\u001b[0m\u001b[0mtorch\u001b[0m\u001b[0;34m.\u001b[0m\u001b[0mrandn\u001b[0m\u001b[0;34m(\u001b[0m\u001b[0;36m1\u001b[0m\u001b[0;34m)\u001b[0m\u001b[0;34m.\u001b[0m\u001b[0mto\u001b[0m\u001b[0;34m(\u001b[0m\u001b[0mself\u001b[0m\u001b[0;34m.\u001b[0m\u001b[0mdevice\u001b[0m\u001b[0;34m)\u001b[0m\u001b[0;31m\\\u001b[0m\u001b[0;34m\u001b[0m\u001b[0;34m\u001b[0m\u001b[0m\n\u001b[0;32m---> 69\u001b[0;31m                 \u001b[0;32mfor\u001b[0m \u001b[0mt\u001b[0m\u001b[0;34m,\u001b[0m\u001b[0mk\u001b[0m \u001b[0;32min\u001b[0m \u001b[0mitertools\u001b[0m\u001b[0;34m.\u001b[0m\u001b[0mproduct\u001b[0m\u001b[0;34m(\u001b[0m\u001b[0mrange\u001b[0m\u001b[0;34m(\u001b[0m\u001b[0mself\u001b[0m\u001b[0;34m.\u001b[0m\u001b[0mT\u001b[0m\u001b[0;34m)\u001b[0m\u001b[0;34m,\u001b[0m \u001b[0mrange\u001b[0m\u001b[0;34m(\u001b[0m\u001b[0mself\u001b[0m\u001b[0;34m.\u001b[0m\u001b[0mn_arms\u001b[0m\u001b[0;34m)\u001b[0m\u001b[0;34m)\u001b[0m\u001b[0;34m\u001b[0m\u001b[0;34m\u001b[0m\u001b[0m\n\u001b[0m\u001b[1;32m     70\u001b[0m             ]\n\u001b[1;32m     71\u001b[0m         ).reshape(self.T, self.n_arms)\n",
      "\u001b[0;32m<ipython-input-20-b3f50b9ae7c1>\u001b[0m in \u001b[0;36m<listcomp>\u001b[0;34m(.0)\u001b[0m\n\u001b[1;32m     67\u001b[0m             [\n\u001b[1;32m     68\u001b[0m                 \u001b[0mself\u001b[0m\u001b[0;34m.\u001b[0m\u001b[0mh\u001b[0m\u001b[0;34m(\u001b[0m \u001b[0mself\u001b[0m\u001b[0;34m.\u001b[0m\u001b[0mfeatures\u001b[0m\u001b[0;34m[\u001b[0m\u001b[0mt\u001b[0m\u001b[0;34m,\u001b[0m \u001b[0mk\u001b[0m\u001b[0;34m]\u001b[0m \u001b[0;34m)\u001b[0m \u001b[0;34m+\u001b[0m \u001b[0mself\u001b[0m\u001b[0;34m.\u001b[0m\u001b[0mnoise_std\u001b[0m\u001b[0;34m*\u001b[0m\u001b[0mtorch\u001b[0m\u001b[0;34m.\u001b[0m\u001b[0mrandn\u001b[0m\u001b[0;34m(\u001b[0m\u001b[0;36m1\u001b[0m\u001b[0;34m)\u001b[0m\u001b[0;34m.\u001b[0m\u001b[0mto\u001b[0m\u001b[0;34m(\u001b[0m\u001b[0mself\u001b[0m\u001b[0;34m.\u001b[0m\u001b[0mdevice\u001b[0m\u001b[0;34m)\u001b[0m\u001b[0;31m\\\u001b[0m\u001b[0;34m\u001b[0m\u001b[0;34m\u001b[0m\u001b[0m\n\u001b[0;32m---> 69\u001b[0;31m                 \u001b[0;32mfor\u001b[0m \u001b[0mt\u001b[0m\u001b[0;34m,\u001b[0m\u001b[0mk\u001b[0m \u001b[0;32min\u001b[0m \u001b[0mitertools\u001b[0m\u001b[0;34m.\u001b[0m\u001b[0mproduct\u001b[0m\u001b[0;34m(\u001b[0m\u001b[0mrange\u001b[0m\u001b[0;34m(\u001b[0m\u001b[0mself\u001b[0m\u001b[0;34m.\u001b[0m\u001b[0mT\u001b[0m\u001b[0;34m)\u001b[0m\u001b[0;34m,\u001b[0m \u001b[0mrange\u001b[0m\u001b[0;34m(\u001b[0m\u001b[0mself\u001b[0m\u001b[0;34m.\u001b[0m\u001b[0mn_arms\u001b[0m\u001b[0;34m)\u001b[0m\u001b[0;34m)\u001b[0m\u001b[0;34m\u001b[0m\u001b[0;34m\u001b[0m\u001b[0m\n\u001b[0m\u001b[1;32m     70\u001b[0m             ]\n\u001b[1;32m     71\u001b[0m         ).reshape(self.T, self.n_arms)\n",
      "\u001b[0;31mKeyboardInterrupt\u001b[0m: "
     ]
    }
   ],
   "source": [
    "experiment(Neural, \"UCB\", h1, n_features=80, hidden_size=40, save='reg_h1_CNUCB_80_40')"
   ]
  },
  {
   "cell_type": "code",
   "execution_count": 31,
   "metadata": {
    "executionInfo": {
     "elapsed": 29203,
     "status": "aborted",
     "timestamp": 1612114729206,
     "user": {
      "displayName": "Kyuwook Chai",
      "photoUrl": "https://lh3.googleusercontent.com/a-/AOh14GhabeIY0xp9P_Ac7iq3fvZfABsXRjK_t3iH11-z=s64",
      "userId": "03320902743106715829"
     },
     "user_tz": -540
    },
    "id": "kfY3g1csZBNl"
   },
   "outputs": [
    {
     "name": "stderr",
     "output_type": "stream",
     "text": [
      "100%|██████████| 1000/1000 [00:43<00:00, 23.10it/s, total regret=22, % optimal set of arms=22.70%] \n",
      "100%|██████████| 1000/1000 [00:50<00:00, 19.81it/s, total regret=21.9, % optimal set of arms=24.40%]\n",
      "100%|██████████| 1000/1000 [00:56<00:00, 17.56it/s, total regret=27, % optimal set of arms=21.90%] \n"
     ]
    },
    {
     "ename": "AttributeError",
     "evalue": "'numpy.ndarray' object has no attribute 'to'",
     "output_type": "error",
     "traceback": [
      "\u001b[0;31m---------------------------------------------------------------------------\u001b[0m",
      "\u001b[0;31mAttributeError\u001b[0m                            Traceback (most recent call last)",
      "\u001b[0;32m<ipython-input-31-4382f8f00d58>\u001b[0m in \u001b[0;36m<module>\u001b[0;34m\u001b[0m\n\u001b[0;32m----> 1\u001b[0;31m \u001b[0mexperiment\u001b[0m\u001b[0;34m(\u001b[0m\u001b[0mNeural\u001b[0m\u001b[0;34m,\u001b[0m \u001b[0;34m\"TS\"\u001b[0m\u001b[0;34m,\u001b[0m \u001b[0mh1\u001b[0m\u001b[0;34m,\u001b[0m \u001b[0mn_features\u001b[0m\u001b[0;34m=\u001b[0m\u001b[0;36m80\u001b[0m\u001b[0;34m,\u001b[0m \u001b[0mhidden_size\u001b[0m\u001b[0;34m=\u001b[0m\u001b[0;36m40\u001b[0m\u001b[0;34m,\u001b[0m \u001b[0msave\u001b[0m\u001b[0;34m=\u001b[0m\u001b[0;34m'reg_h1_CNTS_80_40'\u001b[0m\u001b[0;34m)\u001b[0m\u001b[0;34m\u001b[0m\u001b[0;34m\u001b[0m\u001b[0m\n\u001b[0m",
      "\u001b[0;32m<ipython-input-28-454b9f8af3e8>\u001b[0m in \u001b[0;36mexperiment\u001b[0;34m(lin_neural, ucb_ts, h_str, n_features, hidden_size, n_samples, save)\u001b[0m\n\u001b[1;32m     67\u001b[0m         \u001b[0mregrets\u001b[0m\u001b[0;34m[\u001b[0m\u001b[0mi\u001b[0m\u001b[0;34m]\u001b[0m \u001b[0;34m=\u001b[0m \u001b[0mnp\u001b[0m\u001b[0;34m.\u001b[0m\u001b[0mcumsum\u001b[0m\u001b[0;34m(\u001b[0m\u001b[0mmodel\u001b[0m\u001b[0;34m.\u001b[0m\u001b[0mregrets\u001b[0m\u001b[0;34m.\u001b[0m\u001b[0mto\u001b[0m\u001b[0;34m(\u001b[0m\u001b[0;34m'cpu'\u001b[0m\u001b[0;34m)\u001b[0m\u001b[0;34m.\u001b[0m\u001b[0mnumpy\u001b[0m\u001b[0;34m(\u001b[0m\u001b[0;34m)\u001b[0m\u001b[0;34m)\u001b[0m\u001b[0;34m\u001b[0m\u001b[0;34m\u001b[0m\u001b[0m\n\u001b[1;32m     68\u001b[0m \u001b[0;34m\u001b[0m\u001b[0m\n\u001b[0;32m---> 69\u001b[0;31m     \u001b[0mresult\u001b[0m \u001b[0;34m=\u001b[0m \u001b[0mregrets\u001b[0m\u001b[0;34m.\u001b[0m\u001b[0mto\u001b[0m\u001b[0;34m(\u001b[0m\u001b[0;34m'cpu'\u001b[0m\u001b[0;34m)\u001b[0m\u001b[0;34m.\u001b[0m\u001b[0mnumpy\u001b[0m\u001b[0;34m(\u001b[0m\u001b[0;34m)\u001b[0m\u001b[0;34m\u001b[0m\u001b[0;34m\u001b[0m\u001b[0m\n\u001b[0m\u001b[1;32m     70\u001b[0m     \u001b[0;32mif\u001b[0m \u001b[0msave\u001b[0m\u001b[0;34m:\u001b[0m \u001b[0;31m# save regrets\u001b[0m\u001b[0;34m\u001b[0m\u001b[0;34m\u001b[0m\u001b[0m\n\u001b[1;32m     71\u001b[0m         \u001b[0mnp\u001b[0m\u001b[0;34m.\u001b[0m\u001b[0msave\u001b[0m\u001b[0;34m(\u001b[0m\u001b[0;34m'regrets/'\u001b[0m \u001b[0;34m+\u001b[0m \u001b[0msave\u001b[0m\u001b[0;34m,\u001b[0m \u001b[0mresult\u001b[0m\u001b[0;34m)\u001b[0m\u001b[0;34m\u001b[0m\u001b[0;34m\u001b[0m\u001b[0m\n",
      "\u001b[0;31mAttributeError\u001b[0m: 'numpy.ndarray' object has no attribute 'to'"
     ]
    }
   ],
   "source": [
    "experiment(Neural, \"TS\", h1, n_features=80, hidden_size=40, save='reg_h1_CNTS_80_40')"
   ]
  },
  {
   "cell_type": "code",
   "execution_count": 34,
   "metadata": {
    "id": "dM6EOrg9ZBNl",
    "scrolled": false
   },
   "outputs": [
    {
     "name": "stderr",
     "output_type": "stream",
     "text": [
      "  2%|▏         | 19/1000 [00:02<02:26,  6.72it/s, total regret=8.28, % optimal set of arms=0.00%]\n"
     ]
    },
    {
     "ename": "KeyboardInterrupt",
     "evalue": "",
     "output_type": "error",
     "traceback": [
      "\u001b[0;31m---------------------------------------------------------------------------\u001b[0m",
      "\u001b[0;31mKeyboardInterrupt\u001b[0m                         Traceback (most recent call last)",
      "\u001b[0;32m<ipython-input-34-2f32ee3897d0>\u001b[0m in \u001b[0;36m<module>\u001b[0;34m\u001b[0m\n\u001b[0;32m----> 1\u001b[0;31m \u001b[0mexperiment\u001b[0m\u001b[0;34m(\u001b[0m\u001b[0mNeural\u001b[0m\u001b[0;34m,\u001b[0m \u001b[0;34m\"TS\"\u001b[0m\u001b[0;34m,\u001b[0m \u001b[0mh1\u001b[0m\u001b[0;34m,\u001b[0m \u001b[0mn_features\u001b[0m\u001b[0;34m=\u001b[0m\u001b[0;36m80\u001b[0m\u001b[0;34m,\u001b[0m \u001b[0mhidden_size\u001b[0m\u001b[0;34m=\u001b[0m\u001b[0;36m40\u001b[0m\u001b[0;34m,\u001b[0m \u001b[0mn_samples\u001b[0m\u001b[0;34m=\u001b[0m\u001b[0;36m50\u001b[0m\u001b[0;34m,\u001b[0m \u001b[0msave\u001b[0m\u001b[0;34m=\u001b[0m\u001b[0;34m'reg_h1_CNTSOpt_80_40'\u001b[0m\u001b[0;34m)\u001b[0m\u001b[0;34m\u001b[0m\u001b[0;34m\u001b[0m\u001b[0m\n\u001b[0m",
      "\u001b[0;32m<ipython-input-33-457d3a70ea2f>\u001b[0m in \u001b[0;36mexperiment\u001b[0;34m(lin_neural, ucb_ts, h_str, n_features, hidden_size, n_samples, save)\u001b[0m\n\u001b[1;32m     65\u001b[0m         \"\"\"\n\u001b[1;32m     66\u001b[0m \u001b[0;34m\u001b[0m\u001b[0m\n\u001b[0;32m---> 67\u001b[0;31m         \u001b[0mmodel\u001b[0m\u001b[0;34m.\u001b[0m\u001b[0mrun\u001b[0m\u001b[0;34m(\u001b[0m\u001b[0;34m)\u001b[0m\u001b[0;34m\u001b[0m\u001b[0;34m\u001b[0m\u001b[0m\n\u001b[0m\u001b[1;32m     68\u001b[0m         \u001b[0mregrets\u001b[0m\u001b[0;34m[\u001b[0m\u001b[0mi\u001b[0m\u001b[0;34m]\u001b[0m \u001b[0;34m=\u001b[0m \u001b[0mnp\u001b[0m\u001b[0;34m.\u001b[0m\u001b[0mcumsum\u001b[0m\u001b[0;34m(\u001b[0m\u001b[0mmodel\u001b[0m\u001b[0;34m.\u001b[0m\u001b[0mregrets\u001b[0m\u001b[0;34m.\u001b[0m\u001b[0mto\u001b[0m\u001b[0;34m(\u001b[0m\u001b[0;34m'cpu'\u001b[0m\u001b[0;34m)\u001b[0m\u001b[0;34m.\u001b[0m\u001b[0mnumpy\u001b[0m\u001b[0;34m(\u001b[0m\u001b[0;34m)\u001b[0m\u001b[0;34m)\u001b[0m\u001b[0;34m\u001b[0m\u001b[0;34m\u001b[0m\u001b[0m\n\u001b[1;32m     69\u001b[0m \u001b[0;34m\u001b[0m\u001b[0m\n",
      "\u001b[0;32m<ipython-input-21-7c696cf50d2f>\u001b[0m in \u001b[0;36mrun\u001b[0;34m(self)\u001b[0m\n\u001b[1;32m    218\u001b[0m                 \u001b[0;32mif\u001b[0m \u001b[0mself\u001b[0m\u001b[0;34m.\u001b[0m\u001b[0mucb_ts\u001b[0m \u001b[0;34m==\u001b[0m \u001b[0;34m\"TS\"\u001b[0m\u001b[0;34m:\u001b[0m\u001b[0;34m\u001b[0m\u001b[0;34m\u001b[0m\u001b[0m\n\u001b[1;32m    219\u001b[0m                     \u001b[0;31m## update sample rewards of all set of arms based on observed features at time t\u001b[0m\u001b[0;34m\u001b[0m\u001b[0;34m\u001b[0m\u001b[0;34m\u001b[0m\u001b[0m\n\u001b[0;32m--> 220\u001b[0;31m                     \u001b[0mself\u001b[0m\u001b[0;34m.\u001b[0m\u001b[0mupdate_sample_rewards\u001b[0m\u001b[0;34m(\u001b[0m\u001b[0;34m)\u001b[0m\u001b[0;34m\u001b[0m\u001b[0;34m\u001b[0m\u001b[0m\n\u001b[0m\u001b[1;32m    221\u001b[0m \u001b[0;34m\u001b[0m\u001b[0m\n\u001b[1;32m    222\u001b[0m                 \u001b[0;31m# pick action (set of arm) with the highest boosted estimated reward\u001b[0m\u001b[0;34m\u001b[0m\u001b[0;34m\u001b[0m\u001b[0;34m\u001b[0m\u001b[0m\n",
      "\u001b[0;32m<ipython-input-21-7c696cf50d2f>\u001b[0m in \u001b[0;36mupdate_sample_rewards\u001b[0;34m(self)\u001b[0m\n\u001b[1;32m    186\u001b[0m             \u001b[0;32mfor\u001b[0m \u001b[0mj\u001b[0m \u001b[0;32min\u001b[0m \u001b[0mrange\u001b[0m\u001b[0;34m(\u001b[0m\u001b[0mself\u001b[0m\u001b[0;34m.\u001b[0m\u001b[0mbandit\u001b[0m\u001b[0;34m.\u001b[0m\u001b[0mn_samples\u001b[0m\u001b[0;34m)\u001b[0m\u001b[0;34m:\u001b[0m\u001b[0;34m\u001b[0m\u001b[0;34m\u001b[0m\u001b[0m\n\u001b[1;32m    187\u001b[0m                 self.sample_rewards[self.iteration][a][j] = np.random.normal(loc = self.mu_hat[self.iteration, a].to('cpu'),\n\u001b[0;32m--> 188\u001b[0;31m                                                                              \u001b[0mscale\u001b[0m \u001b[0;34m=\u001b[0m \u001b[0;34m(\u001b[0m\u001b[0mself\u001b[0m\u001b[0;34m.\u001b[0m\u001b[0mexploration_variance\u001b[0m\u001b[0;34m**\u001b[0m\u001b[0;36m2\u001b[0m\u001b[0;34m)\u001b[0m \u001b[0;34m*\u001b[0m \u001b[0mself\u001b[0m\u001b[0;34m.\u001b[0m\u001b[0msigma_square\u001b[0m\u001b[0;34m[\u001b[0m\u001b[0mself\u001b[0m\u001b[0;34m.\u001b[0m\u001b[0miteration\u001b[0m\u001b[0;34m,\u001b[0m \u001b[0ma\u001b[0m\u001b[0;34m]\u001b[0m\u001b[0;34m.\u001b[0m\u001b[0mto\u001b[0m\u001b[0;34m(\u001b[0m\u001b[0;34m'cpu'\u001b[0m\u001b[0;34m)\u001b[0m\u001b[0;34m\u001b[0m\u001b[0;34m\u001b[0m\u001b[0m\n\u001b[0m\u001b[1;32m    189\u001b[0m                                                                             )                                                                                                                                           \n\u001b[1;32m    190\u001b[0m         \u001b[0mself\u001b[0m\u001b[0;34m.\u001b[0m\u001b[0msample_rewards\u001b[0m\u001b[0;34m.\u001b[0m\u001b[0mto\u001b[0m\u001b[0;34m(\u001b[0m\u001b[0mself\u001b[0m\u001b[0;34m.\u001b[0m\u001b[0mdevice\u001b[0m\u001b[0;34m)\u001b[0m\u001b[0;34m\u001b[0m\u001b[0;34m\u001b[0m\u001b[0m\n",
      "\u001b[0;32mmtrand.pyx\u001b[0m in \u001b[0;36mnumpy.random.mtrand.RandomState.normal\u001b[0;34m()\u001b[0m\n",
      "\u001b[0;32m_common.pyx\u001b[0m in \u001b[0;36mnumpy.random._common.cont\u001b[0;34m()\u001b[0m\n",
      "\u001b[0;32m~/anaconda3/lib/python3.7/site-packages/torch/tensor.py\u001b[0m in \u001b[0;36m__array__\u001b[0;34m(self, dtype)\u001b[0m\n\u001b[1;32m    412\u001b[0m             \u001b[0;32mreturn\u001b[0m \u001b[0mself\u001b[0m\u001b[0;34m.\u001b[0m\u001b[0mnumpy\u001b[0m\u001b[0;34m(\u001b[0m\u001b[0;34m)\u001b[0m\u001b[0;34m\u001b[0m\u001b[0;34m\u001b[0m\u001b[0m\n\u001b[1;32m    413\u001b[0m         \u001b[0;32melse\u001b[0m\u001b[0;34m:\u001b[0m\u001b[0;34m\u001b[0m\u001b[0;34m\u001b[0m\u001b[0m\n\u001b[0;32m--> 414\u001b[0;31m             \u001b[0;32mreturn\u001b[0m \u001b[0mself\u001b[0m\u001b[0;34m.\u001b[0m\u001b[0mnumpy\u001b[0m\u001b[0;34m(\u001b[0m\u001b[0;34m)\u001b[0m\u001b[0;34m.\u001b[0m\u001b[0mastype\u001b[0m\u001b[0;34m(\u001b[0m\u001b[0mdtype\u001b[0m\u001b[0;34m,\u001b[0m \u001b[0mcopy\u001b[0m\u001b[0;34m=\u001b[0m\u001b[0;32mFalse\u001b[0m\u001b[0;34m)\u001b[0m\u001b[0;34m\u001b[0m\u001b[0;34m\u001b[0m\u001b[0m\n\u001b[0m\u001b[1;32m    415\u001b[0m \u001b[0;34m\u001b[0m\u001b[0m\n\u001b[1;32m    416\u001b[0m     \u001b[0;31m# Wrap Numpy array again in a suitable tensor when done, to support e.g.\u001b[0m\u001b[0;34m\u001b[0m\u001b[0;34m\u001b[0m\u001b[0;34m\u001b[0m\u001b[0m\n",
      "\u001b[0;31mKeyboardInterrupt\u001b[0m: "
     ]
    }
   ],
   "source": [
    "experiment(Neural, \"TS\", h1, n_features=80, hidden_size=40, n_samples=50, save='reg_h1_CNTSOpt_80_40')"
   ]
  },
  {
   "cell_type": "markdown",
   "metadata": {
    "id": "L_N_m7AFZBNl"
   },
   "source": [
    "### (h2, 40, 20)"
   ]
  },
  {
   "cell_type": "code",
   "execution_count": null,
   "metadata": {
    "id": "Gir3LYfPZBNl",
    "outputId": "f9fa4f45-7dae-4a6a-fcd2-a6989cbb559b",
    "scrolled": true
   },
   "outputs": [],
   "source": [
    "experiment(Neural, \"UCB\", h2, n_features=40, hidden_size=20, save='reg_h2_CNUCB_40_20')"
   ]
  },
  {
   "cell_type": "code",
   "execution_count": null,
   "metadata": {
    "id": "Xcd1USjbZBNm",
    "outputId": "4242e5cf-29e9-4670-a7d1-251c88d15817",
    "scrolled": true
   },
   "outputs": [],
   "source": [
    "experiment(Neural, \"TS\", h2, n_features=40, hidden_size=20, save='reg_h2_CNTS_40_20')"
   ]
  },
  {
   "cell_type": "code",
   "execution_count": null,
   "metadata": {
    "id": "E-v1nnziZBNm",
    "outputId": "9d95eab2-be86-4a6f-e912-1e9c798a4b64",
    "scrolled": false
   },
   "outputs": [],
   "source": [
    "experiment(Neural, \"TS\", h2, n_features=40, hidden_size=20, n_samples=50, save='reg_h2_CNTSOpt_40_20')"
   ]
  },
  {
   "cell_type": "markdown",
   "metadata": {
    "id": "hJY9XrDLZBNm"
   },
   "source": [
    "### (h3, 40, 20)"
   ]
  },
  {
   "cell_type": "code",
   "execution_count": null,
   "metadata": {
    "id": "JfZBUqdgZBNm",
    "outputId": "208a9f98-f8ad-44d0-f1b4-93856ce3e1c1",
    "scrolled": true
   },
   "outputs": [
    {
     "name": "stderr",
     "output_type": "stream",
     "text": [
      "100%|██████████| 1000/1000 [00:37<00:00, 26.58it/s, total regret=173, % optimal set of arms=0.20%]\n",
      " 75%|███████▍  | 749/1000 [00:28<00:09, 26.24it/s, total regret=145, % optimal set of arms=0.13%] "
     ]
    }
   ],
   "source": [
    "experiment(Neural, \"UCB\", h3, n_features=40, hidden_size=20, save='reg_h3_CNUCB_40_20')"
   ]
  },
  {
   "cell_type": "code",
   "execution_count": null,
   "metadata": {
    "id": "stDWPzK9ZBNn",
    "outputId": "3b5b621a-dd6d-4abf-93d3-23912462a7f6",
    "scrolled": true
   },
   "outputs": [],
   "source": [
    "experiment(Neural, \"TS\", h3, n_features=40, hidden_size=20, save='reg_h3_CNTS_40_20')"
   ]
  },
  {
   "cell_type": "code",
   "execution_count": null,
   "metadata": {
    "id": "LqJewp-CZBNn",
    "outputId": "0da08f4b-c84c-41d7-f474-8befe1b3f511",
    "scrolled": true
   },
   "outputs": [],
   "source": [
    "experiment(Neural, \"TS\", h3, n_features=40, hidden_size=20, n_samples=50, save='reg_h3_CNTSOpt_40_20')"
   ]
  },
  {
   "cell_type": "markdown",
   "metadata": {
    "id": "epEs02A1ZBNn"
   },
   "source": [
    "### (h1, 20, 20)"
   ]
  },
  {
   "cell_type": "code",
   "execution_count": null,
   "metadata": {
    "id": "t03KnxyJZBNn"
   },
   "outputs": [],
   "source": [
    "T = 2000"
   ]
  },
  {
   "cell_type": "code",
   "execution_count": null,
   "metadata": {
    "id": "87wWdIdEZBNn",
    "outputId": "4d60e50d-e07c-4b67-fefb-aba635c1cf97"
   },
   "outputs": [],
   "source": [
    "experiment(Neural, \"UCB\", h1, n_features=10, hidden_size=20, save='reg_h1_CNUCB_10_20')"
   ]
  },
  {
   "cell_type": "code",
   "execution_count": null,
   "metadata": {
    "id": "xyfIV3PfZBNo"
   },
   "outputs": [],
   "source": [
    "experiment(Neural, \"TS\", h1, n_features=10, hidden_size=20, save='reg_h1_CNTS_10_20')"
   ]
  },
  {
   "cell_type": "code",
   "execution_count": null,
   "metadata": {
    "id": "YTsyUhEYZBNo"
   },
   "outputs": [],
   "source": [
    "experiment(Neural, \"TS\", h1, n_features=10, hidden_size=20, n_samples=50, save='reg_h1_CNTSOpt_10_20')"
   ]
  },
  {
   "cell_type": "markdown",
   "metadata": {
    "id": "d0sbFSlFZBNo"
   },
   "source": [
    "### (h2, 20, 20)"
   ]
  },
  {
   "cell_type": "code",
   "execution_count": null,
   "metadata": {
    "id": "IiZr0S_TZBNo"
   },
   "outputs": [],
   "source": [
    "experiment(Neural, \"UCB\", h2, n_features=20, hidden_size=20, save='reg_h2_CNUCB_20_20')"
   ]
  },
  {
   "cell_type": "code",
   "execution_count": null,
   "metadata": {
    "id": "J_MqelcKZBNo"
   },
   "outputs": [],
   "source": [
    "experiment(Neural, \"TS\", h2, n_features=20, hidden_size=20, save='reg_h2_CNTS_20_20')"
   ]
  },
  {
   "cell_type": "code",
   "execution_count": null,
   "metadata": {
    "id": "ACMKDA72ZBNo"
   },
   "outputs": [],
   "source": [
    "experiment(Neural, \"TS\", h2, n_features=20, hidden_size=20, n_samples=50, save='reg_h2_CNTSOpt_20_20')"
   ]
  },
  {
   "cell_type": "markdown",
   "metadata": {
    "id": "NPOILfGyZBNo"
   },
   "source": [
    "### (h3, 20, 20)"
   ]
  },
  {
   "cell_type": "code",
   "execution_count": 35,
   "metadata": {
    "id": "57gx8mwEZBNp"
   },
   "outputs": [
    {
     "name": "stderr",
     "output_type": "stream",
     "text": [
      "100%|██████████| 1000/1000 [00:37<00:00, 27.01it/s, total regret=139, % optimal set of arms=0.80%]\n",
      " 37%|███▋      | 374/1000 [00:14<00:23, 26.19it/s, total regret=79, % optimal set of arms=0.80%]  \n"
     ]
    },
    {
     "ename": "KeyboardInterrupt",
     "evalue": "",
     "output_type": "error",
     "traceback": [
      "\u001b[0;31m---------------------------------------------------------------------------\u001b[0m",
      "\u001b[0;31mKeyboardInterrupt\u001b[0m                         Traceback (most recent call last)",
      "\u001b[0;32m<ipython-input-35-03f3a1b64082>\u001b[0m in \u001b[0;36m<module>\u001b[0;34m\u001b[0m\n\u001b[0;32m----> 1\u001b[0;31m \u001b[0mexperiment\u001b[0m\u001b[0;34m(\u001b[0m\u001b[0mNeural\u001b[0m\u001b[0;34m,\u001b[0m \u001b[0;34m\"UCB\"\u001b[0m\u001b[0;34m,\u001b[0m \u001b[0mh3\u001b[0m\u001b[0;34m,\u001b[0m \u001b[0mn_features\u001b[0m\u001b[0;34m=\u001b[0m\u001b[0;36m20\u001b[0m\u001b[0;34m,\u001b[0m \u001b[0mhidden_size\u001b[0m\u001b[0;34m=\u001b[0m\u001b[0;36m20\u001b[0m\u001b[0;34m,\u001b[0m \u001b[0msave\u001b[0m\u001b[0;34m=\u001b[0m\u001b[0;34m'reg_h3_CNUCB_20_20'\u001b[0m\u001b[0;34m)\u001b[0m\u001b[0;34m\u001b[0m\u001b[0;34m\u001b[0m\u001b[0m\n\u001b[0m",
      "\u001b[0;32m<ipython-input-33-457d3a70ea2f>\u001b[0m in \u001b[0;36mexperiment\u001b[0;34m(lin_neural, ucb_ts, h_str, n_features, hidden_size, n_samples, save)\u001b[0m\n\u001b[1;32m     65\u001b[0m         \"\"\"\n\u001b[1;32m     66\u001b[0m \u001b[0;34m\u001b[0m\u001b[0m\n\u001b[0;32m---> 67\u001b[0;31m         \u001b[0mmodel\u001b[0m\u001b[0;34m.\u001b[0m\u001b[0mrun\u001b[0m\u001b[0;34m(\u001b[0m\u001b[0;34m)\u001b[0m\u001b[0;34m\u001b[0m\u001b[0;34m\u001b[0m\u001b[0m\n\u001b[0m\u001b[1;32m     68\u001b[0m         \u001b[0mregrets\u001b[0m\u001b[0;34m[\u001b[0m\u001b[0mi\u001b[0m\u001b[0;34m]\u001b[0m \u001b[0;34m=\u001b[0m \u001b[0mnp\u001b[0m\u001b[0;34m.\u001b[0m\u001b[0mcumsum\u001b[0m\u001b[0;34m(\u001b[0m\u001b[0mmodel\u001b[0m\u001b[0;34m.\u001b[0m\u001b[0mregrets\u001b[0m\u001b[0;34m.\u001b[0m\u001b[0mto\u001b[0m\u001b[0;34m(\u001b[0m\u001b[0;34m'cpu'\u001b[0m\u001b[0;34m)\u001b[0m\u001b[0;34m.\u001b[0m\u001b[0mnumpy\u001b[0m\u001b[0;34m(\u001b[0m\u001b[0;34m)\u001b[0m\u001b[0;34m)\u001b[0m\u001b[0;34m\u001b[0m\u001b[0;34m\u001b[0m\u001b[0m\n\u001b[1;32m     69\u001b[0m \u001b[0;34m\u001b[0m\u001b[0m\n",
      "\u001b[0;32m<ipython-input-21-7c696cf50d2f>\u001b[0m in \u001b[0;36mrun\u001b[0;34m(self)\u001b[0m\n\u001b[1;32m    226\u001b[0m                 \u001b[0mself\u001b[0m\u001b[0;34m.\u001b[0m\u001b[0mtrain\u001b[0m\u001b[0;34m(\u001b[0m\u001b[0;34m)\u001b[0m \u001b[0;31m### lin and neural training are different\u001b[0m\u001b[0;34m\u001b[0m\u001b[0;34m\u001b[0m\u001b[0m\n\u001b[1;32m    227\u001b[0m                 \u001b[0;31m# update exploration indicator A_inv\u001b[0m\u001b[0;34m\u001b[0m\u001b[0;34m\u001b[0m\u001b[0;34m\u001b[0m\u001b[0m\n\u001b[0;32m--> 228\u001b[0;31m                 \u001b[0mself\u001b[0m\u001b[0;34m.\u001b[0m\u001b[0mupdate_A_inv\u001b[0m\u001b[0;34m(\u001b[0m\u001b[0;34m)\u001b[0m\u001b[0;34m\u001b[0m\u001b[0;34m\u001b[0m\u001b[0m\n\u001b[0m\u001b[1;32m    229\u001b[0m \u001b[0;34m\u001b[0m\u001b[0m\n\u001b[1;32m    230\u001b[0m                 \u001b[0;31m## compute regret\u001b[0m\u001b[0;34m\u001b[0m\u001b[0;34m\u001b[0m\u001b[0;34m\u001b[0m\u001b[0m\n",
      "\u001b[0;32m<ipython-input-21-7c696cf50d2f>\u001b[0m in \u001b[0;36mupdate_A_inv\u001b[0;34m(self)\u001b[0m\n\u001b[1;32m    198\u001b[0m         \"\"\"\n\u001b[1;32m    199\u001b[0m         self.A_inv = inv_sherman_morrison_iter(\n\u001b[0;32m--> 200\u001b[0;31m             \u001b[0mself\u001b[0m\u001b[0;34m.\u001b[0m\u001b[0mgrad_approx\u001b[0m\u001b[0;34m[\u001b[0m\u001b[0mself\u001b[0m\u001b[0;34m.\u001b[0m\u001b[0maction\u001b[0m\u001b[0;34m.\u001b[0m\u001b[0mto\u001b[0m\u001b[0;34m(\u001b[0m\u001b[0;34m'cpu'\u001b[0m\u001b[0;34m)\u001b[0m\u001b[0;34m.\u001b[0m\u001b[0mnumpy\u001b[0m\u001b[0;34m(\u001b[0m\u001b[0;34m)\u001b[0m\u001b[0;34m]\u001b[0m\u001b[0;34m,\u001b[0m\u001b[0;34m\u001b[0m\u001b[0;34m\u001b[0m\u001b[0m\n\u001b[0m\u001b[1;32m    201\u001b[0m             \u001b[0mself\u001b[0m\u001b[0;34m.\u001b[0m\u001b[0mA_inv\u001b[0m\u001b[0;34m\u001b[0m\u001b[0;34m\u001b[0m\u001b[0m\n\u001b[1;32m    202\u001b[0m         )               \n",
      "\u001b[0;31mKeyboardInterrupt\u001b[0m: "
     ]
    }
   ],
   "source": [
    "experiment(Neural, \"UCB\", h3, n_features=20, hidden_size=20, save='reg_h3_CNUCB_20_20')"
   ]
  },
  {
   "cell_type": "code",
   "execution_count": null,
   "metadata": {
    "id": "7XXs2NziZBNp"
   },
   "outputs": [],
   "source": [
    "experiment(Neural, \"TS\", h3, n_features=20, hidden_size=20, save='reg_h3_CNTS_20_20')"
   ]
  },
  {
   "cell_type": "code",
   "execution_count": null,
   "metadata": {
    "id": "hvTmEx7nZBNp"
   },
   "outputs": [],
   "source": [
    "experiment(Neural, \"TS\", h3, n_features=20, hidden_size=20, n_samples=50, save='reg_h3_CNTSOpt_20_20')"
   ]
  },
  {
   "cell_type": "markdown",
   "metadata": {
    "id": "2kiLkgOmZBNp"
   },
   "source": [
    "### CombLinUCB"
   ]
  },
  {
   "cell_type": "code",
   "execution_count": null,
   "metadata": {
    "id": "tV68lc_TZBNp"
   },
   "outputs": [],
   "source": [
    "experiment(Lin, \"UCB\", h1, n_features=20, save='reg_h1_CombLinUCB_20')"
   ]
  },
  {
   "cell_type": "code",
   "execution_count": null,
   "metadata": {
    "id": "i_dSDoeYZBNp"
   },
   "outputs": [],
   "source": [
    "experiment(Lin, \"UCB\", h2, n_features=20, save='reg_h2_CombLinUCB_20')"
   ]
  },
  {
   "cell_type": "code",
   "execution_count": null,
   "metadata": {
    "id": "GCns0kyIZBNp"
   },
   "outputs": [],
   "source": [
    "experiment(Lin, \"UCB\", h3, n_features=20, save='reg_h3_CombLinUCB_20')"
   ]
  },
  {
   "cell_type": "code",
   "execution_count": null,
   "metadata": {
    "id": "Rz7fSzkhZBNq"
   },
   "outputs": [],
   "source": [
    "experiment(Lin, \"UCB\", h1, n_features=40, save='reg_h1_CombLinUCB_40')"
   ]
  },
  {
   "cell_type": "code",
   "execution_count": null,
   "metadata": {
    "id": "fBZ4x0eZZBNq"
   },
   "outputs": [],
   "source": [
    "experiment(Lin, \"UCB\", h2, n_features=40, save='reg_h2_CombLinUCB_40')"
   ]
  },
  {
   "cell_type": "code",
   "execution_count": null,
   "metadata": {
    "id": "mP-xZj9WZBNq"
   },
   "outputs": [],
   "source": [
    "experiment(Lin, \"UCB\", h3, n_features=40, save='reg_h3_CombLinUCB_40')"
   ]
  },
  {
   "cell_type": "markdown",
   "metadata": {
    "id": "mWGIqRfhZBNq"
   },
   "source": [
    "### CombLinTS"
   ]
  },
  {
   "cell_type": "code",
   "execution_count": null,
   "metadata": {
    "id": "H3QC7OdrZBNq"
   },
   "outputs": [],
   "source": [
    "experiment(Lin, \"TS\", h1, n_features=20, save='reg_h1_CombLinTS_20')"
   ]
  },
  {
   "cell_type": "code",
   "execution_count": null,
   "metadata": {
    "id": "YJmMu9GMZBNq"
   },
   "outputs": [],
   "source": [
    "experiment(Lin, \"TS\", h2, n_features=20, save='reg_h2_CombLinTS_20')"
   ]
  },
  {
   "cell_type": "code",
   "execution_count": null,
   "metadata": {
    "id": "ziNo76O1ZBNr"
   },
   "outputs": [],
   "source": [
    "experiment(Lin, \"TS\", h3, n_features=20, save='reg_h3_CombLinTS_20')"
   ]
  },
  {
   "cell_type": "code",
   "execution_count": null,
   "metadata": {
    "id": "PGXvF_wPZBNr"
   },
   "outputs": [],
   "source": [
    "experiment(Lin, \"TS\", h1, n_features=40, save='reg_h1_CombLinTS_40')"
   ]
  },
  {
   "cell_type": "code",
   "execution_count": null,
   "metadata": {
    "id": "n_d-zaHuZBNr"
   },
   "outputs": [],
   "source": [
    "experiment(Lin, \"TS\", h2, n_features=40, save='reg_h2_CombLinTS_40')"
   ]
  },
  {
   "cell_type": "code",
   "execution_count": null,
   "metadata": {
    "id": "uOYSPOMWZBNr"
   },
   "outputs": [],
   "source": [
    "experiment(Lin, \"TS\", h3, n_features=40, save='reg_h3_CombLinTS_40')"
   ]
  },
  {
   "cell_type": "markdown",
   "metadata": {
    "id": "FSOgm7whZBNr"
   },
   "source": [
    "---------------------------------------"
   ]
  },
  {
   "cell_type": "markdown",
   "metadata": {
    "id": "SltoRMfyZBNr"
   },
   "source": [
    "### (h1, 80, 20)"
   ]
  },
  {
   "cell_type": "code",
   "execution_count": null,
   "metadata": {
    "id": "aAkrDUsmZBNr",
    "scrolled": false
   },
   "outputs": [],
   "source": [
    "experiment(Neural, \"UCB\", h1, n_features=80, hidden_size=20, save='reg_h1_CNUCB_80_20')"
   ]
  },
  {
   "cell_type": "code",
   "execution_count": null,
   "metadata": {
    "id": "5OLwZlo4ZBNs"
   },
   "outputs": [],
   "source": [
    "experiment(Neural, \"TS\", h1, n_features=80, hidden_size=20, save='reg_h1_CNTS_80_20')"
   ]
  },
  {
   "cell_type": "code",
   "execution_count": null,
   "metadata": {
    "id": "jn9xQ6SNZBNs",
    "scrolled": false
   },
   "outputs": [],
   "source": [
    "experiment(Neural, \"TS\", h1, n_features=80, hidden_size=20, n_samples=50, save='reg_h1_CNTSOpt_80_20')"
   ]
  },
  {
   "cell_type": "markdown",
   "metadata": {
    "id": "1gmXsux9ZBNs"
   },
   "source": [
    "### (h2, 80, 20)"
   ]
  },
  {
   "cell_type": "code",
   "execution_count": null,
   "metadata": {
    "id": "0QbN6YPsZBNs",
    "scrolled": false
   },
   "outputs": [],
   "source": [
    "experiment(Neural, \"UCB\", h2, n_features=80, hidden_size=20, save='reg_h2_CNUCB_80_20')"
   ]
  },
  {
   "cell_type": "code",
   "execution_count": null,
   "metadata": {
    "id": "308QyexPZBNs"
   },
   "outputs": [],
   "source": [
    "experiment(Neural, \"TS\", h2, n_features=80, hidden_size=20, save='reg_h2_CNTS_80_20')"
   ]
  },
  {
   "cell_type": "code",
   "execution_count": null,
   "metadata": {
    "id": "A7BZOdkWZBNs",
    "scrolled": false
   },
   "outputs": [],
   "source": [
    "experiment(Neural, \"TS\", h2, n_features=80, hidden_size=20, n_samples=50, save='reg_h2_CNTSOpt_80_20')"
   ]
  },
  {
   "cell_type": "markdown",
   "metadata": {
    "id": "tjXEJNxQZBNt"
   },
   "source": [
    "### (h3, 80, 20)"
   ]
  },
  {
   "cell_type": "code",
   "execution_count": null,
   "metadata": {
    "id": "y__L2PyUZBNt",
    "scrolled": false
   },
   "outputs": [],
   "source": [
    "experiment(Neural, \"UCB\", h3, n_features=80, hidden_size=20, save='reg_h3_CNUCB_80_20')"
   ]
  },
  {
   "cell_type": "code",
   "execution_count": null,
   "metadata": {
    "id": "acCltEw_ZBNt",
    "scrolled": true
   },
   "outputs": [],
   "source": [
    "experiment(Neural, \"TS\", h3, n_features=80, hidden_size=20, save='reg_h3_CNTS_80_20')"
   ]
  },
  {
   "cell_type": "code",
   "execution_count": null,
   "metadata": {
    "id": "uxiMrhErZBNt"
   },
   "outputs": [],
   "source": [
    "experiment(Neural, \"TS\", h3, n_features=80, hidden_size=20, save='reg_h3_CNTSOpt_80_20')"
   ]
  },
  {
   "cell_type": "markdown",
   "metadata": {
    "id": "8Wk3wZyKZBNt"
   },
   "source": [
    "-------------------------"
   ]
  },
  {
   "cell_type": "markdown",
   "metadata": {
    "id": "zp9KsTdbZBNt"
   },
   "source": [
    "### (h1, 40, 20)"
   ]
  },
  {
   "cell_type": "code",
   "execution_count": null,
   "metadata": {
    "id": "zEHmYS22ZBNt",
    "scrolled": true
   },
   "outputs": [],
   "source": [
    "experiment(Neural, \"UCB\", h1, n_features=40, hidden_size=20, save='reg_h1_CNUCB_40_20')"
   ]
  },
  {
   "cell_type": "code",
   "execution_count": null,
   "metadata": {
    "id": "czw5pAwkZBNu"
   },
   "outputs": [],
   "source": [
    "experiment(Neural, \"TS\", h1, n_features=40, hidden_size=20, save='reg_h1_CNTS_40_20')"
   ]
  },
  {
   "cell_type": "code",
   "execution_count": null,
   "metadata": {
    "id": "EnpLjABPZBNu",
    "scrolled": false
   },
   "outputs": [],
   "source": [
    "experiment(Neural, \"TS\", h1, n_features=40, hidden_size=20, n_samples=50, save='reg_h1_CNTSOpt_40_20')"
   ]
  },
  {
   "cell_type": "markdown",
   "metadata": {
    "id": "QyQGIg1WZBNu"
   },
   "source": [
    "### (h2, 40, 20)"
   ]
  },
  {
   "cell_type": "code",
   "execution_count": null,
   "metadata": {
    "id": "-gDN-Qi9ZBNu",
    "scrolled": true
   },
   "outputs": [],
   "source": [
    "experiment(Neural, \"UCB\", h2, n_features=40, hidden_size=20, save='reg_h2_CNUCB_40_20')"
   ]
  },
  {
   "cell_type": "code",
   "execution_count": null,
   "metadata": {
    "id": "NaMi8A2PZBNu",
    "scrolled": true
   },
   "outputs": [],
   "source": [
    "experiment(Neural, \"TS\", h2, n_features=40, hidden_size=20, save='reg_h2_CNTS_40_20')"
   ]
  },
  {
   "cell_type": "code",
   "execution_count": null,
   "metadata": {
    "id": "gK-brgL9ZBNu",
    "scrolled": true
   },
   "outputs": [],
   "source": [
    "experiment(Neural, \"TS\", h2, n_features=40, hidden_size=20, n_samples=50, save='reg_h2_CNTSOpt_40_20')"
   ]
  },
  {
   "cell_type": "markdown",
   "metadata": {
    "id": "adMLERWmZBNu"
   },
   "source": [
    "### (h3, 40, 20)"
   ]
  },
  {
   "cell_type": "code",
   "execution_count": null,
   "metadata": {
    "id": "pRqMzcOaZBNv",
    "scrolled": true
   },
   "outputs": [],
   "source": [
    "experiment(Neural, \"UCB\", h3, n_features=40, hidden_size=20, save='reg_h3_CNUCB_40_20')"
   ]
  },
  {
   "cell_type": "code",
   "execution_count": null,
   "metadata": {
    "id": "9DYaMPULZBNv",
    "scrolled": true
   },
   "outputs": [],
   "source": [
    "experiment(Neural, \"TS\", h3, n_features=40, hidden_size=20, save='reg_h3_CNTS_40_20')"
   ]
  },
  {
   "cell_type": "code",
   "execution_count": null,
   "metadata": {
    "id": "UMsYfhKVZBNv",
    "scrolled": true
   },
   "outputs": [],
   "source": [
    "experiment(Neural, \"TS\", h3, n_features=40, hidden_size=20, n_samples=50, save='reg_h3_CNTSOpt_40_20')"
   ]
  },
  {
   "cell_type": "markdown",
   "metadata": {
    "id": "fAOeYOEWZBNv"
   },
   "source": [
    "### (h1, 20, 60)"
   ]
  },
  {
   "cell_type": "code",
   "execution_count": null,
   "metadata": {
    "id": "kpgvKXwwZBNv"
   },
   "outputs": [],
   "source": [
    "experiment(Neural, \"UCB\", h1, n_features=20, hidden_size=60, save='reg_h1_CNUCB_20_60')"
   ]
  },
  {
   "cell_type": "code",
   "execution_count": null,
   "metadata": {
    "id": "ML7l6UK_ZBNv"
   },
   "outputs": [],
   "source": [
    "experiment(Neural, \"TS\", h1, n_features=20, hidden_size=60, save='reg_h1_CNTS_20_60')"
   ]
  },
  {
   "cell_type": "code",
   "execution_count": null,
   "metadata": {
    "id": "xUBhd2rzZBNv"
   },
   "outputs": [],
   "source": [
    "experiment(Neural, \"TS\", h1, n_features=20, hidden_size=60, n_samples=50, save='reg_h1_CNTSOpt_20_60')"
   ]
  },
  {
   "cell_type": "markdown",
   "metadata": {
    "id": "ksgskGR_ZBNw"
   },
   "source": [
    "### (h2, 20, 60)"
   ]
  },
  {
   "cell_type": "code",
   "execution_count": null,
   "metadata": {
    "id": "4TIyZraBZBNw"
   },
   "outputs": [],
   "source": [
    "experiment(Neural, \"UCB\", h2, n_features=20, hidden_size=60, save='reg_h2_CNUCB_20_60')"
   ]
  },
  {
   "cell_type": "code",
   "execution_count": null,
   "metadata": {
    "id": "GlGIzCxCZBNw"
   },
   "outputs": [],
   "source": [
    "experiment(Neural, \"TS\", h2, n_features=20, hidden_size=60, save='reg_h2_CNTS_20_60')"
   ]
  },
  {
   "cell_type": "code",
   "execution_count": null,
   "metadata": {
    "id": "ylY_CEAjZBNw"
   },
   "outputs": [],
   "source": [
    "experiment(Neural, \"TS\", h2, n_features=20, hidden_size=60, n_samples=50, save='reg_h2_CNTSOpt_20_60')"
   ]
  },
  {
   "cell_type": "markdown",
   "metadata": {
    "id": "3fdRizR9ZBNw"
   },
   "source": [
    "### (h3, 20, 60)"
   ]
  },
  {
   "cell_type": "code",
   "execution_count": null,
   "metadata": {
    "id": "SgJt4wQfZBNw"
   },
   "outputs": [],
   "source": [
    "experiment(Neural, \"UCB\", h3, n_features=20, hidden_size=60, save='reg_h3_CNUCB_20_60')"
   ]
  },
  {
   "cell_type": "code",
   "execution_count": null,
   "metadata": {
    "id": "aTr5GV8BZBNx"
   },
   "outputs": [],
   "source": [
    "experiment(Neural, \"TS\", h3, n_features=20, hidden_size=60, save='reg_h3_CNTS_20_60')"
   ]
  },
  {
   "cell_type": "code",
   "execution_count": null,
   "metadata": {
    "id": "3JsRNeJ_ZBNx"
   },
   "outputs": [],
   "source": [
    "experiment(Neural, \"TS\", h3, n_features=20, hidden_size=60, n_samples=50, save='reg_h3_CNTSOpt_20_60')"
   ]
  },
  {
   "cell_type": "markdown",
   "metadata": {
    "id": "pj9ZZ57TZBNx"
   },
   "source": [
    "### (h1, 60, 60)"
   ]
  },
  {
   "cell_type": "code",
   "execution_count": null,
   "metadata": {
    "id": "CITRe6mKZBNx"
   },
   "outputs": [],
   "source": [
    "experiment(Neural, \"UCB\", h1, n_features=60, hidden_size=60, save='reg_h1_CNUCB_60_60')"
   ]
  },
  {
   "cell_type": "code",
   "execution_count": null,
   "metadata": {
    "id": "HzkCc9GUZBNx"
   },
   "outputs": [],
   "source": [
    "experiment(Neural, \"TS\", h1, n_features=60, hidden_size=60, save='reg_h1_CNTS_60_60')"
   ]
  },
  {
   "cell_type": "code",
   "execution_count": null,
   "metadata": {
    "id": "Gww8iV2nZBNx"
   },
   "outputs": [],
   "source": [
    "experiment(Neural, \"TS\", h1, n_features=60, hidden_size=60, n_samples=50, save='reg_h1_CNTSOpt_60_60')"
   ]
  },
  {
   "cell_type": "markdown",
   "metadata": {
    "id": "tzYUU36fZBNx"
   },
   "source": [
    "### (h2, 60, 60)"
   ]
  },
  {
   "cell_type": "code",
   "execution_count": null,
   "metadata": {
    "id": "UV6v3lckZBNy"
   },
   "outputs": [],
   "source": [
    "experiment(Neural, \"UCB\", h2, n_features=60, hidden_size=60, save='reg_h2_CNUCB_60_60')"
   ]
  },
  {
   "cell_type": "code",
   "execution_count": null,
   "metadata": {
    "id": "n9ZmpUikZBNy"
   },
   "outputs": [],
   "source": [
    "experiment(Neural, \"TS\", h2, n_features=60, hidden_size=60, save='reg_h2_CNTS_60_60')"
   ]
  },
  {
   "cell_type": "code",
   "execution_count": null,
   "metadata": {
    "id": "AXrJH1ydZBNy"
   },
   "outputs": [],
   "source": [
    "experiment(Neural, \"TS\", h2, n_features=60, hidden_size=60, n_samples=50, save='reg_h2_CNTSOpt_60_60')"
   ]
  },
  {
   "cell_type": "markdown",
   "metadata": {
    "id": "A7mqTpA5ZBNy"
   },
   "source": [
    "### (h3, 60, 60)"
   ]
  },
  {
   "cell_type": "code",
   "execution_count": null,
   "metadata": {
    "id": "7H8LEYiuZBNy"
   },
   "outputs": [],
   "source": [
    "experiment(Neural, \"UCB\", h3, n_features=60, hidden_size=60, save='reg_h3_CNUCB_60_60')"
   ]
  },
  {
   "cell_type": "code",
   "execution_count": null,
   "metadata": {
    "id": "lvn7iBkkZBNy"
   },
   "outputs": [],
   "source": [
    "experiment(Neural, \"TS\", h3, n_features=60, hidden_size=60, save='reg_h3_CNTS_60_60')"
   ]
  },
  {
   "cell_type": "code",
   "execution_count": null,
   "metadata": {
    "id": "1tCD0UGJZBNy"
   },
   "outputs": [],
   "source": [
    "experiment(Neural, \"TS\", h3, n_features=60, hidden_size=60, n_samples=50, save='reg_h3_CNTSOpt_60_60')"
   ]
  },
  {
   "cell_type": "markdown",
   "metadata": {
    "id": "2nkj062kZBNz"
   },
   "source": [
    "### CombLinUCB"
   ]
  },
  {
   "cell_type": "code",
   "execution_count": null,
   "metadata": {
    "id": "YZjs5PXXZBNz"
   },
   "outputs": [],
   "source": [
    "experiment(Lin, \"UCB\", h1, n_features=20, save='reg_h1_CombLinUCB_20')"
   ]
  },
  {
   "cell_type": "code",
   "execution_count": null,
   "metadata": {
    "id": "XyNknzhtZBNz"
   },
   "outputs": [],
   "source": [
    "experiment(Lin, \"UCB\", h2, n_features=20, save='reg_h2_CombLinUCB_20')"
   ]
  },
  {
   "cell_type": "code",
   "execution_count": null,
   "metadata": {
    "id": "FIV25h4KZBNz"
   },
   "outputs": [],
   "source": [
    "experiment(Lin, \"UCB\", h3, n_features=20, save='reg_h3_CombLinUCB_20')"
   ]
  },
  {
   "cell_type": "code",
   "execution_count": null,
   "metadata": {
    "id": "LCexRsX3ZBNz"
   },
   "outputs": [],
   "source": [
    "experiment(Lin, \"UCB\", h1, n_features=40, save='reg_h1_CombLinUCB_40')"
   ]
  },
  {
   "cell_type": "code",
   "execution_count": null,
   "metadata": {
    "id": "YskgBriQZBNz"
   },
   "outputs": [],
   "source": [
    "experiment(Lin, \"UCB\", h2, n_features=40, save='reg_h2_CombLinUCB_40')"
   ]
  },
  {
   "cell_type": "code",
   "execution_count": null,
   "metadata": {
    "id": "s8K9NrzPZBNz"
   },
   "outputs": [],
   "source": [
    "experiment(Lin, \"UCB\", h3, n_features=40, save='reg_h3_CombLinUCB_40')"
   ]
  },
  {
   "cell_type": "markdown",
   "metadata": {
    "id": "9lIDEjnVZBN0"
   },
   "source": [
    "### CombLinTS"
   ]
  },
  {
   "cell_type": "code",
   "execution_count": null,
   "metadata": {
    "id": "SAoiY7zCZBN0"
   },
   "outputs": [],
   "source": [
    "experiment(Lin, \"TS\", h1, n_features=20, save='reg_h1_CombLinTS_20')"
   ]
  },
  {
   "cell_type": "code",
   "execution_count": null,
   "metadata": {
    "id": "WJ8yaLZOZBN0"
   },
   "outputs": [],
   "source": [
    "experiment(Lin, \"TS\", h2, n_features=20, save='reg_h2_CombLinTS_20')"
   ]
  },
  {
   "cell_type": "code",
   "execution_count": null,
   "metadata": {
    "id": "baOVwdIMZBN0"
   },
   "outputs": [],
   "source": [
    "experiment(Lin, \"TS\", h3, n_features=20, save='reg_h3_CombLinTS_20')"
   ]
  },
  {
   "cell_type": "code",
   "execution_count": null,
   "metadata": {
    "id": "CsK8-Nj-ZBN0"
   },
   "outputs": [],
   "source": [
    "experiment(Lin, \"TS\", h1, n_features=40, save='reg_h1_CombLinTS_40')"
   ]
  },
  {
   "cell_type": "code",
   "execution_count": null,
   "metadata": {
    "id": "rDQn5eUkZBN0"
   },
   "outputs": [],
   "source": [
    "experiment(Lin, \"TS\", h2, n_features=40, save='reg_h2_CombLinTS_40')"
   ]
  },
  {
   "cell_type": "code",
   "execution_count": null,
   "metadata": {
    "id": "Q-Hp_Y2pZBN1"
   },
   "outputs": [],
   "source": [
    "experiment(Lin, \"TS\", h3, n_features=40, save='reg_h3_CombLinTS_40')"
   ]
  },
  {
   "cell_type": "markdown",
   "metadata": {
    "id": "iIw9Q278ZBN1"
   },
   "source": [
    "# Experiment B: Ablation study"
   ]
  },
  {
   "cell_type": "code",
   "execution_count": null,
   "metadata": {
    "id": "zaKZAghTZBN1"
   },
   "outputs": [],
   "source": [
    "T = 500"
   ]
  },
  {
   "cell_type": "markdown",
   "metadata": {
    "id": "UD4tMhgyZBN1"
   },
   "source": [
    "### (h1, 20, 20)"
   ]
  },
  {
   "cell_type": "code",
   "execution_count": null,
   "metadata": {
    "id": "iJWd8126ZBN1"
   },
   "outputs": [],
   "source": [
    "experiment(Neural, \"UCB\", h1, n_features=20, hidden_size=20, save='reg_h1_CNUCB_20_20')"
   ]
  },
  {
   "cell_type": "code",
   "execution_count": null,
   "metadata": {
    "id": "KphhYpDIZBN1"
   },
   "outputs": [],
   "source": [
    "experiment(Neural, \"TS\", h1, n_features=20, hidden_size=20, save='reg_h1_CNTS_20_20')"
   ]
  },
  {
   "cell_type": "code",
   "execution_count": null,
   "metadata": {
    "id": "1QsvpTsWZBN1"
   },
   "outputs": [],
   "source": [
    "experiment(Neural, \"TS\", h1, n_features=20, hidden_size=20, n_samples=50, save='reg_h1_CNTSOpt_20_20')"
   ]
  },
  {
   "cell_type": "markdown",
   "metadata": {
    "id": "1vA-6tsGZBN2"
   },
   "source": [
    "### (h2, 20, 20)"
   ]
  },
  {
   "cell_type": "code",
   "execution_count": null,
   "metadata": {
    "id": "FFj7gqPLZBN2"
   },
   "outputs": [],
   "source": [
    "experiment(Neural, \"UCB\", h2, n_features=20, hidden_size=20, save='reg_h2_CNUCB_20_20')"
   ]
  },
  {
   "cell_type": "code",
   "execution_count": null,
   "metadata": {
    "id": "NUWZ_YI2ZBN2"
   },
   "outputs": [],
   "source": [
    "experiment(Neural, \"TS\", h2, n_features=20, hidden_size=20, save='reg_h2_CNTS_20_20')"
   ]
  },
  {
   "cell_type": "code",
   "execution_count": null,
   "metadata": {
    "id": "PxrlV3C0ZBN2"
   },
   "outputs": [],
   "source": [
    "experiment(Neural, \"TS\", h2, n_features=20, hidden_size=20, n_samples=50, save='reg_h2_CNTSOpt_20_20')"
   ]
  },
  {
   "cell_type": "markdown",
   "metadata": {
    "id": "CR2mquYvZBN2"
   },
   "source": [
    "### (h3, 20, 20)"
   ]
  },
  {
   "cell_type": "code",
   "execution_count": null,
   "metadata": {
    "id": "wA_Y7WIgZBN2"
   },
   "outputs": [],
   "source": [
    "experiment(Neural, \"UCB\", h3, n_features=20, hidden_size=20, save='reg_h3_CNUCB_20_20')"
   ]
  },
  {
   "cell_type": "code",
   "execution_count": null,
   "metadata": {
    "id": "DbybydTkZBN2"
   },
   "outputs": [],
   "source": [
    "experiment(Neural, \"TS\", h3, n_features=20, hidden_size=20, save='reg_h3_CNTS_20_20')"
   ]
  },
  {
   "cell_type": "code",
   "execution_count": null,
   "metadata": {
    "id": "WlICVxUzZBN3"
   },
   "outputs": [],
   "source": [
    "experiment(Neural, \"TS\", h3, n_features=20, hidden_size=20, n_samples=50, save='reg_h3_CNTSOpt_20_20')"
   ]
  },
  {
   "cell_type": "markdown",
   "metadata": {
    "id": "oBjB2zifZBN3"
   },
   "source": [
    "### (h1, 20, 40)"
   ]
  },
  {
   "cell_type": "code",
   "execution_count": null,
   "metadata": {
    "id": "BoaCbwP9ZBN3"
   },
   "outputs": [],
   "source": [
    "experiment(Neural, \"UCB\", h1, n_features=20, hidden_size=40, save='reg_h1_CNUCB_20_40')"
   ]
  },
  {
   "cell_type": "code",
   "execution_count": null,
   "metadata": {
    "id": "Vy3-UAh2ZBN3"
   },
   "outputs": [],
   "source": [
    "experiment(Neural, \"TS\", h1, n_features=20, hidden_size=40, save='reg_h1_CNTS_20_40')"
   ]
  },
  {
   "cell_type": "code",
   "execution_count": null,
   "metadata": {
    "id": "Ba0Tr6jLZBN3"
   },
   "outputs": [],
   "source": [
    "experiment(Neural, \"TS\", h1, n_features=20, hidden_size=40, n_samples=50, save='reg_h1_CNTSOpt_20_40')"
   ]
  },
  {
   "cell_type": "markdown",
   "metadata": {
    "id": "C2jEGbBLZBN3"
   },
   "source": [
    "### (h2, 20, 40)"
   ]
  },
  {
   "cell_type": "code",
   "execution_count": null,
   "metadata": {
    "id": "ENBSb_85ZBN3"
   },
   "outputs": [],
   "source": [
    "experiment(Neural, \"UCB\", h2, n_features=20, hidden_size=40, save='reg_h2_CNUCB_20_40')"
   ]
  },
  {
   "cell_type": "code",
   "execution_count": null,
   "metadata": {
    "id": "5l8vOCeBZBN4"
   },
   "outputs": [],
   "source": [
    "experiment(Neural, \"TS\", h2, n_features=20, hidden_size=40, save='reg_h2_CNTS_20_40')"
   ]
  },
  {
   "cell_type": "code",
   "execution_count": null,
   "metadata": {
    "id": "RrtOFLQgZBN4"
   },
   "outputs": [],
   "source": [
    "experiment(Neural, \"TS\", h2, n_features=20, hidden_size=40, n_samples=50, save='reg_h2_CNTSOpt_20_40')"
   ]
  },
  {
   "cell_type": "markdown",
   "metadata": {
    "id": "h86J_GTMZBN4"
   },
   "source": [
    "### (h3, 20, 40)"
   ]
  },
  {
   "cell_type": "code",
   "execution_count": null,
   "metadata": {
    "id": "1R_0ZALYZBN4"
   },
   "outputs": [],
   "source": [
    "experiment(Neural, \"UCB\", h3, n_features=20, hidden_size=40, save='reg_h3_CNUCB_20_40')"
   ]
  },
  {
   "cell_type": "code",
   "execution_count": null,
   "metadata": {
    "id": "Ylbn7nEpZBN4"
   },
   "outputs": [],
   "source": [
    "experiment(Neural, \"TS\", h3, n_features=20, hidden_size=40, save='reg_h3_CNTS_20_40')"
   ]
  },
  {
   "cell_type": "code",
   "execution_count": null,
   "metadata": {
    "id": "gW2R7elVZBN5"
   },
   "outputs": [],
   "source": [
    "experiment(Neural, \"TS\", h3, n_features=20, hidden_size=40, n_samples=50, save='reg_h3_CNTSOpt_20_40')"
   ]
  },
  {
   "cell_type": "markdown",
   "metadata": {
    "id": "aiKyZJj3ZBN5"
   },
   "source": [
    "### (h1, 20, 80)"
   ]
  },
  {
   "cell_type": "code",
   "execution_count": null,
   "metadata": {
    "id": "XIBUi8jhZBN5"
   },
   "outputs": [],
   "source": [
    "experiment(Neural, \"UCB\", h1, n_features=20, hidden_size=80, save='reg_h1_CNUCB_20_80')"
   ]
  },
  {
   "cell_type": "code",
   "execution_count": null,
   "metadata": {
    "id": "jsRWnsE5ZBN5"
   },
   "outputs": [],
   "source": [
    "experiment(Neural, \"TS\", h1, n_features=20, hidden_size=80, save='reg_h1_CNTS_20_80')"
   ]
  },
  {
   "cell_type": "code",
   "execution_count": null,
   "metadata": {
    "id": "xvhDu2EmZBN5"
   },
   "outputs": [],
   "source": [
    "experiment(Neural, \"TS\", h1, n_features=20, hidden_size=80, n_samples=50, save='reg_h1_CNTSOpt_20_80')"
   ]
  },
  {
   "cell_type": "markdown",
   "metadata": {
    "id": "6M2w1wXTZBN5"
   },
   "source": [
    "### (h2, 20, 80)"
   ]
  },
  {
   "cell_type": "code",
   "execution_count": null,
   "metadata": {
    "id": "3mWkitwiZBN5"
   },
   "outputs": [],
   "source": [
    "experiment(Neural, \"UCB\", h2, n_features=20, hidden_size=80, save='reg_h2_CNUCB_20_80')"
   ]
  },
  {
   "cell_type": "code",
   "execution_count": null,
   "metadata": {
    "id": "y35catNAZBN6"
   },
   "outputs": [],
   "source": [
    "experiment(Neural, \"TS\", h2, n_features=20, hidden_size=80, save='reg_h2_CNTS_20_80')"
   ]
  },
  {
   "cell_type": "code",
   "execution_count": null,
   "metadata": {
    "id": "tya3ofmJZBN6"
   },
   "outputs": [],
   "source": [
    "experiment(Neural, \"TS\", h2, n_features=20, hidden_size=80, n_samples=50, save='reg_h2_CNTSOpt_20_80')"
   ]
  },
  {
   "cell_type": "markdown",
   "metadata": {
    "id": "9KA0DHCzZBN6"
   },
   "source": [
    "### (h3, 20, 80)"
   ]
  },
  {
   "cell_type": "code",
   "execution_count": null,
   "metadata": {
    "id": "eq--YlCrZBN6"
   },
   "outputs": [],
   "source": [
    "experiment(Neural, \"UCB\", h3, n_features=20, hidden_size=80, save='reg_h3_CNUCB_20_80')"
   ]
  },
  {
   "cell_type": "code",
   "execution_count": null,
   "metadata": {
    "id": "akMkvS40ZBN6"
   },
   "outputs": [],
   "source": [
    "experiment(Neural, \"TS\", h3, n_features=20, hidden_size=80, save='reg_h3_CNTS_20_80')"
   ]
  },
  {
   "cell_type": "code",
   "execution_count": null,
   "metadata": {
    "id": "SXDTFxgQZBN6"
   },
   "outputs": [],
   "source": [
    "experiment(Neural, \"TS\", h3, n_features=20, hidden_size=80, n_samples=50, save='reg_h3_CNTSOpt_20_80')"
   ]
  },
  {
   "cell_type": "markdown",
   "metadata": {
    "id": "ct4UkKj2ZBN6"
   },
   "source": [
    "### (h1, 20, 100)"
   ]
  },
  {
   "cell_type": "code",
   "execution_count": null,
   "metadata": {
    "id": "b0tJrfEYZBN7"
   },
   "outputs": [],
   "source": [
    "experiment(Neural, \"UCB\", h1, n_features=20, hidden_size=100, save='reg_h1_CNUCB_20_100')"
   ]
  },
  {
   "cell_type": "code",
   "execution_count": null,
   "metadata": {
    "id": "Ke1D5_jtZBN7"
   },
   "outputs": [],
   "source": [
    "experiment(Neural, \"TS\", h1, n_features=20, hidden_size=100, save='reg_h1_CNTS_20_100')"
   ]
  },
  {
   "cell_type": "code",
   "execution_count": null,
   "metadata": {
    "id": "PXn8JyBhZBN7"
   },
   "outputs": [],
   "source": [
    "experiment(Neural, \"TS\", h1, n_features=20, hidden_size=100, n_samples=50, save='reg_h1_CNTSOpt_20_100')"
   ]
  },
  {
   "cell_type": "markdown",
   "metadata": {
    "id": "KmFOyn3bZBN7"
   },
   "source": [
    "### (h2, 20, 100)"
   ]
  },
  {
   "cell_type": "code",
   "execution_count": null,
   "metadata": {
    "id": "IuJPt42EZBN7"
   },
   "outputs": [],
   "source": [
    "experiment(Neural, \"UCB\", h2, n_features=20, hidden_size=100, save='reg_h2_CNUCB_20_100')"
   ]
  },
  {
   "cell_type": "code",
   "execution_count": null,
   "metadata": {
    "id": "QPJqrFpmZBN7"
   },
   "outputs": [],
   "source": [
    "experiment(Neural, \"TS\", h2, n_features=20, hidden_size=100, save='reg_h2_CNTS_20_100')"
   ]
  },
  {
   "cell_type": "code",
   "execution_count": null,
   "metadata": {
    "id": "frQkM4K4ZBN7"
   },
   "outputs": [],
   "source": [
    "experiment(Neural, \"TS\", h2, n_features=20, hidden_size=100, n_samples=50, save='reg_h2_CNTSOpt_20_100')"
   ]
  },
  {
   "cell_type": "markdown",
   "metadata": {
    "id": "GidF2tcVZBN7"
   },
   "source": [
    "### (h3, 20, 100)"
   ]
  },
  {
   "cell_type": "code",
   "execution_count": null,
   "metadata": {
    "id": "WQYMKjwlZBN8"
   },
   "outputs": [],
   "source": [
    "experiment(Neural, \"UCB\", h3, n_features=20, hidden_size=100, save='reg_h3_CNUCB_20_100')"
   ]
  },
  {
   "cell_type": "code",
   "execution_count": null,
   "metadata": {
    "id": "jfOlJVWHZBN8"
   },
   "outputs": [],
   "source": [
    "experiment(Neural, \"TS\", h3, n_features=20, hidden_size=100, save='reg_h3_CNTS_20_100')"
   ]
  },
  {
   "cell_type": "code",
   "execution_count": null,
   "metadata": {
    "id": "RNi6EuFSZBN8"
   },
   "outputs": [],
   "source": [
    "experiment(Neural, \"TS\", h3, n_features=20, hidden_size=100, n_samples=50, save='reg_h3_CNTSOpt_20_100')"
   ]
  },
  {
   "cell_type": "markdown",
   "metadata": {
    "id": "AY2N28SVZBN8"
   },
   "source": [
    "### (h1, 40, 60)"
   ]
  },
  {
   "cell_type": "code",
   "execution_count": null,
   "metadata": {
    "id": "mppRM16NZBN8"
   },
   "outputs": [],
   "source": [
    "experiment(Neural, \"UCB\", h1, n_features=40, hidden_size=60, save='reg_h1_CNUCB_40_60')"
   ]
  },
  {
   "cell_type": "code",
   "execution_count": null,
   "metadata": {
    "id": "h1GPW4izZBN8"
   },
   "outputs": [],
   "source": [
    "experiment(Neural, \"TS\", h1, n_features=40, hidden_size=60, save='reg_h1_CNTS_40_60')"
   ]
  },
  {
   "cell_type": "code",
   "execution_count": null,
   "metadata": {
    "id": "CK-q2qXwZBN8"
   },
   "outputs": [],
   "source": [
    "experiment(Neural, \"TS\", h1, n_features=40, hidden_size=60, n_samples=50, save='reg_h1_CNTSOpt_40_60')"
   ]
  },
  {
   "cell_type": "markdown",
   "metadata": {
    "id": "_wC-xaoFZBN9"
   },
   "source": [
    "### (h2, 40, 60)"
   ]
  },
  {
   "cell_type": "code",
   "execution_count": null,
   "metadata": {
    "id": "bmFyUf-aZBN9"
   },
   "outputs": [],
   "source": [
    "experiment(Neural, \"UCB\", h2, n_features=40, hidden_size=60, save='reg_h2_CNUCB_40_60')"
   ]
  },
  {
   "cell_type": "code",
   "execution_count": null,
   "metadata": {
    "id": "i9ADp5l-ZBN9"
   },
   "outputs": [],
   "source": [
    "experiment(Neural, \"TS\", h2, n_features=40, hidden_size=60, save='reg_h2_CNTS_40_60')"
   ]
  },
  {
   "cell_type": "code",
   "execution_count": null,
   "metadata": {
    "id": "rJ7txDliZBN9"
   },
   "outputs": [],
   "source": [
    "experiment(Neural, \"TS\", h2, n_features=40, hidden_size=60, n_samples=50, save='reg_h2_CNTSOpt_40_60')"
   ]
  },
  {
   "cell_type": "markdown",
   "metadata": {
    "id": "qv82nCIRZBN9"
   },
   "source": [
    "### (h3, 40, 60)"
   ]
  },
  {
   "cell_type": "code",
   "execution_count": null,
   "metadata": {
    "id": "gwLExWRCZBN9"
   },
   "outputs": [],
   "source": [
    "experiment(Neural, \"UCB\", h3, n_features=40, hidden_size=60, save='reg_h3_CNUCB_40_60')"
   ]
  },
  {
   "cell_type": "code",
   "execution_count": null,
   "metadata": {
    "id": "AdQkeHcZZBN9"
   },
   "outputs": [],
   "source": [
    "experiment(Neural, \"TS\", h3, n_features=40, hidden_size=60, save='reg_h3_CNTS_40_60')"
   ]
  },
  {
   "cell_type": "code",
   "execution_count": null,
   "metadata": {
    "id": "3KeETMWMZBN-"
   },
   "outputs": [],
   "source": [
    "experiment(Neural, \"TS\", h3, n_features=40, hidden_size=60, n_samples=50, save='reg_h3_CNTSOpt_40_60')"
   ]
  },
  {
   "cell_type": "markdown",
   "metadata": {
    "id": "WXkandK1ZBN-"
   },
   "source": [
    "### (h1, 80, 60)"
   ]
  },
  {
   "cell_type": "code",
   "execution_count": null,
   "metadata": {
    "id": "R0JWICamZBN-"
   },
   "outputs": [],
   "source": [
    "experiment(Neural, \"UCB\", h1, n_features=80, hidden_size=60, save='reg_h1_CNUCB_80_60')"
   ]
  },
  {
   "cell_type": "code",
   "execution_count": null,
   "metadata": {
    "id": "KzoxYzPcZBN-"
   },
   "outputs": [],
   "source": [
    "experiment(Neural, \"TS\", h1, n_features=80, hidden_size=60, save='reg_h1_CNTS_80_60')"
   ]
  },
  {
   "cell_type": "code",
   "execution_count": null,
   "metadata": {
    "id": "LHfwbiLkZBN-"
   },
   "outputs": [],
   "source": [
    "experiment(Neural, \"TS\", h1, n_features=80, hidden_size=60, n_samples=50, save='reg_h1_CNTSOpt_80_60')"
   ]
  },
  {
   "cell_type": "markdown",
   "metadata": {
    "id": "TVKsvkbNZBN-"
   },
   "source": [
    "### (h2, 80, 60)"
   ]
  },
  {
   "cell_type": "code",
   "execution_count": null,
   "metadata": {
    "id": "bbSEiqH_ZBN_"
   },
   "outputs": [],
   "source": [
    "experiment(Neural, \"UCB\", h2, n_features=80, hidden_size=60, save='reg_h2_CNUCB_80_60')"
   ]
  },
  {
   "cell_type": "code",
   "execution_count": null,
   "metadata": {
    "id": "uNY_HqrpZBN_"
   },
   "outputs": [],
   "source": [
    "experiment(Neural, \"TS\", h2, n_features=80, hidden_size=60, save='reg_h2_CNTS_80_60')"
   ]
  },
  {
   "cell_type": "code",
   "execution_count": null,
   "metadata": {
    "id": "WzXaw9TiZBN_"
   },
   "outputs": [],
   "source": [
    "experiment(Neural, \"TS\", h2, n_features=80, hidden_size=60, n_samples=50, save='reg_h2_CNTSOpt_80_60')"
   ]
  },
  {
   "cell_type": "markdown",
   "metadata": {
    "id": "mSHybzJ3ZBN_"
   },
   "source": [
    "### (h3, 80, 60)"
   ]
  },
  {
   "cell_type": "code",
   "execution_count": null,
   "metadata": {
    "id": "iLu3pljRZBN_"
   },
   "outputs": [],
   "source": [
    "experiment(Neural, \"UCB\", h3, n_features=80, hidden_size=60, save='reg_h3_CNUCB_80_60')"
   ]
  },
  {
   "cell_type": "code",
   "execution_count": null,
   "metadata": {
    "id": "2dyg4BSEZBN_"
   },
   "outputs": [],
   "source": [
    "experiment(Neural, \"TS\", h3, n_features=80, hidden_size=60, save='reg_h3_CNTS_80_60')"
   ]
  },
  {
   "cell_type": "code",
   "execution_count": null,
   "metadata": {
    "id": "I2SleZjxZBOA"
   },
   "outputs": [],
   "source": [
    "experiment(Neural, \"TS\", h3, n_features=80, hidden_size=60, n_samples=50, save='reg_h3_CNTSOpt_80_60')"
   ]
  },
  {
   "cell_type": "markdown",
   "metadata": {
    "id": "eQa6-hhRZBOA"
   },
   "source": [
    "### (h1, 100, 60)"
   ]
  },
  {
   "cell_type": "code",
   "execution_count": null,
   "metadata": {
    "id": "UMKCyHhcZBOA"
   },
   "outputs": [],
   "source": [
    "experiment(Neural, \"UCB\", h1, n_features=100, hidden_size=60, save='reg_h1_CNUCB_100_60')"
   ]
  },
  {
   "cell_type": "code",
   "execution_count": null,
   "metadata": {
    "id": "VcDH9rtgZBOB"
   },
   "outputs": [],
   "source": [
    "experiment(Neural, \"TS\", h1, n_features=100, hidden_size=60, save='reg_h1_CNTS_100_60')"
   ]
  },
  {
   "cell_type": "code",
   "execution_count": null,
   "metadata": {
    "id": "hgFhTEWwZBOB"
   },
   "outputs": [],
   "source": [
    "experiment(Neural, \"TS\", h1, n_features=100, hidden_size=60, n_samples=50, save='reg_h1_CNTSOpt_100_60')"
   ]
  },
  {
   "cell_type": "markdown",
   "metadata": {
    "id": "67icjm2_ZBOB"
   },
   "source": [
    "### (h2, 100, 60)"
   ]
  },
  {
   "cell_type": "code",
   "execution_count": null,
   "metadata": {
    "id": "5GKXiuzbZBOB"
   },
   "outputs": [],
   "source": [
    "experiment(Neural, \"UCB\", h2, n_features=100, hidden_size=60, save='reg_h2_CNUCB_100_60')"
   ]
  },
  {
   "cell_type": "code",
   "execution_count": null,
   "metadata": {
    "id": "ehejNdRQZBOB"
   },
   "outputs": [],
   "source": [
    "experiment(Neural, \"TS\", h2, n_features=100, hidden_size=60, save='reg_h2_CNTS_100_60')"
   ]
  },
  {
   "cell_type": "code",
   "execution_count": null,
   "metadata": {
    "id": "i2xMCmR5ZBOB"
   },
   "outputs": [],
   "source": [
    "experiment(Neural, \"TS\", h2, n_features=100, hidden_size=60, n_samples=50, save='reg_h2_CNTSOpt_100_60')"
   ]
  },
  {
   "cell_type": "markdown",
   "metadata": {
    "id": "B1IrNW0XZBOB"
   },
   "source": [
    "### (h3, 100, 60)"
   ]
  },
  {
   "cell_type": "code",
   "execution_count": null,
   "metadata": {
    "id": "GjN_aTBLZBOB"
   },
   "outputs": [],
   "source": [
    "experiment(Neural, \"UCB\", h3, n_features=100, hidden_size=60, save='reg_h3_CNUCB_100_60')"
   ]
  },
  {
   "cell_type": "code",
   "execution_count": null,
   "metadata": {
    "id": "-Ol9RTvwZBOC"
   },
   "outputs": [],
   "source": [
    "experiment(Neural, \"TS\", h3, n_features=100, hidden_size=60, save='reg_h3_CNTS_100_60')"
   ]
  },
  {
   "cell_type": "code",
   "execution_count": null,
   "metadata": {
    "id": "YaDSlXfyZBOC"
   },
   "outputs": [],
   "source": [
    "experiment(Neural, \"TS\", h3, n_features=100, hidden_size=60, n_samples=50, save='reg_h3_CNTSOpt_100_60')"
   ]
  }
 ],
 "metadata": {
  "accelerator": "GPU",
  "colab": {
   "collapsed_sections": [
    "4H9aXScLZBNk",
    "L_N_m7AFZBNl",
    "hJY9XrDLZBNm",
    "epEs02A1ZBNn",
    "d0sbFSlFZBNo",
    "NPOILfGyZBNo",
    "2kiLkgOmZBNp",
    "mWGIqRfhZBNq",
    "SltoRMfyZBNr",
    "1gmXsux9ZBNs",
    "tjXEJNxQZBNt",
    "zp9KsTdbZBNt",
    "QyQGIg1WZBNu",
    "adMLERWmZBNu",
    "fAOeYOEWZBNv",
    "ksgskGR_ZBNw",
    "3fdRizR9ZBNw",
    "pj9ZZ57TZBNx",
    "tzYUU36fZBNx",
    "A7mqTpA5ZBNy",
    "2nkj062kZBNz",
    "9lIDEjnVZBN0",
    "UD4tMhgyZBN1",
    "1vA-6tsGZBN2",
    "CR2mquYvZBN2",
    "oBjB2zifZBN3",
    "C2jEGbBLZBN3",
    "h86J_GTMZBN4",
    "aiKyZJj3ZBN5",
    "6M2w1wXTZBN5",
    "9KA0DHCzZBN6",
    "ct4UkKj2ZBN6",
    "KmFOyn3bZBN7",
    "GidF2tcVZBN7",
    "AY2N28SVZBN8",
    "_wC-xaoFZBN9",
    "qv82nCIRZBN9",
    "WXkandK1ZBN-",
    "TVKsvkbNZBN-",
    "mSHybzJ3ZBN_",
    "eQa6-hhRZBOA",
    "67icjm2_ZBOB",
    "B1IrNW0XZBOB"
   ],
   "name": "Copy of Experiments-ver3.ipynb",
   "provenance": [
    {
     "file_id": "https://github.com/DurianFarmer/combinatorial_neural_bandits/blob/master/Experiments-ver3.ipynb",
     "timestamp": 1612112504266
    }
   ]
  },
  "kernelspec": {
   "display_name": "Python 3",
   "language": "python",
   "name": "python3"
  },
  "language_info": {
   "codemirror_mode": {
    "name": "ipython",
    "version": 3
   },
   "file_extension": ".py",
   "mimetype": "text/x-python",
   "name": "python",
   "nbconvert_exporter": "python",
   "pygments_lexer": "ipython3",
   "version": "3.7.6"
  }
 },
 "nbformat": 4,
 "nbformat_minor": 1
}
