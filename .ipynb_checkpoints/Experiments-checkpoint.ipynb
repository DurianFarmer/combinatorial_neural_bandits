{
 "cells": [
  {
   "cell_type": "markdown",
   "metadata": {},
   "source": [
    "# Settings"
   ]
  },
  {
   "cell_type": "code",
   "execution_count": 10,
   "metadata": {},
   "outputs": [],
   "source": [
    "import numpy as np\n",
    "import torch\n",
    "import matplotlib.pyplot as plt\n",
    "import seaborn as sns\n",
    "from varname import nameof\n",
    "\n",
    "from module_space import *\n",
    "sns.set()"
   ]
  },
  {
   "cell_type": "markdown",
   "metadata": {},
   "source": [
    "### Bandit settings"
   ]
  },
  {
   "cell_type": "code",
   "execution_count": 11,
   "metadata": {},
   "outputs": [],
   "source": [
    "T = 2000\n",
    "n_arms = 12 # N\n",
    "n_features_default = 20 # d\n",
    "n_assortment = 4 # K\n",
    "n_samples = 50 # M, number of samples per each (round, arm), for TS\n",
    "noise_std = 0.01 # noise of reward: xi = noise_std*N(0,1)\n",
    "\n",
    "n_sim = 10 # number of simulations\n",
    "\n",
    "def F(x): # round_reward_function\n",
    "    if len(np.shape(x)) == 1: # if x is a vector\n",
    "        return np.sum(x)\n",
    "    else: # if x is a matrix\n",
    "        return np.sum(x, axis=1)                "
   ]
  },
  {
   "cell_type": "markdown",
   "metadata": {},
   "source": [
    "### Parameter settings"
   ]
  },
  {
   "cell_type": "code",
   "execution_count": 12,
   "metadata": {},
   "outputs": [],
   "source": [
    "reg_factor = 1.0 # lambda\n",
    "delta = 0.1 # delta\n",
    "exploration_variance = 1.0 # nu, for TS\n",
    "confidence_scaling_factor = 1.0 # gamma, for UCB"
   ]
  },
  {
   "cell_type": "markdown",
   "metadata": {},
   "source": [
    "### Neural network settings"
   ]
  },
  {
   "cell_type": "code",
   "execution_count": 22,
   "metadata": {},
   "outputs": [],
   "source": [
    "hidden_size_default = 100 # m\n",
    "epochs = 100 # repeat training for each period\n",
    "train_every = 10 # training period\n",
    "training_window =100\n",
    "learning_rate = 0.01\n",
    "\n",
    "use_cuda = False\n",
    "#if torch.cuda.is_available():\n",
    "#    use_cuda = True\n",
    "#else:\n",
    "#    use_cuda = False"
   ]
  },
  {
   "cell_type": "markdown",
   "metadata": {},
   "source": [
    "# Experiment descirption\n",
    "### Hidden functions\n",
    "- Linear: $h_{1}(x_{t,i}) = a^{\\top}x_{t,i}$\n",
    "- Quadratic: $h_{2}(x_{t,i}) = (a^{\\top}x_{t,i})^{2}$\n",
    "- Non-linear: $h_{3}(x_{t,i}) = \\cos(\\pi a^{\\top}x_{t,i})$\n",
    "- where $a \\sim N(0,1)/\\|a\\|_{2}$\n",
    "\n",
    "### For each hidden function, compare the following algorithms\n",
    "- CombLinUCB\n",
    "- CombLinTS\n",
    "- CN-UCB\n",
    "- CN-TS(1): single reward sample\n",
    "- CN-TS(30): optimistic sampling, sample size = 30 (default sample size is 1)\n",
    "\n",
    "### Ablation study of feature dimension *d* and neural network width *m*\n",
    "- Default value: $d = 20, m = 100$\n",
    "- $d = \\{20, 100\\}$  for all algorithms\n",
    "- $d = \\{20, 40, 60, 80, 100\\}$ for CN-UCB, CN-TS(1), and CN-TS(30)\n",
    "- $m = \\{20, 40, 60, 80, 100\\}$ for CN-UCB, CN-TS(1), and CN-TS(30)"
   ]
  },
  {
   "cell_type": "markdown",
   "metadata": {},
   "source": [
    "# Experiment settings"
   ]
  },
  {
   "cell_type": "markdown",
   "metadata": {},
   "source": [
    "### Hidden function, bandit, learning algorithm and regret settings"
   ]
  },
  {
   "cell_type": "code",
   "execution_count": 14,
   "metadata": {},
   "outputs": [],
   "source": [
    "h1 = \"h1\"\n",
    "h2 = \"h2\"\n",
    "h3 = \"h3\""
   ]
  },
  {
   "cell_type": "code",
   "execution_count": 15,
   "metadata": {},
   "outputs": [],
   "source": [
    "def experiment(lin_neural, ucb_ts, h_str, n_features=20, hidden_size=100, n_samples=1):\n",
    "    \"\"\" kind explanation\n",
    "    \"\"\"\n",
    "    \n",
    "    ## Hidden function\n",
    "    SEED = 1234\n",
    "    np.random.seed(SEED)\n",
    "    a = np.random.randn(n_features)\n",
    "    a /= np.linalg.norm(a, ord=2)\n",
    "    \n",
    "    if h_str == \"h1\":\n",
    "        h = lambda x: np.dot(a, x)\n",
    "    elif h_str == \"h2\":\n",
    "        h = lambda x: np.dot(a, x)**2\n",
    "    elif h_str == \"h3\":\n",
    "        h = lambda x: np.cos(np.pi*np.dot(x, a))\n",
    "    \n",
    "    ## Bandit\n",
    "    bandit = ContextualBandit(T,\n",
    "                              n_arms,\n",
    "                              n_features, \n",
    "                              h,\n",
    "                              noise_std=noise_std,\n",
    "                              n_assortment=n_assortment,\n",
    "                              n_samples=n_samples,\n",
    "                              round_reward_function=F\n",
    "                             )\n",
    "    \n",
    "    ## Learning algorithm and regret\n",
    "    regrets = np.empty((n_sim, T))\n",
    "    \n",
    "    for i in range(n_sim):\n",
    "        bandit.reset_rewards()\n",
    "        \n",
    "        if lin_neural == Neural:\n",
    "            model = lin_neural(ucb_ts,\n",
    "                               bandit,\n",
    "                               hidden_size=hidden_size,\n",
    "                               reg_factor=reg_factor,\n",
    "                               delta=delta,\n",
    "                               confidence_scaling_factor=confidence_scaling_factor,\n",
    "                               exploration_variance=exploration_variance,\n",
    "                               training_window=training_window,\n",
    "                               learning_rate=learning_rate,\n",
    "                               epochs=epochs,train_every=train_every,\n",
    "                               use_cuda=use_cuda\n",
    "                              )\n",
    "            \n",
    "            model.set_init_param(model.model.parameters()) # keep initial parameters for regularization\n",
    "            \n",
    "        if lin_neural == Lin:\n",
    "            model = lin_neural(ucb_ts,\n",
    "                               bandit,\n",
    "                               reg_factor=reg_factor,\n",
    "                               delta=delta,\n",
    "                               confidence_scaling_factor=confidence_scaling_factor,\n",
    "                               exploration_variance=exploration_variance\n",
    "                              )\n",
    "        \n",
    "        model.run()\n",
    "        regrets[i] = np.cumsum(model.regrets)\n",
    "    \n",
    "    return regrets    "
   ]
  },
  {
   "cell_type": "markdown",
   "metadata": {},
   "source": [
    "# Experiment A: Algorithm vs Regret"
   ]
  },
  {
   "cell_type": "markdown",
   "metadata": {},
   "source": [
    "### CN-UCB"
   ]
  },
  {
   "cell_type": "code",
   "execution_count": 16,
   "metadata": {},
   "outputs": [],
   "source": [
    "lin_neural = Neural\n",
    "ucb_ts = \"UCB\""
   ]
  },
  {
   "cell_type": "markdown",
   "metadata": {},
   "source": [
    "##### Experiment A1"
   ]
  },
  {
   "cell_type": "code",
   "execution_count": 21,
   "metadata": {},
   "outputs": [
    {
     "name": "stderr",
     "output_type": "stream",
     "text": [
      "  6%|▌         | 112/2000 [00:39<11:08,  2.83it/s, total regret=11.3, % optimal set of arms=35.71%]\n"
     ]
    },
    {
     "ename": "KeyboardInterrupt",
     "evalue": "",
     "output_type": "error",
     "traceback": [
      "\u001b[0;31m---------------------------------------------------------------------------\u001b[0m",
      "\u001b[0;31mKeyboardInterrupt\u001b[0m                         Traceback (most recent call last)",
      "\u001b[0;32m<ipython-input-21-e17c228b4b7b>\u001b[0m in \u001b[0;36m<module>\u001b[0;34m\u001b[0m\n\u001b[1;32m      8\u001b[0m                                  \u001b[0mh1\u001b[0m\u001b[0;34m,\u001b[0m\u001b[0;34m\u001b[0m\u001b[0;34m\u001b[0m\u001b[0m\n\u001b[1;32m      9\u001b[0m                                  \u001b[0mn_features\u001b[0m\u001b[0;34m,\u001b[0m\u001b[0;34m\u001b[0m\u001b[0;34m\u001b[0m\u001b[0m\n\u001b[0;32m---> 10\u001b[0;31m                                  \u001b[0mhidden_size\u001b[0m\u001b[0;34m\u001b[0m\u001b[0;34m\u001b[0m\u001b[0m\n\u001b[0m\u001b[1;32m     11\u001b[0m                                 )\n\u001b[1;32m     12\u001b[0m \u001b[0;34m\u001b[0m\u001b[0m\n",
      "\u001b[0;32m<ipython-input-15-ac55c8bed08f>\u001b[0m in \u001b[0;36mexperiment\u001b[0;34m(lin_neural, ucb_ts, h_str, n_features, hidden_size, n_samples)\u001b[0m\n\u001b[1;32m     58\u001b[0m                               )\n\u001b[1;32m     59\u001b[0m \u001b[0;34m\u001b[0m\u001b[0m\n\u001b[0;32m---> 60\u001b[0;31m         \u001b[0mmodel\u001b[0m\u001b[0;34m.\u001b[0m\u001b[0mrun\u001b[0m\u001b[0;34m(\u001b[0m\u001b[0;34m)\u001b[0m\u001b[0;34m\u001b[0m\u001b[0;34m\u001b[0m\u001b[0m\n\u001b[0m\u001b[1;32m     61\u001b[0m         \u001b[0mregrets\u001b[0m\u001b[0;34m[\u001b[0m\u001b[0mi\u001b[0m\u001b[0;34m]\u001b[0m \u001b[0;34m=\u001b[0m \u001b[0mnp\u001b[0m\u001b[0;34m.\u001b[0m\u001b[0mcumsum\u001b[0m\u001b[0;34m(\u001b[0m\u001b[0mmodel\u001b[0m\u001b[0;34m.\u001b[0m\u001b[0mregrets\u001b[0m\u001b[0;34m)\u001b[0m\u001b[0;34m\u001b[0m\u001b[0;34m\u001b[0m\u001b[0m\n\u001b[1;32m     62\u001b[0m \u001b[0;34m\u001b[0m\u001b[0m\n",
      "\u001b[0;32m~/datascience/combinatorial_neural_bandits/module_space/ucb_ts.py\u001b[0m in \u001b[0;36mrun\u001b[0;34m(self)\u001b[0m\n\u001b[1;32m    218\u001b[0m                 \u001b[0;32mif\u001b[0m \u001b[0mself\u001b[0m\u001b[0;34m.\u001b[0m\u001b[0mucb_ts\u001b[0m \u001b[0;34m==\u001b[0m \u001b[0;34m\"UCB\"\u001b[0m\u001b[0;34m:\u001b[0m\u001b[0;34m\u001b[0m\u001b[0;34m\u001b[0m\u001b[0m\n\u001b[1;32m    219\u001b[0m                     \u001b[0;31m# update confidence of all set of arms based on observed features at time t\u001b[0m\u001b[0;34m\u001b[0m\u001b[0;34m\u001b[0m\u001b[0;34m\u001b[0m\u001b[0m\n\u001b[0;32m--> 220\u001b[0;31m                     \u001b[0mself\u001b[0m\u001b[0;34m.\u001b[0m\u001b[0mupdate_confidence_bounds\u001b[0m\u001b[0;34m(\u001b[0m\u001b[0;34m)\u001b[0m\u001b[0;34m\u001b[0m\u001b[0;34m\u001b[0m\u001b[0m\n\u001b[0m\u001b[1;32m    221\u001b[0m                 \u001b[0;31m## for TS\u001b[0m\u001b[0;34m\u001b[0m\u001b[0;34m\u001b[0m\u001b[0;34m\u001b[0m\u001b[0m\n\u001b[1;32m    222\u001b[0m                 \u001b[0;32mif\u001b[0m \u001b[0mself\u001b[0m\u001b[0;34m.\u001b[0m\u001b[0mucb_ts\u001b[0m \u001b[0;34m==\u001b[0m \u001b[0;34m\"TS\"\u001b[0m\u001b[0;34m:\u001b[0m\u001b[0;34m\u001b[0m\u001b[0;34m\u001b[0m\u001b[0m\n",
      "\u001b[0;32m~/datascience/combinatorial_neural_bandits/module_space/ucb_ts.py\u001b[0m in \u001b[0;36mupdate_confidence_bounds\u001b[0;34m(self)\u001b[0m\n\u001b[1;32m    164\u001b[0m         self.exploration_bonus[self.iteration] = np.array(\n\u001b[1;32m    165\u001b[0m             [\n\u001b[0;32m--> 166\u001b[0;31m                 \u001b[0mself\u001b[0m\u001b[0;34m.\u001b[0m\u001b[0mconfidence_multiplier\u001b[0m \u001b[0;34m*\u001b[0m \u001b[0mnp\u001b[0m\u001b[0;34m.\u001b[0m\u001b[0msqrt\u001b[0m\u001b[0;34m(\u001b[0m\u001b[0mnp\u001b[0m\u001b[0;34m.\u001b[0m\u001b[0mdot\u001b[0m\u001b[0;34m(\u001b[0m\u001b[0mself\u001b[0m\u001b[0;34m.\u001b[0m\u001b[0mgrad_approx\u001b[0m\u001b[0;34m[\u001b[0m\u001b[0ma\u001b[0m\u001b[0;34m]\u001b[0m\u001b[0;34m,\u001b[0m \u001b[0mnp\u001b[0m\u001b[0;34m.\u001b[0m\u001b[0mdot\u001b[0m\u001b[0;34m(\u001b[0m\u001b[0mself\u001b[0m\u001b[0;34m.\u001b[0m\u001b[0mA_inv\u001b[0m\u001b[0;34m,\u001b[0m \u001b[0mself\u001b[0m\u001b[0;34m.\u001b[0m\u001b[0mgrad_approx\u001b[0m\u001b[0;34m[\u001b[0m\u001b[0ma\u001b[0m\u001b[0;34m]\u001b[0m\u001b[0;34m.\u001b[0m\u001b[0mT\u001b[0m\u001b[0;34m)\u001b[0m\u001b[0;34m)\u001b[0m\u001b[0;34m)\u001b[0m \u001b[0;32mfor\u001b[0m \u001b[0ma\u001b[0m \u001b[0;32min\u001b[0m \u001b[0mself\u001b[0m\u001b[0;34m.\u001b[0m\u001b[0mbandit\u001b[0m\u001b[0;34m.\u001b[0m\u001b[0marms\u001b[0m\u001b[0;34m\u001b[0m\u001b[0;34m\u001b[0m\u001b[0m\n\u001b[0m\u001b[1;32m    167\u001b[0m             ]\n\u001b[1;32m    168\u001b[0m         )        \n",
      "\u001b[0;32m~/datascience/combinatorial_neural_bandits/module_space/ucb_ts.py\u001b[0m in \u001b[0;36m<listcomp>\u001b[0;34m(.0)\u001b[0m\n\u001b[1;32m    164\u001b[0m         self.exploration_bonus[self.iteration] = np.array(\n\u001b[1;32m    165\u001b[0m             [\n\u001b[0;32m--> 166\u001b[0;31m                 \u001b[0mself\u001b[0m\u001b[0;34m.\u001b[0m\u001b[0mconfidence_multiplier\u001b[0m \u001b[0;34m*\u001b[0m \u001b[0mnp\u001b[0m\u001b[0;34m.\u001b[0m\u001b[0msqrt\u001b[0m\u001b[0;34m(\u001b[0m\u001b[0mnp\u001b[0m\u001b[0;34m.\u001b[0m\u001b[0mdot\u001b[0m\u001b[0;34m(\u001b[0m\u001b[0mself\u001b[0m\u001b[0;34m.\u001b[0m\u001b[0mgrad_approx\u001b[0m\u001b[0;34m[\u001b[0m\u001b[0ma\u001b[0m\u001b[0;34m]\u001b[0m\u001b[0;34m,\u001b[0m \u001b[0mnp\u001b[0m\u001b[0;34m.\u001b[0m\u001b[0mdot\u001b[0m\u001b[0;34m(\u001b[0m\u001b[0mself\u001b[0m\u001b[0;34m.\u001b[0m\u001b[0mA_inv\u001b[0m\u001b[0;34m,\u001b[0m \u001b[0mself\u001b[0m\u001b[0;34m.\u001b[0m\u001b[0mgrad_approx\u001b[0m\u001b[0;34m[\u001b[0m\u001b[0ma\u001b[0m\u001b[0;34m]\u001b[0m\u001b[0;34m.\u001b[0m\u001b[0mT\u001b[0m\u001b[0;34m)\u001b[0m\u001b[0;34m)\u001b[0m\u001b[0;34m)\u001b[0m \u001b[0;32mfor\u001b[0m \u001b[0ma\u001b[0m \u001b[0;32min\u001b[0m \u001b[0mself\u001b[0m\u001b[0;34m.\u001b[0m\u001b[0mbandit\u001b[0m\u001b[0;34m.\u001b[0m\u001b[0marms\u001b[0m\u001b[0;34m\u001b[0m\u001b[0;34m\u001b[0m\u001b[0m\n\u001b[0m\u001b[1;32m    167\u001b[0m             ]\n\u001b[1;32m    168\u001b[0m         )        \n",
      "\u001b[0;32m<__array_function__ internals>\u001b[0m in \u001b[0;36mdot\u001b[0;34m(*args, **kwargs)\u001b[0m\n",
      "\u001b[0;31mKeyboardInterrupt\u001b[0m: "
     ]
    }
   ],
   "source": [
    "## d = 20, m = 100\n",
    "n_features = n_features_default\n",
    "hidden_size = hidden_size_default\n",
    "\n",
    "## regrets for h1, h2, h3\n",
    "reg_h1_CNUCB_20_100 = experiment(lin_neural, \n",
    "                                 ucb_ts, \n",
    "                                 h1, \n",
    "                                 n_features, \n",
    "                                 hidden_size\n",
    "                                )\n",
    "\n",
    "reg_h2_CNUCB_20_100 = experiment(lin_neural, \n",
    "                                 ucb_ts, \n",
    "                                 h2, \n",
    "                                 n_features, \n",
    "                                 hidden_size\n",
    "                                )\n",
    "\n",
    "reg_h3_CNUCB_20_100 = experiment(lin_neural, \n",
    "                                 ucb_ts, \n",
    "                                 h3, \n",
    "                                 n_features, \n",
    "                                 hidden_size\n",
    "                                )"
   ]
  },
  {
   "cell_type": "code",
   "execution_count": null,
   "metadata": {},
   "outputs": [],
   "source": [
    "np.save('regrets/' + nameof(reg_h1_CNUCB_20_100), reg_h1_CNUCB_20_100)\n",
    "np.save('regrets/' + nameof(reg_h2_CNUCB_20_100), reg_h2_CNUCB_20_100)\n",
    "np.save('regrets/' + nameof(reg_h3_CNUCB_20_100), reg_h3_CNUCB_20_100)"
   ]
  },
  {
   "cell_type": "markdown",
   "metadata": {},
   "source": [
    "##### Experiment A2"
   ]
  },
  {
   "cell_type": "code",
   "execution_count": null,
   "metadata": {},
   "outputs": [],
   "source": [
    "## d = 100, m = 100\n",
    "n_features = 100\n",
    "hidden_size = hidden_size_default\n",
    "\n",
    "## regrets for h1, h2, h3\n",
    "reg_h1_CNUCB_100_100 = experiment(lin_neural, \n",
    "                                 ucb_ts, \n",
    "                                 h1, \n",
    "                                 n_features, \n",
    "                                 hidden_size\n",
    "                                )\n",
    "\n",
    "reg_h2_CNUCB_100_100 = experiment(lin_neural, \n",
    "                                 ucb_ts, \n",
    "                                 h2, \n",
    "                                 n_features, \n",
    "                                 hidden_size\n",
    "                                )\n",
    "\n",
    "reg_h3_CNUCB_100_100 = experiment(lin_neural, \n",
    "                                 ucb_ts, \n",
    "                                 h3, \n",
    "                                 n_features, \n",
    "                                 hidden_size\n",
    "                                )"
   ]
  },
  {
   "cell_type": "code",
   "execution_count": null,
   "metadata": {},
   "outputs": [],
   "source": [
    "np.save('regrets/' + nameof(reg_h1_CNUCB_100_100), reg_h1_CNUCB_100_100)\n",
    "np.save('regrets/' + nameof(reg_h2_CNUCB_100_100), reg_h2_CNUCB_100_100)\n",
    "np.save('regrets/' + nameof(reg_h3_CNUCB_100_100), reg_h3_CNUCB_100_100)"
   ]
  },
  {
   "cell_type": "markdown",
   "metadata": {},
   "source": [
    "### CN-TS"
   ]
  },
  {
   "cell_type": "code",
   "execution_count": null,
   "metadata": {},
   "outputs": [],
   "source": [
    "lin_neural = Neural\n",
    "ucb_ts = \"TS\""
   ]
  },
  {
   "cell_type": "markdown",
   "metadata": {},
   "source": [
    "##### Experiment A3"
   ]
  },
  {
   "cell_type": "code",
   "execution_count": null,
   "metadata": {},
   "outputs": [],
   "source": [
    "## d = 20, m = 100\n",
    "n_features = n_features_default\n",
    "hidden_size = hidden_size_default\n",
    "\n",
    "## regrets for h1, h2, h3\n",
    "reg_h1_CNTS_20_100 = experiment(lin_neural, \n",
    "                                ucb_ts, \n",
    "                                h1, \n",
    "                                n_features, \n",
    "                                hidden_size\n",
    "                               )\n",
    "\n",
    "reg_h2_CNTS_20_100 = experiment(lin_neural, \n",
    "                                ucb_ts, \n",
    "                                h2, \n",
    "                                n_features, \n",
    "                                hidden_size\n",
    "                               )\n",
    "\n",
    "reg_h3_CNTS_20_100 = experiment(lin_neural, \n",
    "                                ucb_ts, \n",
    "                                h3, \n",
    "                                n_features, \n",
    "                                hidden_size\n",
    "                               )"
   ]
  },
  {
   "cell_type": "code",
   "execution_count": null,
   "metadata": {},
   "outputs": [],
   "source": [
    "np.save('regrets/' + nameof(reg_h1_CNTS_20_100), reg_h1_CNTS_20_100)\n",
    "np.save('regrets/' + nameof(reg_h2_CNTS_20_100), reg_h2_CNTS_20_100)\n",
    "np.save('regrets/' + nameof(reg_h3_CNTS_20_100), reg_h3_CNTS_20_100)"
   ]
  },
  {
   "cell_type": "markdown",
   "metadata": {},
   "source": [
    "##### Experiment A4"
   ]
  },
  {
   "cell_type": "code",
   "execution_count": null,
   "metadata": {},
   "outputs": [],
   "source": [
    "## d = 100, m = 100\n",
    "n_features = 100\n",
    "hidden_size = hidden_size_default\n",
    "\n",
    "## regrets for h1, h2, h3\n",
    "reg_h1_CNTS_100_100 = experiment(lin_neural, \n",
    "                                ucb_ts, \n",
    "                                h1, \n",
    "                                n_features, \n",
    "                                hidden_size\n",
    "                               )\n",
    "\n",
    "reg_h2_CNTS_100_100 = experiment(lin_neural, \n",
    "                                ucb_ts, \n",
    "                                h2, \n",
    "                                n_features, \n",
    "                                hidden_size\n",
    "                               )\n",
    "\n",
    "reg_h3_CNTS_100_100 = experiment(lin_neural, \n",
    "                                ucb_ts, \n",
    "                                h3, \n",
    "                                n_features, \n",
    "                                hidden_size\n",
    "                               )"
   ]
  },
  {
   "cell_type": "code",
   "execution_count": null,
   "metadata": {},
   "outputs": [],
   "source": [
    "np.save('regrets/' + nameof(reg_h1_CNTS_100_100), reg_h1_CNTS_100_100)\n",
    "np.save('regrets/' + nameof(reg_h2_CNTS_100_100), reg_h2_CNTS_100_100)\n",
    "np.save('regrets/' + nameof(reg_h3_CNTS_100_100), reg_h3_CNTS_100_100)"
   ]
  },
  {
   "cell_type": "markdown",
   "metadata": {},
   "source": [
    "### CN-TS-Opt"
   ]
  },
  {
   "cell_type": "code",
   "execution_count": null,
   "metadata": {},
   "outputs": [],
   "source": [
    "lin_neural = Neural\n",
    "ucb_ts = \"TS\""
   ]
  },
  {
   "cell_type": "markdown",
   "metadata": {},
   "source": [
    "##### Experiment A5"
   ]
  },
  {
   "cell_type": "code",
   "execution_count": null,
   "metadata": {},
   "outputs": [],
   "source": [
    "## d = 20, m = 100\n",
    "## M = 50\n",
    "n_features = n_features_default\n",
    "hidden_size = hidden_size_default\n",
    "\n",
    "## regrets for h1, h2, h3\n",
    "reg_h1_CNTSOpt_20_100 = experiment(lin_neural, \n",
    "                                   ucb_ts, \n",
    "                                   h1, \n",
    "                                   n_features, \n",
    "                                   hidden_size, \n",
    "                                   n_samples=n_samples\n",
    "                                  )\n",
    "\n",
    "reg_h2_CNTSOpt_20_100 = experiment(lin_neural, \n",
    "                                   ucb_ts, \n",
    "                                   h2, \n",
    "                                   n_features, \n",
    "                                   hidden_size, \n",
    "                                   n_samples=n_samples\n",
    "                                  )\n",
    "\n",
    "reg_h3_CNTSOpt_20_100 = experiment(lin_neural, \n",
    "                                   ucb_ts, \n",
    "                                   h3, \n",
    "                                   n_features, \n",
    "                                   hidden_size, \n",
    "                                   n_samples=n_samples\n",
    "                                  )"
   ]
  },
  {
   "cell_type": "code",
   "execution_count": null,
   "metadata": {},
   "outputs": [],
   "source": [
    "np.save('regrets/' + nameof(reg_h1_CNTSOpt_20_100), reg_h1_CNTSOpt_20_100)\n",
    "np.save('regrets/' + nameof(reg_h2_CNTSOpt_20_100), reg_h2_CNTSOpt_20_100)\n",
    "np.save('regrets/' + nameof(reg_h3_CNTSOpt_20_100), reg_h3_CNTSOpt_20_100)"
   ]
  },
  {
   "cell_type": "markdown",
   "metadata": {},
   "source": [
    "##### Experiment A6"
   ]
  },
  {
   "cell_type": "code",
   "execution_count": null,
   "metadata": {},
   "outputs": [],
   "source": [
    "## d = 100, m = 100\n",
    "## M = 30\n",
    "n_features = 100\n",
    "hidden_size = hidden_size_default\n",
    "\n",
    "## regrets for h1, h2, h3\n",
    "reg_h1_CNTSOpt_100_100 = experiment(lin_neural, \n",
    "                                    ucb_ts, \n",
    "                                    h1, \n",
    "                                    n_features, \n",
    "                                    hidden_size, \n",
    "                                    n_samples=n_samples\n",
    "                                   )\n",
    "\n",
    "reg_h2_CNTSOpt_100_100 = experiment(lin_neural, \n",
    "                                    ucb_ts, \n",
    "                                    h2, \n",
    "                                    n_features, \n",
    "                                    hidden_size, \n",
    "                                    n_samples=n_samples\n",
    "                                   )\n",
    "\n",
    "reg_h3_CNTSOpt_100_100 = experiment(lin_neural, \n",
    "                                    ucb_ts, \n",
    "                                    h3, \n",
    "                                    n_features, \n",
    "                                    hidden_size, \n",
    "                                    n_samples=n_samples\n",
    "                                   )"
   ]
  },
  {
   "cell_type": "code",
   "execution_count": null,
   "metadata": {},
   "outputs": [],
   "source": [
    "np.save('regrets/' + nameof(reg_h1_CNTSOpt_100_100), reg_h1_CNTSOpt_100_100)\n",
    "np.save('regrets/' + nameof(reg_h2_CNTSOpt_100_100), reg_h2_CNTSOpt_100_100)\n",
    "np.save('regrets/' + nameof(reg_h3_CNTSOpt_100_100), reg_h3_CNTSOpt_100_100)"
   ]
  },
  {
   "cell_type": "markdown",
   "metadata": {},
   "source": [
    "### CombLinUCB"
   ]
  },
  {
   "cell_type": "code",
   "execution_count": null,
   "metadata": {},
   "outputs": [],
   "source": [
    "lin_neural = Lin\n",
    "ucb_ts = \"UCB\""
   ]
  },
  {
   "cell_type": "markdown",
   "metadata": {},
   "source": [
    "##### Experiment A7"
   ]
  },
  {
   "cell_type": "code",
   "execution_count": null,
   "metadata": {},
   "outputs": [],
   "source": [
    "## d = 20\n",
    "n_features = n_features_default\n",
    "\n",
    "## regrets for h1, h2, h3\n",
    "reg_h1_CombLinUCB_20 = experiment(lin_neural, \n",
    "                                  ucb_ts, \n",
    "                                  h1, \n",
    "                                  n_features\n",
    "                                 )\n",
    "\n",
    "reg_h2_CombLinUCB_20 = experiment(lin_neural, \n",
    "                                  ucb_ts, \n",
    "                                  h2, \n",
    "                                  n_features\n",
    "                                 )\n",
    "\n",
    "reg_h3_CombLinUCB_20 = experiment(lin_neural, \n",
    "                                  ucb_ts, \n",
    "                                  h3, \n",
    "                                  n_features\n",
    "                                 )"
   ]
  },
  {
   "cell_type": "code",
   "execution_count": null,
   "metadata": {},
   "outputs": [],
   "source": [
    "np.save('regrets/' + nameof(reg_h1_CombLinUCB_20), reg_h1_CombLinUCB_20)\n",
    "np.save('regrets/' + nameof(reg_h2_CombLinUCB_20), reg_h2_CombLinUCB_20)\n",
    "np.save('regrets/' + nameof(reg_h3_CombLinUCB_20), reg_h3_CombLinUCB_20)"
   ]
  },
  {
   "cell_type": "markdown",
   "metadata": {},
   "source": [
    "##### Experiment A8"
   ]
  },
  {
   "cell_type": "code",
   "execution_count": null,
   "metadata": {},
   "outputs": [],
   "source": [
    "## d = 100\n",
    "n_features = 100\n",
    "\n",
    "## regrets for h1, h2, h3\n",
    "reg_h1_CombLinUCB_100 = experiment(lin_neural, \n",
    "                                   ucb_ts, \n",
    "                                   h1, \n",
    "                                   n_features\n",
    "                                  )\n",
    "\n",
    "reg_h2_CombLinUCB_100 = experiment(lin_neural, \n",
    "                                   ucb_ts, \n",
    "                                   h2, \n",
    "                                   n_features\n",
    "                                  )\n",
    "\n",
    "reg_h3_CombLinUCB_100 = experiment(lin_neural, \n",
    "                                   ucb_ts, \n",
    "                                   h3, \n",
    "                                   n_features\n",
    "                                  )"
   ]
  },
  {
   "cell_type": "code",
   "execution_count": null,
   "metadata": {},
   "outputs": [],
   "source": [
    "np.save('regrets/' + nameof(reg_h1_CombLinUCB_100), reg_h1_CombLinUCB_100)\n",
    "np.save('regrets/' + nameof(reg_h2_CombLinUCB_100), reg_h2_CombLinUCB_100)\n",
    "np.save('regrets/' + nameof(reg_h3_CombLinUCB_100), reg_h3_CombLinUCB_100)"
   ]
  },
  {
   "cell_type": "markdown",
   "metadata": {},
   "source": [
    "### CombLinTS"
   ]
  },
  {
   "cell_type": "code",
   "execution_count": null,
   "metadata": {},
   "outputs": [],
   "source": [
    "lin_neural = Lin\n",
    "ucb_ts = \"TS\""
   ]
  },
  {
   "cell_type": "markdown",
   "metadata": {},
   "source": [
    "##### Experiment A9"
   ]
  },
  {
   "cell_type": "code",
   "execution_count": null,
   "metadata": {},
   "outputs": [],
   "source": [
    "## d = 20\n",
    "n_features = n_features_default\n",
    "\n",
    "## regrets for h1, h2, h3\n",
    "reg_h1_CombLinTS_20 = experiment(lin_neural, \n",
    "                                 ucb_ts, \n",
    "                                 h1, \n",
    "                                 n_features\n",
    "                                )\n",
    "\n",
    "reg_h2_CombLinTS_20 = experiment(lin_neural, \n",
    "                                 ucb_ts, \n",
    "                                 h2, \n",
    "                                 n_features\n",
    "                                )\n",
    "\n",
    "reg_h3_CombLinTS_20 = experiment(lin_neural, \n",
    "                                 ucb_ts, \n",
    "                                 h3, \n",
    "                                 n_features\n",
    "                                )"
   ]
  },
  {
   "cell_type": "code",
   "execution_count": null,
   "metadata": {},
   "outputs": [],
   "source": [
    "np.save('regrets/' + nameof(reg_h1_CombLinTS_20), reg_h1_CombLinTS_20)\n",
    "np.save('regrets/' + nameof(reg_h2_CombLinTS_20), reg_h2_CombLinTS_20)\n",
    "np.save('regrets/' + nameof(reg_h3_CombLinTS_20), reg_h3_CombLinTS_20)"
   ]
  },
  {
   "cell_type": "markdown",
   "metadata": {},
   "source": [
    "##### Experiment Aa"
   ]
  },
  {
   "cell_type": "code",
   "execution_count": null,
   "metadata": {},
   "outputs": [],
   "source": [
    "## d = 100\n",
    "n_features = 100\n",
    "\n",
    "## regrets for h1, h2, h3\n",
    "reg_h1_CombLinTS_100 = experiment(lin_neural, \n",
    "                                  ucb_ts, \n",
    "                                  h1, \n",
    "                                  n_features\n",
    "                                 )\n",
    "\n",
    "reg_h2_CombLinTS_100 = experiment(lin_neural, \n",
    "                                  ucb_ts, \n",
    "                                  h2, \n",
    "                                  n_features\n",
    "                                 )\n",
    "\n",
    "reg_h3_CombLinTS_100 = experiment(lin_neural, \n",
    "                                  ucb_ts, \n",
    "                                  h3, \n",
    "                                  n_features\n",
    "                                 )"
   ]
  },
  {
   "cell_type": "code",
   "execution_count": null,
   "metadata": {},
   "outputs": [],
   "source": [
    "np.save('regrets/' + nameof(reg_h1_CombLinTS_100), reg_h1_CombLinTS_100)\n",
    "np.save('regrets/' + nameof(reg_h2_CombLinTS_100), reg_h2_CombLinTS_100)\n",
    "np.save('regrets/' + nameof(reg_h3_CombLinTS_100), reg_h3_CombLinTS_100)"
   ]
  },
  {
   "cell_type": "markdown",
   "metadata": {},
   "source": [
    "# Experiment A: Plots"
   ]
  },
  {
   "cell_type": "code",
   "execution_count": null,
   "metadata": {},
   "outputs": [],
   "source": []
  },
  {
   "cell_type": "markdown",
   "metadata": {},
   "source": [
    "# Experiment B: Ablation study"
   ]
  },
  {
   "cell_type": "markdown",
   "metadata": {},
   "source": [
    "### CN-UCB"
   ]
  },
  {
   "cell_type": "code",
   "execution_count": null,
   "metadata": {},
   "outputs": [],
   "source": [
    "lin_neural = Neural\n",
    "ucb_ts = \"UCB\""
   ]
  },
  {
   "cell_type": "markdown",
   "metadata": {},
   "source": [
    "##### Experiment B01"
   ]
  },
  {
   "cell_type": "code",
   "execution_count": null,
   "metadata": {},
   "outputs": [],
   "source": [
    "## d = 40, m = 100\n",
    "n_features = 40\n",
    "hidden_size = hidden_size_default\n",
    "\n",
    "## regrets for h1, h2, h3\n",
    "reg_h1_CNUCB_40_100 = experiment(lin_neural, ucb_ts, h1, n_features, hidden_size)\n",
    "reg_h2_CNUCB_40_100 = experiment(lin_neural, ucb_ts, h2, n_features, hidden_size)\n",
    "reg_h3_CNUCB_40_100 = experiment(lin_neural, ucb_ts, h3, n_features, hidden_size)"
   ]
  },
  {
   "cell_type": "code",
   "execution_count": null,
   "metadata": {},
   "outputs": [],
   "source": [
    "np.save('regrets/' + nameof(reg_h1_CNUCB_40_100), reg_h1_CNUCB_40_100)\n",
    "np.save('regrets/' + nameof(reg_h2_CNUCB_40_100), reg_h2_CNUCB_40_100)\n",
    "np.save('regrets/' + nameof(reg_h3_CNUCB_40_100), reg_h3_CNUCB_40_100)"
   ]
  },
  {
   "cell_type": "markdown",
   "metadata": {},
   "source": [
    "##### Experiment B02"
   ]
  },
  {
   "cell_type": "code",
   "execution_count": null,
   "metadata": {},
   "outputs": [],
   "source": [
    "## d = 60, m = 100\n",
    "n_features = 60\n",
    "hidden_size = hidden_size_default\n",
    "\n",
    "## regrets for h1, h2, h3\n",
    "reg_h1_CNUCB_60_100 = experiment(lin_neural, ucb_ts, h1, n_features, hidden_size)\n",
    "reg_h2_CNUCB_60_100 = experiment(lin_neural, ucb_ts, h2, n_features, hidden_size)\n",
    "reg_h3_CNUCB_60_100 = experiment(lin_neural, ucb_ts, h3, n_features, hidden_size)"
   ]
  },
  {
   "cell_type": "code",
   "execution_count": null,
   "metadata": {},
   "outputs": [],
   "source": [
    "np.save('regrets/' + nameof(reg_h1_CNUCB_60_100), reg_h1_CNUCB_60_100)\n",
    "np.save('regrets/' + nameof(reg_h2_CNUCB_60_100), reg_h2_CNUCB_60_100)\n",
    "np.save('regrets/' + nameof(reg_h3_CNUCB_60_100), reg_h3_CNUCB_60_100)"
   ]
  },
  {
   "cell_type": "markdown",
   "metadata": {},
   "source": [
    "##### Experiment B03"
   ]
  },
  {
   "cell_type": "code",
   "execution_count": null,
   "metadata": {},
   "outputs": [],
   "source": [
    "## d= 80, m = 100\n",
    "n_features = 80\n",
    "hidden_size = hidden_size_default\n",
    "\n",
    "## regrets for h1, h2, h3\n",
    "reg_h1_CNUCB_80_100 = experiment(lin_neural, ucb_ts, h1, n_features, hidden_size)\n",
    "reg_h2_CNUCB_80_100 = experiment(lin_neural, ucb_ts, h2, n_features, hidden_size)\n",
    "reg_h3_CNUCB_80_100 = experiment(lin_neural, ucb_ts, h3, n_features, hidden_size)"
   ]
  },
  {
   "cell_type": "code",
   "execution_count": null,
   "metadata": {},
   "outputs": [],
   "source": [
    "np.save('regrets/' + nameof(reg_h1_CNUCB_80_100), reg_h1_CNUCB_80_100)\n",
    "np.save('regrets/' + nameof(reg_h2_CNUCB_80_100), reg_h2_CNUCB_80_100)\n",
    "np.save('regrets/' + nameof(reg_h3_CNUCB_80_100), reg_h3_CNUCB_80_100)"
   ]
  },
  {
   "cell_type": "markdown",
   "metadata": {},
   "source": [
    "##### Experiment B04"
   ]
  },
  {
   "cell_type": "code",
   "execution_count": null,
   "metadata": {},
   "outputs": [],
   "source": [
    "## d = 20, m = 20\n",
    "n_features = n_features_default\n",
    "hidden_size = 20\n",
    "\n",
    "## regrets for h1, h2, h3\n",
    "reg_h1_CNUCB_20_20 = experiment(lin_neural, ucb_ts, h1, n_features, hidden_size)\n",
    "reg_h2_CNUCB_20_20 = experiment(lin_neural, ucb_ts, h2, n_features, hidden_size)\n",
    "reg_h3_CNUCB_20_20 = experiment(lin_neural, ucb_ts, h3, n_features, hidden_size)"
   ]
  },
  {
   "cell_type": "code",
   "execution_count": null,
   "metadata": {},
   "outputs": [],
   "source": [
    "np.save('regrets/' + nameof(reg_h1_CNUCB_20_20), reg_h1_CNUCB_20_20)\n",
    "np.save('regrets/' + nameof(reg_h2_CNUCB_20_20), reg_h2_CNUCB_20_20)\n",
    "np.save('regrets/' + nameof(reg_h3_CNUCB_20_20), reg_h3_CNUCB_20_20)"
   ]
  },
  {
   "cell_type": "markdown",
   "metadata": {},
   "source": [
    "##### Experiment B05"
   ]
  },
  {
   "cell_type": "code",
   "execution_count": null,
   "metadata": {},
   "outputs": [],
   "source": [
    "## d = 20, m = 40\n",
    "n_features = n_features_default\n",
    "hidden_size = 40\n",
    "\n",
    "## regrets for h1, h2, h3\n",
    "reg_h1_CNUCB_20_40 = experiment(lin_neural, ucb_ts, h1, n_features, hidden_size)\n",
    "reg_h2_CNUCB_20_40 = experiment(lin_neural, ucb_ts, h2, n_features, hidden_size)\n",
    "reg_h3_CNUCB_20_40 = experiment(lin_neural, ucb_ts, h3, n_features, hidden_size)"
   ]
  },
  {
   "cell_type": "code",
   "execution_count": null,
   "metadata": {},
   "outputs": [],
   "source": [
    "np.save('regrets/' + nameof(reg_h1_CNUCB_20_40), reg_h1_CNUCB_20_40)\n",
    "np.save('regrets/' + nameof(reg_h2_CNUCB_20_40), reg_h2_CNUCB_20_40)\n",
    "np.save('regrets/' + nameof(reg_h3_CNUCB_20_40), reg_h3_CNUCB_20_40)"
   ]
  },
  {
   "cell_type": "markdown",
   "metadata": {},
   "source": [
    "##### Experiment B06"
   ]
  },
  {
   "cell_type": "code",
   "execution_count": null,
   "metadata": {},
   "outputs": [],
   "source": [
    "## d = 20, m = 60\n",
    "n_features = n_features_default\n",
    "hidden_size = 60\n",
    "\n",
    "## regrets for h1, h2, h3\n",
    "reg_h1_CNUCB_20_60 = experiment(lin_neural, ucb_ts, h1, n_features, hidden_size)\n",
    "reg_h2_CNUCB_20_60 = experiment(lin_neural, ucb_ts, h2, n_features, hidden_size)\n",
    "reg_h3_CNUCB_20_60 = experiment(lin_neural, ucb_ts, h3, n_features, hidden_size)"
   ]
  },
  {
   "cell_type": "code",
   "execution_count": null,
   "metadata": {},
   "outputs": [],
   "source": [
    "np.save('regrets/' + nameof(reg_h1_CNUCB_20_60), reg_h1_CNUCB_20_60)\n",
    "np.save('regrets/' + nameof(reg_h2_CNUCB_20_60), reg_h2_CNUCB_20_60)\n",
    "np.save('regrets/' + nameof(reg_h3_CNUCB_20_60), reg_h3_CNUCB_20_60)"
   ]
  },
  {
   "cell_type": "markdown",
   "metadata": {},
   "source": [
    "##### Experiment B07"
   ]
  },
  {
   "cell_type": "code",
   "execution_count": null,
   "metadata": {},
   "outputs": [],
   "source": [
    "## d = 20, m = 80\n",
    "n_features = n_features_default\n",
    "hidden_size = 80\n",
    "\n",
    "## regrets for h1, h2, h3\n",
    "reg_h1_CNUCB_20_80 = experiment(lin_neural, ucb_ts, h1, n_features, hidden_size)\n",
    "reg_h2_CNUCB_20_80 = experiment(lin_neural, ucb_ts, h2, n_features, hidden_size)\n",
    "reg_h3_CNUCB_20_80 = experiment(lin_neural, ucb_ts, h3, n_features, hidden_size)"
   ]
  },
  {
   "cell_type": "code",
   "execution_count": null,
   "metadata": {},
   "outputs": [],
   "source": [
    "np.save('regrets/' + nameof(reg_h1_CNUCB_20_80), reg_h1_CNUCB_20_80)\n",
    "np.save('regrets/' + nameof(reg_h2_CNUCB_20_80), reg_h2_CNUCB_20_80)\n",
    "np.save('regrets/' + nameof(reg_h3_CNUCB_20_80), reg_h3_CNUCB_20_80)"
   ]
  },
  {
   "cell_type": "markdown",
   "metadata": {},
   "source": [
    "### CN-TS"
   ]
  },
  {
   "cell_type": "code",
   "execution_count": null,
   "metadata": {},
   "outputs": [],
   "source": [
    "lin_neural = Neural\n",
    "ucb_ts = \"TS\""
   ]
  },
  {
   "cell_type": "markdown",
   "metadata": {},
   "source": [
    "##### Experiment B11"
   ]
  },
  {
   "cell_type": "code",
   "execution_count": null,
   "metadata": {},
   "outputs": [],
   "source": [
    "## d = 40, m = 100\n",
    "n_features = 40\n",
    "hidden_size = hidden_size_default\n",
    "\n",
    "## regrets for h1, h2, h3\n",
    "reg_h1_CNTSOpt_40_100 = experiment(lin_neural, ucb_ts, h1, n_features, hidden_size)\n",
    "reg_h2_CNTSOpt_40_100 = experiment(lin_neural, ucb_ts, h2, n_features, hidden_size)\n",
    "reg_h3_CNTSOpt_40_100 = experiment(lin_neural, ucb_ts, h3, n_features, hidden_size)"
   ]
  },
  {
   "cell_type": "code",
   "execution_count": null,
   "metadata": {},
   "outputs": [],
   "source": [
    "np.save('regrets/' + nameof(reg_h1_CNTS_40_100), reg_h1_CNTS_40_100)\n",
    "np.save('regrets/' + nameof(reg_h2_CNTS_40_100), reg_h2_CNTS_40_100)\n",
    "np.save('regrets/' + nameof(reg_h3_CNTS_40_100), reg_h3_CNTS_40_100)"
   ]
  },
  {
   "cell_type": "markdown",
   "metadata": {},
   "source": [
    "##### Experiment B12"
   ]
  },
  {
   "cell_type": "code",
   "execution_count": null,
   "metadata": {},
   "outputs": [],
   "source": [
    "## d = 60, m = 100\n",
    "n_features = 60\n",
    "hidden_size = hidden_size_default\n",
    "\n",
    "## regrets for h1, h2, h3\n",
    "reg_h1_CNTSOpt_60_100 = experiment(lin_neural, ucb_ts, h1, n_features, hidden_size)\n",
    "reg_h2_CNTSOpt_60_100 = experiment(lin_neural, ucb_ts, h2, n_features, hidden_size)\n",
    "reg_h3_CNTSOpt_60_100 = experiment(lin_neural, ucb_ts, h3, n_features, hidden_size)"
   ]
  },
  {
   "cell_type": "code",
   "execution_count": null,
   "metadata": {},
   "outputs": [],
   "source": [
    "np.save('regrets/' + nameof(reg_h1_CNTS_60_100), reg_h1_CNTS_60_100)\n",
    "np.save('regrets/' + nameof(reg_h2_CNTS_60_100), reg_h2_CNTS_60_100)\n",
    "np.save('regrets/' + nameof(reg_h3_CNTS_60_100), reg_h3_CNTS_60_100)"
   ]
  },
  {
   "cell_type": "markdown",
   "metadata": {},
   "source": [
    "##### Experiment B13"
   ]
  },
  {
   "cell_type": "code",
   "execution_count": null,
   "metadata": {},
   "outputs": [],
   "source": [
    "## d= 80, m = 100\n",
    "n_features = 80\n",
    "hidden_size = hidden_size_default\n",
    "\n",
    "## regrets for h1, h2, h3\n",
    "reg_h1_CNTSOpt_80_100 = experiment(lin_neural, ucb_ts, h1, n_features, hidden_size)\n",
    "reg_h2_CNTSOpt_80_100 = experiment(lin_neural, ucb_ts, h2, n_features, hidden_size)\n",
    "reg_h3_CNTSOpt_80_100 = experiment(lin_neural, ucb_ts, h3, n_features, hidden_size)"
   ]
  },
  {
   "cell_type": "code",
   "execution_count": null,
   "metadata": {},
   "outputs": [],
   "source": [
    "np.save('regrets/' + nameof(reg_h1_CNTS_80_100), reg_h1_CNTS_80_100)\n",
    "np.save('regrets/' + nameof(reg_h2_CNTS_80_100), reg_h2_CNTS_80_100)\n",
    "np.save('regrets/' + nameof(reg_h3_CNTS_80_100), reg_h3_CNTS_80_100)"
   ]
  },
  {
   "cell_type": "markdown",
   "metadata": {},
   "source": [
    "##### Experiment B14"
   ]
  },
  {
   "cell_type": "code",
   "execution_count": null,
   "metadata": {},
   "outputs": [],
   "source": [
    "## d = 20, m = 20\n",
    "n_features = n_features_default\n",
    "hidden_size = 20\n",
    "\n",
    "## regrets for h1, h2, h3\n",
    "reg_h1_CNTSOpt_20_20 = experiment(lin_neural, ucb_ts, h1, n_features, hidden_size)\n",
    "reg_h2_CNTSOpt_20_20 = experiment(lin_neural, ucb_ts, h2, n_features, hidden_size)\n",
    "reg_h3_CNTSOpt_20_20 = experiment(lin_neural, ucb_ts, h3, n_features, hidden_size)"
   ]
  },
  {
   "cell_type": "code",
   "execution_count": null,
   "metadata": {},
   "outputs": [],
   "source": [
    "np.save('regrets/' + nameof(reg_h1_CNTS_20_20), reg_h1_CNTS_20_20)\n",
    "np.save('regrets/' + nameof(reg_h2_CNTS_20_20), reg_h2_CNTS_20_20)\n",
    "np.save('regrets/' + nameof(reg_h3_CNTS_20_20), reg_h3_CNTS_20_20)"
   ]
  },
  {
   "cell_type": "markdown",
   "metadata": {},
   "source": [
    "##### Experiment B15"
   ]
  },
  {
   "cell_type": "code",
   "execution_count": null,
   "metadata": {},
   "outputs": [],
   "source": [
    "## d = 20, m = 40\n",
    "n_features = n_features_default\n",
    "hidden_size = 40\n",
    "\n",
    "## regrets for h1, h2, h3\n",
    "reg_h1_CNTSOpt_20_40 = experiment(lin_neural, ucb_ts, h1, n_features, hidden_size)\n",
    "reg_h2_CNTSOpt_20_40 = experiment(lin_neural, ucb_ts, h2, n_features, hidden_size)\n",
    "reg_h3_CNTSOpt_20_40 = experiment(lin_neural, ucb_ts, h3, n_features, hidden_size)"
   ]
  },
  {
   "cell_type": "code",
   "execution_count": null,
   "metadata": {},
   "outputs": [],
   "source": [
    "np.save('regrets/' + nameof(reg_h1_CNTS_20_40), reg_h1_CNTS_20_40)\n",
    "np.save('regrets/' + nameof(reg_h2_CNTS_20_40), reg_h2_CNTS_20_40)\n",
    "np.save('regrets/' + nameof(reg_h3_CNTS_20_40), reg_h3_CNTS_20_40)"
   ]
  },
  {
   "cell_type": "markdown",
   "metadata": {},
   "source": [
    "##### Experiment B16"
   ]
  },
  {
   "cell_type": "code",
   "execution_count": null,
   "metadata": {},
   "outputs": [],
   "source": [
    "## d = 20, m = 60\n",
    "n_features = n_features_default\n",
    "hidden_size = 60\n",
    "\n",
    "## regrets for h1, h2, h3\n",
    "reg_h1_CNTSOpt_20_60 = experiment(lin_neural, ucb_ts, h1, n_features, hidden_size)\n",
    "reg_h2_CNTSOpt_20_60 = experiment(lin_neural, ucb_ts, h2, n_features, hidden_size)\n",
    "reg_h3_CNTSOpt_20_60 = experiment(lin_neural, ucb_ts, h3, n_features, hidden_size)"
   ]
  },
  {
   "cell_type": "code",
   "execution_count": null,
   "metadata": {},
   "outputs": [],
   "source": [
    "np.save('regrets/' + nameof(reg_h1_CNTS_20_60), reg_h1_CNTS_20_60)\n",
    "np.save('regrets/' + nameof(reg_h2_CNTS_20_60), reg_h2_CNTS_20_60)\n",
    "np.save('regrets/' + nameof(reg_h3_CNTS_20_60), reg_h3_CNTS_20_60)"
   ]
  },
  {
   "cell_type": "markdown",
   "metadata": {},
   "source": [
    "##### Experiment B17"
   ]
  },
  {
   "cell_type": "code",
   "execution_count": null,
   "metadata": {},
   "outputs": [],
   "source": [
    "## d = 20, m = 80\n",
    "n_features = n_features_default\n",
    "hidden_size = 80\n",
    "\n",
    "## regrets for h1, h2, h3\n",
    "reg_h1_CNTSOpt_20_80 = experiment(lin_neural, ucb_ts, h1, n_features, hidden_size)\n",
    "reg_h2_CNTSOpt_20_80 = experiment(lin_neural, ucb_ts, h2, n_features, hidden_size)\n",
    "reg_h3_CNTSOpt_20_80 = experiment(lin_neural, ucb_ts, h3, n_features, hidden_size)"
   ]
  },
  {
   "cell_type": "code",
   "execution_count": null,
   "metadata": {},
   "outputs": [],
   "source": [
    "np.save('regrets/' + nameof(reg_h1_CNTS_20_80), reg_h1_CNTS_20_80)\n",
    "np.save('regrets/' + nameof(reg_h2_CNTS_20_80), reg_h2_CNTS_20_80)\n",
    "np.save('regrets/' + nameof(reg_h3_CNTS_20_80), reg_h3_CNTS_20_80)"
   ]
  },
  {
   "cell_type": "markdown",
   "metadata": {},
   "source": [
    "### CN-TS-Opt"
   ]
  },
  {
   "cell_type": "code",
   "execution_count": null,
   "metadata": {},
   "outputs": [],
   "source": [
    "lin_neural = Neural\n",
    "ucb_ts = \"TS\""
   ]
  },
  {
   "cell_type": "markdown",
   "metadata": {},
   "source": [
    "##### Experiment B21"
   ]
  },
  {
   "cell_type": "code",
   "execution_count": null,
   "metadata": {},
   "outputs": [],
   "source": [
    "## d = 40, m = 100\n",
    "n_features = 40\n",
    "hidden_size = hidden_size_default\n",
    "\n",
    "## regrets for h1, h2, h3\n",
    "reg_h1_CNTS_40_100 = experiment(lin_neural, ucb_ts, h1, n_features, hidden_size, n_samples=n_samples)\n",
    "reg_h2_CNTS_40_100 = experiment(lin_neural, ucb_ts, h2, n_features, hidden_size, n_samples=n_samples)\n",
    "reg_h3_CNTS_40_100 = experiment(lin_neural, ucb_ts, h3, n_features, hidden_size, n_samples=n_samples)"
   ]
  },
  {
   "cell_type": "code",
   "execution_count": null,
   "metadata": {},
   "outputs": [],
   "source": [
    "np.save('regrets/' + nameof(reg_h1_CNTSOpt_40_100), reg_h1_CNTSOpt_40_100)\n",
    "np.save('regrets/' + nameof(reg_h2_CNTSOpt_40_100), reg_h2_CNTSOpt_40_100)\n",
    "np.save('regrets/' + nameof(reg_h3_CNTSOpt_40_100), reg_h3_CNTSOpt_40_100)"
   ]
  },
  {
   "cell_type": "markdown",
   "metadata": {},
   "source": [
    "##### Experiment B22"
   ]
  },
  {
   "cell_type": "code",
   "execution_count": null,
   "metadata": {},
   "outputs": [],
   "source": [
    "## d = 60, m = 100\n",
    "n_features = 60\n",
    "hidden_size = hidden_size_default\n",
    "\n",
    "## regrets for h1, h2, h3\n",
    "reg_h1_CNTS_60_100 = experiment(lin_neural, ucb_ts, h1, n_features, hidden_size, n_samples=n_samples)\n",
    "reg_h2_CNTS_60_100 = experiment(lin_neural, ucb_ts, h2, n_features, hidden_size, n_samples=n_samples)\n",
    "reg_h3_CNTS_60_100 = experiment(lin_neural, ucb_ts, h3, n_features, hidden_size, n_samples=n_samples)"
   ]
  },
  {
   "cell_type": "code",
   "execution_count": null,
   "metadata": {},
   "outputs": [],
   "source": [
    "np.save('regrets/' + nameof(reg_h1_CNTSOpt_60_100), reg_h1_CNTSOpt_60_100)\n",
    "np.save('regrets/' + nameof(reg_h2_CNTSOpt_60_100), reg_h2_CNTSOpt_60_100)\n",
    "np.save('regrets/' + nameof(reg_h3_CNTSOpt_60_100), reg_h3_CNTSOpt_60_100)"
   ]
  },
  {
   "cell_type": "markdown",
   "metadata": {},
   "source": [
    "##### Experiment B23"
   ]
  },
  {
   "cell_type": "code",
   "execution_count": null,
   "metadata": {},
   "outputs": [],
   "source": [
    "## d= 80, m = 100\n",
    "n_features = 80\n",
    "hidden_size = hidden_size_default\n",
    "\n",
    "## regrets for h1, h2, h3\n",
    "reg_h1_CNTS_80_100 = experiment(lin_neural, ucb_ts, h1, n_features, hidden_size, n_samples=n_samples)\n",
    "reg_h2_CNTS_80_100 = experiment(lin_neural, ucb_ts, h2, n_features, hidden_size, n_samples=n_samples)\n",
    "reg_h3_CNTS_80_100 = experiment(lin_neural, ucb_ts, h3, n_features, hidden_size, n_samples=n_samples)"
   ]
  },
  {
   "cell_type": "code",
   "execution_count": null,
   "metadata": {},
   "outputs": [],
   "source": [
    "np.save('regrets/' + nameof(reg_h1_CNTSOpt_80_100), reg_h1_CNTSOpt_80_100)\n",
    "np.save('regrets/' + nameof(reg_h2_CNTSOpt_80_100), reg_h2_CNTSOpt_80_100)\n",
    "np.save('regrets/' + nameof(reg_h3_CNTSOpt_80_100), reg_h3_CNTSOpt_80_100)"
   ]
  },
  {
   "cell_type": "markdown",
   "metadata": {},
   "source": [
    "##### Experiment B24"
   ]
  },
  {
   "cell_type": "code",
   "execution_count": null,
   "metadata": {},
   "outputs": [],
   "source": [
    "## d = 20, m = 20\n",
    "n_features = n_features_default\n",
    "hidden_size = 20\n",
    "\n",
    "## regrets for h1, h2, h3\n",
    "reg_h1_CNTS_20_20 = experiment(lin_neural, ucb_ts, h1, n_features, hidden_size, n_samples=n_samples)\n",
    "reg_h2_CNTS_20_20 = experiment(lin_neural, ucb_ts, h2, n_features, hidden_size, n_samples=n_samples)\n",
    "reg_h3_CNTS_20_20 = experiment(lin_neural, ucb_ts, h3, n_features, hidden_size, n_samples=n_samples)"
   ]
  },
  {
   "cell_type": "code",
   "execution_count": null,
   "metadata": {},
   "outputs": [],
   "source": [
    "np.save('regrets/' + nameof(reg_h1_CNTSOpt_20_20), reg_h1_CNTSOpt_20_20)\n",
    "np.save('regrets/' + nameof(reg_h2_CNTSOpt_20_20), reg_h2_CNTSOpt_20_20)\n",
    "np.save('regrets/' + nameof(reg_h3_CNTSOpt_20_20), reg_h3_CNTSOpt_20_20)"
   ]
  },
  {
   "cell_type": "markdown",
   "metadata": {},
   "source": [
    "##### Experiment B25"
   ]
  },
  {
   "cell_type": "code",
   "execution_count": null,
   "metadata": {},
   "outputs": [],
   "source": [
    "## d = 20, m = 40\n",
    "n_features = n_features_default\n",
    "hidden_size = 40\n",
    "\n",
    "## regrets for h1, h2, h3\n",
    "reg_h1_CNTS_20_40 = experiment(lin_neural, ucb_ts, h1, n_features, hidden_size, n_samples=n_samples)\n",
    "reg_h2_CNTS_20_40 = experiment(lin_neural, ucb_ts, h2, n_features, hidden_size, n_samples=n_samples)\n",
    "reg_h3_CNTS_20_40 = experiment(lin_neural, ucb_ts, h3, n_features, hidden_size, n_samples=n_samples)"
   ]
  },
  {
   "cell_type": "code",
   "execution_count": null,
   "metadata": {},
   "outputs": [],
   "source": [
    "np.save('regrets/' + nameof(reg_h1_CNTSOpt_20_40), reg_h1_CNTSOpt_20_40)\n",
    "np.save('regrets/' + nameof(reg_h2_CNTSOpt_20_40), reg_h2_CNTSOpt_20_40)\n",
    "np.save('regrets/' + nameof(reg_h3_CNTSOpt_20_40), reg_h3_CNTSOpt_20_40)"
   ]
  },
  {
   "cell_type": "markdown",
   "metadata": {},
   "source": [
    "##### Experiment B26"
   ]
  },
  {
   "cell_type": "code",
   "execution_count": null,
   "metadata": {},
   "outputs": [],
   "source": [
    "## d = 20, m = 60\n",
    "n_features = n_features_default\n",
    "hidden_size = 60\n",
    "\n",
    "## regrets for h1, h2, h3\n",
    "reg_h1_CNTS_20_60 = experiment(lin_neural, ucb_ts, h1, n_features, hidden_size, n_samples=n_samples)\n",
    "reg_h2_CNTS_20_60 = experiment(lin_neural, ucb_ts, h2, n_features, hidden_size, n_samples=n_samples)\n",
    "reg_h3_CNTS_20_60 = experiment(lin_neural, ucb_ts, h3, n_features, hidden_size, n_samples=n_samples)"
   ]
  },
  {
   "cell_type": "code",
   "execution_count": null,
   "metadata": {},
   "outputs": [],
   "source": [
    "np.save('regrets/' + nameof(reg_h1_CNTSOpt_20_60), reg_h1_CNTSOpt_20_60)\n",
    "np.save('regrets/' + nameof(reg_h2_CNTSOpt_20_60), reg_h2_CNTSOpt_20_60)\n",
    "np.save('regrets/' + nameof(reg_h3_CNTSOpt_20_60), reg_h3_CNTSOpt_20_60)"
   ]
  },
  {
   "cell_type": "markdown",
   "metadata": {},
   "source": [
    "##### Experiment B27"
   ]
  },
  {
   "cell_type": "code",
   "execution_count": null,
   "metadata": {},
   "outputs": [],
   "source": [
    "## d = 20, m = 80\n",
    "n_features = n_features_default\n",
    "hidden_size = 80\n",
    "\n",
    "## regrets for h1, h2, h3\n",
    "reg_h1_CNTS_20_80 = experiment(lin_neural, ucb_ts, h1, n_features, hidden_size, n_samples=n_samples)\n",
    "reg_h2_CNTS_20_80 = experiment(lin_neural, ucb_ts, h2, n_features, hidden_size, n_samples=n_samples)\n",
    "reg_h3_CNTS_20_80 = experiment(lin_neural, ucb_ts, h3, n_features, hidden_size, n_samples=n_samples)"
   ]
  },
  {
   "cell_type": "code",
   "execution_count": null,
   "metadata": {},
   "outputs": [],
   "source": [
    "np.save('regrets/' + nameof(reg_h1_CNTSOpt_20_80), reg_h1_CNTSOpt_20_80)\n",
    "np.save('regrets/' + nameof(reg_h2_CNTSOpt_20_80), reg_h2_CNTSOpt_20_80)\n",
    "np.save('regrets/' + nameof(reg_h3_CNTSOpt_20_80), reg_h3_CNTSOpt_20_80)"
   ]
  },
  {
   "cell_type": "markdown",
   "metadata": {},
   "source": [
    "# Experiment B: Plots"
   ]
  },
  {
   "cell_type": "code",
   "execution_count": null,
   "metadata": {},
   "outputs": [],
   "source": []
  }
 ],
 "metadata": {
  "kernelspec": {
   "display_name": "Python 3",
   "language": "python",
   "name": "python3"
  },
  "language_info": {
   "codemirror_mode": {
    "name": "ipython",
    "version": 3
   },
   "file_extension": ".py",
   "mimetype": "text/x-python",
   "name": "python",
   "nbconvert_exporter": "python",
   "pygments_lexer": "ipython3",
   "version": "3.7.6"
  }
 },
 "nbformat": 4,
 "nbformat_minor": 4
}
