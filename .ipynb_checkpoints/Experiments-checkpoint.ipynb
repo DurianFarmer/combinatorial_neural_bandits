{
 "cells": [
  {
   "cell_type": "markdown",
   "metadata": {},
   "source": [
    "# Settings"
   ]
  },
  {
   "cell_type": "code",
   "execution_count": null,
   "metadata": {},
   "outputs": [],
   "source": [
    "import numpy as np\n",
    "import torch\n",
    "import os\n",
    "from module_space import *\n",
    "\n",
    "SEED = 1234\n",
    "np.random.seed(SEED)\n",
    "\n",
    "if not os.path.exists('regrets'):\n",
    "    os.mkdir('regrets')\n",
    "\n",
    "#if not os.path.exists('plots'):\n",
    "#    os.mkdir('plots')\n",
    "# import matplotlib.pyplot as plt\n",
    "# import seaborn as sns\n",
    "# sns.set()"
   ]
  },
  {
   "cell_type": "markdown",
   "metadata": {},
   "source": [
    "### Bandit settings"
   ]
  },
  {
   "cell_type": "code",
   "execution_count": 60,
   "metadata": {},
   "outputs": [],
   "source": [
    "T = 1000\n",
    "n_arms = 12 # N\n",
    "n_features_default = 20 # d\n",
    "n_assortment = 4 # K\n",
    "n_samples = 30 # M, number of samples per each round and arm, for TS\n",
    "noise_std = 0.01 # noise of reward: xi = noise_std*N(0,1)\n",
    "\n",
    "n_sim = 10 # number of simulations\n",
    "\n",
    "def F(x): # round_reward_function\n",
    "    if len(np.shape(x)) == 1: # if x is a vector\n",
    "        return np.sum(x)\n",
    "    else: # if x is a matrix\n",
    "        return np.sum(x, axis=1)                "
   ]
  },
  {
   "cell_type": "markdown",
   "metadata": {},
   "source": [
    "### Parameter settings"
   ]
  },
  {
   "cell_type": "code",
   "execution_count": 61,
   "metadata": {},
   "outputs": [],
   "source": [
    "reg_factor = 1.0 # lambda\n",
    "delta = 0.1 # delta\n",
    "exploration_variance = 0.1 # nu, for TS\n",
    "confidence_scaling_factor = 1.0 # gamma, for UCB"
   ]
  },
  {
   "cell_type": "markdown",
   "metadata": {},
   "source": [
    "### Neural network settings"
   ]
  },
  {
   "cell_type": "code",
   "execution_count": 62,
   "metadata": {},
   "outputs": [],
   "source": [
    "hidden_size_default = 60 # m\n",
    "epochs = 100 # repeat training for each period\n",
    "train_every = 10 # training period\n",
    "training_window = 100\n",
    "learning_rate = 0.01\n",
    "p = 0.2 # dropout\n",
    "\n",
    "use_cuda = False\n",
    "\n",
    "#if torch.cuda.is_available():\n",
    "#    use_cuda = True\n",
    "#else:\n",
    "#    use_cuda = False"
   ]
  },
  {
   "cell_type": "markdown",
   "metadata": {},
   "source": [
    "# Experiment descirption\n",
    "### Hidden functions\n",
    "- Linear: $h_{1}(x_{t,i}) = a^{\\top}x_{t,i}$\n",
    "- Quadratic: $h_{2}(x_{t,i}) = (a^{\\top}x_{t,i})^{2}$\n",
    "- Non-linear: $h_{3}(x_{t,i}) = \\cos(\\pi a^{\\top}x_{t,i})$\n",
    "- where $a \\sim N(0,1)/\\|a\\|_{2}$\n",
    "\n",
    "### For each hidden function, compare the following algorithms\n",
    "- CombLinUCB\n",
    "- CombLinTS\n",
    "- CN-UCB\n",
    "- CN-TS(1): single reward sample\n",
    "- CN-TS(30): optimistic sampling, sample size = 30 (default sample size is 1)\n",
    "\n",
    "### Ablation study of feature dimension *d* and neural network width *m*\n",
    "- Default value: $d = 20, m = 60$\n",
    "- $d = \\{20, 100\\}$  for all algorithms\n",
    "- $d = \\{20, 40, 60, 80, 100\\}$ for CN-UCB, CN-TS(1), and CN-TS(30)\n",
    "- $m = \\{20, 40, 60, 80, 100\\}$ for CN-UCB, CN-TS(1), and CN-TS(30)"
   ]
  },
  {
   "cell_type": "markdown",
   "metadata": {},
   "source": [
    "# Experiment settings"
   ]
  },
  {
   "cell_type": "markdown",
   "metadata": {},
   "source": [
    "### Hidden function, bandit, learning algorithm and regret settings"
   ]
  },
  {
   "cell_type": "code",
   "execution_count": 63,
   "metadata": {},
   "outputs": [],
   "source": [
    "h1 = \"h1\"\n",
    "h2 = \"h2\"\n",
    "h3 = \"h3\""
   ]
  },
  {
   "cell_type": "code",
   "execution_count": 64,
   "metadata": {},
   "outputs": [],
   "source": [
    "def experiment(lin_neural, ucb_ts, h_str, n_features=20, hidden_size=100, n_samples=1, save = ''):\n",
    "    \"\"\" kind explanation\n",
    "    \"\"\"\n",
    "    \n",
    "    ## Hidden function    \n",
    "    a = np.random.randn(n_features)\n",
    "    a /= np.linalg.norm(a, ord=2)\n",
    "    \n",
    "    if h_str == \"h1\":\n",
    "        h = lambda x: np.dot(a, x)\n",
    "    elif h_str == \"h2\":\n",
    "        h = lambda x: np.dot(a, x)**2\n",
    "    elif h_str == \"h3\":\n",
    "        h = lambda x: np.cos(np.pi*np.dot(x, a))\n",
    "    \n",
    "    ## Bandit\n",
    "    bandit = ContextualBandit(T,\n",
    "                              n_arms,\n",
    "                              n_features, \n",
    "                              h,\n",
    "                              noise_std=noise_std,\n",
    "                              n_assortment=n_assortment,\n",
    "                              n_samples=n_samples,\n",
    "                              round_reward_function=F\n",
    "                             )\n",
    "    \n",
    "    ## Learning algorithm and regret\n",
    "    regrets = np.empty((n_sim, T))\n",
    "    \n",
    "    for i in range(n_sim):\n",
    "        bandit.reset_rewards()\n",
    "        \n",
    "        if lin_neural == Neural:\n",
    "            model = lin_neural(ucb_ts,\n",
    "                               bandit,\n",
    "                               hidden_size=hidden_size,\n",
    "                               reg_factor=reg_factor,\n",
    "                               delta=delta,\n",
    "                               confidence_scaling_factor=confidence_scaling_factor,\n",
    "                               exploration_variance=exploration_variance,\n",
    "                               p=p,\n",
    "                               training_window=training_window,\n",
    "                               learning_rate=learning_rate,\n",
    "                               epochs=epochs,train_every=train_every,\n",
    "                               use_cuda=use_cuda\n",
    "                              )\n",
    "            \n",
    "            model.set_init_param(model.model.parameters()) # keep initial parameters for regularization\n",
    "            \n",
    "        if lin_neural == Lin:\n",
    "            model = lin_neural(ucb_ts,\n",
    "                               bandit,\n",
    "                               reg_factor=reg_factor,\n",
    "                               delta=delta,\n",
    "                               confidence_scaling_factor=confidence_scaling_factor,\n",
    "                               exploration_variance=exploration_variance\n",
    "                              )\n",
    "        \n",
    "        model.run()\n",
    "        regrets[i] = np.cumsum(model.regrets)\n",
    "    \n",
    "    if save: # save regrets\n",
    "        np.save('regrets/' + save, regrets)    "
   ]
  },
  {
   "cell_type": "markdown",
   "metadata": {},
   "source": [
    "# Experiment A: Algorithm vs Regret"
   ]
  },
  {
   "cell_type": "markdown",
   "metadata": {},
   "source": [
    "### CN-UCB"
   ]
  },
  {
   "cell_type": "code",
   "execution_count": null,
   "metadata": {},
   "outputs": [],
   "source": [
    "lin_neural = Neural\n",
    "ucb_ts = \"UCB\""
   ]
  },
  {
   "cell_type": "markdown",
   "metadata": {},
   "source": [
    "##### Experiment A1"
   ]
  },
  {
   "cell_type": "code",
   "execution_count": null,
   "metadata": {},
   "outputs": [],
   "source": [
    "## d = 20, m = 60\n",
    "n_features = n_features_default\n",
    "hidden_size = hidden_size_default"
   ]
  },
  {
   "cell_type": "code",
   "execution_count": null,
   "metadata": {},
   "outputs": [],
   "source": [
    "## regrets for h1, h2, h3\n",
    "experiment(lin_neural, ucb_ts, h1, n_features, hidden_size, save='reg_h1_CNUCB_20_60')"
   ]
  },
  {
   "cell_type": "code",
   "execution_count": null,
   "metadata": {},
   "outputs": [],
   "source": [
    "experiment(lin_neural, ucb_ts, h2, n_features, hidden_size, save='reg_h2_CNUCB_20_60')"
   ]
  },
  {
   "cell_type": "code",
   "execution_count": null,
   "metadata": {},
   "outputs": [],
   "source": [
    "experiment(lin_neural, ucb_ts, h3, n_features, hidden_size, save='reg_h3_CNUCB_20_60')"
   ]
  },
  {
   "cell_type": "markdown",
   "metadata": {},
   "source": [
    "##### Experiment A2"
   ]
  },
  {
   "cell_type": "code",
   "execution_count": null,
   "metadata": {},
   "outputs": [],
   "source": [
    "## d = 60, m = 60\n",
    "n_features = 100\n",
    "hidden_size = hidden_size_default"
   ]
  },
  {
   "cell_type": "code",
   "execution_count": null,
   "metadata": {},
   "outputs": [],
   "source": [
    "## regrets for h1, h2, h3\n",
    "experiment(lin_neural, ucb_ts, h1, n_features, hidden_size, save='reg_h1_CNUCB_100_60')"
   ]
  },
  {
   "cell_type": "code",
   "execution_count": null,
   "metadata": {},
   "outputs": [],
   "source": [
    "experiment(lin_neural, ucb_ts, h2, n_features, hidden_size, save='reg_h2_CNUCB_100_60')"
   ]
  },
  {
   "cell_type": "code",
   "execution_count": null,
   "metadata": {},
   "outputs": [],
   "source": [
    "experiment(lin_neural, ucb_ts, h3, n_features, hidden_size, save='reg_h3_CNUCB_100_60')"
   ]
  },
  {
   "cell_type": "markdown",
   "metadata": {},
   "source": [
    "### CN-TS"
   ]
  },
  {
   "cell_type": "code",
   "execution_count": 65,
   "metadata": {},
   "outputs": [],
   "source": [
    "lin_neural = Neural\n",
    "ucb_ts = \"TS\""
   ]
  },
  {
   "cell_type": "markdown",
   "metadata": {},
   "source": [
    "##### Experiment A3"
   ]
  },
  {
   "cell_type": "code",
   "execution_count": 66,
   "metadata": {},
   "outputs": [],
   "source": [
    "## d = 20, m = 60\n",
    "n_features = n_features_default\n",
    "hidden_size = hidden_size_default"
   ]
  },
  {
   "cell_type": "code",
   "execution_count": null,
   "metadata": {},
   "outputs": [
    {
     "name": "stderr",
     "output_type": "stream",
     "text": [
      "100%|██████████| 1000/1000 [01:04<00:00, 15.44it/s, total regret=13.4, % optimal set of arms=63.90%]\n",
      " 78%|███████▊  | 776/1000 [00:49<00:12, 18.34it/s, total regret=15, % optimal set of arms=60.44%]  "
     ]
    }
   ],
   "source": [
    "## regrets for h1, h2, h3\n",
    "experiment(lin_neural, ucb_ts, h1, n_features, hidden_size, save='reg_h1_CNTS_20_60')"
   ]
  },
  {
   "cell_type": "code",
   "execution_count": null,
   "metadata": {},
   "outputs": [],
   "source": [
    "experiment(lin_neural, ucb_ts, h2, n_features, hidden_size, save='reg_h2_CNTS_20_60')"
   ]
  },
  {
   "cell_type": "code",
   "execution_count": null,
   "metadata": {},
   "outputs": [],
   "source": [
    "experiment(lin_neural, ucb_ts, h3, n_features, hidden_size, save='reg_h3_CNTS_20_60')"
   ]
  },
  {
   "cell_type": "markdown",
   "metadata": {},
   "source": [
    "##### Experiment A4"
   ]
  },
  {
   "cell_type": "code",
   "execution_count": null,
   "metadata": {},
   "outputs": [],
   "source": [
    "## d = 60, m = 60\n",
    "n_features = 100\n",
    "hidden_size = hidden_size_default"
   ]
  },
  {
   "cell_type": "code",
   "execution_count": null,
   "metadata": {},
   "outputs": [],
   "source": [
    "## regrets for h1, h2, h3\n",
    "experiment(lin_neural, ucb_ts, h1, n_features, hidden_size, save='reg_h1_CNTS_100_60')"
   ]
  },
  {
   "cell_type": "code",
   "execution_count": null,
   "metadata": {},
   "outputs": [],
   "source": [
    "experiment(lin_neural, ucb_ts, h2, n_features, hidden_size, save='reg_h2_CNTS_100_60')"
   ]
  },
  {
   "cell_type": "code",
   "execution_count": null,
   "metadata": {},
   "outputs": [],
   "source": [
    "experiment(lin_neural, ucb_ts, h3, n_features, hidden_size, save='reg_h3_CNTS_100_60')"
   ]
  },
  {
   "cell_type": "markdown",
   "metadata": {},
   "source": [
    "### CN-TS-Opt"
   ]
  },
  {
   "cell_type": "code",
   "execution_count": null,
   "metadata": {},
   "outputs": [],
   "source": [
    "lin_neural = Neural\n",
    "ucb_ts = \"TS\""
   ]
  },
  {
   "cell_type": "markdown",
   "metadata": {},
   "source": [
    "##### Experiment A5"
   ]
  },
  {
   "cell_type": "code",
   "execution_count": null,
   "metadata": {},
   "outputs": [],
   "source": [
    "## d = 20, m = 60\n",
    "n_features = n_features_default\n",
    "hidden_size = hidden_size_default"
   ]
  },
  {
   "cell_type": "code",
   "execution_count": null,
   "metadata": {
    "scrolled": false
   },
   "outputs": [],
   "source": [
    "## regrets for h1, h2, h3\n",
    "experiment(lin_neural, ucb_ts, h1, n_features, hidden_size, n_samples=n_samples, save='reg_h1_CNTSOpt_20_60')"
   ]
  },
  {
   "cell_type": "code",
   "execution_count": null,
   "metadata": {},
   "outputs": [],
   "source": [
    "experiment(lin_neural, ucb_ts, h2, n_features, hidden_size, n_samples=n_samples, save='reg_h2_CNTSOpt_20_60')"
   ]
  },
  {
   "cell_type": "code",
   "execution_count": null,
   "metadata": {},
   "outputs": [],
   "source": [
    "experiment(lin_neural, ucb_ts, h3, n_features, hidden_size, n_samples=n_samples, save='reg_h3_CNTSOpt_20_60')"
   ]
  },
  {
   "cell_type": "markdown",
   "metadata": {},
   "source": [
    "##### Experiment A6"
   ]
  },
  {
   "cell_type": "code",
   "execution_count": null,
   "metadata": {},
   "outputs": [],
   "source": [
    "## d = 100, m = 60\n",
    "n_features = 100\n",
    "hidden_size = hidden_size_default"
   ]
  },
  {
   "cell_type": "code",
   "execution_count": null,
   "metadata": {},
   "outputs": [],
   "source": [
    "## regrets for h1, h2, h3\n",
    "experiment(lin_neural, ucb_ts, h1, n_features, hidden_size, n_samples=n_samples, save='reg_h1_CNTSOpt_100_60')"
   ]
  },
  {
   "cell_type": "code",
   "execution_count": null,
   "metadata": {},
   "outputs": [],
   "source": [
    "experiment(lin_neural, ucb_ts, h2, n_features, hidden_size, n_samples=n_samples, save='reg_h2_CNTSOpt_100_60')"
   ]
  },
  {
   "cell_type": "code",
   "execution_count": null,
   "metadata": {},
   "outputs": [],
   "source": [
    "experiment(lin_neural, ucb_ts, h3, n_features, hidden_size, n_samples=n_samples, save='reg_h3_CNTSOpt_100_60')"
   ]
  },
  {
   "cell_type": "markdown",
   "metadata": {},
   "source": [
    "### CombLinUCB"
   ]
  },
  {
   "cell_type": "code",
   "execution_count": null,
   "metadata": {},
   "outputs": [],
   "source": [
    "lin_neural = Lin\n",
    "ucb_ts = \"UCB\""
   ]
  },
  {
   "cell_type": "markdown",
   "metadata": {},
   "source": [
    "##### Experiment A7"
   ]
  },
  {
   "cell_type": "code",
   "execution_count": null,
   "metadata": {},
   "outputs": [],
   "source": [
    "## d = 20\n",
    "n_features = n_features_default"
   ]
  },
  {
   "cell_type": "code",
   "execution_count": null,
   "metadata": {},
   "outputs": [],
   "source": [
    "## regrets for h1, h2, h3\n",
    "experiment(lin_neural, ucb_ts, h1, n_features, save='reg_h1_CombLinUCB_20')"
   ]
  },
  {
   "cell_type": "code",
   "execution_count": null,
   "metadata": {},
   "outputs": [],
   "source": [
    "experiment(lin_neural, ucb_ts, h2, n_features, save='reg_h2_CombLinUCB_20')"
   ]
  },
  {
   "cell_type": "code",
   "execution_count": null,
   "metadata": {},
   "outputs": [],
   "source": [
    "experiment(lin_neural, ucb_ts, h3, n_features, save='reg_h3_CombLinUCB_20')"
   ]
  },
  {
   "cell_type": "markdown",
   "metadata": {},
   "source": [
    "##### Experiment A8"
   ]
  },
  {
   "cell_type": "code",
   "execution_count": null,
   "metadata": {},
   "outputs": [],
   "source": [
    "## d = 100\n",
    "n_features = 100"
   ]
  },
  {
   "cell_type": "code",
   "execution_count": null,
   "metadata": {},
   "outputs": [],
   "source": [
    "## regrets for h1, h2, h3\n",
    "experiment(lin_neural, ucb_ts, h1, n_features, save='reg_h1_CombLinUCB_100')"
   ]
  },
  {
   "cell_type": "code",
   "execution_count": null,
   "metadata": {},
   "outputs": [],
   "source": [
    "experiment(lin_neural, ucb_ts, h2, n_features, save='reg_h2_CombLinUCB_100')"
   ]
  },
  {
   "cell_type": "code",
   "execution_count": null,
   "metadata": {},
   "outputs": [],
   "source": [
    "experiment(lin_neural, ucb_ts, h3, n_features, save='reg_h3_CombLinUCB_100')"
   ]
  },
  {
   "cell_type": "markdown",
   "metadata": {},
   "source": [
    "### CombLinTS"
   ]
  },
  {
   "cell_type": "code",
   "execution_count": null,
   "metadata": {},
   "outputs": [],
   "source": [
    "lin_neural = Lin\n",
    "ucb_ts = \"TS\""
   ]
  },
  {
   "cell_type": "markdown",
   "metadata": {},
   "source": [
    "##### Experiment A9"
   ]
  },
  {
   "cell_type": "code",
   "execution_count": null,
   "metadata": {},
   "outputs": [],
   "source": [
    "## d = 20\n",
    "n_features = n_features_default"
   ]
  },
  {
   "cell_type": "code",
   "execution_count": null,
   "metadata": {},
   "outputs": [],
   "source": [
    "## regrets for h1, h2, h3\n",
    "experiment(lin_neural, ucb_ts, h1, n_features, save='reg_h1_CombLinTS_20')"
   ]
  },
  {
   "cell_type": "code",
   "execution_count": null,
   "metadata": {},
   "outputs": [],
   "source": [
    "experiment(lin_neural, ucb_ts, h2, n_features, save='reg_h2_CombLinTS_20')"
   ]
  },
  {
   "cell_type": "code",
   "execution_count": null,
   "metadata": {},
   "outputs": [],
   "source": [
    "experiment(lin_neural, ucb_ts, h3, n_features, save='reg_h3_CombLinTS_20')"
   ]
  },
  {
   "cell_type": "markdown",
   "metadata": {},
   "source": [
    "##### Experiment Aa"
   ]
  },
  {
   "cell_type": "code",
   "execution_count": null,
   "metadata": {},
   "outputs": [],
   "source": [
    "## d = 100\n",
    "n_features = 100"
   ]
  },
  {
   "cell_type": "code",
   "execution_count": null,
   "metadata": {},
   "outputs": [],
   "source": [
    "## regrets for h1, h2, h3\n",
    "experiment(lin_neural, ucb_ts, h1, n_features, save='reg_h1_CombLinTS_100')"
   ]
  },
  {
   "cell_type": "code",
   "execution_count": null,
   "metadata": {},
   "outputs": [],
   "source": [
    "experiment(lin_neural, ucb_ts, h2, n_features, save='reg_h2_CombLinTS_100')"
   ]
  },
  {
   "cell_type": "code",
   "execution_count": null,
   "metadata": {},
   "outputs": [],
   "source": [
    "experiment(lin_neural, ucb_ts, h3, n_features, save='reg_h3_CombLinTS_100')"
   ]
  },
  {
   "cell_type": "markdown",
   "metadata": {},
   "source": [
    "# Experiment B: Ablation study"
   ]
  },
  {
   "cell_type": "markdown",
   "metadata": {},
   "source": [
    "### CN-UCB"
   ]
  },
  {
   "cell_type": "code",
   "execution_count": null,
   "metadata": {},
   "outputs": [],
   "source": [
    "lin_neural = Neural\n",
    "ucb_ts = \"UCB\""
   ]
  },
  {
   "cell_type": "markdown",
   "metadata": {},
   "source": [
    "##### Experiment B01"
   ]
  },
  {
   "cell_type": "code",
   "execution_count": null,
   "metadata": {},
   "outputs": [],
   "source": [
    "## d = 40, m = 60\n",
    "n_features = 40\n",
    "hidden_size = hidden_size_default"
   ]
  },
  {
   "cell_type": "code",
   "execution_count": null,
   "metadata": {},
   "outputs": [],
   "source": [
    "## regrets for h1, h2, h3\n",
    "experiment(lin_neural, ucb_ts, h1, n_features, hidden_size, save='reg_h1_CNUCB_40_60')"
   ]
  },
  {
   "cell_type": "code",
   "execution_count": null,
   "metadata": {},
   "outputs": [],
   "source": [
    "experiment(lin_neural, ucb_ts, h2, n_features, hidden_size, save='reg_h2_CNUCB_40_60')"
   ]
  },
  {
   "cell_type": "code",
   "execution_count": null,
   "metadata": {},
   "outputs": [],
   "source": [
    "experiment(lin_neural, ucb_ts, h3, n_features, hidden_size, save='reg_h3_CNUCB_40_60')"
   ]
  },
  {
   "cell_type": "markdown",
   "metadata": {},
   "source": [
    "##### Experiment B02"
   ]
  },
  {
   "cell_type": "code",
   "execution_count": null,
   "metadata": {},
   "outputs": [],
   "source": [
    "## d = 60, m = 60\n",
    "n_features = 60\n",
    "hidden_size = hidden_size_default"
   ]
  },
  {
   "cell_type": "code",
   "execution_count": null,
   "metadata": {},
   "outputs": [],
   "source": [
    "## regrets for h1, h2, h3\n",
    "experiment(lin_neural, ucb_ts, h1, n_features, hidden_size, save='reg_h1_CNUCB_60_60')"
   ]
  },
  {
   "cell_type": "code",
   "execution_count": null,
   "metadata": {},
   "outputs": [],
   "source": [
    "experiment(lin_neural, ucb_ts, h2, n_features, hidden_size, save='reg_h2_CNUCB_60_60')"
   ]
  },
  {
   "cell_type": "code",
   "execution_count": null,
   "metadata": {},
   "outputs": [],
   "source": [
    "experiment(lin_neural, ucb_ts, h3, n_features, hidden_size, save='reg_h3_CNUCB_60_60')"
   ]
  },
  {
   "cell_type": "markdown",
   "metadata": {},
   "source": [
    "##### Experiment B03"
   ]
  },
  {
   "cell_type": "code",
   "execution_count": null,
   "metadata": {},
   "outputs": [],
   "source": [
    "## d= 80, m = 60\n",
    "n_features = 80\n",
    "hidden_size = hidden_size_default"
   ]
  },
  {
   "cell_type": "code",
   "execution_count": null,
   "metadata": {},
   "outputs": [],
   "source": [
    "## regrets for h1, h2, h3\n",
    "experiment(lin_neural, ucb_ts, h1, n_features, hidden_size, save='reg_h1_CNUCB_80_60')"
   ]
  },
  {
   "cell_type": "code",
   "execution_count": null,
   "metadata": {},
   "outputs": [],
   "source": [
    "experiment(lin_neural, ucb_ts, h2, n_features, hidden_size, save='reg_h2_CNUCB_80_60')"
   ]
  },
  {
   "cell_type": "code",
   "execution_count": null,
   "metadata": {},
   "outputs": [],
   "source": [
    "experiment(lin_neural, ucb_ts, h3, n_features, hidden_size, save='reg_h3_CNUCB_80_60')"
   ]
  },
  {
   "cell_type": "markdown",
   "metadata": {},
   "source": [
    "##### Experiment B04"
   ]
  },
  {
   "cell_type": "code",
   "execution_count": null,
   "metadata": {},
   "outputs": [],
   "source": [
    "## d = 20, m = 20\n",
    "n_features = n_features_default\n",
    "hidden_size = 20"
   ]
  },
  {
   "cell_type": "code",
   "execution_count": null,
   "metadata": {},
   "outputs": [],
   "source": [
    "## regrets for h1, h2, h3\n",
    "experiment(lin_neural, ucb_ts, h1, n_features, hidden_size, save='reg_h1_CNUCB_20_20')"
   ]
  },
  {
   "cell_type": "code",
   "execution_count": null,
   "metadata": {},
   "outputs": [],
   "source": [
    "experiment(lin_neural, ucb_ts, h2, n_features, hidden_size, save='reg_h2_CNUCB_20_20')"
   ]
  },
  {
   "cell_type": "code",
   "execution_count": null,
   "metadata": {},
   "outputs": [],
   "source": [
    "experiment(lin_neural, ucb_ts, h3, n_features, hidden_size, save='reg_h3_CNUCB_20_20')"
   ]
  },
  {
   "cell_type": "markdown",
   "metadata": {},
   "source": [
    "##### Experiment B05"
   ]
  },
  {
   "cell_type": "code",
   "execution_count": null,
   "metadata": {},
   "outputs": [],
   "source": [
    "## d = 20, m = 40\n",
    "n_features = n_features_default\n",
    "hidden_size = 40"
   ]
  },
  {
   "cell_type": "code",
   "execution_count": null,
   "metadata": {},
   "outputs": [],
   "source": [
    "## regrets for h1, h2, h3\n",
    "experiment(lin_neural, ucb_ts, h1, n_features, hidden_size, save='reg_h1_CNUCB_20_40')"
   ]
  },
  {
   "cell_type": "code",
   "execution_count": null,
   "metadata": {},
   "outputs": [],
   "source": [
    "experiment(lin_neural, ucb_ts, h2, n_features, hidden_size, save='reg_h2_CNUCB_20_40')"
   ]
  },
  {
   "cell_type": "code",
   "execution_count": null,
   "metadata": {},
   "outputs": [],
   "source": [
    "experiment(lin_neural, ucb_ts, h3, n_features, hidden_size, save='reg_h3_CNUCB_20_40')"
   ]
  },
  {
   "cell_type": "markdown",
   "metadata": {},
   "source": [
    "##### Experiment B06"
   ]
  },
  {
   "cell_type": "code",
   "execution_count": null,
   "metadata": {},
   "outputs": [],
   "source": [
    "## d = 20, m = 80\n",
    "n_features = n_features_default\n",
    "hidden_size = 80"
   ]
  },
  {
   "cell_type": "code",
   "execution_count": null,
   "metadata": {},
   "outputs": [],
   "source": [
    "## regrets for h1, h2, h3\n",
    "experiment(lin_neural, ucb_ts, h1, n_features, hidden_size, save='reg_h1_CNUCB_20_80')"
   ]
  },
  {
   "cell_type": "code",
   "execution_count": null,
   "metadata": {},
   "outputs": [],
   "source": [
    "experiment(lin_neural, ucb_ts, h2, n_features, hidden_size, save='reg_h2_CNUCB_20_80')"
   ]
  },
  {
   "cell_type": "code",
   "execution_count": null,
   "metadata": {},
   "outputs": [],
   "source": [
    "experiment(lin_neural, ucb_ts, h3, n_features, hidden_size, save='reg_h3_CNUCB_20_80')"
   ]
  },
  {
   "cell_type": "markdown",
   "metadata": {},
   "source": [
    "##### Experiment B07"
   ]
  },
  {
   "cell_type": "code",
   "execution_count": null,
   "metadata": {},
   "outputs": [],
   "source": [
    "## d = 20, m = 100\n",
    "n_features = n_features_default\n",
    "hidden_size = 100"
   ]
  },
  {
   "cell_type": "code",
   "execution_count": null,
   "metadata": {},
   "outputs": [],
   "source": [
    "## regrets for h1, h2, h3\n",
    "experiment(lin_neural, ucb_ts, h1, n_features, hidden_size, save='reg_h1_CNUCB_20_100')"
   ]
  },
  {
   "cell_type": "code",
   "execution_count": null,
   "metadata": {},
   "outputs": [],
   "source": [
    "experiment(lin_neural, ucb_ts, h2, n_features, hidden_size, save='reg_h2_CNUCB_20_100')"
   ]
  },
  {
   "cell_type": "code",
   "execution_count": null,
   "metadata": {},
   "outputs": [],
   "source": [
    "experiment(lin_neural, ucb_ts, h3, n_features, hidden_size, save='reg_h3_CNUCB_20_100')"
   ]
  },
  {
   "cell_type": "markdown",
   "metadata": {},
   "source": [
    "### CN-TS"
   ]
  },
  {
   "cell_type": "code",
   "execution_count": null,
   "metadata": {},
   "outputs": [],
   "source": [
    "lin_neural = Neural\n",
    "ucb_ts = \"TS\""
   ]
  },
  {
   "cell_type": "markdown",
   "metadata": {},
   "source": [
    "##### Experiment B11"
   ]
  },
  {
   "cell_type": "code",
   "execution_count": null,
   "metadata": {},
   "outputs": [],
   "source": [
    "## d = 40, m = 60\n",
    "n_features = 40\n",
    "hidden_size = hidden_size_default"
   ]
  },
  {
   "cell_type": "code",
   "execution_count": null,
   "metadata": {},
   "outputs": [],
   "source": [
    "## regrets for h1, h2, h3\n",
    "experiment(lin_neural, ucb_ts, h1, n_features, hidden_size, save='reg_h1_CNTS_40_60')"
   ]
  },
  {
   "cell_type": "code",
   "execution_count": null,
   "metadata": {},
   "outputs": [],
   "source": [
    "experiment(lin_neural, ucb_ts, h2, n_features, hidden_size, save='reg_h2_CNTS_40_60')"
   ]
  },
  {
   "cell_type": "code",
   "execution_count": null,
   "metadata": {},
   "outputs": [],
   "source": [
    "experiment(lin_neural, ucb_ts, h3, n_features, hidden_size, save='reg_h3_CNTS_40_60')"
   ]
  },
  {
   "cell_type": "markdown",
   "metadata": {},
   "source": [
    "##### Experiment B12"
   ]
  },
  {
   "cell_type": "code",
   "execution_count": null,
   "metadata": {},
   "outputs": [],
   "source": [
    "## d = 60, m = 60\n",
    "n_features = 60\n",
    "hidden_size = hidden_size_default"
   ]
  },
  {
   "cell_type": "code",
   "execution_count": null,
   "metadata": {},
   "outputs": [],
   "source": [
    "## regrets for h1, h2, h3\n",
    "experiment(lin_neural, ucb_ts, h1, n_features, hidden_size, save='reg_h1_CNTS_60_60')"
   ]
  },
  {
   "cell_type": "code",
   "execution_count": null,
   "metadata": {},
   "outputs": [],
   "source": [
    "experiment(lin_neural, ucb_ts, h2, n_features, hidden_size, save='reg_h2_CNTS_60_60')"
   ]
  },
  {
   "cell_type": "code",
   "execution_count": null,
   "metadata": {},
   "outputs": [],
   "source": [
    "experiment(lin_neural, ucb_ts, h3, n_features, hidden_size, save='reg_h3_CNTS_60_60')"
   ]
  },
  {
   "cell_type": "markdown",
   "metadata": {},
   "source": [
    "##### Experiment B13"
   ]
  },
  {
   "cell_type": "code",
   "execution_count": null,
   "metadata": {},
   "outputs": [],
   "source": [
    "## d= 80, m = 60\n",
    "n_features = 80\n",
    "hidden_size = hidden_size_default"
   ]
  },
  {
   "cell_type": "code",
   "execution_count": null,
   "metadata": {},
   "outputs": [],
   "source": [
    "## regrets for h1, h2, h3\n",
    "experiment(lin_neural, ucb_ts, h1, n_features, hidden_size, save='reg_h1_CNTS_80_60')"
   ]
  },
  {
   "cell_type": "code",
   "execution_count": null,
   "metadata": {},
   "outputs": [],
   "source": [
    "experiment(lin_neural, ucb_ts, h2, n_features, hidden_size, save='reg_h2_CNTS_80_60')"
   ]
  },
  {
   "cell_type": "code",
   "execution_count": null,
   "metadata": {},
   "outputs": [],
   "source": [
    "experiment(lin_neural, ucb_ts, h3, n_features, hidden_size, save='reg_h3_CNTS_80_60')"
   ]
  },
  {
   "cell_type": "markdown",
   "metadata": {},
   "source": [
    "##### Experiment B14"
   ]
  },
  {
   "cell_type": "code",
   "execution_count": null,
   "metadata": {},
   "outputs": [],
   "source": [
    "## d = 20, m = 20\n",
    "n_features = n_features_default\n",
    "hidden_size = 20"
   ]
  },
  {
   "cell_type": "code",
   "execution_count": null,
   "metadata": {},
   "outputs": [],
   "source": [
    "## regrets for h1, h2, h3\n",
    "experiment(lin_neural, ucb_ts, h1, n_features, hidden_size, save='reg_h1_CNTS_20_20')"
   ]
  },
  {
   "cell_type": "code",
   "execution_count": null,
   "metadata": {},
   "outputs": [],
   "source": [
    "experiment(lin_neural, ucb_ts, h2, n_features, hidden_size, save='reg_h2_CNTS_20_20')"
   ]
  },
  {
   "cell_type": "code",
   "execution_count": null,
   "metadata": {},
   "outputs": [],
   "source": [
    "experiment(lin_neural, ucb_ts, h3, n_features, hidden_size, save='reg_h3_CNTS_20_20')"
   ]
  },
  {
   "cell_type": "markdown",
   "metadata": {},
   "source": [
    "##### Experiment B15"
   ]
  },
  {
   "cell_type": "code",
   "execution_count": null,
   "metadata": {},
   "outputs": [],
   "source": [
    "## d = 20, m = 40\n",
    "n_features = n_features_default\n",
    "hidden_size = 40"
   ]
  },
  {
   "cell_type": "code",
   "execution_count": null,
   "metadata": {},
   "outputs": [],
   "source": [
    "## regrets for h1, h2, h3\n",
    "experiment(lin_neural, ucb_ts, h1, n_features, hidden_size, save='reg_h1_CNTS_20_40')"
   ]
  },
  {
   "cell_type": "code",
   "execution_count": null,
   "metadata": {},
   "outputs": [],
   "source": [
    "experiment(lin_neural, ucb_ts, h2, n_features, hidden_size, save='reg_h2_CNTS_20_40')"
   ]
  },
  {
   "cell_type": "code",
   "execution_count": null,
   "metadata": {},
   "outputs": [],
   "source": [
    "experiment(lin_neural, ucb_ts, h3, n_features, hidden_size, save='reg_h3_CNTS_20_40')"
   ]
  },
  {
   "cell_type": "markdown",
   "metadata": {},
   "source": [
    "##### Experiment B16"
   ]
  },
  {
   "cell_type": "code",
   "execution_count": null,
   "metadata": {},
   "outputs": [],
   "source": [
    "## d = 20, m = 80\n",
    "n_features = n_features_default\n",
    "hidden_size = 80"
   ]
  },
  {
   "cell_type": "code",
   "execution_count": null,
   "metadata": {},
   "outputs": [],
   "source": [
    "## regrets for h1, h2, h3\n",
    "experiment(lin_neural, ucb_ts, h1, n_features, hidden_size, save='reg_h1_CNTS_20_80')"
   ]
  },
  {
   "cell_type": "code",
   "execution_count": null,
   "metadata": {},
   "outputs": [],
   "source": [
    "experiment(lin_neural, ucb_ts, h2, n_features, hidden_size, save='reg_h2_CNTS_20_80')"
   ]
  },
  {
   "cell_type": "code",
   "execution_count": null,
   "metadata": {},
   "outputs": [],
   "source": [
    "experiment(lin_neural, ucb_ts, h3, n_features, hidden_size, save='reg_h3_CNTS_20_80')"
   ]
  },
  {
   "cell_type": "markdown",
   "metadata": {},
   "source": [
    "##### Experiment B17"
   ]
  },
  {
   "cell_type": "code",
   "execution_count": null,
   "metadata": {},
   "outputs": [],
   "source": [
    "## d = 20, m = 100\n",
    "n_features = n_features_default\n",
    "hidden_size = 100"
   ]
  },
  {
   "cell_type": "code",
   "execution_count": null,
   "metadata": {},
   "outputs": [],
   "source": [
    "## regrets for h1, h2, h3\n",
    "experiment(lin_neural, ucb_ts, h1, n_features, hidden_size, save='reg_h1_CNTS_20_100')"
   ]
  },
  {
   "cell_type": "code",
   "execution_count": null,
   "metadata": {},
   "outputs": [],
   "source": [
    "experiment(lin_neural, ucb_ts, h2, n_features, hidden_size, save='reg_h2_CNTS_20_100')"
   ]
  },
  {
   "cell_type": "code",
   "execution_count": null,
   "metadata": {},
   "outputs": [],
   "source": [
    "experiment(lin_neural, ucb_ts, h3, n_features, hidden_size, save='reg_h3_CNTS_20_100')"
   ]
  },
  {
   "cell_type": "markdown",
   "metadata": {},
   "source": [
    "### CN-TS-Opt"
   ]
  },
  {
   "cell_type": "code",
   "execution_count": null,
   "metadata": {},
   "outputs": [],
   "source": [
    "lin_neural = Neural\n",
    "ucb_ts = \"TS\""
   ]
  },
  {
   "cell_type": "markdown",
   "metadata": {},
   "source": [
    "##### Experiment B21"
   ]
  },
  {
   "cell_type": "code",
   "execution_count": null,
   "metadata": {},
   "outputs": [],
   "source": [
    "## d = 40, m = 60\n",
    "n_features = 40\n",
    "hidden_size = hidden_size_default"
   ]
  },
  {
   "cell_type": "code",
   "execution_count": null,
   "metadata": {},
   "outputs": [],
   "source": [
    "## regrets for h1, h2, h3\n",
    "experiment(lin_neural, ucb_ts, h1, n_features, hidden_size, n_samples=n_samples, save='reg_h1_CNTSOpt_40_60')"
   ]
  },
  {
   "cell_type": "code",
   "execution_count": null,
   "metadata": {},
   "outputs": [],
   "source": [
    "experiment(lin_neural, ucb_ts, h2, n_features, hidden_size, n_samples=n_samples, save='reg_h2_CNTSOpt_40_60')"
   ]
  },
  {
   "cell_type": "code",
   "execution_count": null,
   "metadata": {},
   "outputs": [],
   "source": [
    "experiment(lin_neural, ucb_ts, h3, n_features, hidden_size, n_samples=n_samples, save='reg_h3_CNTSOpt_40_60')"
   ]
  },
  {
   "cell_type": "markdown",
   "metadata": {},
   "source": [
    "##### Experiment B22"
   ]
  },
  {
   "cell_type": "code",
   "execution_count": null,
   "metadata": {},
   "outputs": [],
   "source": [
    "## d = 60, m = 60\n",
    "n_features = 60\n",
    "hidden_size = hidden_size_default"
   ]
  },
  {
   "cell_type": "code",
   "execution_count": null,
   "metadata": {},
   "outputs": [],
   "source": [
    "## regrets for h1, h2, h3\n",
    "experiment(lin_neural, ucb_ts, h1, n_features, hidden_size, n_samples=n_samples, save='reg_h1_CNTSOpt_60_60')"
   ]
  },
  {
   "cell_type": "code",
   "execution_count": null,
   "metadata": {},
   "outputs": [],
   "source": [
    "experiment(lin_neural, ucb_ts, h2, n_features, hidden_size, n_samples=n_samples, save='reg_h2_CNTSOpt_60_60')"
   ]
  },
  {
   "cell_type": "code",
   "execution_count": null,
   "metadata": {},
   "outputs": [],
   "source": [
    "experiment(lin_neural, ucb_ts, h3, n_features, hidden_size, n_samples=n_samples, save='reg_h3_CNTSOpt_60_60')"
   ]
  },
  {
   "cell_type": "markdown",
   "metadata": {},
   "source": [
    "##### Experiment B23"
   ]
  },
  {
   "cell_type": "code",
   "execution_count": null,
   "metadata": {},
   "outputs": [],
   "source": [
    "## d= 80, m = 60\n",
    "n_features = 80\n",
    "hidden_size = hidden_size_default"
   ]
  },
  {
   "cell_type": "code",
   "execution_count": null,
   "metadata": {},
   "outputs": [],
   "source": [
    "## regrets for h1, h2, h3\n",
    "experiment(lin_neural, ucb_ts, h1, n_features, hidden_size, n_samples=n_samples, save='reg_h1_CNTSOpt_80_60')"
   ]
  },
  {
   "cell_type": "code",
   "execution_count": null,
   "metadata": {},
   "outputs": [],
   "source": [
    "experiment(lin_neural, ucb_ts, h2, n_features, hidden_size, n_samples=n_samples, save='reg_h2_CNTSOpt_80_60')"
   ]
  },
  {
   "cell_type": "code",
   "execution_count": null,
   "metadata": {},
   "outputs": [],
   "source": [
    "experiment(lin_neural, ucb_ts, h3, n_features, hidden_size, n_samples=n_samples, save='reg_h3_CNTSOpt_80_60')"
   ]
  },
  {
   "cell_type": "markdown",
   "metadata": {},
   "source": [
    "##### Experiment B24"
   ]
  },
  {
   "cell_type": "code",
   "execution_count": null,
   "metadata": {},
   "outputs": [],
   "source": [
    "## d = 20, m = 20\n",
    "n_features = n_features_default\n",
    "hidden_size = 20"
   ]
  },
  {
   "cell_type": "code",
   "execution_count": null,
   "metadata": {},
   "outputs": [],
   "source": [
    "## regrets for h1, h2, h3\n",
    "experiment(lin_neural, ucb_ts, h1, n_features, hidden_size, n_samples=n_samples, save='reg_h1_CNTSOpt_20_20')"
   ]
  },
  {
   "cell_type": "code",
   "execution_count": null,
   "metadata": {},
   "outputs": [],
   "source": [
    "experiment(lin_neural, ucb_ts, h2, n_features, hidden_size, n_samples=n_samples, save='reg_h2_CNTSOpt_20_20')"
   ]
  },
  {
   "cell_type": "code",
   "execution_count": null,
   "metadata": {},
   "outputs": [],
   "source": [
    "experiment(lin_neural, ucb_ts, h3, n_features, hidden_size, n_samples=n_samples, save='reg_h3_CNTSOpt_20_20')"
   ]
  },
  {
   "cell_type": "markdown",
   "metadata": {},
   "source": [
    "##### Experiment B25"
   ]
  },
  {
   "cell_type": "code",
   "execution_count": null,
   "metadata": {},
   "outputs": [],
   "source": [
    "## d = 20, m = 40\n",
    "n_features = n_features_default\n",
    "hidden_size = 40"
   ]
  },
  {
   "cell_type": "code",
   "execution_count": null,
   "metadata": {},
   "outputs": [],
   "source": [
    "## regrets for h1, h2, h3\n",
    "experiment(lin_neural, ucb_ts, h1, n_features, hidden_size, n_samples=n_samples, save='reg_h1_CNTSOpt_20_40')"
   ]
  },
  {
   "cell_type": "code",
   "execution_count": null,
   "metadata": {},
   "outputs": [],
   "source": [
    "experiment(lin_neural, ucb_ts, h2, n_features, hidden_size, n_samples=n_samples, save='reg_h2_CNTSOpt_20_40')"
   ]
  },
  {
   "cell_type": "code",
   "execution_count": null,
   "metadata": {},
   "outputs": [],
   "source": [
    "experiment(lin_neural, ucb_ts, h3, n_features, hidden_size, n_samples=n_samples, save='reg_h3_CNTSOpt_20_40')"
   ]
  },
  {
   "cell_type": "markdown",
   "metadata": {},
   "source": [
    "##### Experiment B26"
   ]
  },
  {
   "cell_type": "code",
   "execution_count": null,
   "metadata": {},
   "outputs": [],
   "source": [
    "## d = 20, m = 80\n",
    "n_features = n_features_default\n",
    "hidden_size = 80"
   ]
  },
  {
   "cell_type": "code",
   "execution_count": null,
   "metadata": {},
   "outputs": [],
   "source": [
    "## regrets for h1, h2, h3\n",
    "experiment(lin_neural, ucb_ts, h1, n_features, hidden_size, n_samples=n_samples, save='reg_h1_CNTSOpt_20_80')"
   ]
  },
  {
   "cell_type": "code",
   "execution_count": null,
   "metadata": {},
   "outputs": [],
   "source": [
    "experiment(lin_neural, ucb_ts, h2, n_features, hidden_size, n_samples=n_samples, save='reg_h2_CNTSOpt_20_80')"
   ]
  },
  {
   "cell_type": "code",
   "execution_count": null,
   "metadata": {},
   "outputs": [],
   "source": [
    "experiment(lin_neural, ucb_ts, h3, n_features, hidden_size, n_samples=n_samples, save='reg_h3_CNTSOpt_20_80')"
   ]
  },
  {
   "cell_type": "markdown",
   "metadata": {},
   "source": [
    "##### Experiment B27"
   ]
  },
  {
   "cell_type": "code",
   "execution_count": null,
   "metadata": {},
   "outputs": [],
   "source": [
    "## d = 20, m = 100\n",
    "n_features = n_features_default\n",
    "hidden_size = 100"
   ]
  },
  {
   "cell_type": "code",
   "execution_count": null,
   "metadata": {},
   "outputs": [],
   "source": [
    "## regrets for h1, h2, h3\n",
    "experiment(lin_neural, ucb_ts, h1, n_features, hidden_size, n_samples=n_samples, save='reg_h1_CNTSOpt_20_100')"
   ]
  },
  {
   "cell_type": "code",
   "execution_count": null,
   "metadata": {},
   "outputs": [],
   "source": [
    "experiment(lin_neural, ucb_ts, h2, n_features, hidden_size, n_samples=n_samples, save='reg_h2_CNTSOpt_20_100')"
   ]
  },
  {
   "cell_type": "code",
   "execution_count": null,
   "metadata": {},
   "outputs": [],
   "source": [
    "experiment(lin_neural, ucb_ts, h3, n_features, hidden_size, n_samples=n_samples, save='reg_h3_CNTSOpt_20_100')"
   ]
  }
 ],
 "metadata": {
  "kernelspec": {
   "display_name": "Python 3",
   "language": "python",
   "name": "python3"
  }
 },
 "nbformat": 4,
 "nbformat_minor": 4
}
