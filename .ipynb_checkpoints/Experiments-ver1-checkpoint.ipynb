{
 "cells": [
  {
   "cell_type": "markdown",
   "metadata": {},
   "source": [
    "# Settings"
   ]
  },
  {
   "cell_type": "code",
   "execution_count": 1,
   "metadata": {},
   "outputs": [],
   "source": [
    "import numpy as np\n",
    "import torch\n",
    "import os\n",
    "from module_space import *\n",
    "\n",
    "if not os.path.exists('regrets'):\n",
    "    os.mkdir('regrets')"
   ]
  },
  {
   "cell_type": "markdown",
   "metadata": {},
   "source": [
    "### Bandit settings"
   ]
  },
  {
   "cell_type": "code",
   "execution_count": 27,
   "metadata": {},
   "outputs": [],
   "source": [
    "T = 1000\n",
    "### T = 200\n",
    "n_arms = 12 # N\n",
    "n_features_default = 20 # d\n",
    "n_assortment = 4 # K\n",
    "n_samples = 30 # M, number of samples per each round and arm, for TS\n",
    "noise_std = 1 # noise of reward: xi = noise_std*N(0,1)\n",
    "### noise_std = 0.01 # noise of reward: xi = noise_std*N(0,1)\n",
    "\n",
    "n_sim = 10 # number of simulations\n",
    "### n_sim = 5 # number of simulations\n",
    "\n",
    "def F(x): # round_reward_function\n",
    "    if len(np.shape(x)) == 1: # if x is a vector\n",
    "        return np.sum(x)\n",
    "    else: # if x is a matrix\n",
    "        return np.sum(x, axis=1)                "
   ]
  },
  {
   "cell_type": "markdown",
   "metadata": {},
   "source": [
    "### Parameter settings"
   ]
  },
  {
   "cell_type": "code",
   "execution_count": 3,
   "metadata": {},
   "outputs": [],
   "source": [
    "reg_factor = 1 # lambda\n",
    "delta = 0.1 # delta\n",
    "exploration_variance = 1 # nu, for TS\n",
    "confidence_scaling_factor = 1 # gamma, for UCB"
   ]
  },
  {
   "cell_type": "markdown",
   "metadata": {},
   "source": [
    "### Neural network settings"
   ]
  },
  {
   "cell_type": "code",
   "execution_count": 45,
   "metadata": {},
   "outputs": [],
   "source": [
    "hidden_size_default = 60 # m\n",
    "epochs = 100 # repeat training for each period\n",
    "training_period = 5 ### training period\n",
    "training_window = 100\n",
    "learning_rate = 0.01\n",
    "### p = 0.2\n",
    "p = 0.0 # no dropout\n",
    "\n",
    "use_cuda = False\n",
    "\n",
    "#if torch.cuda.is_available():\n",
    "#    use_cuda = True\n",
    "#else:\n",
    "#    use_cuda = False"
   ]
  },
  {
   "cell_type": "markdown",
   "metadata": {},
   "source": [
    "# Experiment descirption\n",
    "### Hidden functions\n",
    "- Linear: $h_{1}(\\mathbf{x}_{t,i}) = \\mathbf{x}_{t,i}^{\\top}\\mathbf{a}$\n",
    "- Quadratic: $h_{2}(\\mathbf{x}_{t,i}) = (\\mathbf{x}_{t,i}^{\\top}\\mathbf{a})^{2}$\n",
    "- Non-linear: $h_{3}(\\mathbf{x}_{t,i}) = \\cos(\\pi \\mathbf{x}_{t,i}^{\\top}\\mathbf{a})$\n",
    "- where $\\mathbf{a} \\sim N(0,1)/\\|\\mathbf{a}\\|_{2}$\n",
    "\n",
    "### For each hidden function, compare the following algorithms\n",
    "- CombLinUCB\n",
    "- CombLinTS\n",
    "- CN-UCB\n",
    "- CN-TS(1): single reward sample\n",
    "- CN-TS(30): optimistic sampling, sample size = 30 (default sample size is 1)\n",
    "\n",
    "### Ablation study of feature dimension *d* and neural network width *m*\n",
    "- Default value: $d = 20, m = 60$\n",
    "- $d = \\{20, 100\\}$  for all algorithms\n",
    "- $d = \\{20, 40, 60, 80, 100\\}$ for CN-UCB, CN-TS(1), and CN-TS(30)\n",
    "- $m = \\{20, 40, 60, 80, 100\\}$ for CN-UCB, CN-TS(1), and CN-TS(30)"
   ]
  },
  {
   "cell_type": "markdown",
   "metadata": {},
   "source": [
    "# Experiment settings"
   ]
  },
  {
   "cell_type": "markdown",
   "metadata": {},
   "source": [
    "### Hidden function, bandit, learning algorithm and regret settings"
   ]
  },
  {
   "cell_type": "code",
   "execution_count": 46,
   "metadata": {},
   "outputs": [],
   "source": [
    "h1 = \"h1\"\n",
    "h2 = \"h2\"\n",
    "h3 = \"h3\""
   ]
  },
  {
   "cell_type": "code",
   "execution_count": 47,
   "metadata": {},
   "outputs": [],
   "source": [
    "def experiment(lin_neural, ucb_ts, h_str, n_features=20, hidden_size=100, n_samples=1, save = ''):\n",
    "    \"\"\" kind explanation\n",
    "    \"\"\"\n",
    "    \n",
    "    ## Hidden function\n",
    "    SEED = 1234\n",
    "    np.random.seed(SEED)\n",
    "\n",
    "    a = np.random.randn(n_features)\n",
    "    a /= np.linalg.norm(a, ord=2)\n",
    "    \n",
    "    if h_str == \"h1\":\n",
    "        ### h = lambda x: np.dot(x, a)\n",
    "        h = lambda x: 100*np.dot(x, a)\n",
    "    elif h_str == \"h2\":\n",
    "        ### h = lambda x: np.dot(x, a)**2\n",
    "        h = lambda x: 100*np.dot(x, a)**2\n",
    "    elif h_str == \"h3\":\n",
    "        ### h = lambda x: np.cos(np.pi*np.dot(x, a))\n",
    "        h = lambda x: 100*np.cos(np.pi*np.dot(x, a))\n",
    "    \n",
    "    ## Bandit\n",
    "    bandit = ContextualBandit(T,\n",
    "                              n_arms,\n",
    "                              n_features, \n",
    "                              h,\n",
    "                              noise_std=noise_std,\n",
    "                              n_assortment=n_assortment,\n",
    "                              n_samples=n_samples,\n",
    "                              round_reward_function=F\n",
    "                             )\n",
    "    \n",
    "    ## Learning algorithm and regret\n",
    "    regrets = np.empty((n_sim, T))\n",
    "    \n",
    "    for i in range(n_sim):\n",
    "        bandit.reset_rewards()\n",
    "        \n",
    "        if lin_neural == Neural:\n",
    "            model = lin_neural(ucb_ts,\n",
    "                               bandit,\n",
    "                               hidden_size=hidden_size,\n",
    "                               reg_factor=reg_factor,\n",
    "                               delta=delta,\n",
    "                               confidence_scaling_factor=confidence_scaling_factor,\n",
    "                               exploration_variance=exploration_variance,\n",
    "                               p=p,\n",
    "                               training_window=training_window,\n",
    "                               learning_rate=learning_rate,\n",
    "                               epochs=epochs,\n",
    "                               training_period=training_period,\n",
    "                               use_cuda=use_cuda\n",
    "                              )\n",
    "            \n",
    "            model.set_init_param(model.model.parameters()) # keep initial parameters for regularization\n",
    "            \n",
    "        if lin_neural == Lin:\n",
    "            model = lin_neural(ucb_ts,\n",
    "                               bandit,\n",
    "                               reg_factor=reg_factor,\n",
    "                               delta=delta,\n",
    "                               confidence_scaling_factor=confidence_scaling_factor,\n",
    "                               exploration_variance=exploration_variance\n",
    "                              )\n",
    "        \n",
    "        model.run()\n",
    "        regrets[i] = np.cumsum(model.regrets)\n",
    "    \n",
    "    if save: # save regrets\n",
    "        np.save('regrets/' + save, regrets)    "
   ]
  },
  {
   "cell_type": "markdown",
   "metadata": {},
   "source": [
    "# Experiment A: Algorithm vs Regret"
   ]
  },
  {
   "cell_type": "markdown",
   "metadata": {},
   "source": [
    "### CN-UCB"
   ]
  },
  {
   "cell_type": "code",
   "execution_count": null,
   "metadata": {},
   "outputs": [],
   "source": [
    "lin_neural = Neural\n",
    "ucb_ts = \"UCB\""
   ]
  },
  {
   "cell_type": "markdown",
   "metadata": {},
   "source": [
    "##### Experiment A1"
   ]
  },
  {
   "cell_type": "code",
   "execution_count": 8,
   "metadata": {},
   "outputs": [],
   "source": [
    "## d = 20, m = 60\n",
    "n_features = n_features_default\n",
    "hidden_size = hidden_size_default"
   ]
  },
  {
   "cell_type": "code",
   "execution_count": 9,
   "metadata": {},
   "outputs": [
    {
     "name": "stderr",
     "output_type": "stream",
     "text": [
      "100%|██████████| 1000/1000 [00:43<00:00, 23.06it/s, total regret=1.27e+3, % optimal set of arms=58.70%]\n",
      "100%|██████████| 1000/1000 [00:45<00:00, 21.91it/s, total regret=1.19e+3, % optimal set of arms=61.00%]\n",
      "100%|██████████| 1000/1000 [00:44<00:00, 22.55it/s, total regret=1.22e+3, % optimal set of arms=63.20%]\n",
      "100%|██████████| 1000/1000 [00:45<00:00, 21.85it/s, total regret=1.26e+3, % optimal set of arms=62.10%]\n",
      "100%|██████████| 1000/1000 [00:40<00:00, 24.57it/s, total regret=1.27e+3, % optimal set of arms=57.90%]\n",
      "100%|██████████| 1000/1000 [00:41<00:00, 23.83it/s, total regret=874, % optimal set of arms=65.60%]\n",
      "100%|██████████| 1000/1000 [00:44<00:00, 22.72it/s, total regret=882, % optimal set of arms=63.80%]\n",
      "100%|██████████| 1000/1000 [00:44<00:00, 22.69it/s, total regret=1.2e+3, % optimal set of arms=61.90%]\n",
      "100%|██████████| 1000/1000 [00:43<00:00, 22.81it/s, total regret=697, % optimal set of arms=64.10%]\n",
      "100%|██████████| 1000/1000 [00:43<00:00, 22.94it/s, total regret=1.12e+3, % optimal set of arms=61.50%]\n",
      "100%|██████████| 1000/1000 [00:44<00:00, 22.72it/s, total regret=1.03e+3, % optimal set of arms=61.10%]\n",
      "100%|██████████| 1000/1000 [00:43<00:00, 22.96it/s, total regret=1.32e+3, % optimal set of arms=58.10%]\n",
      "100%|██████████| 1000/1000 [00:43<00:00, 22.87it/s, total regret=1.38e+3, % optimal set of arms=63.80%]\n",
      "100%|██████████| 1000/1000 [00:43<00:00, 22.81it/s, total regret=1.37e+3, % optimal set of arms=62.10%]\n",
      "100%|██████████| 1000/1000 [00:43<00:00, 22.73it/s, total regret=1.12e+3, % optimal set of arms=62.70%]\n",
      "100%|██████████| 1000/1000 [00:43<00:00, 22.81it/s, total regret=1.26e+3, % optimal set of arms=59.10%]\n",
      "100%|██████████| 1000/1000 [00:42<00:00, 23.33it/s, total regret=1.5e+3, % optimal set of arms=63.00%]\n",
      "100%|██████████| 1000/1000 [00:43<00:00, 22.90it/s, total regret=1.26e+3, % optimal set of arms=62.30%]\n",
      "100%|██████████| 1000/1000 [00:43<00:00, 22.84it/s, total regret=1.18e+3, % optimal set of arms=59.90%]\n",
      "100%|██████████| 1000/1000 [00:43<00:00, 22.85it/s, total regret=1.27e+3, % optimal set of arms=61.90%]\n"
     ]
    }
   ],
   "source": [
    "## regrets for h1, h2, h3\n",
    "experiment(lin_neural, ucb_ts, h1, n_features, hidden_size, save='reg_h1_CNUCB_20_60')"
   ]
  },
  {
   "cell_type": "code",
   "execution_count": 10,
   "metadata": {},
   "outputs": [
    {
     "name": "stderr",
     "output_type": "stream",
     "text": [
      "100%|██████████| 1000/1000 [00:43<00:00, 22.96it/s, total regret=1.81e+4, % optimal set of arms=2.30%]\n",
      "100%|██████████| 1000/1000 [00:43<00:00, 22.94it/s, total regret=5.45e+3, % optimal set of arms=15.80%]\n",
      "100%|██████████| 1000/1000 [00:43<00:00, 23.00it/s, total regret=1.41e+3, % optimal set of arms=26.60%]\n",
      "100%|██████████| 1000/1000 [00:43<00:00, 22.92it/s, total regret=1.85e+4, % optimal set of arms=2.70%]\n",
      "100%|██████████| 1000/1000 [00:43<00:00, 22.95it/s, total regret=2.71e+3, % optimal set of arms=19.60%]\n",
      "100%|██████████| 1000/1000 [00:43<00:00, 22.83it/s, total regret=1.84e+4, % optimal set of arms=2.60%]\n",
      "100%|██████████| 1000/1000 [00:44<00:00, 22.60it/s, total regret=3.02e+3, % optimal set of arms=19.80%]\n",
      "100%|██████████| 1000/1000 [00:43<00:00, 22.73it/s, total regret=6.36e+3, % optimal set of arms=13.10%]\n",
      "100%|██████████| 1000/1000 [00:43<00:00, 22.86it/s, total regret=1.71e+4, % optimal set of arms=2.80%]\n",
      "100%|██████████| 1000/1000 [00:43<00:00, 22.93it/s, total regret=1.44e+3, % optimal set of arms=21.10%]\n",
      "100%|██████████| 1000/1000 [00:43<00:00, 22.80it/s, total regret=2.37e+3, % optimal set of arms=18.60%]\n",
      "100%|██████████| 1000/1000 [00:43<00:00, 23.07it/s, total regret=1.82e+4, % optimal set of arms=2.40%]\n",
      "100%|██████████| 1000/1000 [00:43<00:00, 22.84it/s, total regret=3.11e+3, % optimal set of arms=20.20%]\n",
      "100%|██████████| 1000/1000 [00:43<00:00, 22.85it/s, total regret=3.35e+3, % optimal set of arms=21.30%]\n",
      "100%|██████████| 1000/1000 [00:43<00:00, 22.82it/s, total regret=1.48e+3, % optimal set of arms=24.00%]\n",
      "100%|██████████| 1000/1000 [00:43<00:00, 22.92it/s, total regret=1.81e+4, % optimal set of arms=2.50%]\n",
      "100%|██████████| 1000/1000 [00:44<00:00, 22.71it/s, total regret=1.37e+3, % optimal set of arms=22.10%]\n",
      "100%|██████████| 1000/1000 [00:44<00:00, 22.60it/s, total regret=1.3e+3, % optimal set of arms=25.10%]\n",
      "100%|██████████| 1000/1000 [00:43<00:00, 22.93it/s, total regret=1.12e+3, % optimal set of arms=28.00%]\n",
      "100%|██████████| 1000/1000 [00:44<00:00, 22.66it/s, total regret=2.02e+3, % optimal set of arms=25.00%]\n"
     ]
    }
   ],
   "source": [
    "experiment(lin_neural, ucb_ts, h2, n_features, hidden_size, save='reg_h2_CNUCB_20_60')"
   ]
  },
  {
   "cell_type": "code",
   "execution_count": 11,
   "metadata": {},
   "outputs": [
    {
     "name": "stderr",
     "output_type": "stream",
     "text": [
      "100%|██████████| 1000/1000 [00:44<00:00, 22.59it/s, total regret=5.68e+4, % optimal set of arms=0.00%]\n",
      "100%|██████████| 1000/1000 [00:44<00:00, 22.50it/s, total regret=1.33e+4, % optimal set of arms=1.40%]\n",
      "100%|██████████| 1000/1000 [00:43<00:00, 22.84it/s, total regret=7.91e+4, % optimal set of arms=0.00%]\n",
      "100%|██████████| 1000/1000 [00:44<00:00, 22.64it/s, total regret=6.91e+4, % optimal set of arms=0.00%]\n",
      "100%|██████████| 1000/1000 [00:44<00:00, 22.50it/s, total regret=6.9e+4, % optimal set of arms=0.00%]\n",
      "100%|██████████| 1000/1000 [00:44<00:00, 22.65it/s, total regret=4.29e+4, % optimal set of arms=0.10%]\n",
      "100%|██████████| 1000/1000 [00:44<00:00, 22.50it/s, total regret=6.66e+4, % optimal set of arms=0.00%]\n",
      "100%|██████████| 1000/1000 [00:44<00:00, 22.67it/s, total regret=9.01e+4, % optimal set of arms=0.10%]\n",
      "100%|██████████| 1000/1000 [00:44<00:00, 22.45it/s, total regret=8.08e+4, % optimal set of arms=0.00%]\n",
      "100%|██████████| 1000/1000 [00:43<00:00, 23.23it/s, total regret=7.62e+4, % optimal set of arms=0.00%]\n",
      "100%|██████████| 1000/1000 [00:45<00:00, 22.19it/s, total regret=5.94e+4, % optimal set of arms=0.00%]\n",
      "100%|██████████| 1000/1000 [00:43<00:00, 22.80it/s, total regret=6.03e+4, % optimal set of arms=0.00%]\n",
      "100%|██████████| 1000/1000 [00:43<00:00, 22.95it/s, total regret=5.84e+4, % optimal set of arms=0.00%]\n",
      "100%|██████████| 1000/1000 [00:44<00:00, 22.70it/s, total regret=3.21e+4, % optimal set of arms=0.20%]\n",
      "100%|██████████| 1000/1000 [00:43<00:00, 22.76it/s, total regret=1.38e+4, % optimal set of arms=1.40%]\n",
      "100%|██████████| 1000/1000 [00:44<00:00, 22.58it/s, total regret=1.96e+4, % optimal set of arms=0.60%]\n",
      "100%|██████████| 1000/1000 [00:44<00:00, 22.69it/s, total regret=7.97e+4, % optimal set of arms=0.00%]\n",
      "100%|██████████| 1000/1000 [00:43<00:00, 22.80it/s, total regret=2.05e+4, % optimal set of arms=0.50%]\n",
      "100%|██████████| 1000/1000 [00:43<00:00, 22.89it/s, total regret=7.79e+4, % optimal set of arms=0.00%]\n",
      "100%|██████████| 1000/1000 [00:43<00:00, 23.02it/s, total regret=1.36e+4, % optimal set of arms=1.20%]\n"
     ]
    }
   ],
   "source": [
    "experiment(lin_neural, ucb_ts, h3, n_features, hidden_size, save='reg_h3_CNUCB_20_60')"
   ]
  },
  {
   "cell_type": "markdown",
   "metadata": {},
   "source": [
    "##### Experiment A2"
   ]
  },
  {
   "cell_type": "code",
   "execution_count": null,
   "metadata": {},
   "outputs": [],
   "source": [
    "## d = 100, m = 60\n",
    "n_features = 100\n",
    "hidden_size = hidden_size_default"
   ]
  },
  {
   "cell_type": "code",
   "execution_count": null,
   "metadata": {},
   "outputs": [],
   "source": [
    "## regrets for h1, h2, h3\n",
    "experiment(lin_neural, ucb_ts, h1, n_features, hidden_size, save='reg_h1_CNUCB_100_60')"
   ]
  },
  {
   "cell_type": "code",
   "execution_count": null,
   "metadata": {},
   "outputs": [],
   "source": [
    "experiment(lin_neural, ucb_ts, h2, n_features, hidden_size, save='reg_h2_CNUCB_100_60')"
   ]
  },
  {
   "cell_type": "code",
   "execution_count": null,
   "metadata": {},
   "outputs": [],
   "source": [
    "experiment(lin_neural, ucb_ts, h3, n_features, hidden_size, save='reg_h3_CNUCB_100_60')"
   ]
  },
  {
   "cell_type": "markdown",
   "metadata": {},
   "source": [
    "### CN-TS"
   ]
  },
  {
   "cell_type": "code",
   "execution_count": null,
   "metadata": {},
   "outputs": [],
   "source": [
    "lin_neural = Neural\n",
    "ucb_ts = \"TS\""
   ]
  },
  {
   "cell_type": "markdown",
   "metadata": {},
   "source": [
    "##### Experiment A3"
   ]
  },
  {
   "cell_type": "code",
   "execution_count": 13,
   "metadata": {},
   "outputs": [],
   "source": [
    "## d = 20, m = 60\n",
    "n_features = n_features_default\n",
    "hidden_size = hidden_size_default"
   ]
  },
  {
   "cell_type": "code",
   "execution_count": 14,
   "metadata": {},
   "outputs": [
    {
     "name": "stderr",
     "output_type": "stream",
     "text": [
      "100%|██████████| 1000/1000 [00:43<00:00, 22.86it/s, total regret=885, % optimal set of arms=62.90%]\n",
      "100%|██████████| 1000/1000 [00:44<00:00, 22.68it/s, total regret=1.08e+3, % optimal set of arms=62.60%]\n",
      "100%|██████████| 1000/1000 [00:43<00:00, 22.87it/s, total regret=818, % optimal set of arms=65.10%]\n",
      "100%|██████████| 1000/1000 [00:44<00:00, 22.63it/s, total regret=1.41e+3, % optimal set of arms=62.60%]\n",
      "100%|██████████| 1000/1000 [00:44<00:00, 22.72it/s, total regret=1.1e+3, % optimal set of arms=60.60%]\n",
      "100%|██████████| 1000/1000 [00:44<00:00, 22.61it/s, total regret=1.53e+3, % optimal set of arms=59.20%]\n",
      "100%|██████████| 1000/1000 [00:44<00:00, 22.71it/s, total regret=1.2e+3, % optimal set of arms=62.10%]\n",
      "100%|██████████| 1000/1000 [00:43<00:00, 22.79it/s, total regret=1.37e+3, % optimal set of arms=60.80%]\n",
      "100%|██████████| 1000/1000 [00:44<00:00, 22.68it/s, total regret=1.28e+3, % optimal set of arms=60.40%]\n",
      "100%|██████████| 1000/1000 [00:43<00:00, 22.89it/s, total regret=1.21e+3, % optimal set of arms=61.60%]\n",
      "100%|██████████| 1000/1000 [00:43<00:00, 23.05it/s, total regret=1.32e+3, % optimal set of arms=60.30%]\n",
      "100%|██████████| 1000/1000 [00:43<00:00, 22.74it/s, total regret=1.13e+3, % optimal set of arms=60.00%]\n",
      "100%|██████████| 1000/1000 [00:43<00:00, 22.74it/s, total regret=1.29e+3, % optimal set of arms=57.50%]\n",
      "100%|██████████| 1000/1000 [00:43<00:00, 22.95it/s, total regret=1.23e+3, % optimal set of arms=64.80%]\n",
      "100%|██████████| 1000/1000 [00:44<00:00, 22.47it/s, total regret=1.32e+3, % optimal set of arms=60.20%]\n",
      "100%|██████████| 1000/1000 [00:44<00:00, 22.63it/s, total regret=1.26e+3, % optimal set of arms=58.40%]\n",
      "100%|██████████| 1000/1000 [00:43<00:00, 22.76it/s, total regret=1.1e+3, % optimal set of arms=62.30%]\n",
      "100%|██████████| 1000/1000 [00:44<00:00, 22.50it/s, total regret=945, % optimal set of arms=65.30%]\n",
      "100%|██████████| 1000/1000 [00:44<00:00, 22.67it/s, total regret=1.31e+3, % optimal set of arms=61.10%]\n",
      "100%|██████████| 1000/1000 [00:43<00:00, 22.79it/s, total regret=1.18e+3, % optimal set of arms=59.70%]\n"
     ]
    }
   ],
   "source": [
    "## regrets for h1, h2, h3\n",
    "experiment(lin_neural, ucb_ts, h1, n_features, hidden_size, save='reg_h1_CNTS_20_60')"
   ]
  },
  {
   "cell_type": "code",
   "execution_count": 15,
   "metadata": {},
   "outputs": [
    {
     "name": "stderr",
     "output_type": "stream",
     "text": [
      "100%|██████████| 1000/1000 [00:44<00:00, 22.67it/s, total regret=2.66e+3, % optimal set of arms=20.80%]\n",
      "100%|██████████| 1000/1000 [00:43<00:00, 22.90it/s, total regret=3.13e+3, % optimal set of arms=23.50%]\n",
      "100%|██████████| 1000/1000 [00:43<00:00, 22.81it/s, total regret=1.44e+3, % optimal set of arms=24.20%]\n",
      "100%|██████████| 1000/1000 [00:44<00:00, 22.56it/s, total regret=1.37e+3, % optimal set of arms=24.30%]\n",
      "100%|██████████| 1000/1000 [00:43<00:00, 22.79it/s, total regret=1.8e+4, % optimal set of arms=2.80%]\n",
      "100%|██████████| 1000/1000 [00:43<00:00, 22.82it/s, total regret=4.28e+3, % optimal set of arms=18.60%]\n",
      "100%|██████████| 1000/1000 [00:43<00:00, 22.91it/s, total regret=2.43e+3, % optimal set of arms=22.00%]\n",
      "100%|██████████| 1000/1000 [00:44<00:00, 22.53it/s, total regret=1.12e+3, % optimal set of arms=26.10%]\n",
      "100%|██████████| 1000/1000 [00:48<00:00, 20.77it/s, total regret=2.07e+3, % optimal set of arms=23.60%]\n",
      "100%|██████████| 1000/1000 [00:44<00:00, 22.50it/s, total regret=1.81e+4, % optimal set of arms=2.80%]\n",
      "100%|██████████| 1000/1000 [00:45<00:00, 21.87it/s, total regret=4.11e+3, % optimal set of arms=17.50%]\n",
      "100%|██████████| 1000/1000 [00:43<00:00, 22.88it/s, total regret=1.99e+3, % optimal set of arms=23.20%]\n",
      "100%|██████████| 1000/1000 [00:44<00:00, 22.45it/s, total regret=1.31e+3, % optimal set of arms=23.80%]\n",
      "100%|██████████| 1000/1000 [00:42<00:00, 23.55it/s, total regret=4.33e+3, % optimal set of arms=17.10%]\n",
      "100%|██████████| 1000/1000 [00:43<00:00, 22.76it/s, total regret=3.19e+3, % optimal set of arms=20.30%]\n",
      "100%|██████████| 1000/1000 [00:45<00:00, 22.09it/s, total regret=7.24e+3, % optimal set of arms=11.50%]\n",
      "100%|██████████| 1000/1000 [00:43<00:00, 22.95it/s, total regret=1.79e+4, % optimal set of arms=2.90%]\n",
      "100%|██████████| 1000/1000 [00:43<00:00, 22.81it/s, total regret=1.81e+4, % optimal set of arms=2.90%]\n",
      "100%|██████████| 1000/1000 [00:43<00:00, 22.88it/s, total regret=1.23e+4, % optimal set of arms=3.10%]\n",
      "100%|██████████| 1000/1000 [00:44<00:00, 22.62it/s, total regret=2.51e+3, % optimal set of arms=20.10%]\n"
     ]
    }
   ],
   "source": [
    "experiment(lin_neural, ucb_ts, h2, n_features, hidden_size, save='reg_h2_CNTS_20_60')"
   ]
  },
  {
   "cell_type": "code",
   "execution_count": 16,
   "metadata": {},
   "outputs": [
    {
     "name": "stderr",
     "output_type": "stream",
     "text": [
      "100%|██████████| 1000/1000 [00:43<00:00, 22.75it/s, total regret=6.88e+4, % optimal set of arms=0.00%]\n",
      "100%|██████████| 1000/1000 [00:43<00:00, 22.77it/s, total regret=8.9e+4, % optimal set of arms=0.00%]\n",
      "100%|██████████| 1000/1000 [00:43<00:00, 22.82it/s, total regret=1.95e+4, % optimal set of arms=1.00%]\n",
      "100%|██████████| 1000/1000 [00:43<00:00, 22.74it/s, total regret=8.27e+4, % optimal set of arms=0.00%]\n",
      "100%|██████████| 1000/1000 [00:44<00:00, 22.65it/s, total regret=6e+4, % optimal set of arms=0.00%]  \n",
      "100%|██████████| 1000/1000 [00:43<00:00, 22.87it/s, total regret=8.19e+4, % optimal set of arms=0.00%]\n",
      "100%|██████████| 1000/1000 [00:43<00:00, 22.73it/s, total regret=7.37e+4, % optimal set of arms=0.00%]\n",
      "100%|██████████| 1000/1000 [00:44<00:00, 22.65it/s, total regret=7.6e+4, % optimal set of arms=0.00%]\n",
      "100%|██████████| 1000/1000 [00:43<00:00, 22.79it/s, total regret=7.67e+4, % optimal set of arms=0.00%]\n",
      "100%|██████████| 1000/1000 [00:43<00:00, 22.90it/s, total regret=7.29e+4, % optimal set of arms=0.00%]\n",
      "100%|██████████| 1000/1000 [00:43<00:00, 22.83it/s, total regret=2.6e+4, % optimal set of arms=0.30%]\n",
      "100%|██████████| 1000/1000 [00:44<00:00, 22.51it/s, total regret=8.85e+4, % optimal set of arms=0.00%]\n",
      "100%|██████████| 1000/1000 [00:45<00:00, 22.18it/s, total regret=3.07e+4, % optimal set of arms=0.20%]\n",
      "100%|██████████| 1000/1000 [00:44<00:00, 22.57it/s, total regret=6.44e+4, % optimal set of arms=0.00%]\n",
      "100%|██████████| 1000/1000 [00:43<00:00, 22.84it/s, total regret=1.9e+4, % optimal set of arms=0.30%]\n",
      "100%|██████████| 1000/1000 [00:43<00:00, 22.94it/s, total regret=8.42e+4, % optimal set of arms=0.00%]\n",
      "100%|██████████| 1000/1000 [00:43<00:00, 22.75it/s, total regret=2.34e+4, % optimal set of arms=0.30%]\n",
      "100%|██████████| 1000/1000 [00:44<00:00, 22.58it/s, total regret=7.92e+4, % optimal set of arms=0.10%]\n",
      "100%|██████████| 1000/1000 [00:44<00:00, 22.69it/s, total regret=5.79e+4, % optimal set of arms=0.00%]\n",
      "100%|██████████| 1000/1000 [00:43<00:00, 22.77it/s, total regret=2.23e+4, % optimal set of arms=0.40%]\n"
     ]
    }
   ],
   "source": [
    "experiment(lin_neural, ucb_ts, h3, n_features, hidden_size, save='reg_h3_CNTS_20_60')"
   ]
  },
  {
   "cell_type": "markdown",
   "metadata": {},
   "source": [
    "##### Experiment A4"
   ]
  },
  {
   "cell_type": "code",
   "execution_count": null,
   "metadata": {},
   "outputs": [],
   "source": [
    "## d = 100, m = 60\n",
    "n_features = 100\n",
    "hidden_size = hidden_size_default"
   ]
  },
  {
   "cell_type": "code",
   "execution_count": null,
   "metadata": {},
   "outputs": [],
   "source": [
    "## regrets for h1, h2, h3\n",
    "experiment(lin_neural, ucb_ts, h1, n_features, hidden_size, save='reg_h1_CNTS_100_60')"
   ]
  },
  {
   "cell_type": "code",
   "execution_count": null,
   "metadata": {},
   "outputs": [],
   "source": [
    "experiment(lin_neural, ucb_ts, h2, n_features, hidden_size, save='reg_h2_CNTS_100_60')"
   ]
  },
  {
   "cell_type": "code",
   "execution_count": null,
   "metadata": {},
   "outputs": [],
   "source": [
    "experiment(lin_neural, ucb_ts, h3, n_features, hidden_size, save='reg_h3_CNTS_100_60')"
   ]
  },
  {
   "cell_type": "markdown",
   "metadata": {},
   "source": [
    "### CN-TS-Opt"
   ]
  },
  {
   "cell_type": "code",
   "execution_count": 17,
   "metadata": {},
   "outputs": [],
   "source": [
    "lin_neural = Neural\n",
    "ucb_ts = \"TS\""
   ]
  },
  {
   "cell_type": "markdown",
   "metadata": {},
   "source": [
    "##### Experiment A5"
   ]
  },
  {
   "cell_type": "code",
   "execution_count": 18,
   "metadata": {},
   "outputs": [],
   "source": [
    "## d = 20, m = 60\n",
    "n_features = n_features_default\n",
    "hidden_size = hidden_size_default"
   ]
  },
  {
   "cell_type": "code",
   "execution_count": 19,
   "metadata": {
    "scrolled": false
   },
   "outputs": [
    {
     "name": "stderr",
     "output_type": "stream",
     "text": [
      "100%|██████████| 1000/1000 [00:45<00:00, 22.12it/s, total regret=1.23e+3, % optimal set of arms=62.10%]\n",
      "100%|██████████| 1000/1000 [00:44<00:00, 22.61it/s, total regret=1.1e+3, % optimal set of arms=61.40%]\n",
      "100%|██████████| 1000/1000 [00:44<00:00, 22.71it/s, total regret=1.28e+3, % optimal set of arms=60.90%]\n",
      "100%|██████████| 1000/1000 [00:44<00:00, 22.59it/s, total regret=915, % optimal set of arms=62.60%]\n",
      "100%|██████████| 1000/1000 [00:45<00:00, 21.99it/s, total regret=1.13e+3, % optimal set of arms=60.30%]\n",
      "100%|██████████| 1000/1000 [00:43<00:00, 22.73it/s, total regret=1.13e+3, % optimal set of arms=61.10%]\n",
      "100%|██████████| 1000/1000 [00:44<00:00, 22.63it/s, total regret=1.43e+3, % optimal set of arms=62.60%]\n",
      "100%|██████████| 1000/1000 [00:44<00:00, 22.63it/s, total regret=905, % optimal set of arms=61.10%]\n",
      "100%|██████████| 1000/1000 [00:44<00:00, 22.24it/s, total regret=1.25e+3, % optimal set of arms=60.70%]\n",
      "100%|██████████| 1000/1000 [00:44<00:00, 22.33it/s, total regret=1.37e+3, % optimal set of arms=61.10%]\n",
      "100%|██████████| 1000/1000 [00:46<00:00, 21.61it/s, total regret=1.3e+3, % optimal set of arms=63.50%]\n",
      "100%|██████████| 1000/1000 [00:45<00:00, 22.18it/s, total regret=1.33e+3, % optimal set of arms=63.80%]\n",
      "100%|██████████| 1000/1000 [00:44<00:00, 22.46it/s, total regret=1.2e+3, % optimal set of arms=60.70%]\n",
      "100%|██████████| 1000/1000 [00:44<00:00, 22.45it/s, total regret=1.14e+3, % optimal set of arms=58.10%]\n",
      "100%|██████████| 1000/1000 [00:43<00:00, 22.73it/s, total regret=1.23e+3, % optimal set of arms=61.80%]\n",
      "100%|██████████| 1000/1000 [00:44<00:00, 22.67it/s, total regret=1.07e+3, % optimal set of arms=62.40%]\n",
      "100%|██████████| 1000/1000 [00:44<00:00, 22.71it/s, total regret=1.38e+3, % optimal set of arms=60.50%]\n",
      "100%|██████████| 1000/1000 [00:44<00:00, 22.52it/s, total regret=1.24e+3, % optimal set of arms=62.40%]\n",
      "100%|██████████| 1000/1000 [00:44<00:00, 22.50it/s, total regret=1.29e+3, % optimal set of arms=61.40%]\n",
      "100%|██████████| 1000/1000 [00:45<00:00, 21.89it/s, total regret=1.29e+3, % optimal set of arms=61.00%]\n"
     ]
    }
   ],
   "source": [
    "## regrets for h1, h2, h3\n",
    "experiment(lin_neural, ucb_ts, h1, n_features, hidden_size, n_samples=n_samples, save='reg_h1_CNTSOpt_20_60')"
   ]
  },
  {
   "cell_type": "code",
   "execution_count": 20,
   "metadata": {},
   "outputs": [
    {
     "name": "stderr",
     "output_type": "stream",
     "text": [
      "100%|██████████| 1000/1000 [00:44<00:00, 22.48it/s, total regret=1.85e+4, % optimal set of arms=2.00%]\n",
      "100%|██████████| 1000/1000 [00:44<00:00, 22.41it/s, total regret=3.46e+3, % optimal set of arms=21.00%]\n",
      "100%|██████████| 1000/1000 [00:44<00:00, 22.23it/s, total regret=1.79e+4, % optimal set of arms=2.30%]\n",
      "100%|██████████| 1000/1000 [00:44<00:00, 22.32it/s, total regret=1.79e+4, % optimal set of arms=3.20%]\n",
      "100%|██████████| 1000/1000 [00:45<00:00, 22.01it/s, total regret=1.61e+3, % optimal set of arms=24.10%]\n",
      "100%|██████████| 1000/1000 [00:45<00:00, 21.83it/s, total regret=1.8e+3, % optimal set of arms=23.00%]\n",
      "100%|██████████| 1000/1000 [00:44<00:00, 22.23it/s, total regret=1.83e+4, % optimal set of arms=2.70%]\n",
      "100%|██████████| 1000/1000 [00:44<00:00, 22.69it/s, total regret=1.84e+4, % optimal set of arms=2.90%]\n",
      "100%|██████████| 1000/1000 [00:47<00:00, 21.18it/s, total regret=1.79e+4, % optimal set of arms=3.00%]\n",
      "100%|██████████| 1000/1000 [00:45<00:00, 21.84it/s, total regret=1.8e+4, % optimal set of arms=2.60%]\n",
      "100%|██████████| 1000/1000 [00:45<00:00, 21.94it/s, total regret=1.77e+4, % optimal set of arms=2.80%]\n",
      "100%|██████████| 1000/1000 [00:43<00:00, 22.89it/s, total regret=1.49e+3, % optimal set of arms=23.20%]\n",
      "100%|██████████| 1000/1000 [00:43<00:00, 22.74it/s, total regret=1.32e+3, % optimal set of arms=24.70%]\n",
      "100%|██████████| 1000/1000 [00:43<00:00, 22.76it/s, total regret=1.8e+4, % optimal set of arms=2.70%]\n",
      "100%|██████████| 1000/1000 [00:43<00:00, 22.96it/s, total regret=9.89e+3, % optimal set of arms=7.50%]\n",
      "100%|██████████| 1000/1000 [00:44<00:00, 22.50it/s, total regret=4.36e+3, % optimal set of arms=17.50%]\n",
      "100%|██████████| 1000/1000 [00:43<00:00, 22.78it/s, total regret=4.79e+3, % optimal set of arms=20.40%]\n",
      "100%|██████████| 1000/1000 [00:44<00:00, 22.39it/s, total regret=6.21e+3, % optimal set of arms=12.00%]\n",
      "100%|██████████| 1000/1000 [00:43<00:00, 22.87it/s, total regret=2.33e+3, % optimal set of arms=23.20%]\n",
      "100%|██████████| 1000/1000 [00:43<00:00, 22.77it/s, total regret=2.34e+3, % optimal set of arms=22.90%]\n"
     ]
    }
   ],
   "source": [
    "experiment(lin_neural, ucb_ts, h2, n_features, hidden_size, n_samples=n_samples, save='reg_h2_CNTSOpt_20_60')"
   ]
  },
  {
   "cell_type": "code",
   "execution_count": 21,
   "metadata": {},
   "outputs": [
    {
     "name": "stderr",
     "output_type": "stream",
     "text": [
      "100%|██████████| 1000/1000 [00:44<00:00, 22.57it/s, total regret=1.41e+4, % optimal set of arms=1.40%]\n",
      "100%|██████████| 1000/1000 [00:44<00:00, 22.50it/s, total regret=6.19e+4, % optimal set of arms=0.00%]\n",
      "100%|██████████| 1000/1000 [00:44<00:00, 22.62it/s, total regret=2.6e+4, % optimal set of arms=0.30%]\n",
      "100%|██████████| 1000/1000 [00:43<00:00, 22.76it/s, total regret=1.56e+4, % optimal set of arms=0.80%]\n",
      "100%|██████████| 1000/1000 [00:43<00:00, 23.02it/s, total regret=1.8e+4, % optimal set of arms=1.20%]\n",
      "100%|██████████| 1000/1000 [00:43<00:00, 22.92it/s, total regret=6.78e+4, % optimal set of arms=0.00%]\n",
      "100%|██████████| 1000/1000 [00:43<00:00, 22.76it/s, total regret=5.71e+4, % optimal set of arms=0.00%]\n",
      "100%|██████████| 1000/1000 [00:44<00:00, 22.65it/s, total regret=5.77e+4, % optimal set of arms=0.00%]\n",
      "100%|██████████| 1000/1000 [00:43<00:00, 23.00it/s, total regret=6.96e+4, % optimal set of arms=0.10%]\n",
      "100%|██████████| 1000/1000 [00:44<00:00, 22.50it/s, total regret=4.45e+4, % optimal set of arms=0.10%]\n",
      "100%|██████████| 1000/1000 [00:44<00:00, 22.63it/s, total regret=3.48e+4, % optimal set of arms=0.10%]\n",
      "100%|██████████| 1000/1000 [00:44<00:00, 22.55it/s, total regret=8.36e+4, % optimal set of arms=0.10%]\n",
      "100%|██████████| 1000/1000 [00:44<00:00, 22.31it/s, total regret=5.79e+4, % optimal set of arms=0.00%]\n",
      "100%|██████████| 1000/1000 [00:44<00:00, 22.47it/s, total regret=7.55e+4, % optimal set of arms=0.00%]\n",
      "100%|██████████| 1000/1000 [00:44<00:00, 22.56it/s, total regret=7.9e+4, % optimal set of arms=0.00%]\n",
      "100%|██████████| 1000/1000 [00:43<00:00, 22.81it/s, total regret=1.3e+4, % optimal set of arms=1.10%]\n",
      "100%|██████████| 1000/1000 [00:51<00:00, 19.44it/s, total regret=1.34e+4, % optimal set of arms=0.90%]\n",
      "100%|██████████| 1000/1000 [00:43<00:00, 22.92it/s, total regret=8.3e+4, % optimal set of arms=0.00%]\n",
      "100%|██████████| 1000/1000 [00:43<00:00, 22.98it/s, total regret=5.86e+4, % optimal set of arms=0.00%]\n",
      "100%|██████████| 1000/1000 [00:43<00:00, 22.99it/s, total regret=5.86e+4, % optimal set of arms=0.00%]\n"
     ]
    }
   ],
   "source": [
    "experiment(lin_neural, ucb_ts, h3, n_features, hidden_size, n_samples=n_samples, save='reg_h3_CNTSOpt_20_60')"
   ]
  },
  {
   "cell_type": "markdown",
   "metadata": {},
   "source": [
    "##### Experiment A6"
   ]
  },
  {
   "cell_type": "code",
   "execution_count": 22,
   "metadata": {},
   "outputs": [],
   "source": [
    "## d = 100, m = 60\n",
    "n_features = 100\n",
    "hidden_size = hidden_size_default"
   ]
  },
  {
   "cell_type": "code",
   "execution_count": 23,
   "metadata": {},
   "outputs": [
    {
     "name": "stderr",
     "output_type": "stream",
     "text": [
      "100%|██████████| 1000/1000 [19:16<00:00,  1.16s/it, total regret=1.5e+3, % optimal set of arms=32.80%]\n",
      "100%|██████████| 1000/1000 [19:12<00:00,  1.15s/it, total regret=1.48e+3, % optimal set of arms=36.80%]\n",
      "100%|██████████| 1000/1000 [19:03<00:00,  1.14s/it, total regret=1.57e+3, % optimal set of arms=35.60%]\n",
      "100%|██████████| 1000/1000 [19:09<00:00,  1.15s/it, total regret=1.89e+3, % optimal set of arms=35.70%]\n",
      "100%|██████████| 1000/1000 [19:07<00:00,  1.15s/it, total regret=1.45e+3, % optimal set of arms=35.30%]\n",
      "100%|██████████| 1000/1000 [19:02<00:00,  1.14s/it, total regret=1.63e+3, % optimal set of arms=34.80%]\n",
      "100%|██████████| 1000/1000 [19:19<00:00,  1.16s/it, total regret=1.53e+3, % optimal set of arms=35.40%]\n",
      "100%|██████████| 1000/1000 [19:21<00:00,  1.16s/it, total regret=1.72e+3, % optimal set of arms=36.30%]\n",
      " 75%|███████▍  | 749/1000 [14:21<04:48,  1.15s/it, total regret=1.34e+3, % optimal set of arms=34.31%]\n"
     ]
    },
    {
     "ename": "KeyboardInterrupt",
     "evalue": "",
     "output_type": "error",
     "traceback": [
      "\u001b[0;31m---------------------------------------------------------------------------\u001b[0m",
      "\u001b[0;31mKeyboardInterrupt\u001b[0m                         Traceback (most recent call last)",
      "\u001b[0;32m<ipython-input-23-ce889c3478a3>\u001b[0m in \u001b[0;36m<module>\u001b[0;34m\u001b[0m\n\u001b[1;32m      1\u001b[0m \u001b[0;31m## regrets for h1, h2, h3\u001b[0m\u001b[0;34m\u001b[0m\u001b[0;34m\u001b[0m\u001b[0;34m\u001b[0m\u001b[0m\n\u001b[0;32m----> 2\u001b[0;31m \u001b[0mexperiment\u001b[0m\u001b[0;34m(\u001b[0m\u001b[0mlin_neural\u001b[0m\u001b[0;34m,\u001b[0m \u001b[0mucb_ts\u001b[0m\u001b[0;34m,\u001b[0m \u001b[0mh1\u001b[0m\u001b[0;34m,\u001b[0m \u001b[0mn_features\u001b[0m\u001b[0;34m,\u001b[0m \u001b[0mhidden_size\u001b[0m\u001b[0;34m,\u001b[0m \u001b[0mn_samples\u001b[0m\u001b[0;34m=\u001b[0m\u001b[0mn_samples\u001b[0m\u001b[0;34m,\u001b[0m \u001b[0msave\u001b[0m\u001b[0;34m=\u001b[0m\u001b[0;34m'reg_h1_CNTSOpt_100_60'\u001b[0m\u001b[0;34m)\u001b[0m\u001b[0;34m\u001b[0m\u001b[0;34m\u001b[0m\u001b[0m\n\u001b[0m",
      "\u001b[0;32m<ipython-input-6-f2c739a5396e>\u001b[0m in \u001b[0;36mexperiment\u001b[0;34m(lin_neural, ucb_ts, h_str, n_features, hidden_size, n_samples, save)\u001b[0m\n\u001b[1;32m     64\u001b[0m                               )\n\u001b[1;32m     65\u001b[0m \u001b[0;34m\u001b[0m\u001b[0m\n\u001b[0;32m---> 66\u001b[0;31m         \u001b[0mmodel\u001b[0m\u001b[0;34m.\u001b[0m\u001b[0mrun\u001b[0m\u001b[0;34m(\u001b[0m\u001b[0;34m)\u001b[0m\u001b[0;34m\u001b[0m\u001b[0;34m\u001b[0m\u001b[0m\n\u001b[0m\u001b[1;32m     67\u001b[0m         \u001b[0mregrets\u001b[0m\u001b[0;34m[\u001b[0m\u001b[0mi\u001b[0m\u001b[0;34m]\u001b[0m \u001b[0;34m=\u001b[0m \u001b[0mnp\u001b[0m\u001b[0;34m.\u001b[0m\u001b[0mcumsum\u001b[0m\u001b[0;34m(\u001b[0m\u001b[0mmodel\u001b[0m\u001b[0;34m.\u001b[0m\u001b[0mregrets\u001b[0m\u001b[0;34m)\u001b[0m\u001b[0;34m\u001b[0m\u001b[0;34m\u001b[0m\u001b[0m\n\u001b[1;32m     68\u001b[0m \u001b[0;34m\u001b[0m\u001b[0m\n",
      "\u001b[0;32m~/combinatorial_neural_bandits/module_space/ucb_ts.py\u001b[0m in \u001b[0;36mrun\u001b[0;34m(self)\u001b[0m\n\u001b[1;32m    230\u001b[0m                 \u001b[0mself\u001b[0m\u001b[0;34m.\u001b[0m\u001b[0mtrain\u001b[0m\u001b[0;34m(\u001b[0m\u001b[0;34m)\u001b[0m \u001b[0;31m### lin and neural training are different\u001b[0m\u001b[0;34m\u001b[0m\u001b[0;34m\u001b[0m\u001b[0m\n\u001b[1;32m    231\u001b[0m                 \u001b[0;31m# update exploration indicator A_inv\u001b[0m\u001b[0;34m\u001b[0m\u001b[0;34m\u001b[0m\u001b[0;34m\u001b[0m\u001b[0m\n\u001b[0;32m--> 232\u001b[0;31m                 \u001b[0mself\u001b[0m\u001b[0;34m.\u001b[0m\u001b[0mupdate_A_inv\u001b[0m\u001b[0;34m(\u001b[0m\u001b[0;34m)\u001b[0m\u001b[0;34m\u001b[0m\u001b[0;34m\u001b[0m\u001b[0m\n\u001b[0m\u001b[1;32m    233\u001b[0m \u001b[0;34m\u001b[0m\u001b[0m\n\u001b[1;32m    234\u001b[0m                 \u001b[0;31m## compute regret\u001b[0m\u001b[0;34m\u001b[0m\u001b[0;34m\u001b[0m\u001b[0;34m\u001b[0m\u001b[0m\n",
      "\u001b[0;32m~/combinatorial_neural_bandits/module_space/ucb_ts.py\u001b[0m in \u001b[0;36mupdate_A_inv\u001b[0;34m(self)\u001b[0m\n\u001b[1;32m    201\u001b[0m         \"\"\"Update A_inv by using an iteration of Sherman_Morrison formula\n\u001b[1;32m    202\u001b[0m         \"\"\"\n\u001b[0;32m--> 203\u001b[0;31m         self.A_inv = inv_sherman_morrison_iter(\n\u001b[0m\u001b[1;32m    204\u001b[0m             \u001b[0mself\u001b[0m\u001b[0;34m.\u001b[0m\u001b[0mgrad_approx\u001b[0m\u001b[0;34m[\u001b[0m\u001b[0mself\u001b[0m\u001b[0;34m.\u001b[0m\u001b[0maction\u001b[0m\u001b[0;34m]\u001b[0m\u001b[0;34m,\u001b[0m\u001b[0;34m\u001b[0m\u001b[0;34m\u001b[0m\u001b[0m\n\u001b[1;32m    205\u001b[0m             \u001b[0mself\u001b[0m\u001b[0;34m.\u001b[0m\u001b[0mA_inv\u001b[0m\u001b[0;34m\u001b[0m\u001b[0;34m\u001b[0m\u001b[0m\n",
      "\u001b[0;32m~/combinatorial_neural_bandits/module_space/utils.py\u001b[0m in \u001b[0;36minv_sherman_morrison_iter\u001b[0;34m(a, A_inv)\u001b[0m\n\u001b[1;32m     17\u001b[0m     \u001b[0;32mfor\u001b[0m \u001b[0mu\u001b[0m \u001b[0;32min\u001b[0m \u001b[0ma\u001b[0m\u001b[0;34m:\u001b[0m\u001b[0;34m\u001b[0m\u001b[0;34m\u001b[0m\u001b[0m\n\u001b[1;32m     18\u001b[0m         \u001b[0mAu\u001b[0m \u001b[0;34m=\u001b[0m \u001b[0mnp\u001b[0m\u001b[0;34m.\u001b[0m\u001b[0mdot\u001b[0m\u001b[0;34m(\u001b[0m\u001b[0mtemp\u001b[0m\u001b[0;34m,\u001b[0m \u001b[0mu\u001b[0m\u001b[0;34m)\u001b[0m\u001b[0;34m\u001b[0m\u001b[0;34m\u001b[0m\u001b[0m\n\u001b[0;32m---> 19\u001b[0;31m         \u001b[0mtemp\u001b[0m \u001b[0;34m=\u001b[0m \u001b[0mtemp\u001b[0m \u001b[0;34m-\u001b[0m \u001b[0mnp\u001b[0m\u001b[0;34m.\u001b[0m\u001b[0mouter\u001b[0m\u001b[0;34m(\u001b[0m\u001b[0mAu\u001b[0m\u001b[0;34m,\u001b[0m \u001b[0mAu\u001b[0m\u001b[0;34m)\u001b[0m\u001b[0;34m/\u001b[0m\u001b[0;34m(\u001b[0m\u001b[0;36m1\u001b[0m\u001b[0;34m+\u001b[0m\u001b[0mnp\u001b[0m\u001b[0;34m.\u001b[0m\u001b[0mdot\u001b[0m\u001b[0;34m(\u001b[0m\u001b[0mu\u001b[0m\u001b[0;34m.\u001b[0m\u001b[0mT\u001b[0m\u001b[0;34m,\u001b[0m \u001b[0mAu\u001b[0m\u001b[0;34m)\u001b[0m\u001b[0;34m)\u001b[0m\u001b[0;34m\u001b[0m\u001b[0;34m\u001b[0m\u001b[0m\n\u001b[0m\u001b[1;32m     20\u001b[0m     \u001b[0;32mreturn\u001b[0m \u001b[0mtemp\u001b[0m\u001b[0;34m\u001b[0m\u001b[0;34m\u001b[0m\u001b[0m\n\u001b[1;32m     21\u001b[0m \u001b[0;34m\u001b[0m\u001b[0m\n",
      "\u001b[0;31mKeyboardInterrupt\u001b[0m: "
     ]
    }
   ],
   "source": [
    "## regrets for h1, h2, h3\n",
    "experiment(lin_neural, ucb_ts, h1, n_features, hidden_size, n_samples=n_samples, save='reg_h1_CNTSOpt_100_60')"
   ]
  },
  {
   "cell_type": "code",
   "execution_count": null,
   "metadata": {},
   "outputs": [],
   "source": [
    "experiment(lin_neural, ucb_ts, h2, n_features, hidden_size, n_samples=n_samples, save='reg_h2_CNTSOpt_100_60')"
   ]
  },
  {
   "cell_type": "code",
   "execution_count": null,
   "metadata": {},
   "outputs": [],
   "source": [
    "experiment(lin_neural, ucb_ts, h3, n_features, hidden_size, n_samples=n_samples, save='reg_h3_CNTSOpt_100_60')"
   ]
  },
  {
   "cell_type": "markdown",
   "metadata": {},
   "source": [
    "### CombLinUCB"
   ]
  },
  {
   "cell_type": "code",
   "execution_count": null,
   "metadata": {},
   "outputs": [],
   "source": [
    "lin_neural = Lin\n",
    "ucb_ts = \"UCB\""
   ]
  },
  {
   "cell_type": "markdown",
   "metadata": {},
   "source": [
    "##### Experiment A7"
   ]
  },
  {
   "cell_type": "code",
   "execution_count": null,
   "metadata": {},
   "outputs": [],
   "source": [
    "## d = 20\n",
    "n_features = n_features_default"
   ]
  },
  {
   "cell_type": "code",
   "execution_count": null,
   "metadata": {},
   "outputs": [],
   "source": [
    "## regrets for h1, h2, h3\n",
    "experiment(lin_neural, ucb_ts, h1, n_features, save='reg_h1_CombLinUCB_20')"
   ]
  },
  {
   "cell_type": "code",
   "execution_count": null,
   "metadata": {},
   "outputs": [],
   "source": [
    "experiment(lin_neural, ucb_ts, h2, n_features, save='reg_h2_CombLinUCB_20')"
   ]
  },
  {
   "cell_type": "code",
   "execution_count": null,
   "metadata": {},
   "outputs": [],
   "source": [
    "experiment(lin_neural, ucb_ts, h3, n_features, save='reg_h3_CombLinUCB_20')"
   ]
  },
  {
   "cell_type": "markdown",
   "metadata": {},
   "source": [
    "##### Experiment A8"
   ]
  },
  {
   "cell_type": "code",
   "execution_count": null,
   "metadata": {},
   "outputs": [],
   "source": [
    "## d = 100\n",
    "n_features = 100"
   ]
  },
  {
   "cell_type": "code",
   "execution_count": null,
   "metadata": {},
   "outputs": [],
   "source": [
    "## regrets for h1, h2, h3\n",
    "experiment(lin_neural, ucb_ts, h1, n_features, save='reg_h1_CombLinUCB_100')"
   ]
  },
  {
   "cell_type": "code",
   "execution_count": null,
   "metadata": {},
   "outputs": [],
   "source": [
    "experiment(lin_neural, ucb_ts, h2, n_features, save='reg_h2_CombLinUCB_100')"
   ]
  },
  {
   "cell_type": "code",
   "execution_count": null,
   "metadata": {},
   "outputs": [],
   "source": [
    "experiment(lin_neural, ucb_ts, h3, n_features, save='reg_h3_CombLinUCB_100')"
   ]
  },
  {
   "cell_type": "markdown",
   "metadata": {},
   "source": [
    "### CombLinTS"
   ]
  },
  {
   "cell_type": "code",
   "execution_count": null,
   "metadata": {},
   "outputs": [],
   "source": [
    "lin_neural = Lin\n",
    "ucb_ts = \"TS\""
   ]
  },
  {
   "cell_type": "markdown",
   "metadata": {},
   "source": [
    "##### Experiment A9"
   ]
  },
  {
   "cell_type": "code",
   "execution_count": null,
   "metadata": {},
   "outputs": [],
   "source": [
    "## d = 20\n",
    "n_features = n_features_default"
   ]
  },
  {
   "cell_type": "code",
   "execution_count": null,
   "metadata": {},
   "outputs": [],
   "source": [
    "## regrets for h1, h2, h3\n",
    "experiment(lin_neural, ucb_ts, h1, n_features, save='reg_h1_CombLinTS_20')"
   ]
  },
  {
   "cell_type": "code",
   "execution_count": null,
   "metadata": {},
   "outputs": [],
   "source": [
    "experiment(lin_neural, ucb_ts, h2, n_features, save='reg_h2_CombLinTS_20')"
   ]
  },
  {
   "cell_type": "code",
   "execution_count": null,
   "metadata": {},
   "outputs": [],
   "source": [
    "experiment(lin_neural, ucb_ts, h3, n_features, save='reg_h3_CombLinTS_20')"
   ]
  },
  {
   "cell_type": "markdown",
   "metadata": {},
   "source": [
    "##### Experiment Aa"
   ]
  },
  {
   "cell_type": "code",
   "execution_count": null,
   "metadata": {},
   "outputs": [],
   "source": [
    "## d = 100\n",
    "n_features = 100"
   ]
  },
  {
   "cell_type": "code",
   "execution_count": null,
   "metadata": {},
   "outputs": [],
   "source": [
    "## regrets for h1, h2, h3\n",
    "experiment(lin_neural, ucb_ts, h1, n_features, save='reg_h1_CombLinTS_100')"
   ]
  },
  {
   "cell_type": "code",
   "execution_count": null,
   "metadata": {},
   "outputs": [],
   "source": [
    "experiment(lin_neural, ucb_ts, h2, n_features, save='reg_h2_CombLinTS_100')"
   ]
  },
  {
   "cell_type": "code",
   "execution_count": null,
   "metadata": {},
   "outputs": [],
   "source": [
    "experiment(lin_neural, ucb_ts, h3, n_features, save='reg_h3_CombLinTS_100')"
   ]
  },
  {
   "cell_type": "markdown",
   "metadata": {},
   "source": [
    "# Experiment B: Ablation study"
   ]
  },
  {
   "cell_type": "code",
   "execution_count": null,
   "metadata": {},
   "outputs": [],
   "source": [
    "T = 500"
   ]
  },
  {
   "cell_type": "markdown",
   "metadata": {},
   "source": [
    "### CN-UCB"
   ]
  },
  {
   "cell_type": "code",
   "execution_count": 48,
   "metadata": {},
   "outputs": [],
   "source": [
    "lin_neural = Neural\n",
    "ucb_ts = \"UCB\""
   ]
  },
  {
   "cell_type": "markdown",
   "metadata": {},
   "source": [
    "##### Experiment B01"
   ]
  },
  {
   "cell_type": "code",
   "execution_count": null,
   "metadata": {},
   "outputs": [],
   "source": [
    "## d = 40, m = 60\n",
    "n_features = 40\n",
    "hidden_size = hidden_size_default"
   ]
  },
  {
   "cell_type": "code",
   "execution_count": null,
   "metadata": {},
   "outputs": [],
   "source": [
    "## regrets for h1, h2, h3\n",
    "experiment(lin_neural, ucb_ts, h1, n_features, hidden_size, save='reg_h1_CNUCB_40_60')"
   ]
  },
  {
   "cell_type": "code",
   "execution_count": null,
   "metadata": {},
   "outputs": [],
   "source": [
    "experiment(lin_neural, ucb_ts, h2, n_features, hidden_size, save='reg_h2_CNUCB_40_60')"
   ]
  },
  {
   "cell_type": "code",
   "execution_count": null,
   "metadata": {},
   "outputs": [],
   "source": [
    "experiment(lin_neural, ucb_ts, h3, n_features, hidden_size, save='reg_h3_CNUCB_40_60')"
   ]
  },
  {
   "cell_type": "markdown",
   "metadata": {},
   "source": [
    "##### Experiment B02"
   ]
  },
  {
   "cell_type": "code",
   "execution_count": null,
   "metadata": {},
   "outputs": [],
   "source": [
    "## d = 60, m = 60\n",
    "n_features = 60\n",
    "hidden_size = hidden_size_default"
   ]
  },
  {
   "cell_type": "code",
   "execution_count": null,
   "metadata": {},
   "outputs": [],
   "source": [
    "## regrets for h1, h2, h3\n",
    "experiment(lin_neural, ucb_ts, h1, n_features, hidden_size, save='reg_h1_CNUCB_60_60')"
   ]
  },
  {
   "cell_type": "code",
   "execution_count": null,
   "metadata": {},
   "outputs": [],
   "source": [
    "experiment(lin_neural, ucb_ts, h2, n_features, hidden_size, save='reg_h2_CNUCB_60_60')"
   ]
  },
  {
   "cell_type": "code",
   "execution_count": null,
   "metadata": {},
   "outputs": [],
   "source": [
    "experiment(lin_neural, ucb_ts, h3, n_features, hidden_size, save='reg_h3_CNUCB_60_60')"
   ]
  },
  {
   "cell_type": "markdown",
   "metadata": {},
   "source": [
    "##### Experiment B03"
   ]
  },
  {
   "cell_type": "code",
   "execution_count": null,
   "metadata": {},
   "outputs": [],
   "source": [
    "## d= 80, m = 60\n",
    "n_features = 80\n",
    "hidden_size = hidden_size_default"
   ]
  },
  {
   "cell_type": "code",
   "execution_count": null,
   "metadata": {},
   "outputs": [],
   "source": [
    "## regrets for h1, h2, h3\n",
    "experiment(lin_neural, ucb_ts, h1, n_features, hidden_size, save='reg_h1_CNUCB_80_60')"
   ]
  },
  {
   "cell_type": "code",
   "execution_count": null,
   "metadata": {},
   "outputs": [],
   "source": [
    "experiment(lin_neural, ucb_ts, h2, n_features, hidden_size, save='reg_h2_CNUCB_80_60')"
   ]
  },
  {
   "cell_type": "code",
   "execution_count": null,
   "metadata": {},
   "outputs": [],
   "source": [
    "experiment(lin_neural, ucb_ts, h3, n_features, hidden_size, save='reg_h3_CNUCB_80_60')"
   ]
  },
  {
   "cell_type": "markdown",
   "metadata": {},
   "source": [
    "##### Experiment B04"
   ]
  },
  {
   "cell_type": "code",
   "execution_count": 49,
   "metadata": {},
   "outputs": [],
   "source": [
    "## d = 20, m = 20\n",
    "n_features = n_features_default\n",
    "hidden_size = 20"
   ]
  },
  {
   "cell_type": "code",
   "execution_count": 50,
   "metadata": {},
   "outputs": [
    {
     "name": "stderr",
     "output_type": "stream",
     "text": [
      "100%|██████████| 1000/1000 [00:11<00:00, 90.07it/s, total regret=1e+3, % optimal set of arms=63.70%]\n",
      " 23%|██▎       | 226/1000 [00:02<00:09, 83.63it/s, total regret=641, % optimal set of arms=53.54%] \n"
     ]
    },
    {
     "ename": "KeyboardInterrupt",
     "evalue": "",
     "output_type": "error",
     "traceback": [
      "\u001b[0;31m---------------------------------------------------------------------------\u001b[0m",
      "\u001b[0;31mKeyboardInterrupt\u001b[0m                         Traceback (most recent call last)",
      "\u001b[0;32m<ipython-input-50-dd4a905f8928>\u001b[0m in \u001b[0;36m<module>\u001b[0;34m\u001b[0m\n\u001b[1;32m      1\u001b[0m \u001b[0;31m## regrets for h1, h2, h3\u001b[0m\u001b[0;34m\u001b[0m\u001b[0;34m\u001b[0m\u001b[0;34m\u001b[0m\u001b[0m\n\u001b[0;32m----> 2\u001b[0;31m \u001b[0mexperiment\u001b[0m\u001b[0;34m(\u001b[0m\u001b[0mlin_neural\u001b[0m\u001b[0;34m,\u001b[0m \u001b[0mucb_ts\u001b[0m\u001b[0;34m,\u001b[0m \u001b[0mh1\u001b[0m\u001b[0;34m,\u001b[0m \u001b[0mn_features\u001b[0m\u001b[0;34m,\u001b[0m \u001b[0mhidden_size\u001b[0m\u001b[0;34m,\u001b[0m \u001b[0msave\u001b[0m\u001b[0;34m=\u001b[0m\u001b[0;34m'reg_h1_CNUCB_20_20'\u001b[0m\u001b[0;34m)\u001b[0m\u001b[0;34m\u001b[0m\u001b[0;34m\u001b[0m\u001b[0m\n\u001b[0m",
      "\u001b[0;32m<ipython-input-47-f2c739a5396e>\u001b[0m in \u001b[0;36mexperiment\u001b[0;34m(lin_neural, ucb_ts, h_str, n_features, hidden_size, n_samples, save)\u001b[0m\n\u001b[1;32m     64\u001b[0m                               )\n\u001b[1;32m     65\u001b[0m \u001b[0;34m\u001b[0m\u001b[0m\n\u001b[0;32m---> 66\u001b[0;31m         \u001b[0mmodel\u001b[0m\u001b[0;34m.\u001b[0m\u001b[0mrun\u001b[0m\u001b[0;34m(\u001b[0m\u001b[0;34m)\u001b[0m\u001b[0;34m\u001b[0m\u001b[0;34m\u001b[0m\u001b[0m\n\u001b[0m\u001b[1;32m     67\u001b[0m         \u001b[0mregrets\u001b[0m\u001b[0;34m[\u001b[0m\u001b[0mi\u001b[0m\u001b[0;34m]\u001b[0m \u001b[0;34m=\u001b[0m \u001b[0mnp\u001b[0m\u001b[0;34m.\u001b[0m\u001b[0mcumsum\u001b[0m\u001b[0;34m(\u001b[0m\u001b[0mmodel\u001b[0m\u001b[0;34m.\u001b[0m\u001b[0mregrets\u001b[0m\u001b[0;34m)\u001b[0m\u001b[0;34m\u001b[0m\u001b[0;34m\u001b[0m\u001b[0m\n\u001b[1;32m     68\u001b[0m \u001b[0;34m\u001b[0m\u001b[0m\n",
      "\u001b[0;32m~/combinatorial_neural_bandits/module_space/ucb_ts.py\u001b[0m in \u001b[0;36mrun\u001b[0;34m(self)\u001b[0m\n\u001b[1;32m    218\u001b[0m                 \u001b[0;32mif\u001b[0m \u001b[0mself\u001b[0m\u001b[0;34m.\u001b[0m\u001b[0mucb_ts\u001b[0m \u001b[0;34m==\u001b[0m \u001b[0;34m\"UCB\"\u001b[0m\u001b[0;34m:\u001b[0m\u001b[0;34m\u001b[0m\u001b[0;34m\u001b[0m\u001b[0m\n\u001b[1;32m    219\u001b[0m                     \u001b[0;31m# update confidence of all set of arms based on observed features at time t\u001b[0m\u001b[0;34m\u001b[0m\u001b[0;34m\u001b[0m\u001b[0;34m\u001b[0m\u001b[0m\n\u001b[0;32m--> 220\u001b[0;31m                     \u001b[0mself\u001b[0m\u001b[0;34m.\u001b[0m\u001b[0mupdate_confidence_bounds\u001b[0m\u001b[0;34m(\u001b[0m\u001b[0;34m)\u001b[0m\u001b[0;34m\u001b[0m\u001b[0;34m\u001b[0m\u001b[0m\n\u001b[0m\u001b[1;32m    221\u001b[0m                 \u001b[0;31m## for TS\u001b[0m\u001b[0;34m\u001b[0m\u001b[0;34m\u001b[0m\u001b[0;34m\u001b[0m\u001b[0m\n\u001b[1;32m    222\u001b[0m                 \u001b[0;32mif\u001b[0m \u001b[0mself\u001b[0m\u001b[0;34m.\u001b[0m\u001b[0mucb_ts\u001b[0m \u001b[0;34m==\u001b[0m \u001b[0;34m\"TS\"\u001b[0m\u001b[0;34m:\u001b[0m\u001b[0;34m\u001b[0m\u001b[0;34m\u001b[0m\u001b[0m\n",
      "\u001b[0;32m~/combinatorial_neural_bandits/module_space/ucb_ts.py\u001b[0m in \u001b[0;36mupdate_confidence_bounds\u001b[0;34m(self)\u001b[0m\n\u001b[1;32m    163\u001b[0m         \u001b[0;31m# UCB exploration bonus\u001b[0m\u001b[0;34m\u001b[0m\u001b[0;34m\u001b[0m\u001b[0;34m\u001b[0m\u001b[0m\n\u001b[1;32m    164\u001b[0m         self.exploration_bonus[self.iteration] = np.array(\n\u001b[0;32m--> 165\u001b[0;31m             [\n\u001b[0m\u001b[1;32m    166\u001b[0m                 \u001b[0mself\u001b[0m\u001b[0;34m.\u001b[0m\u001b[0mconfidence_multiplier\u001b[0m \u001b[0;34m*\u001b[0m \u001b[0mnp\u001b[0m\u001b[0;34m.\u001b[0m\u001b[0msqrt\u001b[0m\u001b[0;34m(\u001b[0m\u001b[0mnp\u001b[0m\u001b[0;34m.\u001b[0m\u001b[0mdot\u001b[0m\u001b[0;34m(\u001b[0m\u001b[0mself\u001b[0m\u001b[0;34m.\u001b[0m\u001b[0mgrad_approx\u001b[0m\u001b[0;34m[\u001b[0m\u001b[0ma\u001b[0m\u001b[0;34m]\u001b[0m\u001b[0;34m,\u001b[0m \u001b[0mnp\u001b[0m\u001b[0;34m.\u001b[0m\u001b[0mdot\u001b[0m\u001b[0;34m(\u001b[0m\u001b[0mself\u001b[0m\u001b[0;34m.\u001b[0m\u001b[0mA_inv\u001b[0m\u001b[0;34m,\u001b[0m \u001b[0mself\u001b[0m\u001b[0;34m.\u001b[0m\u001b[0mgrad_approx\u001b[0m\u001b[0;34m[\u001b[0m\u001b[0ma\u001b[0m\u001b[0;34m]\u001b[0m\u001b[0;34m.\u001b[0m\u001b[0mT\u001b[0m\u001b[0;34m)\u001b[0m\u001b[0;34m)\u001b[0m\u001b[0;34m)\u001b[0m \u001b[0;32mfor\u001b[0m \u001b[0ma\u001b[0m \u001b[0;32min\u001b[0m \u001b[0mself\u001b[0m\u001b[0;34m.\u001b[0m\u001b[0mbandit\u001b[0m\u001b[0;34m.\u001b[0m\u001b[0marms\u001b[0m\u001b[0;34m\u001b[0m\u001b[0;34m\u001b[0m\u001b[0m\n\u001b[1;32m    167\u001b[0m             ]\n",
      "\u001b[0;32m~/combinatorial_neural_bandits/module_space/ucb_ts.py\u001b[0m in \u001b[0;36m<listcomp>\u001b[0;34m(.0)\u001b[0m\n\u001b[1;32m    164\u001b[0m         self.exploration_bonus[self.iteration] = np.array(\n\u001b[1;32m    165\u001b[0m             [\n\u001b[0;32m--> 166\u001b[0;31m                 \u001b[0mself\u001b[0m\u001b[0;34m.\u001b[0m\u001b[0mconfidence_multiplier\u001b[0m \u001b[0;34m*\u001b[0m \u001b[0mnp\u001b[0m\u001b[0;34m.\u001b[0m\u001b[0msqrt\u001b[0m\u001b[0;34m(\u001b[0m\u001b[0mnp\u001b[0m\u001b[0;34m.\u001b[0m\u001b[0mdot\u001b[0m\u001b[0;34m(\u001b[0m\u001b[0mself\u001b[0m\u001b[0;34m.\u001b[0m\u001b[0mgrad_approx\u001b[0m\u001b[0;34m[\u001b[0m\u001b[0ma\u001b[0m\u001b[0;34m]\u001b[0m\u001b[0;34m,\u001b[0m \u001b[0mnp\u001b[0m\u001b[0;34m.\u001b[0m\u001b[0mdot\u001b[0m\u001b[0;34m(\u001b[0m\u001b[0mself\u001b[0m\u001b[0;34m.\u001b[0m\u001b[0mA_inv\u001b[0m\u001b[0;34m,\u001b[0m \u001b[0mself\u001b[0m\u001b[0;34m.\u001b[0m\u001b[0mgrad_approx\u001b[0m\u001b[0;34m[\u001b[0m\u001b[0ma\u001b[0m\u001b[0;34m]\u001b[0m\u001b[0;34m.\u001b[0m\u001b[0mT\u001b[0m\u001b[0;34m)\u001b[0m\u001b[0;34m)\u001b[0m\u001b[0;34m)\u001b[0m \u001b[0;32mfor\u001b[0m \u001b[0ma\u001b[0m \u001b[0;32min\u001b[0m \u001b[0mself\u001b[0m\u001b[0;34m.\u001b[0m\u001b[0mbandit\u001b[0m\u001b[0;34m.\u001b[0m\u001b[0marms\u001b[0m\u001b[0;34m\u001b[0m\u001b[0;34m\u001b[0m\u001b[0m\n\u001b[0m\u001b[1;32m    167\u001b[0m             ]\n\u001b[1;32m    168\u001b[0m         )        \n",
      "\u001b[0;31mKeyboardInterrupt\u001b[0m: "
     ]
    }
   ],
   "source": [
    "## regrets for h1, h2, h3\n",
    "experiment(lin_neural, ucb_ts, h1, n_features, hidden_size, save='reg_h1_CNUCB_20_20')"
   ]
  },
  {
   "cell_type": "code",
   "execution_count": null,
   "metadata": {},
   "outputs": [],
   "source": [
    "experiment(lin_neural, ucb_ts, h2, n_features, hidden_size, save='reg_h2_CNUCB_20_20')"
   ]
  },
  {
   "cell_type": "code",
   "execution_count": 51,
   "metadata": {},
   "outputs": [
    {
     "name": "stderr",
     "output_type": "stream",
     "text": [
      "100%|██████████| 1000/1000 [00:11<00:00, 89.18it/s, total regret=1.83e+4, % optimal set of arms=0.50%]\n",
      "100%|██████████| 1000/1000 [00:11<00:00, 88.75it/s, total regret=3.27e+4, % optimal set of arms=0.10%]\n",
      " 77%|███████▋  | 774/1000 [00:08<00:02, 87.03it/s, total regret=2.08e+4, % optimal set of arms=0.39%]\n"
     ]
    },
    {
     "ename": "KeyboardInterrupt",
     "evalue": "",
     "output_type": "error",
     "traceback": [
      "\u001b[0;31m---------------------------------------------------------------------------\u001b[0m",
      "\u001b[0;31mKeyboardInterrupt\u001b[0m                         Traceback (most recent call last)",
      "\u001b[0;32m<ipython-input-51-e7f03ab70557>\u001b[0m in \u001b[0;36m<module>\u001b[0;34m\u001b[0m\n\u001b[0;32m----> 1\u001b[0;31m \u001b[0mexperiment\u001b[0m\u001b[0;34m(\u001b[0m\u001b[0mlin_neural\u001b[0m\u001b[0;34m,\u001b[0m \u001b[0mucb_ts\u001b[0m\u001b[0;34m,\u001b[0m \u001b[0mh3\u001b[0m\u001b[0;34m,\u001b[0m \u001b[0mn_features\u001b[0m\u001b[0;34m,\u001b[0m \u001b[0mhidden_size\u001b[0m\u001b[0;34m,\u001b[0m \u001b[0msave\u001b[0m\u001b[0;34m=\u001b[0m\u001b[0;34m'reg_h3_CNUCB_20_20'\u001b[0m\u001b[0;34m)\u001b[0m\u001b[0;34m\u001b[0m\u001b[0;34m\u001b[0m\u001b[0m\n\u001b[0m",
      "\u001b[0;32m<ipython-input-47-f2c739a5396e>\u001b[0m in \u001b[0;36mexperiment\u001b[0;34m(lin_neural, ucb_ts, h_str, n_features, hidden_size, n_samples, save)\u001b[0m\n\u001b[1;32m     64\u001b[0m                               )\n\u001b[1;32m     65\u001b[0m \u001b[0;34m\u001b[0m\u001b[0m\n\u001b[0;32m---> 66\u001b[0;31m         \u001b[0mmodel\u001b[0m\u001b[0;34m.\u001b[0m\u001b[0mrun\u001b[0m\u001b[0;34m(\u001b[0m\u001b[0;34m)\u001b[0m\u001b[0;34m\u001b[0m\u001b[0;34m\u001b[0m\u001b[0m\n\u001b[0m\u001b[1;32m     67\u001b[0m         \u001b[0mregrets\u001b[0m\u001b[0;34m[\u001b[0m\u001b[0mi\u001b[0m\u001b[0;34m]\u001b[0m \u001b[0;34m=\u001b[0m \u001b[0mnp\u001b[0m\u001b[0;34m.\u001b[0m\u001b[0mcumsum\u001b[0m\u001b[0;34m(\u001b[0m\u001b[0mmodel\u001b[0m\u001b[0;34m.\u001b[0m\u001b[0mregrets\u001b[0m\u001b[0;34m)\u001b[0m\u001b[0;34m\u001b[0m\u001b[0;34m\u001b[0m\u001b[0m\n\u001b[1;32m     68\u001b[0m \u001b[0;34m\u001b[0m\u001b[0m\n",
      "\u001b[0;32m~/combinatorial_neural_bandits/module_space/ucb_ts.py\u001b[0m in \u001b[0;36mrun\u001b[0;34m(self)\u001b[0m\n\u001b[1;32m    230\u001b[0m                 \u001b[0mself\u001b[0m\u001b[0;34m.\u001b[0m\u001b[0mtrain\u001b[0m\u001b[0;34m(\u001b[0m\u001b[0;34m)\u001b[0m \u001b[0;31m### lin and neural training are different\u001b[0m\u001b[0;34m\u001b[0m\u001b[0;34m\u001b[0m\u001b[0m\n\u001b[1;32m    231\u001b[0m                 \u001b[0;31m# update exploration indicator A_inv\u001b[0m\u001b[0;34m\u001b[0m\u001b[0;34m\u001b[0m\u001b[0;34m\u001b[0m\u001b[0m\n\u001b[0;32m--> 232\u001b[0;31m                 \u001b[0mself\u001b[0m\u001b[0;34m.\u001b[0m\u001b[0mupdate_A_inv\u001b[0m\u001b[0;34m(\u001b[0m\u001b[0;34m)\u001b[0m\u001b[0;34m\u001b[0m\u001b[0;34m\u001b[0m\u001b[0m\n\u001b[0m\u001b[1;32m    233\u001b[0m \u001b[0;34m\u001b[0m\u001b[0m\n\u001b[1;32m    234\u001b[0m                 \u001b[0;31m## compute regret\u001b[0m\u001b[0;34m\u001b[0m\u001b[0;34m\u001b[0m\u001b[0;34m\u001b[0m\u001b[0m\n",
      "\u001b[0;32m~/combinatorial_neural_bandits/module_space/ucb_ts.py\u001b[0m in \u001b[0;36mupdate_A_inv\u001b[0;34m(self)\u001b[0m\n\u001b[1;32m    201\u001b[0m         \"\"\"Update A_inv by using an iteration of Sherman_Morrison formula\n\u001b[1;32m    202\u001b[0m         \"\"\"\n\u001b[0;32m--> 203\u001b[0;31m         self.A_inv = inv_sherman_morrison_iter(\n\u001b[0m\u001b[1;32m    204\u001b[0m             \u001b[0mself\u001b[0m\u001b[0;34m.\u001b[0m\u001b[0mgrad_approx\u001b[0m\u001b[0;34m[\u001b[0m\u001b[0mself\u001b[0m\u001b[0;34m.\u001b[0m\u001b[0maction\u001b[0m\u001b[0;34m]\u001b[0m\u001b[0;34m,\u001b[0m\u001b[0;34m\u001b[0m\u001b[0;34m\u001b[0m\u001b[0m\n\u001b[1;32m    205\u001b[0m             \u001b[0mself\u001b[0m\u001b[0;34m.\u001b[0m\u001b[0mA_inv\u001b[0m\u001b[0;34m\u001b[0m\u001b[0;34m\u001b[0m\u001b[0m\n",
      "\u001b[0;32m~/combinatorial_neural_bandits/module_space/utils.py\u001b[0m in \u001b[0;36minv_sherman_morrison_iter\u001b[0;34m(a, A_inv)\u001b[0m\n\u001b[1;32m     17\u001b[0m     \u001b[0;32mfor\u001b[0m \u001b[0mu\u001b[0m \u001b[0;32min\u001b[0m \u001b[0ma\u001b[0m\u001b[0;34m:\u001b[0m\u001b[0;34m\u001b[0m\u001b[0;34m\u001b[0m\u001b[0m\n\u001b[1;32m     18\u001b[0m         \u001b[0mAu\u001b[0m \u001b[0;34m=\u001b[0m \u001b[0mnp\u001b[0m\u001b[0;34m.\u001b[0m\u001b[0mdot\u001b[0m\u001b[0;34m(\u001b[0m\u001b[0mtemp\u001b[0m\u001b[0;34m,\u001b[0m \u001b[0mu\u001b[0m\u001b[0;34m)\u001b[0m\u001b[0;34m\u001b[0m\u001b[0;34m\u001b[0m\u001b[0m\n\u001b[0;32m---> 19\u001b[0;31m         \u001b[0mtemp\u001b[0m \u001b[0;34m=\u001b[0m \u001b[0mtemp\u001b[0m \u001b[0;34m-\u001b[0m \u001b[0mnp\u001b[0m\u001b[0;34m.\u001b[0m\u001b[0mouter\u001b[0m\u001b[0;34m(\u001b[0m\u001b[0mAu\u001b[0m\u001b[0;34m,\u001b[0m \u001b[0mAu\u001b[0m\u001b[0;34m)\u001b[0m\u001b[0;34m/\u001b[0m\u001b[0;34m(\u001b[0m\u001b[0;36m1\u001b[0m\u001b[0;34m+\u001b[0m\u001b[0mnp\u001b[0m\u001b[0;34m.\u001b[0m\u001b[0mdot\u001b[0m\u001b[0;34m(\u001b[0m\u001b[0mu\u001b[0m\u001b[0;34m.\u001b[0m\u001b[0mT\u001b[0m\u001b[0;34m,\u001b[0m \u001b[0mAu\u001b[0m\u001b[0;34m)\u001b[0m\u001b[0;34m)\u001b[0m\u001b[0;34m\u001b[0m\u001b[0;34m\u001b[0m\u001b[0m\n\u001b[0m\u001b[1;32m     20\u001b[0m     \u001b[0;32mreturn\u001b[0m \u001b[0mtemp\u001b[0m\u001b[0;34m\u001b[0m\u001b[0;34m\u001b[0m\u001b[0m\n\u001b[1;32m     21\u001b[0m \u001b[0;34m\u001b[0m\u001b[0m\n",
      "\u001b[0;32m<__array_function__ internals>\u001b[0m in \u001b[0;36mouter\u001b[0;34m(*args, **kwargs)\u001b[0m\n",
      "\u001b[0;32m~/anaconda3/lib/python3.8/site-packages/numpy/core/numeric.py\u001b[0m in \u001b[0;36mouter\u001b[0;34m(a, b, out)\u001b[0m\n\u001b[1;32m    904\u001b[0m     \u001b[0ma\u001b[0m \u001b[0;34m=\u001b[0m \u001b[0masarray\u001b[0m\u001b[0;34m(\u001b[0m\u001b[0ma\u001b[0m\u001b[0;34m)\u001b[0m\u001b[0;34m\u001b[0m\u001b[0;34m\u001b[0m\u001b[0m\n\u001b[1;32m    905\u001b[0m     \u001b[0mb\u001b[0m \u001b[0;34m=\u001b[0m \u001b[0masarray\u001b[0m\u001b[0;34m(\u001b[0m\u001b[0mb\u001b[0m\u001b[0;34m)\u001b[0m\u001b[0;34m\u001b[0m\u001b[0;34m\u001b[0m\u001b[0m\n\u001b[0;32m--> 906\u001b[0;31m     \u001b[0;32mreturn\u001b[0m \u001b[0mmultiply\u001b[0m\u001b[0;34m(\u001b[0m\u001b[0ma\u001b[0m\u001b[0;34m.\u001b[0m\u001b[0mravel\u001b[0m\u001b[0;34m(\u001b[0m\u001b[0;34m)\u001b[0m\u001b[0;34m[\u001b[0m\u001b[0;34m:\u001b[0m\u001b[0;34m,\u001b[0m \u001b[0mnewaxis\u001b[0m\u001b[0;34m]\u001b[0m\u001b[0;34m,\u001b[0m \u001b[0mb\u001b[0m\u001b[0;34m.\u001b[0m\u001b[0mravel\u001b[0m\u001b[0;34m(\u001b[0m\u001b[0;34m)\u001b[0m\u001b[0;34m[\u001b[0m\u001b[0mnewaxis\u001b[0m\u001b[0;34m,\u001b[0m \u001b[0;34m:\u001b[0m\u001b[0;34m]\u001b[0m\u001b[0;34m,\u001b[0m \u001b[0mout\u001b[0m\u001b[0;34m)\u001b[0m\u001b[0;34m\u001b[0m\u001b[0;34m\u001b[0m\u001b[0m\n\u001b[0m\u001b[1;32m    907\u001b[0m \u001b[0;34m\u001b[0m\u001b[0m\n\u001b[1;32m    908\u001b[0m \u001b[0;34m\u001b[0m\u001b[0m\n",
      "\u001b[0;31mKeyboardInterrupt\u001b[0m: "
     ]
    }
   ],
   "source": [
    "experiment(lin_neural, ucb_ts, h3, n_features, hidden_size, save='reg_h3_CNUCB_20_20')"
   ]
  },
  {
   "cell_type": "markdown",
   "metadata": {},
   "source": [
    "##### Experiment B05"
   ]
  },
  {
   "cell_type": "code",
   "execution_count": null,
   "metadata": {},
   "outputs": [],
   "source": [
    "## d = 20, m = 40\n",
    "n_features = n_features_default\n",
    "hidden_size = 40"
   ]
  },
  {
   "cell_type": "code",
   "execution_count": null,
   "metadata": {},
   "outputs": [],
   "source": [
    "## regrets for h1, h2, h3\n",
    "experiment(lin_neural, ucb_ts, h1, n_features, hidden_size, save='reg_h1_CNUCB_20_40')"
   ]
  },
  {
   "cell_type": "code",
   "execution_count": null,
   "metadata": {},
   "outputs": [],
   "source": [
    "experiment(lin_neural, ucb_ts, h2, n_features, hidden_size, save='reg_h2_CNUCB_20_40')"
   ]
  },
  {
   "cell_type": "code",
   "execution_count": null,
   "metadata": {},
   "outputs": [],
   "source": [
    "experiment(lin_neural, ucb_ts, h3, n_features, hidden_size, save='reg_h3_CNUCB_20_40')"
   ]
  },
  {
   "cell_type": "markdown",
   "metadata": {},
   "source": [
    "##### Experiment B06"
   ]
  },
  {
   "cell_type": "code",
   "execution_count": null,
   "metadata": {},
   "outputs": [],
   "source": [
    "## d = 20, m = 80\n",
    "n_features = n_features_default\n",
    "hidden_size = 80"
   ]
  },
  {
   "cell_type": "code",
   "execution_count": null,
   "metadata": {},
   "outputs": [],
   "source": [
    "## regrets for h1, h2, h3\n",
    "experiment(lin_neural, ucb_ts, h1, n_features, hidden_size, save='reg_h1_CNUCB_20_80')"
   ]
  },
  {
   "cell_type": "code",
   "execution_count": null,
   "metadata": {},
   "outputs": [],
   "source": [
    "experiment(lin_neural, ucb_ts, h2, n_features, hidden_size, save='reg_h2_CNUCB_20_80')"
   ]
  },
  {
   "cell_type": "code",
   "execution_count": null,
   "metadata": {},
   "outputs": [],
   "source": [
    "experiment(lin_neural, ucb_ts, h3, n_features, hidden_size, save='reg_h3_CNUCB_20_80')"
   ]
  },
  {
   "cell_type": "markdown",
   "metadata": {},
   "source": [
    "##### Experiment B07"
   ]
  },
  {
   "cell_type": "code",
   "execution_count": null,
   "metadata": {},
   "outputs": [],
   "source": [
    "## d = 20, m = 100\n",
    "n_features = n_features_default\n",
    "hidden_size = 100"
   ]
  },
  {
   "cell_type": "code",
   "execution_count": null,
   "metadata": {},
   "outputs": [],
   "source": [
    "## regrets for h1, h2, h3\n",
    "experiment(lin_neural, ucb_ts, h1, n_features, hidden_size, save='reg_h1_CNUCB_20_100')"
   ]
  },
  {
   "cell_type": "code",
   "execution_count": null,
   "metadata": {},
   "outputs": [],
   "source": [
    "experiment(lin_neural, ucb_ts, h2, n_features, hidden_size, save='reg_h2_CNUCB_20_100')"
   ]
  },
  {
   "cell_type": "code",
   "execution_count": null,
   "metadata": {},
   "outputs": [],
   "source": [
    "experiment(lin_neural, ucb_ts, h3, n_features, hidden_size, save='reg_h3_CNUCB_20_100')"
   ]
  },
  {
   "cell_type": "markdown",
   "metadata": {},
   "source": [
    "### CN-TS"
   ]
  },
  {
   "cell_type": "code",
   "execution_count": null,
   "metadata": {},
   "outputs": [],
   "source": [
    "lin_neural = Neural\n",
    "ucb_ts = \"TS\""
   ]
  },
  {
   "cell_type": "markdown",
   "metadata": {},
   "source": [
    "##### Experiment B11"
   ]
  },
  {
   "cell_type": "code",
   "execution_count": null,
   "metadata": {},
   "outputs": [],
   "source": [
    "## d = 40, m = 60\n",
    "n_features = 40\n",
    "hidden_size = hidden_size_default"
   ]
  },
  {
   "cell_type": "code",
   "execution_count": null,
   "metadata": {},
   "outputs": [],
   "source": [
    "## regrets for h1, h2, h3\n",
    "experiment(lin_neural, ucb_ts, h1, n_features, hidden_size, save='reg_h1_CNTS_40_60')"
   ]
  },
  {
   "cell_type": "code",
   "execution_count": null,
   "metadata": {},
   "outputs": [],
   "source": [
    "experiment(lin_neural, ucb_ts, h2, n_features, hidden_size, save='reg_h2_CNTS_40_60')"
   ]
  },
  {
   "cell_type": "code",
   "execution_count": null,
   "metadata": {},
   "outputs": [],
   "source": [
    "experiment(lin_neural, ucb_ts, h3, n_features, hidden_size, save='reg_h3_CNTS_40_60')"
   ]
  },
  {
   "cell_type": "markdown",
   "metadata": {},
   "source": [
    "##### Experiment B12"
   ]
  },
  {
   "cell_type": "code",
   "execution_count": null,
   "metadata": {},
   "outputs": [],
   "source": [
    "## d = 60, m = 60\n",
    "n_features = 60\n",
    "hidden_size = hidden_size_default"
   ]
  },
  {
   "cell_type": "code",
   "execution_count": null,
   "metadata": {},
   "outputs": [],
   "source": [
    "## regrets for h1, h2, h3\n",
    "experiment(lin_neural, ucb_ts, h1, n_features, hidden_size, save='reg_h1_CNTS_60_60')"
   ]
  },
  {
   "cell_type": "code",
   "execution_count": null,
   "metadata": {},
   "outputs": [],
   "source": [
    "experiment(lin_neural, ucb_ts, h2, n_features, hidden_size, save='reg_h2_CNTS_60_60')"
   ]
  },
  {
   "cell_type": "code",
   "execution_count": null,
   "metadata": {},
   "outputs": [],
   "source": [
    "experiment(lin_neural, ucb_ts, h3, n_features, hidden_size, save='reg_h3_CNTS_60_60')"
   ]
  },
  {
   "cell_type": "markdown",
   "metadata": {},
   "source": [
    "##### Experiment B13"
   ]
  },
  {
   "cell_type": "code",
   "execution_count": null,
   "metadata": {},
   "outputs": [],
   "source": [
    "## d= 80, m = 60\n",
    "n_features = 80\n",
    "hidden_size = hidden_size_default"
   ]
  },
  {
   "cell_type": "code",
   "execution_count": null,
   "metadata": {},
   "outputs": [],
   "source": [
    "## regrets for h1, h2, h3\n",
    "experiment(lin_neural, ucb_ts, h1, n_features, hidden_size, save='reg_h1_CNTS_80_60')"
   ]
  },
  {
   "cell_type": "code",
   "execution_count": null,
   "metadata": {},
   "outputs": [],
   "source": [
    "experiment(lin_neural, ucb_ts, h2, n_features, hidden_size, save='reg_h2_CNTS_80_60')"
   ]
  },
  {
   "cell_type": "code",
   "execution_count": null,
   "metadata": {},
   "outputs": [],
   "source": [
    "experiment(lin_neural, ucb_ts, h3, n_features, hidden_size, save='reg_h3_CNTS_80_60')"
   ]
  },
  {
   "cell_type": "markdown",
   "metadata": {},
   "source": [
    "##### Experiment B14"
   ]
  },
  {
   "cell_type": "code",
   "execution_count": null,
   "metadata": {},
   "outputs": [],
   "source": [
    "## d = 20, m = 20\n",
    "n_features = n_features_default\n",
    "hidden_size = 20"
   ]
  },
  {
   "cell_type": "code",
   "execution_count": null,
   "metadata": {},
   "outputs": [],
   "source": [
    "## regrets for h1, h2, h3\n",
    "experiment(lin_neural, ucb_ts, h1, n_features, hidden_size, save='reg_h1_CNTS_20_20')"
   ]
  },
  {
   "cell_type": "code",
   "execution_count": null,
   "metadata": {},
   "outputs": [],
   "source": [
    "experiment(lin_neural, ucb_ts, h2, n_features, hidden_size, save='reg_h2_CNTS_20_20')"
   ]
  },
  {
   "cell_type": "code",
   "execution_count": null,
   "metadata": {},
   "outputs": [],
   "source": [
    "experiment(lin_neural, ucb_ts, h3, n_features, hidden_size, save='reg_h3_CNTS_20_20')"
   ]
  },
  {
   "cell_type": "markdown",
   "metadata": {},
   "source": [
    "##### Experiment B15"
   ]
  },
  {
   "cell_type": "code",
   "execution_count": null,
   "metadata": {},
   "outputs": [],
   "source": [
    "## d = 20, m = 40\n",
    "n_features = n_features_default\n",
    "hidden_size = 40"
   ]
  },
  {
   "cell_type": "code",
   "execution_count": null,
   "metadata": {},
   "outputs": [],
   "source": [
    "## regrets for h1, h2, h3\n",
    "experiment(lin_neural, ucb_ts, h1, n_features, hidden_size, save='reg_h1_CNTS_20_40')"
   ]
  },
  {
   "cell_type": "code",
   "execution_count": null,
   "metadata": {},
   "outputs": [],
   "source": [
    "experiment(lin_neural, ucb_ts, h2, n_features, hidden_size, save='reg_h2_CNTS_20_40')"
   ]
  },
  {
   "cell_type": "code",
   "execution_count": null,
   "metadata": {},
   "outputs": [],
   "source": [
    "experiment(lin_neural, ucb_ts, h3, n_features, hidden_size, save='reg_h3_CNTS_20_40')"
   ]
  },
  {
   "cell_type": "markdown",
   "metadata": {},
   "source": [
    "##### Experiment B16"
   ]
  },
  {
   "cell_type": "code",
   "execution_count": null,
   "metadata": {},
   "outputs": [],
   "source": [
    "## d = 20, m = 80\n",
    "n_features = n_features_default\n",
    "hidden_size = 80"
   ]
  },
  {
   "cell_type": "code",
   "execution_count": null,
   "metadata": {},
   "outputs": [],
   "source": [
    "## regrets for h1, h2, h3\n",
    "experiment(lin_neural, ucb_ts, h1, n_features, hidden_size, save='reg_h1_CNTS_20_80')"
   ]
  },
  {
   "cell_type": "code",
   "execution_count": null,
   "metadata": {},
   "outputs": [],
   "source": [
    "experiment(lin_neural, ucb_ts, h2, n_features, hidden_size, save='reg_h2_CNTS_20_80')"
   ]
  },
  {
   "cell_type": "code",
   "execution_count": null,
   "metadata": {},
   "outputs": [],
   "source": [
    "experiment(lin_neural, ucb_ts, h3, n_features, hidden_size, save='reg_h3_CNTS_20_80')"
   ]
  },
  {
   "cell_type": "markdown",
   "metadata": {},
   "source": [
    "##### Experiment B17"
   ]
  },
  {
   "cell_type": "code",
   "execution_count": null,
   "metadata": {},
   "outputs": [],
   "source": [
    "## d = 20, m = 100\n",
    "n_features = n_features_default\n",
    "hidden_size = 100"
   ]
  },
  {
   "cell_type": "code",
   "execution_count": null,
   "metadata": {},
   "outputs": [],
   "source": [
    "## regrets for h1, h2, h3\n",
    "experiment(lin_neural, ucb_ts, h1, n_features, hidden_size, save='reg_h1_CNTS_20_100')"
   ]
  },
  {
   "cell_type": "code",
   "execution_count": null,
   "metadata": {},
   "outputs": [],
   "source": [
    "experiment(lin_neural, ucb_ts, h2, n_features, hidden_size, save='reg_h2_CNTS_20_100')"
   ]
  },
  {
   "cell_type": "code",
   "execution_count": null,
   "metadata": {},
   "outputs": [],
   "source": [
    "experiment(lin_neural, ucb_ts, h3, n_features, hidden_size, save='reg_h3_CNTS_20_100')"
   ]
  },
  {
   "cell_type": "markdown",
   "metadata": {},
   "source": [
    "### CN-TS-Opt"
   ]
  },
  {
   "cell_type": "code",
   "execution_count": 52,
   "metadata": {},
   "outputs": [],
   "source": [
    "lin_neural = Neural\n",
    "ucb_ts = \"TS\""
   ]
  },
  {
   "cell_type": "markdown",
   "metadata": {},
   "source": [
    "##### Experiment B21"
   ]
  },
  {
   "cell_type": "code",
   "execution_count": null,
   "metadata": {},
   "outputs": [],
   "source": [
    "## d = 40, m = 60\n",
    "n_features = 40\n",
    "hidden_size = hidden_size_default"
   ]
  },
  {
   "cell_type": "code",
   "execution_count": null,
   "metadata": {},
   "outputs": [],
   "source": [
    "## regrets for h1, h2, h3\n",
    "experiment(lin_neural, ucb_ts, h1, n_features, hidden_size, n_samples=n_samples, save='reg_h1_CNTSOpt_40_60')"
   ]
  },
  {
   "cell_type": "code",
   "execution_count": null,
   "metadata": {},
   "outputs": [],
   "source": [
    "experiment(lin_neural, ucb_ts, h2, n_features, hidden_size, n_samples=n_samples, save='reg_h2_CNTSOpt_40_60')"
   ]
  },
  {
   "cell_type": "code",
   "execution_count": null,
   "metadata": {},
   "outputs": [],
   "source": [
    "experiment(lin_neural, ucb_ts, h3, n_features, hidden_size, n_samples=n_samples, save='reg_h3_CNTSOpt_40_60')"
   ]
  },
  {
   "cell_type": "markdown",
   "metadata": {},
   "source": [
    "##### Experiment B22"
   ]
  },
  {
   "cell_type": "code",
   "execution_count": null,
   "metadata": {},
   "outputs": [],
   "source": [
    "## d = 60, m = 60\n",
    "n_features = 60\n",
    "hidden_size = hidden_size_default"
   ]
  },
  {
   "cell_type": "code",
   "execution_count": null,
   "metadata": {},
   "outputs": [],
   "source": [
    "## regrets for h1, h2, h3\n",
    "experiment(lin_neural, ucb_ts, h1, n_features, hidden_size, n_samples=n_samples, save='reg_h1_CNTSOpt_60_60')"
   ]
  },
  {
   "cell_type": "code",
   "execution_count": null,
   "metadata": {},
   "outputs": [],
   "source": [
    "experiment(lin_neural, ucb_ts, h2, n_features, hidden_size, n_samples=n_samples, save='reg_h2_CNTSOpt_60_60')"
   ]
  },
  {
   "cell_type": "code",
   "execution_count": null,
   "metadata": {},
   "outputs": [],
   "source": [
    "experiment(lin_neural, ucb_ts, h3, n_features, hidden_size, n_samples=n_samples, save='reg_h3_CNTSOpt_60_60')"
   ]
  },
  {
   "cell_type": "markdown",
   "metadata": {},
   "source": [
    "##### Experiment B23"
   ]
  },
  {
   "cell_type": "code",
   "execution_count": null,
   "metadata": {},
   "outputs": [],
   "source": [
    "## d= 80, m = 60\n",
    "n_features = 80\n",
    "hidden_size = hidden_size_default"
   ]
  },
  {
   "cell_type": "code",
   "execution_count": null,
   "metadata": {},
   "outputs": [],
   "source": [
    "## regrets for h1, h2, h3\n",
    "experiment(lin_neural, ucb_ts, h1, n_features, hidden_size, n_samples=n_samples, save='reg_h1_CNTSOpt_80_60')"
   ]
  },
  {
   "cell_type": "code",
   "execution_count": null,
   "metadata": {},
   "outputs": [],
   "source": [
    "experiment(lin_neural, ucb_ts, h2, n_features, hidden_size, n_samples=n_samples, save='reg_h2_CNTSOpt_80_60')"
   ]
  },
  {
   "cell_type": "code",
   "execution_count": null,
   "metadata": {},
   "outputs": [],
   "source": [
    "experiment(lin_neural, ucb_ts, h3, n_features, hidden_size, n_samples=n_samples, save='reg_h3_CNTSOpt_80_60')"
   ]
  },
  {
   "cell_type": "markdown",
   "metadata": {},
   "source": [
    "##### Experiment B24"
   ]
  },
  {
   "cell_type": "code",
   "execution_count": 53,
   "metadata": {},
   "outputs": [],
   "source": [
    "## d = 20, m = 20\n",
    "n_features = n_features_default\n",
    "hidden_size = 20"
   ]
  },
  {
   "cell_type": "code",
   "execution_count": 54,
   "metadata": {},
   "outputs": [
    {
     "name": "stderr",
     "output_type": "stream",
     "text": [
      "100%|██████████| 1000/1000 [00:11<00:00, 86.22it/s, total regret=941, % optimal set of arms=62.40%]\n",
      "100%|██████████| 1000/1000 [00:11<00:00, 89.65it/s, total regret=1.11e+3, % optimal set of arms=61.50%]\n",
      "100%|██████████| 1000/1000 [00:11<00:00, 88.42it/s, total regret=837, % optimal set of arms=58.50%]\n",
      " 50%|█████     | 500/1000 [00:05<00:05, 83.73it/s, total regret=940, % optimal set of arms=49.40%]\n"
     ]
    },
    {
     "ename": "KeyboardInterrupt",
     "evalue": "",
     "output_type": "error",
     "traceback": [
      "\u001b[0;31m---------------------------------------------------------------------------\u001b[0m",
      "\u001b[0;31mKeyboardInterrupt\u001b[0m                         Traceback (most recent call last)",
      "\u001b[0;32m<ipython-input-54-c943e16deb22>\u001b[0m in \u001b[0;36m<module>\u001b[0;34m\u001b[0m\n\u001b[1;32m      1\u001b[0m \u001b[0;31m## regrets for h1, h2, h3\u001b[0m\u001b[0;34m\u001b[0m\u001b[0;34m\u001b[0m\u001b[0;34m\u001b[0m\u001b[0m\n\u001b[0;32m----> 2\u001b[0;31m \u001b[0mexperiment\u001b[0m\u001b[0;34m(\u001b[0m\u001b[0mlin_neural\u001b[0m\u001b[0;34m,\u001b[0m \u001b[0mucb_ts\u001b[0m\u001b[0;34m,\u001b[0m \u001b[0mh1\u001b[0m\u001b[0;34m,\u001b[0m \u001b[0mn_features\u001b[0m\u001b[0;34m,\u001b[0m \u001b[0mhidden_size\u001b[0m\u001b[0;34m,\u001b[0m \u001b[0mn_samples\u001b[0m\u001b[0;34m=\u001b[0m\u001b[0mn_samples\u001b[0m\u001b[0;34m,\u001b[0m \u001b[0msave\u001b[0m\u001b[0;34m=\u001b[0m\u001b[0;34m'reg_h1_CNTSOpt_20_20'\u001b[0m\u001b[0;34m)\u001b[0m\u001b[0;34m\u001b[0m\u001b[0;34m\u001b[0m\u001b[0m\n\u001b[0m",
      "\u001b[0;32m<ipython-input-47-f2c739a5396e>\u001b[0m in \u001b[0;36mexperiment\u001b[0;34m(lin_neural, ucb_ts, h_str, n_features, hidden_size, n_samples, save)\u001b[0m\n\u001b[1;32m     64\u001b[0m                               )\n\u001b[1;32m     65\u001b[0m \u001b[0;34m\u001b[0m\u001b[0m\n\u001b[0;32m---> 66\u001b[0;31m         \u001b[0mmodel\u001b[0m\u001b[0;34m.\u001b[0m\u001b[0mrun\u001b[0m\u001b[0;34m(\u001b[0m\u001b[0;34m)\u001b[0m\u001b[0;34m\u001b[0m\u001b[0;34m\u001b[0m\u001b[0m\n\u001b[0m\u001b[1;32m     67\u001b[0m         \u001b[0mregrets\u001b[0m\u001b[0;34m[\u001b[0m\u001b[0mi\u001b[0m\u001b[0;34m]\u001b[0m \u001b[0;34m=\u001b[0m \u001b[0mnp\u001b[0m\u001b[0;34m.\u001b[0m\u001b[0mcumsum\u001b[0m\u001b[0;34m(\u001b[0m\u001b[0mmodel\u001b[0m\u001b[0;34m.\u001b[0m\u001b[0mregrets\u001b[0m\u001b[0;34m)\u001b[0m\u001b[0;34m\u001b[0m\u001b[0;34m\u001b[0m\u001b[0m\n\u001b[1;32m     68\u001b[0m \u001b[0;34m\u001b[0m\u001b[0m\n",
      "\u001b[0;32m~/combinatorial_neural_bandits/module_space/ucb_ts.py\u001b[0m in \u001b[0;36mrun\u001b[0;34m(self)\u001b[0m\n\u001b[1;32m    222\u001b[0m                 \u001b[0;32mif\u001b[0m \u001b[0mself\u001b[0m\u001b[0;34m.\u001b[0m\u001b[0mucb_ts\u001b[0m \u001b[0;34m==\u001b[0m \u001b[0;34m\"TS\"\u001b[0m\u001b[0;34m:\u001b[0m\u001b[0;34m\u001b[0m\u001b[0;34m\u001b[0m\u001b[0m\n\u001b[1;32m    223\u001b[0m                     \u001b[0;31m## update sample rewards of all set of arms based on observed features at time t\u001b[0m\u001b[0;34m\u001b[0m\u001b[0;34m\u001b[0m\u001b[0;34m\u001b[0m\u001b[0m\n\u001b[0;32m--> 224\u001b[0;31m                     \u001b[0mself\u001b[0m\u001b[0;34m.\u001b[0m\u001b[0mupdate_sample_rewards\u001b[0m\u001b[0;34m(\u001b[0m\u001b[0;34m)\u001b[0m\u001b[0;34m\u001b[0m\u001b[0;34m\u001b[0m\u001b[0m\n\u001b[0m\u001b[1;32m    225\u001b[0m \u001b[0;34m\u001b[0m\u001b[0m\n\u001b[1;32m    226\u001b[0m                 \u001b[0;31m# pick action (set of arm) with the highest boosted estimated reward\u001b[0m\u001b[0;34m\u001b[0m\u001b[0;34m\u001b[0m\u001b[0;34m\u001b[0m\u001b[0m\n",
      "\u001b[0;32m~/combinatorial_neural_bandits/module_space/ucb_ts.py\u001b[0m in \u001b[0;36mupdate_sample_rewards\u001b[0;34m(self)\u001b[0m\n\u001b[1;32m    179\u001b[0m         \"\"\"        \n\u001b[1;32m    180\u001b[0m         \u001b[0;31m# update self.grad_approx\u001b[0m\u001b[0;34m\u001b[0m\u001b[0;34m\u001b[0m\u001b[0;34m\u001b[0m\u001b[0m\n\u001b[0;32m--> 181\u001b[0;31m         \u001b[0mself\u001b[0m\u001b[0;34m.\u001b[0m\u001b[0mupdate_output_gradient\u001b[0m\u001b[0;34m(\u001b[0m\u001b[0;34m)\u001b[0m\u001b[0;34m\u001b[0m\u001b[0;34m\u001b[0m\u001b[0m\n\u001b[0m\u001b[1;32m    182\u001b[0m \u001b[0;34m\u001b[0m\u001b[0m\n\u001b[1;32m    183\u001b[0m         \u001b[0;31m# update sigma_square\u001b[0m\u001b[0;34m\u001b[0m\u001b[0;34m\u001b[0m\u001b[0;34m\u001b[0m\u001b[0m\n",
      "\u001b[0;32m~/combinatorial_neural_bandits/module_space/neural.py\u001b[0m in \u001b[0;36mupdate_output_gradient\u001b[0;34m(self)\u001b[0m\n\u001b[1;32m     90\u001b[0m             \u001b[0my\u001b[0m\u001b[0;34m.\u001b[0m\u001b[0mbackward\u001b[0m\u001b[0;34m(\u001b[0m\u001b[0;34m)\u001b[0m\u001b[0;34m\u001b[0m\u001b[0;34m\u001b[0m\u001b[0m\n\u001b[1;32m     91\u001b[0m \u001b[0;34m\u001b[0m\u001b[0m\n\u001b[0;32m---> 92\u001b[0;31m             tmp = [w.grad.detach().flatten() / np.sqrt(self.hidden_size) \\\n\u001b[0m\u001b[1;32m     93\u001b[0m                    for w in self.model.parameters() if w.requires_grad]\n\u001b[1;32m     94\u001b[0m             \u001b[0mself\u001b[0m\u001b[0;34m.\u001b[0m\u001b[0mgrad_approx\u001b[0m\u001b[0;34m[\u001b[0m\u001b[0ma\u001b[0m\u001b[0;34m]\u001b[0m \u001b[0;34m=\u001b[0m \u001b[0mtorch\u001b[0m\u001b[0;34m.\u001b[0m\u001b[0mcat\u001b[0m\u001b[0;34m(\u001b[0m\u001b[0mtmp\u001b[0m\u001b[0;34m)\u001b[0m\u001b[0;34m.\u001b[0m\u001b[0mto\u001b[0m\u001b[0;34m(\u001b[0m\u001b[0;34m\"cpu\"\u001b[0m\u001b[0;34m)\u001b[0m\u001b[0;34m\u001b[0m\u001b[0;34m\u001b[0m\u001b[0m\n",
      "\u001b[0;32m~/combinatorial_neural_bandits/module_space/neural.py\u001b[0m in \u001b[0;36m<listcomp>\u001b[0;34m(.0)\u001b[0m\n\u001b[1;32m     90\u001b[0m             \u001b[0my\u001b[0m\u001b[0;34m.\u001b[0m\u001b[0mbackward\u001b[0m\u001b[0;34m(\u001b[0m\u001b[0;34m)\u001b[0m\u001b[0;34m\u001b[0m\u001b[0;34m\u001b[0m\u001b[0m\n\u001b[1;32m     91\u001b[0m \u001b[0;34m\u001b[0m\u001b[0m\n\u001b[0;32m---> 92\u001b[0;31m             tmp = [w.grad.detach().flatten() / np.sqrt(self.hidden_size) \\\n\u001b[0m\u001b[1;32m     93\u001b[0m                    for w in self.model.parameters() if w.requires_grad]\n\u001b[1;32m     94\u001b[0m             \u001b[0mself\u001b[0m\u001b[0;34m.\u001b[0m\u001b[0mgrad_approx\u001b[0m\u001b[0;34m[\u001b[0m\u001b[0ma\u001b[0m\u001b[0;34m]\u001b[0m \u001b[0;34m=\u001b[0m \u001b[0mtorch\u001b[0m\u001b[0;34m.\u001b[0m\u001b[0mcat\u001b[0m\u001b[0;34m(\u001b[0m\u001b[0mtmp\u001b[0m\u001b[0;34m)\u001b[0m\u001b[0;34m.\u001b[0m\u001b[0mto\u001b[0m\u001b[0;34m(\u001b[0m\u001b[0;34m\"cpu\"\u001b[0m\u001b[0;34m)\u001b[0m\u001b[0;34m\u001b[0m\u001b[0;34m\u001b[0m\u001b[0m\n",
      "\u001b[0;31mKeyboardInterrupt\u001b[0m: "
     ]
    }
   ],
   "source": [
    "## regrets for h1, h2, h3\n",
    "experiment(lin_neural, ucb_ts, h1, n_features, hidden_size, n_samples=n_samples, save='reg_h1_CNTSOpt_20_20')"
   ]
  },
  {
   "cell_type": "code",
   "execution_count": 30,
   "metadata": {},
   "outputs": [
    {
     "name": "stderr",
     "output_type": "stream",
     "text": [
      "100%|██████████| 1000/1000 [00:11<00:00, 89.68it/s, total regret=6.88e+3, % optimal set of arms=12.10%]\n",
      "100%|██████████| 1000/1000 [00:11<00:00, 90.91it/s, total regret=1.2e+3, % optimal set of arms=26.20%] \n",
      " 21%|██▏       | 213/1000 [00:02<00:09, 80.06it/s, total regret=1.1e+3, % optimal set of arms=16.90%] \n"
     ]
    },
    {
     "ename": "KeyboardInterrupt",
     "evalue": "",
     "output_type": "error",
     "traceback": [
      "\u001b[0;31m---------------------------------------------------------------------------\u001b[0m",
      "\u001b[0;31mKeyboardInterrupt\u001b[0m                         Traceback (most recent call last)",
      "\u001b[0;32m<ipython-input-30-6789842a6798>\u001b[0m in \u001b[0;36m<module>\u001b[0;34m\u001b[0m\n\u001b[0;32m----> 1\u001b[0;31m \u001b[0mexperiment\u001b[0m\u001b[0;34m(\u001b[0m\u001b[0mlin_neural\u001b[0m\u001b[0;34m,\u001b[0m \u001b[0mucb_ts\u001b[0m\u001b[0;34m,\u001b[0m \u001b[0mh2\u001b[0m\u001b[0;34m,\u001b[0m \u001b[0mn_features\u001b[0m\u001b[0;34m,\u001b[0m \u001b[0mhidden_size\u001b[0m\u001b[0;34m,\u001b[0m \u001b[0mn_samples\u001b[0m\u001b[0;34m=\u001b[0m\u001b[0mn_samples\u001b[0m\u001b[0;34m,\u001b[0m \u001b[0msave\u001b[0m\u001b[0;34m=\u001b[0m\u001b[0;34m'reg_h2_CNTSOpt_20_20'\u001b[0m\u001b[0;34m)\u001b[0m\u001b[0;34m\u001b[0m\u001b[0;34m\u001b[0m\u001b[0m\n\u001b[0m",
      "\u001b[0;32m<ipython-input-6-f2c739a5396e>\u001b[0m in \u001b[0;36mexperiment\u001b[0;34m(lin_neural, ucb_ts, h_str, n_features, hidden_size, n_samples, save)\u001b[0m\n\u001b[1;32m     64\u001b[0m                               )\n\u001b[1;32m     65\u001b[0m \u001b[0;34m\u001b[0m\u001b[0m\n\u001b[0;32m---> 66\u001b[0;31m         \u001b[0mmodel\u001b[0m\u001b[0;34m.\u001b[0m\u001b[0mrun\u001b[0m\u001b[0;34m(\u001b[0m\u001b[0;34m)\u001b[0m\u001b[0;34m\u001b[0m\u001b[0;34m\u001b[0m\u001b[0m\n\u001b[0m\u001b[1;32m     67\u001b[0m         \u001b[0mregrets\u001b[0m\u001b[0;34m[\u001b[0m\u001b[0mi\u001b[0m\u001b[0;34m]\u001b[0m \u001b[0;34m=\u001b[0m \u001b[0mnp\u001b[0m\u001b[0;34m.\u001b[0m\u001b[0mcumsum\u001b[0m\u001b[0;34m(\u001b[0m\u001b[0mmodel\u001b[0m\u001b[0;34m.\u001b[0m\u001b[0mregrets\u001b[0m\u001b[0;34m)\u001b[0m\u001b[0;34m\u001b[0m\u001b[0;34m\u001b[0m\u001b[0m\n\u001b[1;32m     68\u001b[0m \u001b[0;34m\u001b[0m\u001b[0m\n",
      "\u001b[0;32m~/combinatorial_neural_bandits/module_space/ucb_ts.py\u001b[0m in \u001b[0;36mrun\u001b[0;34m(self)\u001b[0m\n\u001b[1;32m    222\u001b[0m                 \u001b[0;32mif\u001b[0m \u001b[0mself\u001b[0m\u001b[0;34m.\u001b[0m\u001b[0mucb_ts\u001b[0m \u001b[0;34m==\u001b[0m \u001b[0;34m\"TS\"\u001b[0m\u001b[0;34m:\u001b[0m\u001b[0;34m\u001b[0m\u001b[0;34m\u001b[0m\u001b[0m\n\u001b[1;32m    223\u001b[0m                     \u001b[0;31m## update sample rewards of all set of arms based on observed features at time t\u001b[0m\u001b[0;34m\u001b[0m\u001b[0;34m\u001b[0m\u001b[0;34m\u001b[0m\u001b[0m\n\u001b[0;32m--> 224\u001b[0;31m                     \u001b[0mself\u001b[0m\u001b[0;34m.\u001b[0m\u001b[0mupdate_sample_rewards\u001b[0m\u001b[0;34m(\u001b[0m\u001b[0;34m)\u001b[0m\u001b[0;34m\u001b[0m\u001b[0;34m\u001b[0m\u001b[0m\n\u001b[0m\u001b[1;32m    225\u001b[0m \u001b[0;34m\u001b[0m\u001b[0m\n\u001b[1;32m    226\u001b[0m                 \u001b[0;31m# pick action (set of arm) with the highest boosted estimated reward\u001b[0m\u001b[0;34m\u001b[0m\u001b[0;34m\u001b[0m\u001b[0;34m\u001b[0m\u001b[0m\n",
      "\u001b[0;32m~/combinatorial_neural_bandits/module_space/ucb_ts.py\u001b[0m in \u001b[0;36mupdate_sample_rewards\u001b[0;34m(self)\u001b[0m\n\u001b[1;32m    190\u001b[0m \u001b[0;34m\u001b[0m\u001b[0m\n\u001b[1;32m    191\u001b[0m         \u001b[0;31m# update sample reward\u001b[0m\u001b[0;34m\u001b[0m\u001b[0;34m\u001b[0m\u001b[0;34m\u001b[0m\u001b[0m\n\u001b[0;32m--> 192\u001b[0;31m         self.sample_rewards[self.iteration] = [np.random.normal(loc = self.mu_hat[self.iteration, a], \\\n\u001b[0m\u001b[1;32m    193\u001b[0m                                                                 \u001b[0mscale\u001b[0m \u001b[0;34m=\u001b[0m \u001b[0;34m(\u001b[0m\u001b[0mself\u001b[0m\u001b[0;34m.\u001b[0m\u001b[0mexploration_variance\u001b[0m\u001b[0;34m**\u001b[0m\u001b[0;36m2\u001b[0m\u001b[0;34m)\u001b[0m \u001b[0;34m*\u001b[0m \u001b[0mself\u001b[0m\u001b[0;34m.\u001b[0m\u001b[0msigma_square\u001b[0m\u001b[0;34m[\u001b[0m\u001b[0mself\u001b[0m\u001b[0;34m.\u001b[0m\u001b[0miteration\u001b[0m\u001b[0;34m,\u001b[0m \u001b[0ma\u001b[0m\u001b[0;34m]\u001b[0m\u001b[0;34m,\u001b[0m\u001b[0;31m \u001b[0m\u001b[0;31m\\\u001b[0m\u001b[0;34m\u001b[0m\u001b[0;34m\u001b[0m\u001b[0m\n\u001b[1;32m    194\u001b[0m                                                                 size = self.bandit.n_samples) \\\n",
      "\u001b[0;32m~/combinatorial_neural_bandits/module_space/ucb_ts.py\u001b[0m in \u001b[0;36m<listcomp>\u001b[0;34m(.0)\u001b[0m\n\u001b[1;32m    190\u001b[0m \u001b[0;34m\u001b[0m\u001b[0m\n\u001b[1;32m    191\u001b[0m         \u001b[0;31m# update sample reward\u001b[0m\u001b[0;34m\u001b[0m\u001b[0;34m\u001b[0m\u001b[0;34m\u001b[0m\u001b[0m\n\u001b[0;32m--> 192\u001b[0;31m         self.sample_rewards[self.iteration] = [np.random.normal(loc = self.mu_hat[self.iteration, a], \\\n\u001b[0m\u001b[1;32m    193\u001b[0m                                                                 \u001b[0mscale\u001b[0m \u001b[0;34m=\u001b[0m \u001b[0;34m(\u001b[0m\u001b[0mself\u001b[0m\u001b[0;34m.\u001b[0m\u001b[0mexploration_variance\u001b[0m\u001b[0;34m**\u001b[0m\u001b[0;36m2\u001b[0m\u001b[0;34m)\u001b[0m \u001b[0;34m*\u001b[0m \u001b[0mself\u001b[0m\u001b[0;34m.\u001b[0m\u001b[0msigma_square\u001b[0m\u001b[0;34m[\u001b[0m\u001b[0mself\u001b[0m\u001b[0;34m.\u001b[0m\u001b[0miteration\u001b[0m\u001b[0;34m,\u001b[0m \u001b[0ma\u001b[0m\u001b[0;34m]\u001b[0m\u001b[0;34m,\u001b[0m\u001b[0;31m \u001b[0m\u001b[0;31m\\\u001b[0m\u001b[0;34m\u001b[0m\u001b[0;34m\u001b[0m\u001b[0m\n\u001b[1;32m    194\u001b[0m                                                                 size = self.bandit.n_samples) \\\n",
      "\u001b[0;31mKeyboardInterrupt\u001b[0m: "
     ]
    }
   ],
   "source": [
    "experiment(lin_neural, ucb_ts, h2, n_features, hidden_size, n_samples=n_samples, save='reg_h2_CNTSOpt_20_20')"
   ]
  },
  {
   "cell_type": "code",
   "execution_count": null,
   "metadata": {},
   "outputs": [],
   "source": [
    "experiment(lin_neural, ucb_ts, h3, n_features, hidden_size, n_samples=n_samples, save='reg_h3_CNTSOpt_20_20')"
   ]
  },
  {
   "cell_type": "markdown",
   "metadata": {},
   "source": [
    "##### Experiment B25"
   ]
  },
  {
   "cell_type": "code",
   "execution_count": null,
   "metadata": {},
   "outputs": [],
   "source": [
    "## d = 20, m = 40\n",
    "n_features = n_features_default\n",
    "hidden_size = 40"
   ]
  },
  {
   "cell_type": "code",
   "execution_count": null,
   "metadata": {},
   "outputs": [],
   "source": [
    "## regrets for h1, h2, h3\n",
    "experiment(lin_neural, ucb_ts, h1, n_features, hidden_size, n_samples=n_samples, save='reg_h1_CNTSOpt_20_40')"
   ]
  },
  {
   "cell_type": "code",
   "execution_count": null,
   "metadata": {},
   "outputs": [],
   "source": [
    "experiment(lin_neural, ucb_ts, h2, n_features, hidden_size, n_samples=n_samples, save='reg_h2_CNTSOpt_20_40')"
   ]
  },
  {
   "cell_type": "code",
   "execution_count": null,
   "metadata": {},
   "outputs": [],
   "source": [
    "experiment(lin_neural, ucb_ts, h3, n_features, hidden_size, n_samples=n_samples, save='reg_h3_CNTSOpt_20_40')"
   ]
  },
  {
   "cell_type": "markdown",
   "metadata": {},
   "source": [
    "##### Experiment B26"
   ]
  },
  {
   "cell_type": "code",
   "execution_count": null,
   "metadata": {},
   "outputs": [],
   "source": [
    "## d = 20, m = 80\n",
    "n_features = n_features_default\n",
    "hidden_size = 80"
   ]
  },
  {
   "cell_type": "code",
   "execution_count": null,
   "metadata": {},
   "outputs": [],
   "source": [
    "## regrets for h1, h2, h3\n",
    "experiment(lin_neural, ucb_ts, h1, n_features, hidden_size, n_samples=n_samples, save='reg_h1_CNTSOpt_20_80')"
   ]
  },
  {
   "cell_type": "code",
   "execution_count": null,
   "metadata": {},
   "outputs": [],
   "source": [
    "experiment(lin_neural, ucb_ts, h2, n_features, hidden_size, n_samples=n_samples, save='reg_h2_CNTSOpt_20_80')"
   ]
  },
  {
   "cell_type": "code",
   "execution_count": null,
   "metadata": {},
   "outputs": [],
   "source": [
    "experiment(lin_neural, ucb_ts, h3, n_features, hidden_size, n_samples=n_samples, save='reg_h3_CNTSOpt_20_80')"
   ]
  },
  {
   "cell_type": "markdown",
   "metadata": {},
   "source": [
    "##### Experiment B27"
   ]
  },
  {
   "cell_type": "code",
   "execution_count": null,
   "metadata": {},
   "outputs": [],
   "source": [
    "## d = 20, m = 100\n",
    "n_features = n_features_default\n",
    "hidden_size = 100"
   ]
  },
  {
   "cell_type": "code",
   "execution_count": null,
   "metadata": {},
   "outputs": [],
   "source": [
    "## regrets for h1, h2, h3\n",
    "experiment(lin_neural, ucb_ts, h1, n_features, hidden_size, n_samples=n_samples, save='reg_h1_CNTSOpt_20_100')"
   ]
  },
  {
   "cell_type": "code",
   "execution_count": null,
   "metadata": {},
   "outputs": [],
   "source": [
    "experiment(lin_neural, ucb_ts, h2, n_features, hidden_size, n_samples=n_samples, save='reg_h2_CNTSOpt_20_100')"
   ]
  },
  {
   "cell_type": "code",
   "execution_count": null,
   "metadata": {},
   "outputs": [],
   "source": [
    "experiment(lin_neural, ucb_ts, h3, n_features, hidden_size, n_samples=n_samples, save='reg_h3_CNTSOpt_20_100')"
   ]
  }
 ],
 "metadata": {
  "kernelspec": {
   "display_name": "Python 3",
   "language": "python",
   "name": "python3"
  },
  "language_info": {
   "codemirror_mode": {
    "name": "ipython",
    "version": 3
   },
   "file_extension": ".py",
   "mimetype": "text/x-python",
   "name": "python",
   "nbconvert_exporter": "python",
   "pygments_lexer": "ipython3",
   "version": "3.8.3"
  }
 },
 "nbformat": 4,
 "nbformat_minor": 4
}
