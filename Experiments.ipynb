{
 "cells": [
  {
   "cell_type": "markdown",
   "metadata": {},
   "source": [
    "# Settings"
   ]
  },
  {
   "cell_type": "code",
   "execution_count": null,
   "metadata": {},
   "outputs": [],
   "source": [
    "import numpy as np\n",
    "import matplotlib.pyplot as plt\n",
    "import seaborn as sns\n",
    "from varname import nameof\n",
    "\n",
    "from module_space import *\n",
    "sns.set()"
   ]
  },
  {
   "cell_type": "markdown",
   "metadata": {},
   "source": [
    "### Bandit settings"
   ]
  },
  {
   "cell_type": "code",
   "execution_count": 1,
   "metadata": {},
   "outputs": [],
   "source": [
    "T = 2000\n",
    "n_arms = 12 # N\n",
    "n_features_default = 20 # d\n",
    "n_assortment = 4 # K\n",
    "n_samples = 30 # M, number of samples per each (round, arm), for TS\n",
    "noise_std = 0.01 # noise of reward: xi = noise_std*N(0,1)\n",
    "\n",
    "n_sim = 10 # number of simulations\n",
    "\n",
    "def F(x): # round_reward_function\n",
    "    if len(np.shape(x)) == 1: # if x is a vector\n",
    "        return np.sum(x)\n",
    "    else: # if x is a matrix\n",
    "        return np.sum(x, axis=1)                "
   ]
  },
  {
   "cell_type": "markdown",
   "metadata": {},
   "source": [
    "### Parameter settings"
   ]
  },
  {
   "cell_type": "code",
   "execution_count": 2,
   "metadata": {},
   "outputs": [],
   "source": [
    "reg_factor = 1.0 # lambda\n",
    "delta = 0.1 # delta\n",
    "exploration_variance = 1.0 # nu, for TS\n",
    "confidence_scaling_factor = 1.0 # gamma, for UCB"
   ]
  },
  {
   "cell_type": "markdown",
   "metadata": {},
   "source": [
    "### Neural network settings"
   ]
  },
  {
   "cell_type": "code",
   "execution_count": null,
   "metadata": {},
   "outputs": [],
   "source": [
    "hidden_size_default = 100 # m\n",
    "epochs = 100 # repeat training for each period\n",
    "train_every = 10 # training period\n",
    "use_cuda = False\n",
    "training_window =100\n",
    "learning_rate = 0.01"
   ]
  },
  {
   "cell_type": "markdown",
   "metadata": {},
   "source": [
    "# Experiment descirption\n",
    "### Hidden functions\n",
    "- Linear: $h_{1}(x_{t,i}) = a^{\\top}x_{t,i}$\n",
    "- Quadratic: $h_{2}(x_{t,i}) = (a^{\\top}x_{t,i})^{2}$\n",
    "- Non-linear: $h_{3}(x_{t,i}) = \\cos(\\pi a^{\\top}x_{t,i})$\n",
    "- where $a \\sim N(0,1)/\\|a\\|_{2}$\n",
    "\n",
    "### For each hidden function, compare the following algorithms\n",
    "- CombLinUCB\n",
    "- CombLinTS\n",
    "- CN-UCB\n",
    "- CN-TS(1): single reward sample\n",
    "- CN-TS(30): optimistic sampling, sample size = 30 (default sample size is 1)\n",
    "\n",
    "### Ablation study of feature dimension *d* and neural network width *m*\n",
    "- Default value: $d = 20, m = 100$\n",
    "- $d = \\{20, 100\\}$  for all algorithms\n",
    "- $d = \\{20, 40, 60, 80, 100\\}$ for CN-UCB, CN-TS(1), and CN-TS(30)\n",
    "- $m = \\{20, 40, 60, 80, 100\\}$ for CN-UCB, CN-TS(1), and CN-TS(30)"
   ]
  },
  {
   "cell_type": "markdown",
   "metadata": {},
   "source": [
    "# Experiment settings"
   ]
  },
  {
   "cell_type": "markdown",
   "metadata": {},
   "source": [
    "### Reward function settings"
   ]
  },
  {
   "cell_type": "code",
   "execution_count": null,
   "metadata": {},
   "outputs": [],
   "source": [
    "SEED = 1234\n",
    "np.random.seed(SEED)\n",
    "a = np.random.randn(n_features)\n",
    "a /= np.linalg.norm(a, ord=2)\n",
    "\n",
    "h1 = lambda x: np.dot(a, x)\n",
    "h2 = lambda x: np.dot(a, x)**2\n",
    "h3 = lambda x: np.cos(np.pi*np.dot(x, a))"
   ]
  },
  {
   "cell_type": "markdown",
   "metadata": {},
   "source": [
    "### Bandit, learning algorithm, regrets settings"
   ]
  },
  {
   "cell_type": "code",
   "execution_count": null,
   "metadata": {},
   "outputs": [],
   "source": [
    "def experiment(lin_neural, ucb_ts, h, n_features=20, hidden_size=100, n_samples=1):\n",
    "    \"\"\" kind explanation\n",
    "    \"\"\"\n",
    "    bandit = ContextualBandit(T,\n",
    "                              n_arms,\n",
    "                              n_features, \n",
    "                              h,\n",
    "                              noise_std=noise_std,\n",
    "                              n_assortment=n_assortment,\n",
    "                              n_samples=n_samples,\n",
    "                              round_reward_function=F\n",
    "                             )\n",
    "    \n",
    "    regrets = np.empty((n_sim, T))\n",
    "    \n",
    "    for i in range(n_sim):\n",
    "        bandit.reset_rewards()\n",
    "        \n",
    "        if lin_neural == Neural:\n",
    "            model = lin_neural(ucb_ts,\n",
    "                               bandit,\n",
    "                               hidden_size=hidden_size,\n",
    "                               reg_factor=reg_factor,\n",
    "                               delta=delta,\n",
    "                               confidence_scaling_factor=confidence_scaling_factor,\n",
    "                               exploration_variance=exploration_variance,\n",
    "                               training_window=training_window,\n",
    "                               learning_rate=learning_rate,\n",
    "                               epochs=epochs,train_every=train_every,\n",
    "                               use_cuda=use_cuda\n",
    "                              )\n",
    "            \n",
    "            model.set_init_param(model.model.parameters()) # keep initial parameters for regularization\n",
    "            \n",
    "        if lin_neural == Lin:\n",
    "            model = lin_neural(ucb_ts,\n",
    "                               bandit,\n",
    "                               reg_factor=reg_factor,\n",
    "                               delta=delta,\n",
    "                               confidence_scaling_factor=confidence_scaling_factor,\n",
    "                               exploration_variance=exploration_variacne\n",
    "                              )\n",
    "        \n",
    "        model.run()\n",
    "        regrets[i] = np.cumsum(model.regrets)\n",
    "    \n",
    "    return regrets    "
   ]
  },
  {
   "cell_type": "markdown",
   "metadata": {},
   "source": [
    "# Experiment 1: Algorithm vs Regret"
   ]
  },
  {
   "cell_type": "markdown",
   "metadata": {},
   "source": [
    "### CN-UCB"
   ]
  },
  {
   "cell_type": "code",
   "execution_count": null,
   "metadata": {},
   "outputs": [],
   "source": [
    "lin_neural = Neural\n",
    "ucb_ts = \"UCB\""
   ]
  },
  {
   "cell_type": "code",
   "execution_count": null,
   "metadata": {},
   "outputs": [],
   "source": [
    "## d = 20, m = 100\n",
    "n_features = n_features_default\n",
    "hidden_size = hidden_size_default\n",
    "\n",
    "## regrets for h1, h2, h3\n",
    "reg_h1_CNUCB_20_100 = experiment(lin_neural, \n",
    "                                 ucb_ts, \n",
    "                                 h1, \n",
    "                                 n_features, \n",
    "                                 hidden_size\n",
    "                                )\n",
    "\n",
    "reg_h2_CNUCB_20_100 = experiment(lin_neural, \n",
    "                                 ucb_ts, \n",
    "                                 h2, \n",
    "                                 n_features, \n",
    "                                 hidden_size\n",
    "                                )\n",
    "\n",
    "reg_h3_CNUCB_20_100 = experiment(lin_neural, \n",
    "                                 ucb_ts, \n",
    "                                 h3, \n",
    "                                 n_features, \n",
    "                                 hidden_size\n",
    "                                )"
   ]
  },
  {
   "cell_type": "code",
   "execution_count": null,
   "metadata": {},
   "outputs": [],
   "source": [
    "## d = 100, m = 100\n",
    "n_features = 100\n",
    "hidden_size = hidden_size_default\n",
    "\n",
    "## regrets for h1, h2, h3\n",
    "reg_h1_CNUCB_100_100 = experiment(lin_neural, \n",
    "                                 ucb_ts, \n",
    "                                 h1, \n",
    "                                 n_features, \n",
    "                                 hidden_size\n",
    "                                )\n",
    "\n",
    "reg_h2_CNUCB_100_100 = experiment(lin_neural, \n",
    "                                 ucb_ts, \n",
    "                                 h2, \n",
    "                                 n_features, \n",
    "                                 hidden_size\n",
    "                                )\n",
    "\n",
    "reg_h3_CNUCB_100_100 = experiment(lin_neural, \n",
    "                                 ucb_ts, \n",
    "                                 h3, \n",
    "                                 n_features, \n",
    "                                 hidden_size\n",
    "                                )"
   ]
  },
  {
   "cell_type": "markdown",
   "metadata": {},
   "source": [
    "### CN-TS(1)"
   ]
  },
  {
   "cell_type": "code",
   "execution_count": null,
   "metadata": {},
   "outputs": [],
   "source": [
    "lin_neural = Neural\n",
    "ucb_ts = \"TS\""
   ]
  },
  {
   "cell_type": "code",
   "execution_count": null,
   "metadata": {},
   "outputs": [],
   "source": [
    "## d = 20, m = 100\n",
    "n_features = n_features_default\n",
    "hidden_size = hidden_size_default\n",
    "\n",
    "## regrets for h1, h2, h3\n",
    "reg_h1_CNTS_20_100 = experiment(lin_neural, \n",
    "                                ucb_ts, \n",
    "                                h1, \n",
    "                                n_features, \n",
    "                                hidden_size\n",
    "                               )\n",
    "\n",
    "reg_h2_CNTS_20_100 = experiment(lin_neural, \n",
    "                                ucb_ts, \n",
    "                                h2, \n",
    "                                n_features, \n",
    "                                hidden_size\n",
    "                               )\n",
    "\n",
    "reg_h3_CNTS_20_100 = experiment(lin_neural, \n",
    "                                ucb_ts, \n",
    "                                h3, \n",
    "                                n_features, \n",
    "                                hidden_size\n",
    "                               )"
   ]
  },
  {
   "cell_type": "code",
   "execution_count": null,
   "metadata": {},
   "outputs": [],
   "source": [
    "## d = 100, m = 100\n",
    "n_features = 100\n",
    "hidden_size = hidden_size_default\n",
    "\n",
    "## regrets for h1, h2, h3\n",
    "reg_h1_CNTS_100_100 = experiment(lin_neural, \n",
    "                                ucb_ts, \n",
    "                                h1, \n",
    "                                n_features, \n",
    "                                hidden_size\n",
    "                               )\n",
    "\n",
    "reg_h2_CNTS_100_100 = experiment(lin_neural, \n",
    "                                ucb_ts, \n",
    "                                h2, \n",
    "                                n_features, \n",
    "                                hidden_size\n",
    "                               )\n",
    "\n",
    "reg_h3_CNTS_100_100 = experiment(lin_neural, \n",
    "                                ucb_ts, \n",
    "                                h3, \n",
    "                                n_features, \n",
    "                                hidden_size\n",
    "                               )"
   ]
  },
  {
   "cell_type": "markdown",
   "metadata": {},
   "source": [
    "### CN-TS(30)"
   ]
  },
  {
   "cell_type": "code",
   "execution_count": null,
   "metadata": {},
   "outputs": [],
   "source": [
    "lin_neural = Neural\n",
    "ucb_ts = \"TS\""
   ]
  },
  {
   "cell_type": "code",
   "execution_count": null,
   "metadata": {},
   "outputs": [],
   "source": [
    "## d = 20, m = 100\n",
    "## M = 30\n",
    "n_features = n_features_default\n",
    "hidden_size = hidden_size_default\n",
    "\n",
    "## regrets for h1, h2, h3\n",
    "reg_h1_CNTSOpt_20_100 = experiment(lin_neural, \n",
    "                                   ucb_ts, \n",
    "                                   h1, \n",
    "                                   n_features, \n",
    "                                   hidden_size, \n",
    "                                   n_samples=n_samples\n",
    "                                  )\n",
    "\n",
    "reg_h2_CNTSOpt_20_100 = experiment(lin_neural, \n",
    "                                   ucb_ts, \n",
    "                                   h2, \n",
    "                                   n_features, \n",
    "                                   hidden_size, \n",
    "                                   n_samples=n_samples\n",
    "                                  )\n",
    "\n",
    "reg_h3_CNTSOpt_20_100 = experiment(lin_neural, \n",
    "                                   ucb_ts, \n",
    "                                   h3, \n",
    "                                   n_features, \n",
    "                                   hidden_size, \n",
    "                                   n_samples=n_samples\n",
    "                                  )"
   ]
  },
  {
   "cell_type": "code",
   "execution_count": null,
   "metadata": {},
   "outputs": [],
   "source": [
    "## d = 100, m = 100\n",
    "## M = 30\n",
    "n_features = 100\n",
    "hidden_size = hidden_size_default\n",
    "\n",
    "## regrets for h1, h2, h3\n",
    "reg_h1_CNTSOpt_100_100 = experiment(lin_neural, \n",
    "                                    ucb_ts, \n",
    "                                    h1, \n",
    "                                    n_features, \n",
    "                                    hidden_size, \n",
    "                                    n_samples=n_samples\n",
    "                                   )\n",
    "\n",
    "reg_h2_CNTSOpt_100_100 = experiment(lin_neural, \n",
    "                                    ucb_ts, \n",
    "                                    h2, \n",
    "                                    n_features, \n",
    "                                    hidden_size, \n",
    "                                    n_samples=n_samples\n",
    "                                   )\n",
    "\n",
    "reg_h3_CNTSOpt_100_100 = experiment(lin_neural, \n",
    "                                    ucb_ts, \n",
    "                                    h3, \n",
    "                                    n_features, \n",
    "                                    hidden_size, \n",
    "                                    n_samples=n_samples\n",
    "                                   )"
   ]
  },
  {
   "cell_type": "markdown",
   "metadata": {},
   "source": [
    "### CombLinUCB"
   ]
  },
  {
   "cell_type": "code",
   "execution_count": null,
   "metadata": {},
   "outputs": [],
   "source": [
    "lin_neural = Lin\n",
    "ucb_ts = \"UCB\""
   ]
  },
  {
   "cell_type": "code",
   "execution_count": null,
   "metadata": {},
   "outputs": [],
   "source": [
    "## d = 20\n",
    "n_features = n_features_default\n",
    "\n",
    "## regrets for h1, h2, h3\n",
    "reg_h1_CombLinUCB_20 = experiment(lin_neural, \n",
    "                                  ucb_ts, \n",
    "                                  h1, \n",
    "                                  n_features\n",
    "                                 )\n",
    "\n",
    "reg_h2_CombLinUCB_20 = experiment(lin_neural, \n",
    "                                  ucb_ts, \n",
    "                                  h2, \n",
    "                                  n_features\n",
    "                                 )\n",
    "\n",
    "reg_h3_CombLinUCB_20 = experiment(lin_neural, \n",
    "                                  ucb_ts, \n",
    "                                  h3, \n",
    "                                  n_features\n",
    "                                 )"
   ]
  },
  {
   "cell_type": "code",
   "execution_count": null,
   "metadata": {},
   "outputs": [],
   "source": [
    "## d = 100\n",
    "n_features = 100\n",
    "\n",
    "## regrets for h1, h2, h3\n",
    "reg_h1_CombLinUCB_100 = experiment(lin_neural, \n",
    "                                   ucb_ts, \n",
    "                                   h1, \n",
    "                                   n_features\n",
    "                                  )\n",
    "\n",
    "reg_h2_CombLinUCB_100 = experiment(lin_neural, \n",
    "                                   ucb_ts, \n",
    "                                   h2, \n",
    "                                   n_features\n",
    "                                  )\n",
    "\n",
    "reg_h3_CombLinUCB_100 = experiment(lin_neural, \n",
    "                                   ucb_ts, \n",
    "                                   h3, \n",
    "                                   n_features\n",
    "                                  )"
   ]
  },
  {
   "cell_type": "markdown",
   "metadata": {},
   "source": [
    "### CombLinTS"
   ]
  },
  {
   "cell_type": "code",
   "execution_count": null,
   "metadata": {},
   "outputs": [],
   "source": [
    "lin_neural = Lin\n",
    "ucb_ts = \"TS\""
   ]
  },
  {
   "cell_type": "code",
   "execution_count": null,
   "metadata": {},
   "outputs": [],
   "source": [
    "## d = 20\n",
    "n_features = n_features_default\n",
    "\n",
    "## regrets for h1, h2, h3\n",
    "reg_h1_CombLinTS_20 = experiment(lin_neural, \n",
    "                                 ucb_ts, \n",
    "                                 h1, \n",
    "                                 n_features\n",
    "                                )\n",
    "\n",
    "reg_h2_CombLinTS_20 = experiment(lin_neural, \n",
    "                                 ucb_ts, \n",
    "                                 h2, \n",
    "                                 n_features\n",
    "                                )\n",
    "\n",
    "reg_h3_CombLinTS_20 = experiment(lin_neural, \n",
    "                                 ucb_ts, \n",
    "                                 h3, \n",
    "                                 n_features\n",
    "                                )"
   ]
  },
  {
   "cell_type": "code",
   "execution_count": null,
   "metadata": {},
   "outputs": [],
   "source": [
    "## d = 100\n",
    "n_features = 100\n",
    "\n",
    "## regrets for h1, h2, h3\n",
    "reg_h1_CombLinTS_100 = experiment(lin_neural, \n",
    "                                  ucb_ts, \n",
    "                                  h1, \n",
    "                                  n_features\n",
    "                                 )\n",
    "\n",
    "reg_h2_CombLinTS_100 = experiment(lin_neural, \n",
    "                                  ucb_ts, \n",
    "                                  h2, \n",
    "                                  n_features\n",
    "                                 )\n",
    "\n",
    "reg_h3_CombLinTS_100 = experiment(lin_neural, \n",
    "                                  ucb_ts, \n",
    "                                  h3, \n",
    "                                  n_features\n",
    "                                 )"
   ]
  },
  {
   "cell_type": "markdown",
   "metadata": {},
   "source": [
    "### Save regrets"
   ]
  },
  {
   "cell_type": "code",
   "execution_count": null,
   "metadata": {},
   "outputs": [],
   "source": [
    "np.save('regrets/' + nameof(reg_h1_CNUCB_20_100), reg_h1_CNUCB_20_100)\n",
    "np.save('regrets/' + nameof(reg_h2_CNUCB_20_100), reg_h2_CNUCB_20_100)\n",
    "np.save('regrets/' + nameof(reg_h3_CNUCB_20_100), reg_h3_CNUCB_20_100)\n",
    "\n",
    "np.save('regrets/' + nameof(reg_h1_CNUCB_100_100), reg_h1_CNUCB_100_100)\n",
    "np.save('regrets/' + nameof(reg_h2_CNUCB_100_100), reg_h2_CNUCB_100_100)\n",
    "np.save('regrets/' + nameof(reg_h3_CNUCB_100_100), reg_h3_CNUCB_100_100)\n",
    "\n",
    "############################################################################\n",
    "\n",
    "np.save('regrets/' + nameof(reg_h1_CNTS_20_100), reg_h1_CNTS_20_100)\n",
    "np.save('regrets/' + nameof(reg_h2_CNTS_20_100), reg_h2_CNTS_20_100)\n",
    "np.save('regrets/' + nameof(reg_h3_CNTS_20_100), reg_h3_CNTS_20_100)\n",
    "\n",
    "np.save('regrets/' + nameof(reg_h1_CNTS_100_100), reg_h1_CNTS_100_100)\n",
    "np.save('regrets/' + nameof(reg_h2_CNTS_100_100), reg_h2_CNTS_100_100)\n",
    "np.save('regrets/' + nameof(reg_h3_CNTS_100_100), reg_h3_CNTS_100_100)\n",
    "\n",
    "############################################################################\n",
    "\n",
    "np.save('regrets/' + nameof(reg_h1_CNTSOpt_20_100), reg_h1_CNTSOpt_20_100)\n",
    "np.save('regrets/' + nameof(reg_h2_CNTSOpt_20_100), reg_h2_CNTSOpt_20_100)\n",
    "np.save('regrets/' + nameof(reg_h3_CNTSOpt_20_100), reg_h3_CNTSOpt_20_100)\n",
    "\n",
    "np.save('regrets/' + nameof(reg_h1_CNTSOpt_100_100), reg_h1_CNTSOpt_100_100)\n",
    "np.save('regrets/' + nameof(reg_h2_CNTSOpt_100_100), reg_h2_CNTSOpt_100_100)\n",
    "np.save('regrets/' + nameof(reg_h3_CNTSOpt_100_100), reg_h3_CNTSOpt_100_100)\n",
    "\n",
    "############################################################################\n",
    "\n",
    "np.save('regrets/' + nameof(reg_h1_CombLinUCB_20), reg_h1_CombLinUCB_20)\n",
    "np.save('regrets/' + nameof(reg_h2_CombLinUCB_20), reg_h2_CombLinUCB_20)\n",
    "np.save('regrets/' + nameof(reg_h3_CombLinUCB_20), reg_h3_CombLinUCB_20)\n",
    "\n",
    "np.save('regrets/' + nameof(reg_h1_CombLinUCB_100), reg_h1_CombLinUCB_100)\n",
    "np.save('regrets/' + nameof(reg_h2_CombLinUCB_100), reg_h2_CombLinUCB_100)\n",
    "np.save('regrets/' + nameof(reg_h3_CombLinUCB_100), reg_h3_CombLinUCB_100)\n",
    "\n",
    "############################################################################\n",
    "\n",
    "np.save('regrets/' + nameof(reg_h1_CombLinTS_20), reg_h1_CombLinTS_20)\n",
    "np.save('regrets/' + nameof(reg_h2_CombLinTS_20), reg_h2_CombLinTS_20)\n",
    "np.save('regrets/' + nameof(reg_h3_CombLinTS_20), reg_h3_CombLinTS_20)\n",
    "\n",
    "np.save('regrets/' + nameof(reg_h1_CombLinTS_100), reg_h1_CombLinTS_100)\n",
    "np.save('regrets/' + nameof(reg_h2_CombLinTS_100), reg_h2_CombLinTS_100)\n",
    "np.save('regrets/' + nameof(reg_h3_CombLinTS_100), reg_h3_CombLinTS_100)"
   ]
  },
  {
   "cell_type": "markdown",
   "metadata": {},
   "source": [
    "# Experiment 1: Plots"
   ]
  },
  {
   "cell_type": "code",
   "execution_count": null,
   "metadata": {},
   "outputs": [],
   "source": []
  },
  {
   "cell_type": "markdown",
   "metadata": {},
   "source": [
    "# Experiment 2: Ablation study"
   ]
  },
  {
   "cell_type": "markdown",
   "metadata": {},
   "source": [
    "### CN-UCB"
   ]
  },
  {
   "cell_type": "code",
   "execution_count": null,
   "metadata": {},
   "outputs": [],
   "source": [
    "lin_neural = Neural\n",
    "ucb_ts = \"UCB\""
   ]
  },
  {
   "cell_type": "code",
   "execution_count": null,
   "metadata": {},
   "outputs": [],
   "source": [
    "## d = 40, m = 100\n",
    "n_features = 40\n",
    "hidden_size = hidden_size_default\n",
    "\n",
    "## regrets for h1, h2, h3\n",
    "reg_h1_CNUCB_40_100 = experiment(lin_neural, ucb_ts, h1, n_features, hidden_size)\n",
    "reg_h2_CNUCB_40_100 = experiment(lin_neural, ucb_ts, h2, n_features, hidden_size)\n",
    "reg_h3_CNUCB_40_100 = experiment(lin_neural, ucb_ts, h3, n_features, hidden_size)"
   ]
  },
  {
   "cell_type": "code",
   "execution_count": null,
   "metadata": {},
   "outputs": [],
   "source": [
    "## d = 60, m = 100\n",
    "n_features = 60\n",
    "hidden_size = hidden_size_default\n",
    "\n",
    "## regrets for h1, h2, h3\n",
    "reg_h1_CNUCB_60_100 = experiment(lin_neural, ucb_ts, h1, n_features, hidden_size)\n",
    "reg_h2_CNUCB_60_100 = experiment(lin_neural, ucb_ts, h2, n_features, hidden_size)\n",
    "reg_h3_CNUCB_60_100 = experiment(lin_neural, ucb_ts, h3, n_features, hidden_size)"
   ]
  },
  {
   "cell_type": "code",
   "execution_count": null,
   "metadata": {},
   "outputs": [],
   "source": [
    "## d= 80, m = 100\n",
    "n_features = 80\n",
    "hidden_size = hidden_size_default\n",
    "\n",
    "## regrets for h1, h2, h3\n",
    "reg_h1_CNUCB_80_100 = experiment(lin_neural, ucb_ts, h1, n_features, hidden_size)\n",
    "reg_h2_CNUCB_80_100 = experiment(lin_neural, ucb_ts, h2, n_features, hidden_size)\n",
    "reg_h3_CNUCB_80_100 = experiment(lin_neural, ucb_ts, h3, n_features, hidden_size)"
   ]
  },
  {
   "cell_type": "code",
   "execution_count": null,
   "metadata": {},
   "outputs": [],
   "source": [
    "## d = 20, m = 20\n",
    "n_features = n_features_default\n",
    "hidden_size = 20\n",
    "\n",
    "## regrets for h1, h2, h3\n",
    "reg_h1_CNUCB_20_20 = experiment(lin_neural, ucb_ts, h1, n_features, hidden_size)\n",
    "reg_h2_CNUCB_20_20 = experiment(lin_neural, ucb_ts, h2, n_features, hidden_size)\n",
    "reg_h3_CNUCB_20_20 = experiment(lin_neural, ucb_ts, h3, n_features, hidden_size)"
   ]
  },
  {
   "cell_type": "code",
   "execution_count": null,
   "metadata": {},
   "outputs": [],
   "source": [
    "## d = 20, m = 40\n",
    "n_features = n_features_default\n",
    "hidden_size = 40\n",
    "\n",
    "## regrets for h1, h2, h3\n",
    "reg_h1_CNUCB_20_40 = experiment(lin_neural, ucb_ts, h1, n_features, hidden_size)\n",
    "reg_h2_CNUCB_20_40 = experiment(lin_neural, ucb_ts, h2, n_features, hidden_size)\n",
    "reg_h3_CNUCB_20_40 = experiment(lin_neural, ucb_ts, h3, n_features, hidden_size)"
   ]
  },
  {
   "cell_type": "code",
   "execution_count": null,
   "metadata": {},
   "outputs": [],
   "source": [
    "## d = 20, m = 60\n",
    "n_features = n_features_default\n",
    "hidden_size = 60\n",
    "\n",
    "## regrets for h1, h2, h3\n",
    "reg_h1_CNUCB_20_60 = experiment(lin_neural, ucb_ts, h1, n_features, hidden_size)\n",
    "reg_h2_CNUCB_20_60 = experiment(lin_neural, ucb_ts, h2, n_features, hidden_size)\n",
    "reg_h3_CNUCB_20_60 = experiment(lin_neural, ucb_ts, h3, n_features, hidden_size)"
   ]
  },
  {
   "cell_type": "code",
   "execution_count": null,
   "metadata": {},
   "outputs": [],
   "source": [
    "## d = 20, m = 80\n",
    "n_features = n_features_default\n",
    "hidden_size = 80\n",
    "\n",
    "## regrets for h1, h2, h3\n",
    "reg_h1_CNUCB_20_80 = experiment(lin_neural, ucb_ts, h1, n_features, hidden_size)\n",
    "reg_h2_CNUCB_20_80 = experiment(lin_neural, ucb_ts, h2, n_features, hidden_size)\n",
    "reg_h3_CNUCB_20_80 = experiment(lin_neural, ucb_ts, h3, n_features, hidden_size)"
   ]
  },
  {
   "cell_type": "markdown",
   "metadata": {},
   "source": [
    "### CN-TS(1)"
   ]
  },
  {
   "cell_type": "code",
   "execution_count": null,
   "metadata": {},
   "outputs": [],
   "source": [
    "lin_neural = Neural\n",
    "ucb_ts = \"TS\""
   ]
  },
  {
   "cell_type": "code",
   "execution_count": null,
   "metadata": {},
   "outputs": [],
   "source": [
    "## d = 40, m = 100\n",
    "n_features = 40\n",
    "hidden_size = hidden_size_default\n",
    "\n",
    "## regrets for h1, h2, h3\n",
    "reg_h1_CNTSOpt_40_100 = experiment(lin_neural, ucb_ts, h1, n_features, hidden_size)\n",
    "reg_h2_CNTSOpt_40_100 = experiment(lin_neural, ucb_ts, h2, n_features, hidden_size)\n",
    "reg_h3_CNTSOpt_40_100 = experiment(lin_neural, ucb_ts, h3, n_features, hidden_size)"
   ]
  },
  {
   "cell_type": "code",
   "execution_count": null,
   "metadata": {},
   "outputs": [],
   "source": [
    "## d = 60, m = 100\n",
    "n_features = 60\n",
    "hidden_size = hidden_size_default\n",
    "\n",
    "## regrets for h1, h2, h3\n",
    "reg_h1_CNTSOpt_60_100 = experiment(lin_neural, ucb_ts, h1, n_features, hidden_size)\n",
    "reg_h2_CNTSOpt_60_100 = experiment(lin_neural, ucb_ts, h2, n_features, hidden_size)\n",
    "reg_h3_CNTSOpt_60_100 = experiment(lin_neural, ucb_ts, h3, n_features, hidden_size)"
   ]
  },
  {
   "cell_type": "code",
   "execution_count": null,
   "metadata": {},
   "outputs": [],
   "source": [
    "## d= 80, m = 100\n",
    "n_features = 80\n",
    "hidden_size = hidden_size_default\n",
    "\n",
    "## regrets for h1, h2, h3\n",
    "reg_h1_CNTSOpt_80_100 = experiment(lin_neural, ucb_ts, h1, n_features, hidden_size)\n",
    "reg_h2_CNTSOpt_80_100 = experiment(lin_neural, ucb_ts, h2, n_features, hidden_size)\n",
    "reg_h3_CNTSOpt_80_100 = experiment(lin_neural, ucb_ts, h3, n_features, hidden_size)"
   ]
  },
  {
   "cell_type": "code",
   "execution_count": null,
   "metadata": {},
   "outputs": [],
   "source": [
    "## d = 20, m = 20\n",
    "n_features = n_features_default\n",
    "hidden_size = 20\n",
    "\n",
    "## regrets for h1, h2, h3\n",
    "reg_h1_CNTSOpt_20_20 = experiment(lin_neural, ucb_ts, h1, n_features, hidden_size)\n",
    "reg_h2_CNTSOpt_20_20 = experiment(lin_neural, ucb_ts, h2, n_features, hidden_size)\n",
    "reg_h3_CNTSOpt_20_20 = experiment(lin_neural, ucb_ts, h3, n_features, hidden_size)"
   ]
  },
  {
   "cell_type": "code",
   "execution_count": null,
   "metadata": {},
   "outputs": [],
   "source": [
    "## d = 20, m = 40\n",
    "n_features = n_features_default\n",
    "hidden_size = 40\n",
    "\n",
    "## regrets for h1, h2, h3\n",
    "reg_h1_CNTSOpt_20_40 = experiment(lin_neural, ucb_ts, h1, n_features, hidden_size)\n",
    "reg_h2_CNTSOpt_20_40 = experiment(lin_neural, ucb_ts, h2, n_features, hidden_size)\n",
    "reg_h3_CNTSOpt_20_40 = experiment(lin_neural, ucb_ts, h3, n_features, hidden_size)"
   ]
  },
  {
   "cell_type": "code",
   "execution_count": null,
   "metadata": {},
   "outputs": [],
   "source": [
    "## d = 20, m = 60\n",
    "n_features = n_features_default\n",
    "hidden_size = 60\n",
    "\n",
    "## regrets for h1, h2, h3\n",
    "reg_h1_CNTSOpt_20_60 = experiment(lin_neural, ucb_ts, h1, n_features, hidden_size)\n",
    "reg_h2_CNTSOpt_20_60 = experiment(lin_neural, ucb_ts, h2, n_features, hidden_size)\n",
    "reg_h3_CNTSOpt_20_60 = experiment(lin_neural, ucb_ts, h3, n_features, hidden_size)"
   ]
  },
  {
   "cell_type": "code",
   "execution_count": null,
   "metadata": {},
   "outputs": [],
   "source": [
    "## d = 20, m = 80\n",
    "n_features = n_features_default\n",
    "hidden_size = 80\n",
    "\n",
    "## regrets for h1, h2, h3\n",
    "reg_h1_CNTSOpt_20_80 = experiment(lin_neural, ucb_ts, h1, n_features, hidden_size)\n",
    "reg_h2_CNTSOpt_20_80 = experiment(lin_neural, ucb_ts, h2, n_features, hidden_size)\n",
    "reg_h3_CNTSOpt_20_80 = experiment(lin_neural, ucb_ts, h3, n_features, hidden_size)"
   ]
  },
  {
   "cell_type": "markdown",
   "metadata": {},
   "source": [
    "### CN-TS(30)"
   ]
  },
  {
   "cell_type": "code",
   "execution_count": null,
   "metadata": {},
   "outputs": [],
   "source": [
    "lin_neural = Neural\n",
    "ucb_ts = \"TS\""
   ]
  },
  {
   "cell_type": "code",
   "execution_count": null,
   "metadata": {},
   "outputs": [],
   "source": [
    "## d = 40, m = 100\n",
    "n_features = 40\n",
    "hidden_size = hidden_size_default\n",
    "\n",
    "## regrets for h1, h2, h3\n",
    "reg_h1_CNTS_40_100 = experiment(lin_neural, ucb_ts, h1, n_features, hidden_size, n_samples=n_samples)\n",
    "reg_h2_CNTS_40_100 = experiment(lin_neural, ucb_ts, h2, n_features, hidden_size, n_samples=n_samples)\n",
    "reg_h3_CNTS_40_100 = experiment(lin_neural, ucb_ts, h3, n_features, hidden_size, n_samples=n_samples)"
   ]
  },
  {
   "cell_type": "code",
   "execution_count": null,
   "metadata": {},
   "outputs": [],
   "source": [
    "## d = 60, m = 100\n",
    "n_features = 60\n",
    "hidden_size = hidden_size_default\n",
    "\n",
    "## regrets for h1, h2, h3\n",
    "reg_h1_CNTS_60_100 = experiment(lin_neural, ucb_ts, h1, n_features, hidden_size, n_samples=n_samples)\n",
    "reg_h2_CNTS_60_100 = experiment(lin_neural, ucb_ts, h2, n_features, hidden_size, n_samples=n_samples)\n",
    "reg_h3_CNTS_60_100 = experiment(lin_neural, ucb_ts, h3, n_features, hidden_size, n_samples=n_samples)"
   ]
  },
  {
   "cell_type": "code",
   "execution_count": null,
   "metadata": {},
   "outputs": [],
   "source": [
    "## d= 80, m = 100\n",
    "n_features = 80\n",
    "hidden_size = hidden_size_default\n",
    "\n",
    "## regrets for h1, h2, h3\n",
    "reg_h1_CNTS_80_100 = experiment(lin_neural, ucb_ts, h1, n_features, hidden_size, n_samples=n_samples)\n",
    "reg_h2_CNTS_80_100 = experiment(lin_neural, ucb_ts, h2, n_features, hidden_size, n_samples=n_samples)\n",
    "reg_h3_CNTS_80_100 = experiment(lin_neural, ucb_ts, h3, n_features, hidden_size, n_samples=n_samples)"
   ]
  },
  {
   "cell_type": "code",
   "execution_count": null,
   "metadata": {},
   "outputs": [],
   "source": [
    "## d = 20, m = 20\n",
    "n_features = n_features_default\n",
    "hidden_size = 20\n",
    "\n",
    "## regrets for h1, h2, h3\n",
    "reg_h1_CNTS_20_20 = experiment(lin_neural, ucb_ts, h1, n_features, hidden_size, n_samples=n_samples)\n",
    "reg_h2_CNTS_20_20 = experiment(lin_neural, ucb_ts, h2, n_features, hidden_size, n_samples=n_samples)\n",
    "reg_h3_CNTS_20_20 = experiment(lin_neural, ucb_ts, h3, n_features, hidden_size, n_samples=n_samples)"
   ]
  },
  {
   "cell_type": "code",
   "execution_count": null,
   "metadata": {},
   "outputs": [],
   "source": [
    "## d = 20, m = 40\n",
    "n_features = n_features_default\n",
    "hidden_size = 40\n",
    "\n",
    "## regrets for h1, h2, h3\n",
    "reg_h1_CNTS_20_40 = experiment(lin_neural, ucb_ts, h1, n_features, hidden_size, n_samples=n_samples)\n",
    "reg_h2_CNTS_20_40 = experiment(lin_neural, ucb_ts, h2, n_features, hidden_size, n_samples=n_samples)\n",
    "reg_h3_CNTS_20_40 = experiment(lin_neural, ucb_ts, h3, n_features, hidden_size, n_samples=n_samples)"
   ]
  },
  {
   "cell_type": "code",
   "execution_count": null,
   "metadata": {},
   "outputs": [],
   "source": [
    "## d = 20, m = 60\n",
    "n_features = n_features_default\n",
    "hidden_size = 60\n",
    "\n",
    "## regrets for h1, h2, h3\n",
    "reg_h1_CNTS_20_60 = experiment(lin_neural, ucb_ts, h1, n_features, hidden_size, n_samples=n_samples)\n",
    "reg_h2_CNTS_20_60 = experiment(lin_neural, ucb_ts, h2, n_features, hidden_size, n_samples=n_samples)\n",
    "reg_h3_CNTS_20_60 = experiment(lin_neural, ucb_ts, h3, n_features, hidden_size, n_samples=n_samples)"
   ]
  },
  {
   "cell_type": "code",
   "execution_count": null,
   "metadata": {},
   "outputs": [],
   "source": [
    "## d = 20, m = 80\n",
    "n_features = n_features_default\n",
    "hidden_size = 80\n",
    "\n",
    "## regrets for h1, h2, h3\n",
    "reg_h1_CNTS_20_80 = experiment(lin_neural, ucb_ts, h1, n_features, hidden_size, n_samples=n_samples)\n",
    "reg_h2_CNTS_20_80 = experiment(lin_neural, ucb_ts, h2, n_features, hidden_size, n_samples=n_samples)\n",
    "reg_h3_CNTS_20_80 = experiment(lin_neural, ucb_ts, h3, n_features, hidden_size, n_samples=n_samples)"
   ]
  },
  {
   "cell_type": "markdown",
   "metadata": {},
   "source": [
    "### Save regrets"
   ]
  },
  {
   "cell_type": "code",
   "execution_count": null,
   "metadata": {},
   "outputs": [],
   "source": [
    "np.save('regrets/' + nameof(reg_h1_CNUCB_40_100), reg_h1_CNUCB_40_100)\n",
    "np.save('regrets/' + nameof(reg_h2_CNUCB_40_100), reg_h2_CNUCB_40_100)\n",
    "np.save('regrets/' + nameof(reg_h3_CNUCB_40_100), reg_h3_CNUCB_40_100)\n",
    "\n",
    "np.save('regrets/' + nameof(reg_h1_CNUCB_60_100), reg_h1_CNUCB_60_100)\n",
    "np.save('regrets/' + nameof(reg_h2_CNUCB_60_100), reg_h2_CNUCB_60_100)\n",
    "np.save('regrets/' + nameof(reg_h3_CNUCB_60_100), reg_h3_CNUCB_60_100)\n",
    "\n",
    "np.save('regrets/' + nameof(reg_h1_CNUCB_80_100), reg_h1_CNUCB_80_100)\n",
    "np.save('regrets/' + nameof(reg_h2_CNUCB_80_100), reg_h2_CNUCB_80_100)\n",
    "np.save('regrets/' + nameof(reg_h3_CNUCB_80_100), reg_h3_CNUCB_80_100)\n",
    "\n",
    "np.save('regrets/' + nameof(reg_h1_CNUCB_20_20), reg_h1_CNUCB_20_20)\n",
    "np.save('regrets/' + nameof(reg_h2_CNUCB_20_20), reg_h2_CNUCB_20_20)\n",
    "np.save('regrets/' + nameof(reg_h3_CNUCB_20_20), reg_h3_CNUCB_20_20)\n",
    "\n",
    "np.save('regrets/' + nameof(reg_h1_CNUCB_20_40), reg_h1_CNUCB_20_40)\n",
    "np.save('regrets/' + nameof(reg_h2_CNUCB_20_40), reg_h2_CNUCB_20_40)\n",
    "np.save('regrets/' + nameof(reg_h3_CNUCB_20_40), reg_h3_CNUCB_20_40)\n",
    "\n",
    "np.save('regrets/' + nameof(reg_h1_CNUCB_20_60), reg_h1_CNUCB_20_60)\n",
    "np.save('regrets/' + nameof(reg_h2_CNUCB_20_60), reg_h2_CNUCB_20_60)\n",
    "np.save('regrets/' + nameof(reg_h3_CNUCB_20_60), reg_h3_CNUCB_20_60)\n",
    "\n",
    "np.save('regrets/' + nameof(reg_h1_CNUCB_20_80), reg_h1_CNUCB_20_80)\n",
    "np.save('regrets/' + nameof(reg_h2_CNUCB_20_80), reg_h2_CNUCB_20_80)\n",
    "np.save('regrets/' + nameof(reg_h3_CNUCB_20_80), reg_h3_CNUCB_20_80)\n",
    "\n",
    "############################################################################\n",
    "\n",
    "np.save('regrets/' + nameof(reg_h1_CNTS_40_100), reg_h1_CNTS_40_100)\n",
    "np.save('regrets/' + nameof(reg_h2_CNTS_40_100), reg_h2_CNTS_40_100)\n",
    "np.save('regrets/' + nameof(reg_h3_CNTS_40_100), reg_h3_CNTS_40_100)\n",
    "\n",
    "np.save('regrets/' + nameof(reg_h1_CNTS_60_100), reg_h1_CNTS_60_100)\n",
    "np.save('regrets/' + nameof(reg_h2_CNTS_60_100), reg_h2_CNTS_60_100)\n",
    "np.save('regrets/' + nameof(reg_h3_CNTS_60_100), reg_h3_CNTS_60_100)\n",
    "\n",
    "np.save('regrets/' + nameof(reg_h1_CNTS_80_100), reg_h1_CNTS_80_100)\n",
    "np.save('regrets/' + nameof(reg_h2_CNTS_80_100), reg_h2_CNTS_80_100)\n",
    "np.save('regrets/' + nameof(reg_h3_CNTS_80_100), reg_h3_CNTS_80_100)\n",
    "\n",
    "np.save('regrets/' + nameof(reg_h1_CNTS_20_20), reg_h1_CNTS_20_20)\n",
    "np.save('regrets/' + nameof(reg_h2_CNTS_20_20), reg_h2_CNTS_20_20)\n",
    "np.save('regrets/' + nameof(reg_h3_CNTS_20_20), reg_h3_CNTS_20_20)\n",
    "\n",
    "np.save('regrets/' + nameof(reg_h1_CNTS_20_40), reg_h1_CNTS_20_40)\n",
    "np.save('regrets/' + nameof(reg_h2_CNTS_20_40), reg_h2_CNTS_20_40)\n",
    "np.save('regrets/' + nameof(reg_h3_CNTS_20_40), reg_h3_CNTS_20_40)\n",
    "\n",
    "np.save('regrets/' + nameof(reg_h1_CNTS_20_60), reg_h1_CNTS_20_60)\n",
    "np.save('regrets/' + nameof(reg_h2_CNTS_20_60), reg_h2_CNTS_20_60)\n",
    "np.save('regrets/' + nameof(reg_h3_CNTS_20_60), reg_h3_CNTS_20_60)\n",
    "\n",
    "np.save('regrets/' + nameof(reg_h1_CNTS_20_80), reg_h1_CNTS_20_80)\n",
    "np.save('regrets/' + nameof(reg_h2_CNTS_20_80), reg_h2_CNTS_20_80)\n",
    "np.save('regrets/' + nameof(reg_h3_CNTS_20_80), reg_h3_CNTS_20_80)\n",
    "\n",
    "############################################################################\n",
    "\n",
    "np.save('regrets/' + nameof(reg_h1_CNTSOpt_40_100), reg_h1_CNTSOpt_40_100)\n",
    "np.save('regrets/' + nameof(reg_h2_CNTSOpt_40_100), reg_h2_CNTSOpt_40_100)\n",
    "np.save('regrets/' + nameof(reg_h3_CNTSOpt_40_100), reg_h3_CNTSOpt_40_100)\n",
    "\n",
    "np.save('regrets/' + nameof(reg_h1_CNTSOpt_60_100), reg_h1_CNTSOpt_60_100)\n",
    "np.save('regrets/' + nameof(reg_h2_CNTSOpt_60_100), reg_h2_CNTSOpt_60_100)\n",
    "np.save('regrets/' + nameof(reg_h3_CNTSOpt_60_100), reg_h3_CNTSOpt_60_100)\n",
    "\n",
    "np.save('regrets/' + nameof(reg_h1_CNTSOpt_80_100), reg_h1_CNTSOpt_80_100)\n",
    "np.save('regrets/' + nameof(reg_h2_CNTSOpt_80_100), reg_h2_CNTSOpt_80_100)\n",
    "np.save('regrets/' + nameof(reg_h3_CNTSOpt_80_100), reg_h3_CNTSOpt_80_100)\n",
    "\n",
    "np.save('regrets/' + nameof(reg_h1_CNTSOpt_20_20), reg_h1_CNTSOpt_20_20)\n",
    "np.save('regrets/' + nameof(reg_h2_CNTSOpt_20_20), reg_h2_CNTSOpt_20_20)\n",
    "np.save('regrets/' + nameof(reg_h3_CNTSOpt_20_20), reg_h3_CNTSOpt_20_20)\n",
    "\n",
    "np.save('regrets/' + nameof(reg_h1_CNTSOpt_20_40), reg_h1_CNTSOpt_20_40)\n",
    "np.save('regrets/' + nameof(reg_h2_CNTSOpt_20_40), reg_h2_CNTSOpt_20_40)\n",
    "np.save('regrets/' + nameof(reg_h3_CNTSOpt_20_40), reg_h3_CNTSOpt_20_40)\n",
    "\n",
    "np.save('regrets/' + nameof(reg_h1_CNTSOpt_20_60), reg_h1_CNTSOpt_20_60)\n",
    "np.save('regrets/' + nameof(reg_h2_CNTSOpt_20_60), reg_h2_CNTSOpt_20_60)\n",
    "np.save('regrets/' + nameof(reg_h3_CNTSOpt_20_60), reg_h3_CNTSOpt_20_60)\n",
    "\n",
    "np.save('regrets/' + nameof(reg_h1_CNTSOpt_20_80), reg_h1_CNTSOpt_20_80)\n",
    "np.save('regrets/' + nameof(reg_h2_CNTSOpt_20_80), reg_h2_CNTSOpt_20_80)\n",
    "np.save('regrets/' + nameof(reg_h3_CNTSOpt_20_80), reg_h3_CNTSOpt_20_80)"
   ]
  },
  {
   "cell_type": "markdown",
   "metadata": {},
   "source": [
    "# Experiment 2: Plots"
   ]
  },
  {
   "cell_type": "code",
   "execution_count": null,
   "metadata": {},
   "outputs": [],
   "source": []
  }
 ],
 "metadata": {
  "kernelspec": {
   "display_name": "Python 3",
   "language": "python",
   "name": "python3"
  },
  "language_info": {
   "codemirror_mode": {
    "name": "ipython",
    "version": 3
   },
   "file_extension": ".py",
   "mimetype": "text/x-python",
   "name": "python",
   "nbconvert_exporter": "python",
   "pygments_lexer": "ipython3",
   "version": "3.7.6"
  }
 },
 "nbformat": 4,
 "nbformat_minor": 4
}
