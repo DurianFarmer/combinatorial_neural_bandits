{
 "cells": [
  {
   "cell_type": "code",
   "execution_count": 1,
   "metadata": {},
   "outputs": [],
   "source": [
    "import numpy as np\n",
    "import torch\n",
    "from module_space import *"
   ]
  },
  {
   "cell_type": "code",
   "execution_count": 2,
   "metadata": {},
   "outputs": [],
   "source": [
    "T = 1000\n",
    "n_arms = 12 # N\n",
    "n_features_default = 20 # d\n",
    "n_assortment = 4 # K\n",
    "n_samples = 10 # M, number of samples per each round and arm, for TS\n",
    "noise_std = 1 # noise of reward: xi = noise_std*N(0,1)\n",
    "### noise_std = 0.01 # noise of reward: xi = noise_std*N(0,1)\n",
    "\n",
    "n_sim = 10 # number of simulations\n",
    "\n",
    "def F(x): # round_reward_function\n",
    "    if len(np.shape(x)) == 1: # if x is a vector\n",
    "        return np.sum(x)\n",
    "    else: # if x is a matrix\n",
    "        return np.sum(x, axis=1)  \n",
    "    \n",
    "reg_factor = 1.0 # lambda\n",
    "delta = 0.1 # delta\n",
    "exploration_variance = 1 # nu^2, for TS\n",
    "confidence_scaling_factor = 1 # gamma, for UCB\n",
    "\n",
    "hidden_size_default = 60 # m\n",
    "epochs = 100 # repeat training for each period\n",
    "train_every = 10 # training period\n",
    "training_window = 100\n",
    "learning_rate = 0.01\n",
    "### p = 0.2\n",
    "p = 0.0 # no dropout\n",
    "\n",
    "use_cuda = False\n",
    "\n",
    "#if torch.cuda.is_available():\n",
    "#    use_cuda = True\n",
    "#else:\n",
    "#    use_cuda = False\n",
    "\n"
   ]
  },
  {
   "cell_type": "code",
   "execution_count": 3,
   "metadata": {},
   "outputs": [],
   "source": [
    "n_features = n_features_default\n",
    "hidden_size = hidden_size_default"
   ]
  },
  {
   "cell_type": "code",
   "execution_count": 4,
   "metadata": {},
   "outputs": [],
   "source": [
    "h1 = \"h1\"\n",
    "h2 = \"h2\"\n",
    "h3 = \"h3\"\n",
    "\n",
    "## Hidden function\n",
    "SEED = 1234\n",
    "np.random.seed(SEED)\n",
    "\n",
    "a = np.random.randn(n_features)\n",
    "a /= np.linalg.norm(a, ord=2)\n",
    "\n",
    "h_str = h3\n",
    "\n",
    "if h_str == \"h1\":\n",
    "    h = lambda x: 100*np.dot(x, a)\n",
    "    ### h = lambda x: np.dot(x, a)\n",
    "elif h_str == \"h2\":\n",
    "    h = lambda x: 100*np.dot(x, a)**2\n",
    "    ### h = lambda x: np.dot(x, a)**2\n",
    "elif h_str == \"h3\":\n",
    "    h = lambda x: 100*np.cos(np.pi*np.dot(x, a))\n",
    "    ### h = lambda x: np.cos(np.pi*np.dot(x, a))"
   ]
  },
  {
   "cell_type": "code",
   "execution_count": 5,
   "metadata": {},
   "outputs": [],
   "source": [
    "bandit = ContextualBandit(T,\n",
    "                              n_arms,\n",
    "                              n_features, \n",
    "                              h,\n",
    "                              noise_std=noise_std,\n",
    "                              n_assortment=n_assortment,\n",
    "                              n_samples=10,\n",
    "                              round_reward_function=F\n",
    "                             )"
   ]
  },
  {
   "cell_type": "code",
   "execution_count": 6,
   "metadata": {},
   "outputs": [],
   "source": [
    "model = Neural(\"TS\",\n",
    "               bandit,\n",
    "               hidden_size=hidden_size,\n",
    "               reg_factor=reg_factor,\n",
    "               delta=delta,\n",
    "               confidence_scaling_factor=confidence_scaling_factor,\n",
    "               exploration_variance=exploration_variance,\n",
    "               p=p,\n",
    "               training_window=training_window,\n",
    "               learning_rate=learning_rate,\n",
    "               epochs=epochs,train_every=train_every,\n",
    "               use_cuda=use_cuda\n",
    "              )"
   ]
  },
  {
   "cell_type": "code",
   "execution_count": 7,
   "metadata": {},
   "outputs": [],
   "source": [
    "model.update_sample_rewards()"
   ]
  },
  {
   "cell_type": "code",
   "execution_count": 8,
   "metadata": {
    "scrolled": false
   },
   "outputs": [
    {
     "data": {
      "text/plain": [
       "(1000, 12, 10)"
      ]
     },
     "execution_count": 8,
     "metadata": {},
     "output_type": "execute_result"
    }
   ],
   "source": [
    "np.shape(model.sample_rewards)"
   ]
  },
  {
   "cell_type": "code",
   "execution_count": 9,
   "metadata": {},
   "outputs": [
    {
     "data": {
      "text/plain": [
       "(1000, 12)"
      ]
     },
     "execution_count": 9,
     "metadata": {},
     "output_type": "execute_result"
    }
   ],
   "source": [
    "np.shape(model.optimistic_sample_rewards)"
   ]
  },
  {
   "cell_type": "code",
   "execution_count": 10,
   "metadata": {},
   "outputs": [
    {
     "data": {
      "text/plain": [
       "array([[ 0.02626817, -0.00330963, -0.01576912, ..., -0.04582045,\n",
       "        -0.01545779, -0.07112938],\n",
       "       [ 0.        ,  0.        ,  0.        , ...,  0.        ,\n",
       "         0.        ,  0.        ],\n",
       "       [ 0.        ,  0.        ,  0.        , ...,  0.        ,\n",
       "         0.        ,  0.        ],\n",
       "       ...,\n",
       "       [ 0.        ,  0.        ,  0.        , ...,  0.        ,\n",
       "         0.        ,  0.        ],\n",
       "       [ 0.        ,  0.        ,  0.        , ...,  0.        ,\n",
       "         0.        ,  0.        ],\n",
       "       [ 0.        ,  0.        ,  0.        , ...,  0.        ,\n",
       "         0.        ,  0.        ]])"
      ]
     },
     "execution_count": 10,
     "metadata": {},
     "output_type": "execute_result"
    }
   ],
   "source": [
    "model.mu_hat"
   ]
  },
  {
   "cell_type": "code",
   "execution_count": 11,
   "metadata": {},
   "outputs": [
    {
     "data": {
      "text/plain": [
       "array([[ 0.02352622,  0.01600308,  0.00815414,  0.0423145 ,  0.02561192,\n",
       "         0.02895288,  0.01695412,  0.03813445,  0.01659437,  0.01278695],\n",
       "       [-0.01219793, -0.01170379, -0.03329411, -0.01419706,  0.01458935,\n",
       "        -0.01207098,  0.00092053, -0.00101096,  0.00103745, -0.00891334],\n",
       "       [-0.01502731,  0.00599842, -0.01427748,  0.00081348, -0.01657705,\n",
       "        -0.00919286, -0.03984443, -0.0264477 ,  0.00599421, -0.01371699],\n",
       "       [-0.00370583,  0.01242471,  0.01158467,  0.00572465,  0.00609305,\n",
       "         0.00499323,  0.00056414,  0.01637793,  0.00239356,  0.01203567],\n",
       "       [-0.03737662, -0.04148508, -0.02115865, -0.04077334, -0.03575723,\n",
       "        -0.04003168, -0.0310792 , -0.0607688 , -0.04072594, -0.02148726],\n",
       "       [-0.08243175, -0.06155418, -0.06374963, -0.07527283, -0.08286729,\n",
       "        -0.0735454 , -0.07502753, -0.06727194, -0.07979786, -0.08354984],\n",
       "       [-0.00106568, -0.0092379 ,  0.00713031,  0.00189037, -0.0069726 ,\n",
       "        -0.00353846, -0.00470857,  0.00754043, -0.00023144,  0.00403043],\n",
       "       [ 0.01989231,  0.02849967,  0.04934879,  0.01628103,  0.01528772,\n",
       "         0.02158056,  0.02195873,  0.0304893 ,  0.01420237,  0.02517768],\n",
       "       [ 0.009815  , -0.01960382, -0.00160577,  0.01530238, -0.02586079,\n",
       "         0.01215983, -0.0072799 ,  0.01352295, -0.01351886, -0.00641613],\n",
       "       [-0.05033609, -0.04464234, -0.04399257, -0.02820063, -0.04758025,\n",
       "        -0.0517181 , -0.07296821, -0.05580465, -0.02509991, -0.04541909],\n",
       "       [-0.01641322, -0.00803481, -0.02479799,  0.01468857, -0.02909324,\n",
       "        -0.00874604,  0.00156602, -0.01789988, -0.00652063,  0.01645596],\n",
       "       [-0.05720283, -0.08182544, -0.05323149, -0.07430671, -0.03880649,\n",
       "        -0.05398434, -0.09625951, -0.07617118, -0.06981653, -0.0713799 ]])"
      ]
     },
     "execution_count": 11,
     "metadata": {},
     "output_type": "execute_result"
    }
   ],
   "source": [
    "model.sample_rewards[0]"
   ]
  },
  {
   "cell_type": "code",
   "execution_count": 12,
   "metadata": {},
   "outputs": [
    {
     "data": {
      "text/plain": [
       "array([ 0.0423145 ,  0.01458935,  0.00599842,  0.01637793, -0.02115865,\n",
       "       -0.06155418,  0.00754043,  0.04934879,  0.01530238, -0.02509991,\n",
       "        0.01645596, -0.03880649])"
      ]
     },
     "execution_count": 12,
     "metadata": {},
     "output_type": "execute_result"
    }
   ],
   "source": [
    "model.optimistic_sample_rewards[0]"
   ]
  },
  {
   "cell_type": "code",
   "execution_count": 13,
   "metadata": {},
   "outputs": [
    {
     "data": {
      "text/plain": [
       "array([ True,  True,  True,  True,  True,  True,  True,  True,  True,\n",
       "        True,  True,  True])"
      ]
     },
     "execution_count": 13,
     "metadata": {},
     "output_type": "execute_result"
    }
   ],
   "source": [
    "np.max(model.sample_rewards, axis=-1)[0] == model.optimistic_sample_rewards[0]"
   ]
  },
  {
   "cell_type": "code",
   "execution_count": 8,
   "metadata": {
    "scrolled": true
   },
   "outputs": [
    {
     "data": {
      "text/plain": [
       "float"
      ]
     },
     "execution_count": 8,
     "metadata": {},
     "output_type": "execute_result"
    }
   ],
   "source": [
    "type(float(np.sqrt(4)))"
   ]
  },
  {
   "cell_type": "code",
   "execution_count": 3,
   "metadata": {},
   "outputs": [
    {
     "data": {
      "text/plain": [
       "True"
      ]
     },
     "execution_count": 3,
     "metadata": {},
     "output_type": "execute_result"
    }
   ],
   "source": [
    "import torch\n",
    "torch.cuda.is_available()"
   ]
  },
  {
   "cell_type": "code",
   "execution_count": 50,
   "metadata": {
    "scrolled": true
   },
   "outputs": [],
   "source": [
    "from varname import nameof"
   ]
  },
  {
   "cell_type": "code",
   "execution_count": 51,
   "metadata": {},
   "outputs": [
    {
     "data": {
      "text/plain": [
       "'rr'"
      ]
     },
     "execution_count": 51,
     "metadata": {},
     "output_type": "execute_result"
    }
   ],
   "source": [
    "nameof(rr)"
   ]
  },
  {
   "cell_type": "code",
   "execution_count": 55,
   "metadata": {},
   "outputs": [],
   "source": [
    "def save_test(array):\n",
    "    np.save(nameof(array), array)"
   ]
  },
  {
   "cell_type": "code",
   "execution_count": 58,
   "metadata": {},
   "outputs": [],
   "source": [
    "np.save(nameof(rr), rr)"
   ]
  },
  {
   "cell_type": "code",
   "execution_count": 37,
   "metadata": {},
   "outputs": [],
   "source": [
    "np.random.seed(5678)"
   ]
  },
  {
   "cell_type": "code",
   "execution_count": 25,
   "metadata": {
    "scrolled": true
   },
   "outputs": [
    {
     "data": {
      "text/plain": [
       "array([-0.70978938, -0.01719118,  0.31941137, -2.26533107, -1.37745366,\n",
       "        1.94998073, -0.56381007, -0.84373759,  0.22453858, -0.39137772])"
      ]
     },
     "execution_count": 25,
     "metadata": {},
     "output_type": "execute_result"
    }
   ],
   "source": [
    "np.random.randn(10)"
   ]
  },
  {
   "cell_type": "code",
   "execution_count": 26,
   "metadata": {},
   "outputs": [
    {
     "data": {
      "text/plain": [
       "array([ 0.60550347, -0.68615034,  1.18336005,  0.54895683, -0.39621907,\n",
       "        1.3737187 , -0.21972682,  0.15974422,  0.97310239, -0.00849755])"
      ]
     },
     "execution_count": 26,
     "metadata": {},
     "output_type": "execute_result"
    }
   ],
   "source": [
    "np.random.randn(10)"
   ]
  },
  {
   "cell_type": "code",
   "execution_count": 28,
   "metadata": {},
   "outputs": [],
   "source": [
    "class RandSeedTest:\n",
    "    def __init__(self):\n",
    "        # np.random.seed(5678)\n",
    "        self.r = np.random.randn(10)    "
   ]
  },
  {
   "cell_type": "code",
   "execution_count": 36,
   "metadata": {},
   "outputs": [
    {
     "data": {
      "text/plain": [
       "array([-0.70978938, -0.01719118,  0.31941137, -2.26533107, -1.37745366,\n",
       "        1.94998073, -0.56381007, -0.84373759,  0.22453858, -0.39137772])"
      ]
     },
     "execution_count": 36,
     "metadata": {},
     "output_type": "execute_result"
    }
   ],
   "source": [
    "r1 = RandSeedTest()\n",
    "r1.r"
   ]
  },
  {
   "cell_type": "code",
   "execution_count": 54,
   "metadata": {},
   "outputs": [
    {
     "ename": "FileNotFoundError",
     "evalue": "[Errno 2] No such file or directory: 'regret/r1r.npy'",
     "output_type": "error",
     "traceback": [
      "\u001b[1;31m---------------------------------------------------------------------------\u001b[0m",
      "\u001b[1;31mFileNotFoundError\u001b[0m                         Traceback (most recent call last)",
      "\u001b[1;32m<ipython-input-54-f9f5b6cbe443>\u001b[0m in \u001b[0;36m<module>\u001b[1;34m\u001b[0m\n\u001b[1;32m----> 1\u001b[1;33m \u001b[0mnp\u001b[0m\u001b[1;33m.\u001b[0m\u001b[0msave\u001b[0m\u001b[1;33m(\u001b[0m\u001b[1;34m'regret/r1r'\u001b[0m\u001b[1;33m,\u001b[0m \u001b[0mr1\u001b[0m\u001b[1;33m.\u001b[0m\u001b[0mr\u001b[0m\u001b[1;33m)\u001b[0m\u001b[1;33m\u001b[0m\u001b[1;33m\u001b[0m\u001b[0m\n\u001b[0m",
      "\u001b[1;32m<__array_function__ internals>\u001b[0m in \u001b[0;36msave\u001b[1;34m(*args, **kwargs)\u001b[0m\n",
      "\u001b[1;32m~\\anaconda3\\lib\\site-packages\\numpy\\lib\\npyio.py\u001b[0m in \u001b[0;36msave\u001b[1;34m(file, arr, allow_pickle, fix_imports)\u001b[0m\n\u001b[0;32m    522\u001b[0m         \u001b[1;32mif\u001b[0m \u001b[1;32mnot\u001b[0m \u001b[0mfile\u001b[0m\u001b[1;33m.\u001b[0m\u001b[0mendswith\u001b[0m\u001b[1;33m(\u001b[0m\u001b[1;34m'.npy'\u001b[0m\u001b[1;33m)\u001b[0m\u001b[1;33m:\u001b[0m\u001b[1;33m\u001b[0m\u001b[1;33m\u001b[0m\u001b[0m\n\u001b[0;32m    523\u001b[0m             \u001b[0mfile\u001b[0m \u001b[1;33m=\u001b[0m \u001b[0mfile\u001b[0m \u001b[1;33m+\u001b[0m \u001b[1;34m'.npy'\u001b[0m\u001b[1;33m\u001b[0m\u001b[1;33m\u001b[0m\u001b[0m\n\u001b[1;32m--> 524\u001b[1;33m         \u001b[0mfile_ctx\u001b[0m \u001b[1;33m=\u001b[0m \u001b[0mopen\u001b[0m\u001b[1;33m(\u001b[0m\u001b[0mfile\u001b[0m\u001b[1;33m,\u001b[0m \u001b[1;34m\"wb\"\u001b[0m\u001b[1;33m)\u001b[0m\u001b[1;33m\u001b[0m\u001b[1;33m\u001b[0m\u001b[0m\n\u001b[0m\u001b[0;32m    525\u001b[0m \u001b[1;33m\u001b[0m\u001b[0m\n\u001b[0;32m    526\u001b[0m     \u001b[1;32mwith\u001b[0m \u001b[0mfile_ctx\u001b[0m \u001b[1;32mas\u001b[0m \u001b[0mfid\u001b[0m\u001b[1;33m:\u001b[0m\u001b[1;33m\u001b[0m\u001b[1;33m\u001b[0m\u001b[0m\n",
      "\u001b[1;31mFileNotFoundError\u001b[0m: [Errno 2] No such file or directory: 'regret/r1r.npy'"
     ]
    }
   ],
   "source": [
    "np.save('regret/r1r', r1.r)"
   ]
  },
  {
   "cell_type": "code",
   "execution_count": 40,
   "metadata": {},
   "outputs": [
    {
     "data": {
      "text/plain": [
       "array([-0.70978938, -0.01719118,  0.31941137, -2.26533107, -1.37745366,\n",
       "        1.94998073, -0.56381007, -0.84373759,  0.22453858, -0.39137772])"
      ]
     },
     "execution_count": 40,
     "metadata": {},
     "output_type": "execute_result"
    }
   ],
   "source": [
    "rr = np.load('r1r.npy')\n",
    "rr"
   ]
  },
  {
   "cell_type": "code",
   "execution_count": 47,
   "metadata": {},
   "outputs": [
    {
     "ename": "AttributeError",
     "evalue": "'numpy.ndarray' object has no attribute '__name__'",
     "output_type": "error",
     "traceback": [
      "\u001b[1;31m---------------------------------------------------------------------------\u001b[0m",
      "\u001b[1;31mAttributeError\u001b[0m                            Traceback (most recent call last)",
      "\u001b[1;32m<ipython-input-47-4e14bf13d2d0>\u001b[0m in \u001b[0;36m<module>\u001b[1;34m\u001b[0m\n\u001b[1;32m----> 1\u001b[1;33m \u001b[0mrr\u001b[0m\u001b[1;33m.\u001b[0m\u001b[0m__name__\u001b[0m\u001b[1;33m\u001b[0m\u001b[1;33m\u001b[0m\u001b[0m\n\u001b[0m",
      "\u001b[1;31mAttributeError\u001b[0m: 'numpy.ndarray' object has no attribute '__name__'"
     ]
    }
   ],
   "source": [
    "rr"
   ]
  },
  {
   "cell_type": "code",
   "execution_count": 46,
   "metadata": {},
   "outputs": [
    {
     "ename": "OSError",
     "evalue": "[Errno 22] Invalid argument: '[-0.70978938 -0.01719118  0.31941137 -2.26533107 -1.37745366  1.94998073\\n -0.56381007 -0.84373759  0.22453858 -0.39137772].npy'",
     "output_type": "error",
     "traceback": [
      "\u001b[1;31m---------------------------------------------------------------------------\u001b[0m",
      "\u001b[1;31mOSError\u001b[0m                                   Traceback (most recent call last)",
      "\u001b[1;32m<ipython-input-46-5cf6aec099da>\u001b[0m in \u001b[0;36m<module>\u001b[1;34m\u001b[0m\n\u001b[1;32m----> 1\u001b[1;33m \u001b[0mnp\u001b[0m\u001b[1;33m.\u001b[0m\u001b[0msave\u001b[0m\u001b[1;33m(\u001b[0m\u001b[1;34m'%s'\u001b[0m \u001b[1;33m%\u001b[0m \u001b[0mrr\u001b[0m\u001b[1;33m,\u001b[0m \u001b[0mrr\u001b[0m\u001b[1;33m)\u001b[0m\u001b[1;33m\u001b[0m\u001b[1;33m\u001b[0m\u001b[0m\n\u001b[0m",
      "\u001b[1;32m<__array_function__ internals>\u001b[0m in \u001b[0;36msave\u001b[1;34m(*args, **kwargs)\u001b[0m\n",
      "\u001b[1;32m~\\anaconda3\\lib\\site-packages\\numpy\\lib\\npyio.py\u001b[0m in \u001b[0;36msave\u001b[1;34m(file, arr, allow_pickle, fix_imports)\u001b[0m\n\u001b[0;32m    522\u001b[0m         \u001b[1;32mif\u001b[0m \u001b[1;32mnot\u001b[0m \u001b[0mfile\u001b[0m\u001b[1;33m.\u001b[0m\u001b[0mendswith\u001b[0m\u001b[1;33m(\u001b[0m\u001b[1;34m'.npy'\u001b[0m\u001b[1;33m)\u001b[0m\u001b[1;33m:\u001b[0m\u001b[1;33m\u001b[0m\u001b[1;33m\u001b[0m\u001b[0m\n\u001b[0;32m    523\u001b[0m             \u001b[0mfile\u001b[0m \u001b[1;33m=\u001b[0m \u001b[0mfile\u001b[0m \u001b[1;33m+\u001b[0m \u001b[1;34m'.npy'\u001b[0m\u001b[1;33m\u001b[0m\u001b[1;33m\u001b[0m\u001b[0m\n\u001b[1;32m--> 524\u001b[1;33m         \u001b[0mfile_ctx\u001b[0m \u001b[1;33m=\u001b[0m \u001b[0mopen\u001b[0m\u001b[1;33m(\u001b[0m\u001b[0mfile\u001b[0m\u001b[1;33m,\u001b[0m \u001b[1;34m\"wb\"\u001b[0m\u001b[1;33m)\u001b[0m\u001b[1;33m\u001b[0m\u001b[1;33m\u001b[0m\u001b[0m\n\u001b[0m\u001b[0;32m    525\u001b[0m \u001b[1;33m\u001b[0m\u001b[0m\n\u001b[0;32m    526\u001b[0m     \u001b[1;32mwith\u001b[0m \u001b[0mfile_ctx\u001b[0m \u001b[1;32mas\u001b[0m \u001b[0mfid\u001b[0m\u001b[1;33m:\u001b[0m\u001b[1;33m\u001b[0m\u001b[1;33m\u001b[0m\u001b[0m\n",
      "\u001b[1;31mOSError\u001b[0m: [Errno 22] Invalid argument: '[-0.70978938 -0.01719118  0.31941137 -2.26533107 -1.37745366  1.94998073\\n -0.56381007 -0.84373759  0.22453858 -0.39137772].npy'"
     ]
    }
   ],
   "source": [
    "np.save('%s' % rr, rr)"
   ]
  },
  {
   "cell_type": "code",
   "execution_count": null,
   "metadata": {},
   "outputs": [],
   "source": []
  },
  {
   "cell_type": "code",
   "execution_count": 32,
   "metadata": {
    "scrolled": true
   },
   "outputs": [
    {
     "data": {
      "text/plain": [
       "array([ 0.60550347, -0.68615034,  1.18336005,  0.54895683, -0.39621907,\n",
       "        1.3737187 , -0.21972682,  0.15974422,  0.97310239, -0.00849755])"
      ]
     },
     "execution_count": 32,
     "metadata": {},
     "output_type": "execute_result"
    }
   ],
   "source": [
    "r2 = RandSeedTest()\n",
    "r2.r"
   ]
  },
  {
   "cell_type": "code",
   "execution_count": null,
   "metadata": {},
   "outputs": [],
   "source": []
  },
  {
   "cell_type": "code",
   "execution_count": null,
   "metadata": {},
   "outputs": [],
   "source": []
  },
  {
   "cell_type": "code",
   "execution_count": null,
   "metadata": {},
   "outputs": [],
   "source": []
  },
  {
   "cell_type": "code",
   "execution_count": null,
   "metadata": {},
   "outputs": [],
   "source": []
  },
  {
   "cell_type": "code",
   "execution_count": null,
   "metadata": {},
   "outputs": [],
   "source": []
  },
  {
   "cell_type": "code",
   "execution_count": null,
   "metadata": {},
   "outputs": [],
   "source": []
  },
  {
   "cell_type": "code",
   "execution_count": 14,
   "metadata": {},
   "outputs": [],
   "source": [
    "class Dot:\n",
    "    def __init__(self, x, y):\n",
    "        self.x = x\n",
    "        self.y = y\n",
    "    \n",
    "    def norm(self):\n",
    "        return np.sqrt(self.x**2 + self.y**2)\n",
    "    \n",
    "class Dot2:\n",
    "    def __init__(self, x, y):\n",
    "        self.x = x\n",
    "        self.y = y\n",
    "    \n",
    "    def norm(self):\n",
    "        return np.sqrt(self.x**2 + self.y**2)    "
   ]
  },
  {
   "cell_type": "code",
   "execution_count": null,
   "metadata": {},
   "outputs": [],
   "source": []
  },
  {
   "cell_type": "code",
   "execution_count": null,
   "metadata": {},
   "outputs": [],
   "source": []
  },
  {
   "cell_type": "code",
   "execution_count": 11,
   "metadata": {},
   "outputs": [],
   "source": [
    "a = 3\n",
    "b = 4\n",
    "\n",
    "def test(f):\n",
    "    if f == Dot:\n",
    "        print('good')\n",
    "    dot = f(a,b)\n",
    "    return dot.norm()"
   ]
  },
  {
   "cell_type": "code",
   "execution_count": 15,
   "metadata": {},
   "outputs": [
    {
     "data": {
      "text/plain": [
       "5.0"
      ]
     },
     "execution_count": 15,
     "metadata": {},
     "output_type": "execute_result"
    }
   ],
   "source": [
    "test(Dot2)"
   ]
  },
  {
   "cell_type": "code",
   "execution_count": 2,
   "metadata": {},
   "outputs": [],
   "source": [
    "T = 2000\n",
    "n_arms = 12 # a -> 숫자를 키워볼 것\n",
    "n_features = 20 # d -> 숫자를 키워볼 것\n",
    "n_assortment = 4\n",
    "noise_std = 0.1\n",
    "\n",
    "n_samples = 1 # number of samples for each round and arm, only for TS\n",
    "\n",
    "n_sim = 2 # number of simulations\n",
    "\n",
    "def F(x): # round_reward_function\n",
    "    if len(np.shape(x)) == 1: # if x is a vector\n",
    "        return np.sum(x)\n",
    "    else: # if x is a matrix\n",
    "        return np.sum(x, axis=1)                "
   ]
  },
  {
   "cell_type": "code",
   "execution_count": 3,
   "metadata": {},
   "outputs": [],
   "source": [
    "reg_factor = 1.0 # lambda\n",
    "delta = 0.1 # delta\n",
    "exploration_variance = 1.0 # nu, only for TS\n",
    "confidence_scaling_factor = 1.0 # gamma, only for UCB"
   ]
  },
  {
   "cell_type": "code",
   "execution_count": 4,
   "metadata": {},
   "outputs": [],
   "source": [
    "p = 0.2 # dropout probability\n",
    "hidden_size = 64 # m\n",
    "epochs = 100 # \n",
    "train_every = 10\n",
    "confidence_scaling_factor = 1.0\n",
    "use_cuda = False"
   ]
  },
  {
   "cell_type": "code",
   "execution_count": 5,
   "metadata": {},
   "outputs": [],
   "source": [
    "### mean reward function\n",
    "a = np.random.randn(n_features)\n",
    "a /= np.linalg.norm(a, ord=2)\n",
    "h = lambda x: 100*np.dot(a, x)"
   ]
  },
  {
   "cell_type": "code",
   "execution_count": 6,
   "metadata": {},
   "outputs": [],
   "source": [
    "bandit = ContextualBandit(T, n_arms, n_features, h, noise_std=noise_std, \\\n",
    "                          n_assortment=n_assortment, n_samples=n_samples, round_reward_function=F)\n",
    "\n",
    "regrets = np.empty((n_sim, T))\n",
    "\n",
    "bandit.reset_rewards()\n",
    "model = NeuralUCB(bandit,\n",
    "                  hidden_size=hidden_size,\n",
    "                  reg_factor=reg_factor,\n",
    "                  delta=delta,\n",
    "                  confidence_scaling_factor=confidence_scaling_factor,\n",
    "                  # exploration_variance=exploration_variance,\n",
    "                  training_window=100,\n",
    "                  p=p,\n",
    "                  learning_rate=0.01,\n",
    "                  epochs=epochs,\n",
    "                  train_every=train_every,\n",
    "                  use_cuda=use_cuda\n",
    "                 )\n",
    "\n",
    "lin_model = LinUCB(bandit,\n",
    "                   reg_factor=reg_factor,\n",
    "                   delta=delta,\n",
    "                   confidence_scaling_factor=confidence_scaling_factor\n",
    "                  )"
   ]
  },
  {
   "cell_type": "code",
   "execution_count": 8,
   "metadata": {},
   "outputs": [
    {
     "data": {
      "text/plain": [
       "<generator object Module.parameters at 0x7f55cdaa3bd0>"
      ]
     },
     "execution_count": 8,
     "metadata": {},
     "output_type": "execute_result"
    }
   ],
   "source": [
    "inital_parameters = model.model.parameters()"
   ]
  },
  {
   "cell_type": "code",
   "execution_count": 44,
   "metadata": {},
   "outputs": [
    {
     "data": {
      "text/plain": [
       "Model(\n",
       "  (layers): ModuleList(\n",
       "    (0): Linear(in_features=20, out_features=64, bias=False)\n",
       "    (1): Linear(in_features=64, out_features=1, bias=False)\n",
       "  )\n",
       "  (dropout): Dropout(p=0.2, inplace=False)\n",
       "  (activation): ReLU()\n",
       ")"
      ]
     },
     "execution_count": 44,
     "metadata": {},
     "output_type": "execute_result"
    }
   ],
   "source": [
    "model.model.train()"
   ]
  },
  {
   "cell_type": "code",
   "execution_count": 60,
   "metadata": {
    "scrolled": true
   },
   "outputs": [],
   "source": [
    "aa = torch.empty(1)"
   ]
  },
  {
   "cell_type": "code",
   "execution_count": 69,
   "metadata": {
    "scrolled": true
   },
   "outputs": [
    {
     "data": {
      "text/plain": [
       "tensor([0., 0., 0.,  ..., 0., 0., 0.])"
      ]
     },
     "execution_count": 69,
     "metadata": {},
     "output_type": "execute_result"
    }
   ],
   "source": [
    "aa - aa"
   ]
  },
  {
   "cell_type": "code",
   "execution_count": 68,
   "metadata": {},
   "outputs": [],
   "source": [
    "aa = torch.empty(1)\n",
    "for p in model.model.parameters():\n",
    "    aa = torch.cat((aa, p.data.flatten()))\n",
    "aa = aa[1:]"
   ]
  },
  {
   "cell_type": "code",
   "execution_count": 66,
   "metadata": {},
   "outputs": [
    {
     "data": {
      "text/plain": [
       "torch.Size([1344])"
      ]
     },
     "execution_count": 66,
     "metadata": {},
     "output_type": "execute_result"
    }
   ],
   "source": [
    "aa.size()"
   ]
  },
  {
   "cell_type": "code",
   "execution_count": 46,
   "metadata": {
    "scrolled": true
   },
   "outputs": [
    {
     "name": "stdout",
     "output_type": "stream",
     "text": [
      "4.6717014\n",
      "0.5899825\n"
     ]
    }
   ],
   "source": [
    "for p in model.model.get_initial_parameters():\n",
    "    print(np.linalg.norm(p.data.flatten()))"
   ]
  },
  {
   "cell_type": "code",
   "execution_count": 8,
   "metadata": {},
   "outputs": [
    {
     "data": {
      "text/plain": [
       "1.302046392073708"
      ]
     },
     "execution_count": 8,
     "metadata": {},
     "output_type": "execute_result"
    }
   ],
   "source": [
    "np.random.randn()"
   ]
  },
  {
   "cell_type": "code",
   "execution_count": 7,
   "metadata": {
    "scrolled": true
   },
   "outputs": [
    {
     "data": {
      "text/plain": [
       "1344"
      ]
     },
     "execution_count": 7,
     "metadata": {},
     "output_type": "execute_result"
    }
   ],
   "source": [
    "model.approximator_dim"
   ]
  },
  {
   "cell_type": "code",
   "execution_count": 15,
   "metadata": {},
   "outputs": [],
   "source": [
    "input_size = 20\n",
    "hidden_size = 64\n",
    "n_layers = 2\n",
    "\n",
    "size  = [input_size] + [hidden_size,] * (n_layers-1) + [1]\n",
    "layers = [nn.Linear(size[i], size[i+1], bias = False) for i in range(n_layers)]"
   ]
  },
  {
   "cell_type": "code",
   "execution_count": 16,
   "metadata": {},
   "outputs": [
    {
     "data": {
      "text/plain": [
       "[Linear(in_features=20, out_features=64, bias=False),\n",
       " Linear(in_features=64, out_features=1, bias=False)]"
      ]
     },
     "execution_count": 16,
     "metadata": {},
     "output_type": "execute_result"
    }
   ],
   "source": [
    "layers"
   ]
  },
  {
   "cell_type": "code",
   "execution_count": 17,
   "metadata": {
    "scrolled": true
   },
   "outputs": [
    {
     "data": {
      "text/plain": [
       "1409"
      ]
     },
     "execution_count": 17,
     "metadata": {},
     "output_type": "execute_result"
    }
   ],
   "source": []
  },
  {
   "cell_type": "code",
   "execution_count": 11,
   "metadata": {},
   "outputs": [
    {
     "data": {
      "text/plain": [
       "20"
      ]
     },
     "execution_count": 11,
     "metadata": {},
     "output_type": "execute_result"
    }
   ],
   "source": [
    "lin_model.approximator_dim"
   ]
  },
  {
   "cell_type": "code",
   "execution_count": null,
   "metadata": {},
   "outputs": [],
   "source": []
  },
  {
   "cell_type": "code",
   "execution_count": null,
   "metadata": {},
   "outputs": [],
   "source": []
  },
  {
   "cell_type": "code",
   "execution_count": 11,
   "metadata": {},
   "outputs": [
    {
     "data": {
      "text/plain": [
       "array([ 9, 17, 10,  7, 15])"
      ]
     },
     "execution_count": 11,
     "metadata": {},
     "output_type": "execute_result"
    }
   ],
   "source": [
    "np.max(bb, axis=-1)"
   ]
  },
  {
   "cell_type": "code",
   "execution_count": 5,
   "metadata": {
    "scrolled": true
   },
   "outputs": [
    {
     "data": {
      "text/plain": [
       "array([[ 9],\n",
       "       [17],\n",
       "       [10],\n",
       "       [ 7],\n",
       "       [15]])"
      ]
     },
     "execution_count": 5,
     "metadata": {},
     "output_type": "execute_result"
    }
   ],
   "source": [
    "aa = np.array([[9,17,10,7,15]])\n",
    "np.shape(aa)\n",
    "bb = np.reshape(aa, (5,1))\n",
    "np.shape(bb)\n",
    "bbb"
   ]
  },
  {
   "cell_type": "code",
   "execution_count": null,
   "metadata": {},
   "outputs": [],
   "source": []
  },
  {
   "cell_type": "code",
   "execution_count": null,
   "metadata": {},
   "outputs": [],
   "source": []
  },
  {
   "cell_type": "code",
   "execution_count": 2,
   "metadata": {},
   "outputs": [
    {
     "data": {
      "text/plain": [
       "array([20, 21])"
      ]
     },
     "execution_count": 2,
     "metadata": {},
     "output_type": "execute_result"
    }
   ],
   "source": [
    "## --\n",
    "aa = np.array([[9,17,10,7,15], [20,22,21,27,26], [1,2,3,4,5]])\n",
    "\n",
    "aa[1, np.array([0,2])]"
   ]
  },
  {
   "cell_type": "code",
   "execution_count": null,
   "metadata": {},
   "outputs": [],
   "source": [
    "## --\n",
    "a = np.array([9,17,10,7,15])\n",
    "ind = np.argpartition(a, -3)[-3:]\n",
    "s_ind = ind[np.argsort(a[ind])][::-1]\n",
    "b = a[s_ind]\n",
    "\n",
    "print(s_ind)\n",
    "print(b)"
   ]
  },
  {
   "cell_type": "code",
   "execution_count": null,
   "metadata": {},
   "outputs": [],
   "source": [
    "## --\n",
    "def inv_sherman_morrison_iter(a, A_inv):\n",
    "    temp = A_inv\n",
    "    for u in a:\n",
    "        print(np.shape(u))\n",
    "        print(np.shape(temp))\n",
    "        Au = np.dot(temp, u)\n",
    "        temp = temp - np.outer(Au, Au)/(1+np.dot(u.T, Au))\n",
    "    return temp"
   ]
  },
  {
   "cell_type": "code",
   "execution_count": null,
   "metadata": {},
   "outputs": [],
   "source": [
    "c = np.array( [np.array([1,0]) , np.array([0,1]), np.array([1,0]) , np.array([0,1])] )\n",
    "A_inv = np.array( [[np.array([1,0]) , np.array([0,1])]] )\n",
    "A_inv = np.squeeze(A_inv, axis=0)\n",
    "\n",
    "inv_sherman_morrison_iter(c, A_inv)\n"
   ]
  },
  {
   "cell_type": "code",
   "execution_count": null,
   "metadata": {},
   "outputs": [],
   "source": [
    "## --\n",
    "a = np.array([[9,17,10,7,15], [20,22,21,27,26]])\n",
    "ind = np.argpartition(a, -3, axis=1)[:,-3:]\n",
    "s_ind = np.array([list(ind[i][np.argsort(a[i][ind[i]])][::-1]) for i in range(0, np.shape(a)[0])])\n",
    "b = np.array([a[i][s_ind[i]] for i in range(0,np.shape(a)[0])])"
   ]
  },
  {
   "cell_type": "code",
   "execution_count": null,
   "metadata": {},
   "outputs": [],
   "source": [
    "## --\n",
    "print(s_ind)\n",
    "print(b)"
   ]
  },
  {
   "cell_type": "code",
   "execution_count": null,
   "metadata": {},
   "outputs": [],
   "source": [
    "## --\n",
    "bandit = ContextualBandit(T, n_arms, n_features, h, noise_std=noise_std, n_assortment=n_assortment, round_reward_function=F)"
   ]
  },
  {
   "cell_type": "code",
   "execution_count": null,
   "metadata": {},
   "outputs": [],
   "source": [
    "## --\n",
    "print('super arm:', bandit.best_super_arm)\n",
    "print('scores:', bandit.best_rewards)\n",
    "print('round reward:', bandit.best_round_reward)"
   ]
  },
  {
   "cell_type": "code",
   "execution_count": null,
   "metadata": {},
   "outputs": [],
   "source": []
  },
  {
   "cell_type": "code",
   "execution_count": 3,
   "metadata": {},
   "outputs": [
    {
     "data": {
      "text/plain": [
       "5.0"
      ]
     },
     "execution_count": 3,
     "metadata": {},
     "output_type": "execute_result"
    }
   ],
   "source": [
    "import numpy as np \n",
    "\n",
    "aa = np.array([[9,17,10,7,15]])\n",
    "bb = np.array([[12,17,14,7,15]])\n",
    "\n",
    "np.linalg.norm(aa-bb)"
   ]
  }
 ],
 "metadata": {
  "kernelspec": {
   "display_name": "Python 3",
   "language": "python",
   "name": "python3"
  },
  "language_info": {
   "codemirror_mode": {
    "name": "ipython",
    "version": 3
   },
   "file_extension": ".py",
   "mimetype": "text/x-python",
   "name": "python",
   "nbconvert_exporter": "python",
   "pygments_lexer": "ipython3",
   "version": "3.8.3"
  }
 },
 "nbformat": 4,
 "nbformat_minor": 4
}
