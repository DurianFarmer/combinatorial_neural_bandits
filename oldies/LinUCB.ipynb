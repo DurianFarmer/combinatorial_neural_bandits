{
 "cells": [
  {
   "cell_type": "code",
   "execution_count": 1,
   "metadata": {},
   "outputs": [],
   "source": [
    "import numpy as np\n",
    "import matplotlib.pyplot as plt\n",
    "import seaborn as sns\n",
    "\n",
    "from module_space import *\n",
    "sns.set()"
   ]
  },
  {
   "cell_type": "markdown",
   "metadata": {},
   "source": [
    "### Bandit settings"
   ]
  },
  {
   "cell_type": "code",
   "execution_count": 2,
   "metadata": {},
   "outputs": [],
   "source": [
    "T = 10000\n",
    "n_arms = 12 # a -> 숫자를 키워볼 것\n",
    "n_features = 20 # d -> 숫자를 키워볼 것\n",
    "n_assortment = 4\n",
    "noise_std = 0.01 # noise of reward 0.01*N(0,1)\n",
    "\n",
    "n_samples = 1 # number of samples for each round and arm, only for TS\n",
    "\n",
    "n_sim = 2 # number of simulations\n",
    "\n",
    "def F(x): # round_reward_function\n",
    "    if len(np.shape(x)) == 1: # if x is a vector\n",
    "        return np.sum(x)\n",
    "    else: # if x is a matrix\n",
    "        return np.sum(x, axis=1)      "
   ]
  },
  {
   "cell_type": "markdown",
   "metadata": {},
   "source": [
    "### Parameter settings"
   ]
  },
  {
   "cell_type": "code",
   "execution_count": 3,
   "metadata": {},
   "outputs": [],
   "source": [
    "reg_factor = 1.0 # lambda\n",
    "delta = 0.1 # delta\n",
    "exploration_variance = 1.0 # nu, for TS\n",
    "confidence_scaling_factor = 1.0 # gamma, for UCB"
   ]
  },
  {
   "cell_type": "markdown",
   "metadata": {},
   "source": [
    "### LinUCB on linear rewards"
   ]
  },
  {
   "cell_type": "code",
   "execution_count": 4,
   "metadata": {},
   "outputs": [],
   "source": [
    "### mean reward function\n",
    "a = np.random.randn(n_features)\n",
    "a /= np.linalg.norm(a, ord=2)\n",
    "h = lambda x: 1*np.dot(a, x)"
   ]
  },
  {
   "cell_type": "code",
   "execution_count": 5,
   "metadata": {},
   "outputs": [
    {
     "name": "stderr",
     "output_type": "stream",
     "text": [
      "100%|██████████| 10000/10000 [00:06<00:00, 1458.96it/s, total regret=1.14e+3, % optimal super arm=0, % optimal set of arms=6.35%]\n",
      "100%|██████████| 10000/10000 [00:06<00:00, 1452.31it/s, total regret=1.18e+3, % optimal super arm=0, % optimal set of arms=6.42%]\n"
     ]
    }
   ],
   "source": [
    "bandit = ContextualBandit(T,\n",
    "                          n_arms, \n",
    "                          n_features, \n",
    "                          h, \n",
    "                          noise_std=noise_std,\n",
    "                          n_assortment=n_assortment, \n",
    "                          n_samples=n_samples, \n",
    "                          round_reward_function=F)\n",
    "\n",
    "regrets = np.empty((n_sim, T))\n",
    "\n",
    "for i in range(n_sim):\n",
    "    bandit.reset_rewards()\n",
    "    model = Lin(\"UCB\",\n",
    "                bandit,\n",
    "                reg_factor=reg_factor,\n",
    "                delta=delta,\n",
    "                confidence_scaling_factor=confidence_scaling_factor,\n",
    "                exploration_variance=exploration_variacne\n",
    "               )\n",
    "    model.run()\n",
    "    regrets[i] = np.cumsum(model.regrets)"
   ]
  },
  {
   "cell_type": "markdown",
   "metadata": {},
   "source": [
    "### Sublinear regret growth : the bandit problem is solved efficiently"
   ]
  },
  {
   "cell_type": "code",
   "execution_count": null,
   "metadata": {},
   "outputs": [],
   "source": [
    "fig, ax = plt.subplots(figsize=(11, 4), nrows=1, ncols=1)\n",
    "\n",
    "t = np.arange(T)\n",
    "\n",
    "mean_regrets = np.mean(regrets, axis=0)\n",
    "std_regrets = np.std(regrets, axis=0) / np.sqrt(regrets.shape[0])\n",
    "ax.plot(mean_regrets)\n",
    "ax.fill_between(t, mean_regrets - 2*std_regrets, mean_regrets + 2*std_regrets, alpha=0.15)\n",
    "ax.set_title('Cumulative regret')\n",
    "\n",
    "plt.tight_layout()\n",
    "plt.show()\n",
    "\n",
    "fig.savefig('linear_ucb_linear.pdf')"
   ]
  },
  {
   "cell_type": "markdown",
   "metadata": {},
   "source": [
    "### LinUCB on quadratic rewards"
   ]
  },
  {
   "cell_type": "code",
   "execution_count": 32,
   "metadata": {},
   "outputs": [],
   "source": [
    "### mean reward function\n",
    "a = np.random.randn(n_features)\n",
    "a /= np.linalg.norm(a, ord=2)\n",
    "h = lambda x: 1*np.dot(a, x)**2"
   ]
  },
  {
   "cell_type": "code",
   "execution_count": 33,
   "metadata": {},
   "outputs": [
    {
     "name": "stderr",
     "output_type": "stream",
     "text": [
      "100%|██████████| 10000/10000 [00:09<00:00, 1068.48it/s, total regret=2.6e+3, % optimal super arm=0.03%]\n",
      "100%|██████████| 10000/10000 [00:09<00:00, 1079.43it/s, total regret=2.56e+3, % optimal super arm=0.00%]\n"
     ]
    }
   ],
   "source": [
    "bandit = ContextualBandit(T, n_arms, n_features, h, noise_std=noise_std, \\\n",
    "                          n_assortment=n_assortment, n_samples=n_samples, round_reward_function=F)\n",
    "\n",
    "rregrets = np.empty((n_sim, T))\n",
    "\n",
    "for i in range(n_sim):\n",
    "    bandit.reset_rewards()\n",
    "    model = LinUCB(bandit,\n",
    "                   reg_factor=reg_factor,\n",
    "                   delta=delta,\n",
    "                   confidence_scaling_factor=confidence_scaling_factor\n",
    "                  )\n",
    "    model.run()\n",
    "    regrets[i] = np.cumsum(model.regrets)"
   ]
  },
  {
   "cell_type": "markdown",
   "metadata": {},
   "source": [
    "### Linear regret growth: the bandit problem fails"
   ]
  },
  {
   "cell_type": "code",
   "execution_count": 34,
   "metadata": {
    "scrolled": false
   },
   "outputs": [
    {
     "data": {
      "image/png": "[encoded data removed]",
      "text/plain": [
       "<Figure size 792x288 with 1 Axes>"
      ]
     },
     "metadata": {},
     "output_type": "display_data"
    }
   ],
   "source": [
    "fig, ax = plt.subplots(figsize=(11, 4), nrows=1, ncols=1)\n",
    "\n",
    "t = np.arange(T)\n",
    "\n",
    "mean_regrets = np.mean(regrets, axis=0)\n",
    "std_regrets = np.std(regrets, axis=0) / np.sqrt(regrets.shape[0])\n",
    "ax.plot(mean_regrets)\n",
    "ax.fill_between(t, mean_regrets - 2*std_regrets, mean_regrets + 2*std_regrets, alpha=0.15)\n",
    "ax.set_title('Cumulative regret')\n",
    "\n",
    "plt.tight_layout()\n",
    "plt.show()"
   ]
  },
  {
   "cell_type": "markdown",
   "metadata": {},
   "source": [
    "### LinUCB on nonlinear rewards"
   ]
  },
  {
   "cell_type": "code",
   "execution_count": 10,
   "metadata": {},
   "outputs": [],
   "source": [
    "a = np.random.randn(n_features)\n",
    "a /= np.linalg.norm(a, ord=2)\n",
    "h = lambda x: 1*np.cos(np.pi*np.dot(x, a))"
   ]
  },
  {
   "cell_type": "code",
   "execution_count": 11,
   "metadata": {},
   "outputs": [
    {
     "name": "stderr",
     "output_type": "stream",
     "text": [
      "100%|██████████| 10000/10000 [00:09<00:00, 1063.39it/s, total regret=7.72e+3, % optimal super arm=0.01%]\n",
      "100%|██████████| 10000/10000 [00:09<00:00, 1066.87it/s, total regret=7.65e+3, % optimal super arm=0.00%]\n"
     ]
    }
   ],
   "source": [
    "bandit = ContextualBandit(T, n_arms, n_features, h, noise_std=noise_std, \\\n",
    "                          n_assortment=n_assortment, n_samples=n_samples, round_reward_function=F)\n",
    "\n",
    "regrets = np.empty((n_sim, T))\n",
    "\n",
    "for i in range(n_sim):\n",
    "    bandit.reset_rewards()\n",
    "    model = LinUCB(bandit,\n",
    "                   reg_factor=1.0,\n",
    "                   delta=0.1,\n",
    "                   confidence_scaling_factor=confidence_scaling_factor\n",
    "                  )\n",
    "    model.run()\n",
    "    regrets[i] = np.cumsum(model.regrets)  "
   ]
  },
  {
   "cell_type": "markdown",
   "metadata": {},
   "source": [
    "### Linear regret growth: the bandit problem fails"
   ]
  },
  {
   "cell_type": "code",
   "execution_count": 12,
   "metadata": {},
   "outputs": [
    {
     "data": {
      "image/png": "[encoded data removed]",
      "text/plain": [
       "<Figure size 792x288 with 1 Axes>"
      ]
     },
     "metadata": {},
     "output_type": "display_data"
    }
   ],
   "source": [
    "fig, ax = plt.subplots(figsize=(11, 4), nrows=1, ncols=1)\n",
    "\n",
    "t = np.arange(T)\n",
    "\n",
    "mean_regrets = np.mean(regrets, axis=0)\n",
    "std_regrets = np.std(regrets, axis=0) / np.sqrt(regrets.shape[0])\n",
    "ax.plot(mean_regrets)\n",
    "ax.fill_between(t, mean_regrets - 2*std_regrets, mean_regrets + 2*std_regrets, alpha=0.15)\n",
    "ax.set_title('Cumulative regret')\n",
    "\n",
    "plt.tight_layout()\n",
    "plt.show()\n",
    "\n",
    "fig.savefig('linear_ucb_cosine.pdf')"
   ]
  },
  {
   "cell_type": "code",
   "execution_count": null,
   "metadata": {},
   "outputs": [],
   "source": []
  }
 ],
 "metadata": {
  "kernelspec": {
   "display_name": "Python 3",
   "language": "python",
   "name": "python3"
  },
  "language_info": {
   "codemirror_mode": {
    "name": "ipython",
    "version": 3
   },
   "file_extension": ".py",
   "mimetype": "text/x-python",
   "name": "python",
   "nbconvert_exporter": "python",
   "pygments_lexer": "ipython3",
   "version": "3.7.6"
  }
 },
 "nbformat": 4,
 "nbformat_minor": 2
}
